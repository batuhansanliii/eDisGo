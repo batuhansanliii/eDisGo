{
 "cells": [
  {
   "cell_type": "code",
   "execution_count": 1,
   "metadata": {},
   "outputs": [],
   "source": [
    "__copyright__ = \"Reiner Lemoine Institut gGmbH\"\n",
    "__license__   = \"GNU Affero General Public License Version 3 (AGPL-3.0)\"\n",
    "__url__       = \"https://github.com/openego/eDisGo/blob/master/LICENSE\"\n",
    "__author__    = \"gplssm, birgits\""
   ]
  },
  {
   "cell_type": "markdown",
   "metadata": {},
   "source": [
    "# eDisGo basic example\n",
    "\n",
    "This example shows you the first steps with eDisGo. Grid expansion costs for an example distribution grid are calculated assuming renewable and conventional power plant capacities as stated in the scenario framework of the German Grid Development Plan 2015 (Netzentwicklungsplan) for the year 2035 (scenario B2). Through this, the data structure used in eDisGo is explained and it is shown how to get distribution grid data, how to use the automatic grid reinforcement methodology to determine grid expansion needs and costs and how to evaluate your results.\n",
    "\n",
    "\n",
    "### Learn more about eDisGo\n",
    "\n",
    "* __[eDisGo Source Code](https://github.com/openego/eDisGo)__\n",
    "* __[eDisGo Documentation](http://edisgo.readthedocs.io/en/dev/)__\n",
    "\n",
    "### Table of Contents\n",
    "\n",
    "\n",
    "* [Installation](#installation)\n",
    "* [Settings](#settings)\n",
    "* [eDisGo data structure](#network)\n",
    "* [Future generator scenario](#generator_scenario)\n",
    "* [Grid reinforcement](#grid_reinforcement)\n",
    "* [Results evaluation](#evaluation)\n",
    "* [References](#references)"
   ]
  },
  {
   "cell_type": "markdown",
   "metadata": {},
   "source": [
    "## Installation <a class=\"anchor\" id=\"installation\"></a>\n",
    "\n",
    "This notebook requires a working installation of eDisGo as well as `jupyter notebook` to run the example and `contextily` and `geopandas` to view the grid topology on a map. You can install all of these as follows:\n",
    "\n",
    "```python\n",
    "pip install eDisGo[examples,geoplot]\n",
    "```\n",
    "\n",
    "Checkout the eDisGo documentation on [how to install eDisGo](https://edisgo.readthedocs.io/en/features-refactoring/quickstart.html#installation) for more information."
   ]
  },
  {
   "cell_type": "markdown",
   "metadata": {},
   "source": [
    "#### Import packages"
   ]
  },
  {
   "cell_type": "code",
   "execution_count": 1,
   "metadata": {},
   "outputs": [
    {
     "name": "stderr",
     "output_type": "stream",
     "text": [
      "/usr/local/anaconda3/envs/edisgo/lib/python3.6/site-packages/sqlalchemy/ext/declarative/base.py:338: SAWarning: Ignoring declarative-like tuple value of attribute segment: possibly a copy-and-paste error with a comma left at the end of the line?\n",
      "  \"left at the end of the line?\" % k)\n",
      "/usr/local/anaconda3/envs/edisgo/lib/python3.6/site-packages/sqlalchemy/ext/declarative/base.py:338: SAWarning: Ignoring declarative-like tuple value of attribute cable: possibly a copy-and-paste error with a comma left at the end of the line?\n",
      "  \"left at the end of the line?\" % k)\n"
     ]
    }
   ],
   "source": [
    "import os\n",
    "import sys\n",
    "import pandas as pd\n",
    "\n",
    "from edisgo import EDisGo"
   ]
  },
  {
   "cell_type": "markdown",
   "metadata": {},
   "source": [
    "### Settings <a class=\"anchor\" id=\"settings\"></a>\n",
    "\n",
    "The class **EDisGo** serves as the top-level API for\n",
    "setting up your scenario, invocation of data import, power flow analysis, grid reinforcement and flexibility measures. It also provides access to all relevant data. See the [class documentation](http://edisgo.readthedocs.io/en/dev/api/edisgo.grid.html#edisgo.grid.network.EDisGo) for more information.\n",
    "\n",
    "To set up a scenario to do a worst-case analysis that considers the heavy load flow and reverse power flow cases used in distribution grid planning, you simply have to provide a grid and set the 'worst_case_analysis' parameter, which is both explained in the following two sections. \n",
    "\n",
    "#### Distribution grid data\n",
    "\n",
    "Currently, synthetic grid data generated with the python project\n",
    "[ding0](https://github.com/openego/ding0)\n",
    "is the only supported data source for distribution grid data. ding0 provides the grid topology data in the form of csv files, with separate files for buses, lines, loads, generators, etc. You can retrieve ding0 data from\n",
    "[Zenodo](https://zenodo.org/record/890479)\n",
    "(make sure you choose latest data) or check out the\n",
    "[Ding0 documentation](https://dingo.readthedocs.io/en/dev/usage_details.html#ding0-examples)\n",
    "on how to generate grids yourself. A ding0 example grid can be viewed [here](https://github.com/openego/eDisGo/tree/features/refactoring/tests/ding0_test_network_2). It is possible to provide your own grid data if it is in the same format as the ding0 grid data. \n",
    "\n",
    "This example works with any ding0 grid data. If you don't have grid data yet, you can execute the following to download the example grid data mentioned above."
   ]
  },
  {
   "cell_type": "code",
   "execution_count": 2,
   "metadata": {},
   "outputs": [],
   "source": [
    "import requests\n",
    "\n",
    "def download_ding0_example_grid():\n",
    "    \n",
    "    # create directories to save ding0 example grid into\n",
    "    ding0_example_grid_path = os.path.join(\n",
    "        os.path.expanduser(\"~\"),\n",
    "        \".edisgo\",\n",
    "        \"ding0_test_network\")\n",
    "    os.makedirs(\n",
    "        ding0_example_grid_path,\n",
    "        exist_ok=True)\n",
    "\n",
    "    # download files\n",
    "    filenames = [\n",
    "        \"buses\", \"generators\", \"lines\", \"loads\", \"network\",\n",
    "        \"switches\", \"transformers\", \"transformers_hvmv\"]\n",
    "\n",
    "    for file in filenames:\n",
    "        req = requests.get(\n",
    "            \"https://raw.githubusercontent.com/openego/eDisGo/features/refactoring/tests/ding0_test_network_2/{}.csv\".format(file))\n",
    "        filename = os.path.join(ding0_example_grid_path, \"{}.csv\".format(file))\n",
    "        with open(filename, \"wb\") as fout:\n",
    "            fout.write(req.content)\n",
    "\n",
    "download_ding0_example_grid()"
   ]
  },
  {
   "cell_type": "markdown",
   "metadata": {},
   "source": [
    "The ding0 grid you want to use in your analysis is specified through the input parameter 'ding0_grid' of the EDisGo class. The following assumes you want to use the ding0 example grid downloaded above. To use a different ding0 grid, just change the path below."
   ]
  },
  {
   "cell_type": "code",
   "execution_count": 3,
   "metadata": {},
   "outputs": [],
   "source": [
    "ding0_grid = os.path.join(\n",
    "    os.path.expanduser(\"~\"),\n",
    "    \".edisgo\",\n",
    "    \"ding0_test_network\")"
   ]
  },
  {
   "cell_type": "markdown",
   "metadata": {},
   "source": [
    "#### Specifying worst-cases\n",
    "\n",
    "In conventional grid expansion planning worst-cases, the heavy load flow and the reverse power flow, are used to determine grid expansion needs. eDisGo allows you to analyze these cases separately or together. Choose between the following options:\n",
    "\n",
    "* **’worst-case-feedin’** \n",
    "  \n",
    "  Feed-in and demand for the worst-case scenario \"reverse power flow\" are generated. Demand is by default set to 15% of maximum demand  for loads connected to the MV grid and 10% for loads connected to the LV grid. Feed-in of all generators is set to the nominal power of the generator, except for PV systems where it is by default set to 85% of the nominal power.\n",
    "\n",
    "  \n",
    "* **’worst-case-load’**\n",
    "\n",
    "  Feed-in and demand for the worst-case scenario \"heavy load flow\" are generated. Demand of all loads is by default set to maximum demand; feed-in of all generators is set to zero.\n",
    "\n",
    "\n",
    "* **’worst-case’**\n",
    "  \n",
    "  Feed-in and demand for the two worst-case scenarios \"reverse power flow\" and \"heavy load flow\" are generated.\n",
    "\n",
    "Feed-in and demand in the two worst-cases are defined in the [config file 'config_timeseries.cfg'](https://edisgo.readthedocs.io/en/latest/configs.html#config-timeseries) and can be changed by setting different values in the config file. \n",
    "\n",
    "Instead of doing a worst-case analysis you can also provide your own timeseries for demand and feed-in and use those in the power flow analysis. EDisGo also offers methods to generate load and feed-in time series. Check out the [EDisGo class documentation](http://edisgo.readthedocs.io/en/dev/api/edisgo.grid.html#edisgo.grid.network.EDisGo) and examples in the [getting started documentation section](https://edisgo.readthedocs.io/en/dev/quickstart.html#a-minimum-working-example) for more information."
   ]
  },
  {
   "cell_type": "code",
   "execution_count": 4,
   "metadata": {},
   "outputs": [],
   "source": [
    "worst_case_analysis = 'worst-case'"
   ]
  },
  {
   "cell_type": "markdown",
   "metadata": {},
   "source": [
    "Now we are ready to initialize the edisgo object."
   ]
  },
  {
   "cell_type": "code",
   "execution_count": 5,
   "metadata": {},
   "outputs": [
    {
     "name": "stderr",
     "output_type": "stream",
     "text": [
      "WARNING:pypsa.io:\n",
      "Importing PyPSA from older version of PyPSA than current version 0.17.1.\n",
      "Please read the release notes at https://pypsa.org/doc/release_notes.html\n",
      "carefully to prepare your network for import.\n",
      "\n",
      "INFO:pypsa.io:Imported network ding0_test_network has buses, generators, lines, loads, transformers\n"
     ]
    }
   ],
   "source": [
    "edisgo = EDisGo(ding0_grid=ding0_grid,\n",
    "                worst_case_analysis=worst_case_analysis)"
   ]
  },
  {
   "cell_type": "markdown",
   "metadata": {},
   "source": [
    "### eDisGo data structure <a class=\"anchor\" id=\"network\"></a>\n",
    "\n",
    "As stated above, the EDisGo class serves as the top-level API and provides access to all relevant data. It also enables plotting of the grid topology. In order to have a look at the MV grid topology, you can use the following plot."
   ]
  },
  {
   "cell_type": "raw",
   "metadata": {},
   "source": [
    "edisgo.plot_mv_grid_topology(technologies=True)"
   ]
  },
  {
   "cell_type": "markdown",
   "metadata": {},
   "source": [
    "Here, red nodes stand for the substation's secondary side, light blue nodes for distribution substation's primary sides, green nodes for nodes fluctuating generators are connected to, grey nodes for disconnecting points and dark blue nodes show branch tees.\n",
    "Underlying LV grids are not georeferenced in ding0, wherefore a plotting for LV grids analog to the one shown above is not provided. A different possibility to get a graphical representation of LV grids is shown later in this example. Let's first get into eDisGo's data structure.\n",
    "\n",
    "Grid data is stored in the [Topology](https://edisgo.readthedocs.io/en/features-refactoring/api/edisgo.network.html#edisgo.network.topology.Topology) class.\n",
    "Time series data can be found in the [TimeSeries](https://edisgo.readthedocs.io/en/features-refactoring/api/edisgo.network.html#edisgo.network.timeseries.TimeSeries) class. Results data holding results e.g. from the power flow analysis and grid expansion is stored in the [Results](https://edisgo.readthedocs.io/en/features-refactoring/api/edisgo.network.html#edisgo.network.results.Results) class.\n",
    "Configuration data from the config files (see [default_configs](https://edisgo.readthedocs.io/en/features-refactoring/configs.html#default-configuration-data)) is stored\n",
    "in the [Config](https://edisgo.readthedocs.io/en/features-refactoring/api/edisgo.tools.html#edisgo.tools.config.Config) class.\n",
    "All these can be accessed as follows:\n",
    "\n",
    "```python\n",
    "edisgo.topology\n",
    "edisgo.timeseries\n",
    "edisgo.results\n",
    "edisgo.config\n",
    "```"
   ]
  },
  {
   "cell_type": "markdown",
   "metadata": {},
   "source": [
    "The grid data in the Topology object is stored in pandas DataFrames.\n",
    "There are extra data frames for all grid elements (buses, lines, switches, transformers), as well as generators, loads and storage units.\n",
    "You can access those dataframes as follows:"
   ]
  },
  {
   "cell_type": "code",
   "execution_count": 7,
   "metadata": {},
   "outputs": [
    {
     "data": {
      "text/html": [
       "<div>\n",
       "<style scoped>\n",
       "    .dataframe tbody tr th:only-of-type {\n",
       "        vertical-align: middle;\n",
       "    }\n",
       "\n",
       "    .dataframe tbody tr th {\n",
       "        vertical-align: top;\n",
       "    }\n",
       "\n",
       "    .dataframe thead th {\n",
       "        text-align: right;\n",
       "    }\n",
       "</style>\n",
       "<table border=\"1\" class=\"dataframe\">\n",
       "  <thead>\n",
       "    <tr style=\"text-align: right;\">\n",
       "      <th></th>\n",
       "      <th>v_nom</th>\n",
       "      <th>x</th>\n",
       "      <th>y</th>\n",
       "      <th>mv_grid_id</th>\n",
       "      <th>lv_grid_id</th>\n",
       "      <th>in_building</th>\n",
       "    </tr>\n",
       "    <tr>\n",
       "      <th>name</th>\n",
       "      <th></th>\n",
       "      <th></th>\n",
       "      <th></th>\n",
       "      <th></th>\n",
       "      <th></th>\n",
       "      <th></th>\n",
       "    </tr>\n",
       "  </thead>\n",
       "  <tbody>\n",
       "    <tr>\n",
       "      <th>Busbar_mvgd_2761_MV</th>\n",
       "      <td>10.0</td>\n",
       "      <td>11.755702</td>\n",
       "      <td>51.775728</td>\n",
       "      <td>2761</td>\n",
       "      <td>NaN</td>\n",
       "      <td>False</td>\n",
       "    </tr>\n",
       "    <tr>\n",
       "      <th>BusBar_mvgd_2761_lvgd_509385_MV</th>\n",
       "      <td>10.0</td>\n",
       "      <td>11.798421</td>\n",
       "      <td>51.756185</td>\n",
       "      <td>2761</td>\n",
       "      <td>NaN</td>\n",
       "      <td>False</td>\n",
       "    </tr>\n",
       "    <tr>\n",
       "      <th>BusBar_mvgd_2761_lvgd_509386_MV</th>\n",
       "      <td>10.0</td>\n",
       "      <td>11.793453</td>\n",
       "      <td>51.756824</td>\n",
       "      <td>2761</td>\n",
       "      <td>NaN</td>\n",
       "      <td>False</td>\n",
       "    </tr>\n",
       "    <tr>\n",
       "      <th>BusBar_mvgd_2761_lvgd_196762_MV</th>\n",
       "      <td>10.0</td>\n",
       "      <td>11.802969</td>\n",
       "      <td>51.764176</td>\n",
       "      <td>2761</td>\n",
       "      <td>NaN</td>\n",
       "      <td>False</td>\n",
       "    </tr>\n",
       "    <tr>\n",
       "      <th>BusBar_mvgd_2761_lvgd_196760_MV</th>\n",
       "      <td>10.0</td>\n",
       "      <td>11.797627</td>\n",
       "      <td>51.761021</td>\n",
       "      <td>2761</td>\n",
       "      <td>NaN</td>\n",
       "      <td>False</td>\n",
       "    </tr>\n",
       "  </tbody>\n",
       "</table>\n",
       "</div>"
      ],
      "text/plain": [
       "                                 v_nom          x          y  mv_grid_id  \\\n",
       "name                                                                       \n",
       "Busbar_mvgd_2761_MV               10.0  11.755702  51.775728        2761   \n",
       "BusBar_mvgd_2761_lvgd_509385_MV   10.0  11.798421  51.756185        2761   \n",
       "BusBar_mvgd_2761_lvgd_509386_MV   10.0  11.793453  51.756824        2761   \n",
       "BusBar_mvgd_2761_lvgd_196762_MV   10.0  11.802969  51.764176        2761   \n",
       "BusBar_mvgd_2761_lvgd_196760_MV   10.0  11.797627  51.761021        2761   \n",
       "\n",
       "                                 lv_grid_id  in_building  \n",
       "name                                                      \n",
       "Busbar_mvgd_2761_MV                     NaN        False  \n",
       "BusBar_mvgd_2761_lvgd_509385_MV         NaN        False  \n",
       "BusBar_mvgd_2761_lvgd_509386_MV         NaN        False  \n",
       "BusBar_mvgd_2761_lvgd_196762_MV         NaN        False  \n",
       "BusBar_mvgd_2761_lvgd_196760_MV         NaN        False  "
      ]
     },
     "execution_count": 7,
     "metadata": {},
     "output_type": "execute_result"
    }
   ],
   "source": [
    "# Access all buses in MV grid and underlying LV grids\n",
    "# .head() enables only viewing the first entries of the dataframe\n",
    "edisgo.topology.buses_df.head()"
   ]
  },
  {
   "cell_type": "code",
   "execution_count": 8,
   "metadata": {},
   "outputs": [
    {
     "data": {
      "text/html": [
       "<div>\n",
       "<style scoped>\n",
       "    .dataframe tbody tr th:only-of-type {\n",
       "        vertical-align: middle;\n",
       "    }\n",
       "\n",
       "    .dataframe tbody tr th {\n",
       "        vertical-align: top;\n",
       "    }\n",
       "\n",
       "    .dataframe thead th {\n",
       "        text-align: right;\n",
       "    }\n",
       "</style>\n",
       "<table border=\"1\" class=\"dataframe\">\n",
       "  <thead>\n",
       "    <tr style=\"text-align: right;\">\n",
       "      <th></th>\n",
       "      <th>bus0</th>\n",
       "      <th>bus1</th>\n",
       "      <th>length</th>\n",
       "      <th>x</th>\n",
       "      <th>r</th>\n",
       "      <th>s_nom</th>\n",
       "      <th>type_info</th>\n",
       "      <th>kind</th>\n",
       "      <th>num_parallel</th>\n",
       "    </tr>\n",
       "    <tr>\n",
       "      <th>name</th>\n",
       "      <th></th>\n",
       "      <th></th>\n",
       "      <th></th>\n",
       "      <th></th>\n",
       "      <th></th>\n",
       "      <th></th>\n",
       "      <th></th>\n",
       "      <th></th>\n",
       "      <th></th>\n",
       "    </tr>\n",
       "  </thead>\n",
       "  <tbody>\n",
       "    <tr>\n",
       "      <th>Branch_Generator_mvgd_2761_wind_onshore_1475347_Generator_mvgd_2761_wind_onshore_1475356</th>\n",
       "      <td>Bus_mvgd_2761_gen_1475347</td>\n",
       "      <td>Bus_mvgd_2761_gen_1475356</td>\n",
       "      <td>0.919241</td>\n",
       "      <td>0.092412</td>\n",
       "      <td>0.056074</td>\n",
       "      <td>10.548189</td>\n",
       "      <td>NA2XS2Y 3x1x500 RM/35</td>\n",
       "      <td>cable</td>\n",
       "      <td>1.0</td>\n",
       "    </tr>\n",
       "    <tr>\n",
       "      <th>Branch_Generator_mvgd_2761_wind_onshore_1475347_MVCableDist_mvgd_2761_11</th>\n",
       "      <td>Bus_mvgd_2761_gen_1475347</td>\n",
       "      <td>BranchTee_mvgd_2761_11</td>\n",
       "      <td>0.581396</td>\n",
       "      <td>0.058448</td>\n",
       "      <td>0.035465</td>\n",
       "      <td>10.548189</td>\n",
       "      <td>NA2XS2Y 3x1x500 RM/35</td>\n",
       "      <td>cable</td>\n",
       "      <td>1.0</td>\n",
       "    </tr>\n",
       "    <tr>\n",
       "      <th>Branch_Generator_mvgd_2761_wind_onshore_1475347_MVCableDist_mvgd_2761_8</th>\n",
       "      <td>Bus_mvgd_2761_gen_1475347</td>\n",
       "      <td>BranchTee_mvgd_2761_8</td>\n",
       "      <td>1.575013</td>\n",
       "      <td>0.158338</td>\n",
       "      <td>0.096076</td>\n",
       "      <td>10.548189</td>\n",
       "      <td>NA2XS2Y 3x1x500 RM/35</td>\n",
       "      <td>cable</td>\n",
       "      <td>1.0</td>\n",
       "    </tr>\n",
       "    <tr>\n",
       "      <th>Branch_Generator_mvgd_2761_wind_onshore_1475348_Generator_mvgd_2761_wind_onshore_1475355</th>\n",
       "      <td>Bus_mvgd_2761_gen_1475348</td>\n",
       "      <td>Bus_mvgd_2761_gen_1475355</td>\n",
       "      <td>0.919243</td>\n",
       "      <td>0.092412</td>\n",
       "      <td>0.056074</td>\n",
       "      <td>10.548189</td>\n",
       "      <td>NA2XS2Y 3x1x500 RM/35</td>\n",
       "      <td>cable</td>\n",
       "      <td>1.0</td>\n",
       "    </tr>\n",
       "    <tr>\n",
       "      <th>Branch_Generator_mvgd_2761_wind_onshore_1475348_MVCableDist_mvgd_2761_12</th>\n",
       "      <td>Bus_mvgd_2761_gen_1475348</td>\n",
       "      <td>BranchTee_mvgd_2761_12</td>\n",
       "      <td>0.459617</td>\n",
       "      <td>0.046206</td>\n",
       "      <td>0.028037</td>\n",
       "      <td>10.548189</td>\n",
       "      <td>NA2XS2Y 3x1x500 RM/35</td>\n",
       "      <td>cable</td>\n",
       "      <td>1.0</td>\n",
       "    </tr>\n",
       "  </tbody>\n",
       "</table>\n",
       "</div>"
      ],
      "text/plain": [
       "                                                                         bus0  \\\n",
       "name                                                                            \n",
       "Branch_Generator_mvgd_2761_wind_onshore_1475347...  Bus_mvgd_2761_gen_1475347   \n",
       "Branch_Generator_mvgd_2761_wind_onshore_1475347...  Bus_mvgd_2761_gen_1475347   \n",
       "Branch_Generator_mvgd_2761_wind_onshore_1475347...  Bus_mvgd_2761_gen_1475347   \n",
       "Branch_Generator_mvgd_2761_wind_onshore_1475348...  Bus_mvgd_2761_gen_1475348   \n",
       "Branch_Generator_mvgd_2761_wind_onshore_1475348...  Bus_mvgd_2761_gen_1475348   \n",
       "\n",
       "                                                                         bus1  \\\n",
       "name                                                                            \n",
       "Branch_Generator_mvgd_2761_wind_onshore_1475347...  Bus_mvgd_2761_gen_1475356   \n",
       "Branch_Generator_mvgd_2761_wind_onshore_1475347...     BranchTee_mvgd_2761_11   \n",
       "Branch_Generator_mvgd_2761_wind_onshore_1475347...      BranchTee_mvgd_2761_8   \n",
       "Branch_Generator_mvgd_2761_wind_onshore_1475348...  Bus_mvgd_2761_gen_1475355   \n",
       "Branch_Generator_mvgd_2761_wind_onshore_1475348...     BranchTee_mvgd_2761_12   \n",
       "\n",
       "                                                      length         x  \\\n",
       "name                                                                     \n",
       "Branch_Generator_mvgd_2761_wind_onshore_1475347...  0.919241  0.092412   \n",
       "Branch_Generator_mvgd_2761_wind_onshore_1475347...  0.581396  0.058448   \n",
       "Branch_Generator_mvgd_2761_wind_onshore_1475347...  1.575013  0.158338   \n",
       "Branch_Generator_mvgd_2761_wind_onshore_1475348...  0.919243  0.092412   \n",
       "Branch_Generator_mvgd_2761_wind_onshore_1475348...  0.459617  0.046206   \n",
       "\n",
       "                                                           r      s_nom  \\\n",
       "name                                                                      \n",
       "Branch_Generator_mvgd_2761_wind_onshore_1475347...  0.056074  10.548189   \n",
       "Branch_Generator_mvgd_2761_wind_onshore_1475347...  0.035465  10.548189   \n",
       "Branch_Generator_mvgd_2761_wind_onshore_1475347...  0.096076  10.548189   \n",
       "Branch_Generator_mvgd_2761_wind_onshore_1475348...  0.056074  10.548189   \n",
       "Branch_Generator_mvgd_2761_wind_onshore_1475348...  0.028037  10.548189   \n",
       "\n",
       "                                                                type_info  \\\n",
       "name                                                                        \n",
       "Branch_Generator_mvgd_2761_wind_onshore_1475347...  NA2XS2Y 3x1x500 RM/35   \n",
       "Branch_Generator_mvgd_2761_wind_onshore_1475347...  NA2XS2Y 3x1x500 RM/35   \n",
       "Branch_Generator_mvgd_2761_wind_onshore_1475347...  NA2XS2Y 3x1x500 RM/35   \n",
       "Branch_Generator_mvgd_2761_wind_onshore_1475348...  NA2XS2Y 3x1x500 RM/35   \n",
       "Branch_Generator_mvgd_2761_wind_onshore_1475348...  NA2XS2Y 3x1x500 RM/35   \n",
       "\n",
       "                                                     kind  num_parallel  \n",
       "name                                                                     \n",
       "Branch_Generator_mvgd_2761_wind_onshore_1475347...  cable           1.0  \n",
       "Branch_Generator_mvgd_2761_wind_onshore_1475347...  cable           1.0  \n",
       "Branch_Generator_mvgd_2761_wind_onshore_1475347...  cable           1.0  \n",
       "Branch_Generator_mvgd_2761_wind_onshore_1475348...  cable           1.0  \n",
       "Branch_Generator_mvgd_2761_wind_onshore_1475348...  cable           1.0  "
      ]
     },
     "execution_count": 8,
     "metadata": {},
     "output_type": "execute_result"
    }
   ],
   "source": [
    "# Access all lines in MV grid and underlying LV grids\n",
    "edisgo.topology.mv_grid.lines_df.head()"
   ]
  },
  {
   "cell_type": "code",
   "execution_count": 9,
   "metadata": {},
   "outputs": [
    {
     "data": {
      "text/html": [
       "<div>\n",
       "<style scoped>\n",
       "    .dataframe tbody tr th:only-of-type {\n",
       "        vertical-align: middle;\n",
       "    }\n",
       "\n",
       "    .dataframe tbody tr th {\n",
       "        vertical-align: top;\n",
       "    }\n",
       "\n",
       "    .dataframe thead th {\n",
       "        text-align: right;\n",
       "    }\n",
       "</style>\n",
       "<table border=\"1\" class=\"dataframe\">\n",
       "  <thead>\n",
       "    <tr style=\"text-align: right;\">\n",
       "      <th></th>\n",
       "      <th>bus</th>\n",
       "      <th>control</th>\n",
       "      <th>p_nom</th>\n",
       "      <th>type</th>\n",
       "      <th>subtype</th>\n",
       "      <th>weather_cell_id</th>\n",
       "    </tr>\n",
       "    <tr>\n",
       "      <th>name</th>\n",
       "      <th></th>\n",
       "      <th></th>\n",
       "      <th></th>\n",
       "      <th></th>\n",
       "      <th></th>\n",
       "      <th></th>\n",
       "    </tr>\n",
       "  </thead>\n",
       "  <tbody>\n",
       "    <tr>\n",
       "      <th>Generator_mvgd_2761_lvgd_203884_solar_roof_mounted_1593663</th>\n",
       "      <td>Busbar_mvgd_2761_MV</td>\n",
       "      <td>PQ</td>\n",
       "      <td>0.00900</td>\n",
       "      <td>solar</td>\n",
       "      <td>solar_roof_mounted</td>\n",
       "      <td>1133092.0</td>\n",
       "    </tr>\n",
       "    <tr>\n",
       "      <th>Generator_mvgd_2761_lvgd_203886_solar_roof_mounted_1564359</th>\n",
       "      <td>Busbar_mvgd_2761_MV</td>\n",
       "      <td>PQ</td>\n",
       "      <td>0.00612</td>\n",
       "      <td>solar</td>\n",
       "      <td>solar_roof_mounted</td>\n",
       "      <td>1133092.0</td>\n",
       "    </tr>\n",
       "    <tr>\n",
       "      <th>Generator_mvgd_2761_lvgd_203893_solar_roof_mounted_1604374</th>\n",
       "      <td>Busbar_mvgd_2761_MV</td>\n",
       "      <td>PQ</td>\n",
       "      <td>0.00400</td>\n",
       "      <td>solar</td>\n",
       "      <td>solar_roof_mounted</td>\n",
       "      <td>1133092.0</td>\n",
       "    </tr>\n",
       "    <tr>\n",
       "      <th>Generator_mvgd_2761_lvgd_203897_solar_roof_mounted_1567265</th>\n",
       "      <td>Busbar_mvgd_2761_MV</td>\n",
       "      <td>PQ</td>\n",
       "      <td>0.00200</td>\n",
       "      <td>solar</td>\n",
       "      <td>solar_roof_mounted</td>\n",
       "      <td>1133092.0</td>\n",
       "    </tr>\n",
       "    <tr>\n",
       "      <th>Generator_mvgd_2761_lvgd_203898_solar_roof_mounted_1572933</th>\n",
       "      <td>Busbar_mvgd_2761_MV</td>\n",
       "      <td>PQ</td>\n",
       "      <td>0.00624</td>\n",
       "      <td>solar</td>\n",
       "      <td>solar_roof_mounted</td>\n",
       "      <td>1133092.0</td>\n",
       "    </tr>\n",
       "  </tbody>\n",
       "</table>\n",
       "</div>"
      ],
      "text/plain": [
       "                                                                    bus  \\\n",
       "name                                                                      \n",
       "Generator_mvgd_2761_lvgd_203884_solar_roof_moun...  Busbar_mvgd_2761_MV   \n",
       "Generator_mvgd_2761_lvgd_203886_solar_roof_moun...  Busbar_mvgd_2761_MV   \n",
       "Generator_mvgd_2761_lvgd_203893_solar_roof_moun...  Busbar_mvgd_2761_MV   \n",
       "Generator_mvgd_2761_lvgd_203897_solar_roof_moun...  Busbar_mvgd_2761_MV   \n",
       "Generator_mvgd_2761_lvgd_203898_solar_roof_moun...  Busbar_mvgd_2761_MV   \n",
       "\n",
       "                                                   control    p_nom   type  \\\n",
       "name                                                                         \n",
       "Generator_mvgd_2761_lvgd_203884_solar_roof_moun...      PQ  0.00900  solar   \n",
       "Generator_mvgd_2761_lvgd_203886_solar_roof_moun...      PQ  0.00612  solar   \n",
       "Generator_mvgd_2761_lvgd_203893_solar_roof_moun...      PQ  0.00400  solar   \n",
       "Generator_mvgd_2761_lvgd_203897_solar_roof_moun...      PQ  0.00200  solar   \n",
       "Generator_mvgd_2761_lvgd_203898_solar_roof_moun...      PQ  0.00624  solar   \n",
       "\n",
       "                                                               subtype  \\\n",
       "name                                                                     \n",
       "Generator_mvgd_2761_lvgd_203884_solar_roof_moun...  solar_roof_mounted   \n",
       "Generator_mvgd_2761_lvgd_203886_solar_roof_moun...  solar_roof_mounted   \n",
       "Generator_mvgd_2761_lvgd_203893_solar_roof_moun...  solar_roof_mounted   \n",
       "Generator_mvgd_2761_lvgd_203897_solar_roof_moun...  solar_roof_mounted   \n",
       "Generator_mvgd_2761_lvgd_203898_solar_roof_moun...  solar_roof_mounted   \n",
       "\n",
       "                                                    weather_cell_id  \n",
       "name                                                                 \n",
       "Generator_mvgd_2761_lvgd_203884_solar_roof_moun...        1133092.0  \n",
       "Generator_mvgd_2761_lvgd_203886_solar_roof_moun...        1133092.0  \n",
       "Generator_mvgd_2761_lvgd_203893_solar_roof_moun...        1133092.0  \n",
       "Generator_mvgd_2761_lvgd_203897_solar_roof_moun...        1133092.0  \n",
       "Generator_mvgd_2761_lvgd_203898_solar_roof_moun...        1133092.0  "
      ]
     },
     "execution_count": 9,
     "metadata": {},
     "output_type": "execute_result"
    }
   ],
   "source": [
    "# Access all generators in MV grid and underlying LV grids\n",
    "edisgo.topology.generators_df.head()"
   ]
  },
  {
   "cell_type": "markdown",
   "metadata": {},
   "source": [
    "The grids can also be accessed individually. The MV grid is stored in an [MVGrid](https://edisgo.readthedocs.io/en/features-refactoring/api/edisgo.network.html#edisgo.network.grids.MVGrid) object and each LV grid in an\n",
    "[LVGrid](https://edisgo.readthedocs.io/en/features-refactoring/api/edisgo.network.html#edisgo.network.grids.LVGrid) object.\n",
    "The MV grid topology can be accessed through:\n",
    "\n",
    "```python\n",
    "edisgo.topology.mv_grid\n",
    "```\n",
    "\n",
    "Its components can be accessed analog to those of the whole grid topology as shown above."
   ]
  },
  {
   "cell_type": "code",
   "execution_count": 10,
   "metadata": {},
   "outputs": [
    {
     "data": {
      "text/html": [
       "<div>\n",
       "<style scoped>\n",
       "    .dataframe tbody tr th:only-of-type {\n",
       "        vertical-align: middle;\n",
       "    }\n",
       "\n",
       "    .dataframe tbody tr th {\n",
       "        vertical-align: top;\n",
       "    }\n",
       "\n",
       "    .dataframe thead th {\n",
       "        text-align: right;\n",
       "    }\n",
       "</style>\n",
       "<table border=\"1\" class=\"dataframe\">\n",
       "  <thead>\n",
       "    <tr style=\"text-align: right;\">\n",
       "      <th></th>\n",
       "      <th>v_nom</th>\n",
       "      <th>x</th>\n",
       "      <th>y</th>\n",
       "      <th>mv_grid_id</th>\n",
       "      <th>lv_grid_id</th>\n",
       "      <th>in_building</th>\n",
       "    </tr>\n",
       "    <tr>\n",
       "      <th>name</th>\n",
       "      <th></th>\n",
       "      <th></th>\n",
       "      <th></th>\n",
       "      <th></th>\n",
       "      <th></th>\n",
       "      <th></th>\n",
       "    </tr>\n",
       "  </thead>\n",
       "  <tbody>\n",
       "    <tr>\n",
       "      <th>Busbar_mvgd_2761_MV</th>\n",
       "      <td>10.0</td>\n",
       "      <td>11.755702</td>\n",
       "      <td>51.775728</td>\n",
       "      <td>2761</td>\n",
       "      <td>NaN</td>\n",
       "      <td>False</td>\n",
       "    </tr>\n",
       "    <tr>\n",
       "      <th>BusBar_mvgd_2761_lvgd_509385_MV</th>\n",
       "      <td>10.0</td>\n",
       "      <td>11.798421</td>\n",
       "      <td>51.756185</td>\n",
       "      <td>2761</td>\n",
       "      <td>NaN</td>\n",
       "      <td>False</td>\n",
       "    </tr>\n",
       "    <tr>\n",
       "      <th>BusBar_mvgd_2761_lvgd_509386_MV</th>\n",
       "      <td>10.0</td>\n",
       "      <td>11.793453</td>\n",
       "      <td>51.756824</td>\n",
       "      <td>2761</td>\n",
       "      <td>NaN</td>\n",
       "      <td>False</td>\n",
       "    </tr>\n",
       "    <tr>\n",
       "      <th>BusBar_mvgd_2761_lvgd_196762_MV</th>\n",
       "      <td>10.0</td>\n",
       "      <td>11.802969</td>\n",
       "      <td>51.764176</td>\n",
       "      <td>2761</td>\n",
       "      <td>NaN</td>\n",
       "      <td>False</td>\n",
       "    </tr>\n",
       "    <tr>\n",
       "      <th>BusBar_mvgd_2761_lvgd_196760_MV</th>\n",
       "      <td>10.0</td>\n",
       "      <td>11.797627</td>\n",
       "      <td>51.761021</td>\n",
       "      <td>2761</td>\n",
       "      <td>NaN</td>\n",
       "      <td>False</td>\n",
       "    </tr>\n",
       "  </tbody>\n",
       "</table>\n",
       "</div>"
      ],
      "text/plain": [
       "                                 v_nom          x          y  mv_grid_id  \\\n",
       "name                                                                       \n",
       "Busbar_mvgd_2761_MV               10.0  11.755702  51.775728        2761   \n",
       "BusBar_mvgd_2761_lvgd_509385_MV   10.0  11.798421  51.756185        2761   \n",
       "BusBar_mvgd_2761_lvgd_509386_MV   10.0  11.793453  51.756824        2761   \n",
       "BusBar_mvgd_2761_lvgd_196762_MV   10.0  11.802969  51.764176        2761   \n",
       "BusBar_mvgd_2761_lvgd_196760_MV   10.0  11.797627  51.761021        2761   \n",
       "\n",
       "                                 lv_grid_id  in_building  \n",
       "name                                                      \n",
       "Busbar_mvgd_2761_MV                     NaN        False  \n",
       "BusBar_mvgd_2761_lvgd_509385_MV         NaN        False  \n",
       "BusBar_mvgd_2761_lvgd_509386_MV         NaN        False  \n",
       "BusBar_mvgd_2761_lvgd_196762_MV         NaN        False  \n",
       "BusBar_mvgd_2761_lvgd_196760_MV         NaN        False  "
      ]
     },
     "execution_count": 10,
     "metadata": {},
     "output_type": "execute_result"
    }
   ],
   "source": [
    "# Access all buses in MV grid\n",
    "edisgo.topology.mv_grid.buses_df.head()"
   ]
  },
  {
   "cell_type": "code",
   "execution_count": 11,
   "metadata": {},
   "outputs": [
    {
     "data": {
      "text/html": [
       "<div>\n",
       "<style scoped>\n",
       "    .dataframe tbody tr th:only-of-type {\n",
       "        vertical-align: middle;\n",
       "    }\n",
       "\n",
       "    .dataframe tbody tr th {\n",
       "        vertical-align: top;\n",
       "    }\n",
       "\n",
       "    .dataframe thead th {\n",
       "        text-align: right;\n",
       "    }\n",
       "</style>\n",
       "<table border=\"1\" class=\"dataframe\">\n",
       "  <thead>\n",
       "    <tr style=\"text-align: right;\">\n",
       "      <th></th>\n",
       "      <th>bus</th>\n",
       "      <th>control</th>\n",
       "      <th>p_nom</th>\n",
       "      <th>type</th>\n",
       "      <th>subtype</th>\n",
       "      <th>weather_cell_id</th>\n",
       "    </tr>\n",
       "    <tr>\n",
       "      <th>name</th>\n",
       "      <th></th>\n",
       "      <th></th>\n",
       "      <th></th>\n",
       "      <th></th>\n",
       "      <th></th>\n",
       "      <th></th>\n",
       "    </tr>\n",
       "  </thead>\n",
       "  <tbody>\n",
       "    <tr>\n",
       "      <th>Generator_mvgd_2761_lvgd_203884_solar_roof_mounted_1593663</th>\n",
       "      <td>Busbar_mvgd_2761_MV</td>\n",
       "      <td>PQ</td>\n",
       "      <td>0.00900</td>\n",
       "      <td>solar</td>\n",
       "      <td>solar_roof_mounted</td>\n",
       "      <td>1133092.0</td>\n",
       "    </tr>\n",
       "    <tr>\n",
       "      <th>Generator_mvgd_2761_lvgd_203886_solar_roof_mounted_1564359</th>\n",
       "      <td>Busbar_mvgd_2761_MV</td>\n",
       "      <td>PQ</td>\n",
       "      <td>0.00612</td>\n",
       "      <td>solar</td>\n",
       "      <td>solar_roof_mounted</td>\n",
       "      <td>1133092.0</td>\n",
       "    </tr>\n",
       "    <tr>\n",
       "      <th>Generator_mvgd_2761_lvgd_203893_solar_roof_mounted_1604374</th>\n",
       "      <td>Busbar_mvgd_2761_MV</td>\n",
       "      <td>PQ</td>\n",
       "      <td>0.00400</td>\n",
       "      <td>solar</td>\n",
       "      <td>solar_roof_mounted</td>\n",
       "      <td>1133092.0</td>\n",
       "    </tr>\n",
       "    <tr>\n",
       "      <th>Generator_mvgd_2761_lvgd_203897_solar_roof_mounted_1567265</th>\n",
       "      <td>Busbar_mvgd_2761_MV</td>\n",
       "      <td>PQ</td>\n",
       "      <td>0.00200</td>\n",
       "      <td>solar</td>\n",
       "      <td>solar_roof_mounted</td>\n",
       "      <td>1133092.0</td>\n",
       "    </tr>\n",
       "    <tr>\n",
       "      <th>Generator_mvgd_2761_lvgd_203898_solar_roof_mounted_1572933</th>\n",
       "      <td>Busbar_mvgd_2761_MV</td>\n",
       "      <td>PQ</td>\n",
       "      <td>0.00624</td>\n",
       "      <td>solar</td>\n",
       "      <td>solar_roof_mounted</td>\n",
       "      <td>1133092.0</td>\n",
       "    </tr>\n",
       "  </tbody>\n",
       "</table>\n",
       "</div>"
      ],
      "text/plain": [
       "                                                                    bus  \\\n",
       "name                                                                      \n",
       "Generator_mvgd_2761_lvgd_203884_solar_roof_moun...  Busbar_mvgd_2761_MV   \n",
       "Generator_mvgd_2761_lvgd_203886_solar_roof_moun...  Busbar_mvgd_2761_MV   \n",
       "Generator_mvgd_2761_lvgd_203893_solar_roof_moun...  Busbar_mvgd_2761_MV   \n",
       "Generator_mvgd_2761_lvgd_203897_solar_roof_moun...  Busbar_mvgd_2761_MV   \n",
       "Generator_mvgd_2761_lvgd_203898_solar_roof_moun...  Busbar_mvgd_2761_MV   \n",
       "\n",
       "                                                   control    p_nom   type  \\\n",
       "name                                                                         \n",
       "Generator_mvgd_2761_lvgd_203884_solar_roof_moun...      PQ  0.00900  solar   \n",
       "Generator_mvgd_2761_lvgd_203886_solar_roof_moun...      PQ  0.00612  solar   \n",
       "Generator_mvgd_2761_lvgd_203893_solar_roof_moun...      PQ  0.00400  solar   \n",
       "Generator_mvgd_2761_lvgd_203897_solar_roof_moun...      PQ  0.00200  solar   \n",
       "Generator_mvgd_2761_lvgd_203898_solar_roof_moun...      PQ  0.00624  solar   \n",
       "\n",
       "                                                               subtype  \\\n",
       "name                                                                     \n",
       "Generator_mvgd_2761_lvgd_203884_solar_roof_moun...  solar_roof_mounted   \n",
       "Generator_mvgd_2761_lvgd_203886_solar_roof_moun...  solar_roof_mounted   \n",
       "Generator_mvgd_2761_lvgd_203893_solar_roof_moun...  solar_roof_mounted   \n",
       "Generator_mvgd_2761_lvgd_203897_solar_roof_moun...  solar_roof_mounted   \n",
       "Generator_mvgd_2761_lvgd_203898_solar_roof_moun...  solar_roof_mounted   \n",
       "\n",
       "                                                    weather_cell_id  \n",
       "name                                                                 \n",
       "Generator_mvgd_2761_lvgd_203884_solar_roof_moun...        1133092.0  \n",
       "Generator_mvgd_2761_lvgd_203886_solar_roof_moun...        1133092.0  \n",
       "Generator_mvgd_2761_lvgd_203893_solar_roof_moun...        1133092.0  \n",
       "Generator_mvgd_2761_lvgd_203897_solar_roof_moun...        1133092.0  \n",
       "Generator_mvgd_2761_lvgd_203898_solar_roof_moun...        1133092.0  "
      ]
     },
     "execution_count": 11,
     "metadata": {},
     "output_type": "execute_result"
    }
   ],
   "source": [
    "# Access all generators in MV grid\n",
    "edisgo.topology.mv_grid.generators_df.head()"
   ]
  },
  {
   "cell_type": "markdown",
   "metadata": {},
   "source": [
    "A list of all LV grids can be retrieved through:"
   ]
  },
  {
   "cell_type": "code",
   "execution_count": 12,
   "metadata": {},
   "outputs": [
    {
     "data": {
      "text/plain": [
       "[LVGrid_198682,\n",
       " LVGrid_449894,\n",
       " LVGrid_509384,\n",
       " LVGrid_509385,\n",
       " LVGrid_509386,\n",
       " LVGrid_198601,\n",
       " LVGrid_198602,\n",
       " LVGrid_198683,\n",
       " LVGrid_196758,\n",
       " LVGrid_196759,\n",
       " LVGrid_196760,\n",
       " LVGrid_196761,\n",
       " LVGrid_196762,\n",
       " LVGrid_449723,\n",
       " LVGrid_198684,\n",
       " LVGrid_198685]"
      ]
     },
     "execution_count": 12,
     "metadata": {},
     "output_type": "execute_result"
    }
   ],
   "source": [
    "# Get list of all underlying LV grids\n",
    "# (Note that MVGrid.lv_grids returns a generator object that must first be\n",
    "#  converted to a list in order to view the LVGrid objects)\n",
    "list(edisgo.topology.mv_grid.lv_grids)"
   ]
  },
  {
   "cell_type": "markdown",
   "metadata": {},
   "source": [
    "Access to a single LV grid's components can be obtained analog to shown above for\n",
    "the whole topology and the MV grid:"
   ]
  },
  {
   "cell_type": "code",
   "execution_count": 13,
   "metadata": {},
   "outputs": [],
   "source": [
    "# Get single LV grid\n",
    "lv_grid = list(edisgo.topology.mv_grid.lv_grids)[0]"
   ]
  },
  {
   "cell_type": "code",
   "execution_count": 14,
   "metadata": {},
   "outputs": [
    {
     "data": {
      "text/html": [
       "<div>\n",
       "<style scoped>\n",
       "    .dataframe tbody tr th:only-of-type {\n",
       "        vertical-align: middle;\n",
       "    }\n",
       "\n",
       "    .dataframe tbody tr th {\n",
       "        vertical-align: top;\n",
       "    }\n",
       "\n",
       "    .dataframe thead th {\n",
       "        text-align: right;\n",
       "    }\n",
       "</style>\n",
       "<table border=\"1\" class=\"dataframe\">\n",
       "  <thead>\n",
       "    <tr style=\"text-align: right;\">\n",
       "      <th></th>\n",
       "      <th>v_nom</th>\n",
       "      <th>x</th>\n",
       "      <th>y</th>\n",
       "      <th>mv_grid_id</th>\n",
       "      <th>lv_grid_id</th>\n",
       "      <th>in_building</th>\n",
       "    </tr>\n",
       "    <tr>\n",
       "      <th>name</th>\n",
       "      <th></th>\n",
       "      <th></th>\n",
       "      <th></th>\n",
       "      <th></th>\n",
       "      <th></th>\n",
       "      <th></th>\n",
       "    </tr>\n",
       "  </thead>\n",
       "  <tbody>\n",
       "    <tr>\n",
       "      <th>BusBar_mvgd_2761_lvgd_198682_LV</th>\n",
       "      <td>0.4</td>\n",
       "      <td>11.813709</td>\n",
       "      <td>51.771838</td>\n",
       "      <td>2761</td>\n",
       "      <td>198682.0</td>\n",
       "      <td>False</td>\n",
       "    </tr>\n",
       "    <tr>\n",
       "      <th>BranchTee_mvgd_2761_lvgd_198682_1</th>\n",
       "      <td>0.4</td>\n",
       "      <td>NaN</td>\n",
       "      <td>NaN</td>\n",
       "      <td>2761</td>\n",
       "      <td>198682.0</td>\n",
       "      <td>False</td>\n",
       "    </tr>\n",
       "    <tr>\n",
       "      <th>BranchTee_mvgd_2761_lvgd_198682_2</th>\n",
       "      <td>0.4</td>\n",
       "      <td>NaN</td>\n",
       "      <td>NaN</td>\n",
       "      <td>2761</td>\n",
       "      <td>198682.0</td>\n",
       "      <td>True</td>\n",
       "    </tr>\n",
       "    <tr>\n",
       "      <th>Bus_mvgd_2761_lvgd_198682_loa_1</th>\n",
       "      <td>0.4</td>\n",
       "      <td>NaN</td>\n",
       "      <td>NaN</td>\n",
       "      <td>2761</td>\n",
       "      <td>198682.0</td>\n",
       "      <td>False</td>\n",
       "    </tr>\n",
       "    <tr>\n",
       "      <th>BranchTee_mvgd_2761_lvgd_198682_3</th>\n",
       "      <td>0.4</td>\n",
       "      <td>NaN</td>\n",
       "      <td>NaN</td>\n",
       "      <td>2761</td>\n",
       "      <td>198682.0</td>\n",
       "      <td>False</td>\n",
       "    </tr>\n",
       "    <tr>\n",
       "      <th>BranchTee_mvgd_2761_lvgd_198682_4</th>\n",
       "      <td>0.4</td>\n",
       "      <td>NaN</td>\n",
       "      <td>NaN</td>\n",
       "      <td>2761</td>\n",
       "      <td>198682.0</td>\n",
       "      <td>True</td>\n",
       "    </tr>\n",
       "    <tr>\n",
       "      <th>Bus_mvgd_2761_lvgd_198682_loa_2</th>\n",
       "      <td>0.4</td>\n",
       "      <td>NaN</td>\n",
       "      <td>NaN</td>\n",
       "      <td>2761</td>\n",
       "      <td>198682.0</td>\n",
       "      <td>False</td>\n",
       "    </tr>\n",
       "  </tbody>\n",
       "</table>\n",
       "</div>"
      ],
      "text/plain": [
       "                                   v_nom          x          y  mv_grid_id  \\\n",
       "name                                                                         \n",
       "BusBar_mvgd_2761_lvgd_198682_LV      0.4  11.813709  51.771838        2761   \n",
       "BranchTee_mvgd_2761_lvgd_198682_1    0.4        NaN        NaN        2761   \n",
       "BranchTee_mvgd_2761_lvgd_198682_2    0.4        NaN        NaN        2761   \n",
       "Bus_mvgd_2761_lvgd_198682_loa_1      0.4        NaN        NaN        2761   \n",
       "BranchTee_mvgd_2761_lvgd_198682_3    0.4        NaN        NaN        2761   \n",
       "BranchTee_mvgd_2761_lvgd_198682_4    0.4        NaN        NaN        2761   \n",
       "Bus_mvgd_2761_lvgd_198682_loa_2      0.4        NaN        NaN        2761   \n",
       "\n",
       "                                   lv_grid_id  in_building  \n",
       "name                                                        \n",
       "BusBar_mvgd_2761_lvgd_198682_LV      198682.0        False  \n",
       "BranchTee_mvgd_2761_lvgd_198682_1    198682.0        False  \n",
       "BranchTee_mvgd_2761_lvgd_198682_2    198682.0         True  \n",
       "Bus_mvgd_2761_lvgd_198682_loa_1      198682.0        False  \n",
       "BranchTee_mvgd_2761_lvgd_198682_3    198682.0        False  \n",
       "BranchTee_mvgd_2761_lvgd_198682_4    198682.0         True  \n",
       "Bus_mvgd_2761_lvgd_198682_loa_2      198682.0        False  "
      ]
     },
     "execution_count": 14,
     "metadata": {},
     "output_type": "execute_result"
    }
   ],
   "source": [
    "# Access all buses in that LV grid\n",
    "lv_grid.buses_df"
   ]
  },
  {
   "cell_type": "code",
   "execution_count": 15,
   "metadata": {},
   "outputs": [
    {
     "data": {
      "text/html": [
       "<div>\n",
       "<style scoped>\n",
       "    .dataframe tbody tr th:only-of-type {\n",
       "        vertical-align: middle;\n",
       "    }\n",
       "\n",
       "    .dataframe tbody tr th {\n",
       "        vertical-align: top;\n",
       "    }\n",
       "\n",
       "    .dataframe thead th {\n",
       "        text-align: right;\n",
       "    }\n",
       "</style>\n",
       "<table border=\"1\" class=\"dataframe\">\n",
       "  <thead>\n",
       "    <tr style=\"text-align: right;\">\n",
       "      <th></th>\n",
       "      <th>bus</th>\n",
       "      <th>peak_load</th>\n",
       "      <th>sector</th>\n",
       "      <th>annual_consumption</th>\n",
       "    </tr>\n",
       "    <tr>\n",
       "      <th>name</th>\n",
       "      <th></th>\n",
       "      <th></th>\n",
       "      <th></th>\n",
       "      <th></th>\n",
       "    </tr>\n",
       "  </thead>\n",
       "  <tbody>\n",
       "    <tr>\n",
       "      <th>Load_mvgd_2761_lvgd_198682_1</th>\n",
       "      <td>Bus_mvgd_2761_lvgd_198682_loa_1</td>\n",
       "      <td>0.206535</td>\n",
       "      <td>retail</td>\n",
       "      <td>859.128958</td>\n",
       "    </tr>\n",
       "    <tr>\n",
       "      <th>Load_mvgd_2761_lvgd_198682_2</th>\n",
       "      <td>Bus_mvgd_2761_lvgd_198682_loa_2</td>\n",
       "      <td>0.206535</td>\n",
       "      <td>retail</td>\n",
       "      <td>859.128958</td>\n",
       "    </tr>\n",
       "  </tbody>\n",
       "</table>\n",
       "</div>"
      ],
      "text/plain": [
       "                                                          bus  peak_load  \\\n",
       "name                                                                       \n",
       "Load_mvgd_2761_lvgd_198682_1  Bus_mvgd_2761_lvgd_198682_loa_1   0.206535   \n",
       "Load_mvgd_2761_lvgd_198682_2  Bus_mvgd_2761_lvgd_198682_loa_2   0.206535   \n",
       "\n",
       "                              sector  annual_consumption  \n",
       "name                                                      \n",
       "Load_mvgd_2761_lvgd_198682_1  retail          859.128958  \n",
       "Load_mvgd_2761_lvgd_198682_2  retail          859.128958  "
      ]
     },
     "execution_count": 15,
     "metadata": {},
     "output_type": "execute_result"
    }
   ],
   "source": [
    "# Access all loads in that LV grid\n",
    "lv_grid.loads_df"
   ]
  },
  {
   "cell_type": "markdown",
   "metadata": {},
   "source": [
    "A single grid's generators, loads, storage units and switches can also be\n",
    "retrieved as [Generator](https://edisgo.readthedocs.io/en/features-refactoring/api/edisgo.network.html#edisgo.network.components.Generator) object,\n",
    "[Load](https://edisgo.readthedocs.io/en/features-refactoring/api/edisgo.network.html#edisgo.network.components.Load) object, [Storage](https://edisgo.readthedocs.io/en/features-refactoring/api/edisgo.network.html#edisgo.network.components.Storage) object, and\n",
    "[Switch](https://edisgo.readthedocs.io/en/features-refactoring/api/edisgo.network.html#edisgo.network.components.Switch) objects, respecitvely:"
   ]
  },
  {
   "cell_type": "code",
   "execution_count": 16,
   "metadata": {},
   "outputs": [
    {
     "data": {
      "text/plain": [
       "[Switch_circuit_breaker_1]"
      ]
     },
     "execution_count": 16,
     "metadata": {},
     "output_type": "execute_result"
    }
   ],
   "source": [
    "# Get all switch disconnectors in MV grid as Switch objects\n",
    "# (Note that objects are returned as a python generator object that must\n",
    "#  first be converted to a list in order to view the Load objects)\n",
    "list(edisgo.topology.mv_grid.switch_disconnectors)"
   ]
  },
  {
   "cell_type": "code",
   "execution_count": 17,
   "metadata": {},
   "outputs": [
    {
     "data": {
      "text/plain": [
       "'open'"
      ]
     },
     "execution_count": 17,
     "metadata": {},
     "output_type": "execute_result"
    }
   ],
   "source": [
    "# Have a look at the state (open or closed) of one of the switch disconnectors\n",
    "switch = list(edisgo.topology.mv_grid.switch_disconnectors)[0]\n",
    "switch.state"
   ]
  },
  {
   "cell_type": "code",
   "execution_count": 18,
   "metadata": {},
   "outputs": [
    {
     "data": {
      "text/plain": [
       "[Load_Load_mvgd_2761_lvgd_198682_1, Load_Load_mvgd_2761_lvgd_198682_2]"
      ]
     },
     "execution_count": 18,
     "metadata": {},
     "output_type": "execute_result"
    }
   ],
   "source": [
    "# Get all loads in LV grid as Load objects\n",
    "list(lv_grid.loads)"
   ]
  },
  {
   "cell_type": "code",
   "execution_count": 19,
   "metadata": {},
   "outputs": [
    {
     "data": {
      "text/plain": [
       "1970-01-01 00:00:00    0.020653\n",
       "1970-01-01 01:00:00    0.206535\n",
       "Freq: H, Name: Load_mvgd_2761_lvgd_198682_1, dtype: float64"
      ]
     },
     "execution_count": 19,
     "metadata": {},
     "output_type": "execute_result"
    }
   ],
   "source": [
    "# Have a look at the load time series of one of the loads\n",
    "load = list(lv_grid.loads)[0]\n",
    "load.active_power_timeseries"
   ]
  },
  {
   "cell_type": "markdown",
   "metadata": {},
   "source": [
    "For some applications it is helpful to get a graph representation of the grid,\n",
    "e.g. to find the path from the station to a generator. The graph representation\n",
    "of the whole topology or each single grid can be retrieved as follows:\n",
    "\n",
    "```python\n",
    "\n",
    "# Get graph representation of whole topology\n",
    "edisgo.to_graph()\n",
    "\n",
    "# Get graph representation for MV grid\n",
    "edisgo.topology.mv_grid.graph\n",
    "\n",
    "# Get graph representation for LV grid\n",
    "lv_grid.graph\n",
    "```\n",
    "\n",
    "The returned graph is :networkx:`networkx.Graph<network.Graph>`, where lines are represented\n",
    "by edges in the graph, and buses and transformers are represented by nodes."
   ]
  },
  {
   "cell_type": "code",
   "execution_count": 20,
   "metadata": {},
   "outputs": [
    {
     "data": {
      "text/plain": [
       "<networkx.classes.ordered.OrderedGraph at 0x7f8f07f249b0>"
      ]
     },
     "execution_count": 20,
     "metadata": {},
     "output_type": "execute_result"
    }
   ],
   "source": [
    "edisgo.to_graph()"
   ]
  },
  {
   "cell_type": "markdown",
   "metadata": {},
   "source": [
    "In case of the LV grids, the graph can be used to get a rudimentary graphical representation:"
   ]
  },
  {
   "cell_type": "code",
   "execution_count": 21,
   "metadata": {},
   "outputs": [
    {
     "data": {
      "image/png": "[encoded data removed]",
      "text/plain": [
       "<Figure size 432x288 with 1 Axes>"
      ]
     },
     "metadata": {},
     "output_type": "display_data"
    }
   ],
   "source": [
    "# draw graph of one of the LV grids\n",
    "import networkx as nx\n",
    "\n",
    "lv_grid = list(edisgo.topology.mv_grid.lv_grids)[5]\n",
    "nx.draw(lv_grid.graph)"
   ]
  },
  {
   "cell_type": "markdown",
   "metadata": {},
   "source": [
    "### Future generator scenario <a class=\"anchor\" id=\"generator_scenario\"></a>\n",
    "\n",
    "eDisGo was originally developed in the [open_eGo](https://openegoproject.wordpress.com/) research project. In the open_eGo project two future scenarios, the 'NEP 2035' and the 'ego 100' scenario. The 'NEP 2035' scenario closely follows the B2-Scenario 2035 from the German network developement plan (Netzentwicklungsplan NEP) 2015. The share of renewables is 65.8%, electricity demand is assumed to stay the same as in the status quo. The 'ego 100' scenario is based on the e-Highway 2050 scenario and assumes a share of renewables of 100% and again an equal electricity demand as in the status quo.\n",
    "\n",
    "As mentioned earlier, ding0 grids represent status quo networks with status quo generator capacities (base year is the year 2015). In order to analyse future scenarios future generators have to be imported into the network."
   ]
  },
  {
   "cell_type": "code",
   "execution_count": 22,
   "metadata": {},
   "outputs": [
    {
     "data": {
      "text/plain": [
       "17.357460000000003"
      ]
     },
     "execution_count": 22,
     "metadata": {},
     "output_type": "execute_result"
    }
   ],
   "source": [
    "# Get installed capacity in Status Quo\n",
    "edisgo.topology.generators_df.p_nom.sum()"
   ]
  },
  {
   "cell_type": "code",
   "execution_count": 23,
   "metadata": {},
   "outputs": [
    {
     "name": "stderr",
     "output_type": "stream",
     "text": [
      "/usr/local/anaconda3/envs/edisgo/lib/python3.6/site-packages/pandas/core/frame.py:6701: FutureWarning: Sorting because non-concatenation axis is not aligned. A future version\n",
      "of pandas will change to not sort by default.\n",
      "\n",
      "To accept the future behavior, pass 'sort=False'.\n",
      "\n",
      "To retain the current behavior and silence the warning, pass 'sort=True'.\n",
      "\n",
      "  sort=sort)\n"
     ]
    }
   ],
   "source": [
    "# Import generators\n",
    "scenario = 'nep2035'\n",
    "edisgo.import_generators(generator_scenario=scenario)"
   ]
  },
  {
   "cell_type": "code",
   "execution_count": 24,
   "metadata": {},
   "outputs": [
    {
     "data": {
      "text/plain": [
       "32.245750000000015"
      ]
     },
     "execution_count": 24,
     "metadata": {},
     "output_type": "execute_result"
    }
   ],
   "source": [
    "# Get installed capacity in NEP 2035 scenario\n",
    "edisgo.topology.generators_df.p_nom.sum()"
   ]
  },
  {
   "cell_type": "markdown",
   "metadata": {},
   "source": [
    "Let's have a look at the MV grid topology in the NEP 2035 scenario:"
   ]
  },
  {
   "cell_type": "code",
   "execution_count": 25,
   "metadata": {},
   "outputs": [
    {
     "name": "stderr",
     "output_type": "stream",
     "text": [
      "/Users/heikernleong/Documents/localFiles/sa_code/edisgo/eDisGo/edisgo/tools/plots.py:588: UserWarning: Boolean Series key will be reindexed to match DataFrame index.\n",
      "  ][edisgo_obj.topology.lines_df.bus1.isin(pypsa_plot.buses.index)].loc[\n"
     ]
    },
    {
     "data": {
      "image/png": "[encoded data removed]",
      "text/plain": [
       "<Figure size 864x576 with 1 Axes>"
      ]
     },
     "metadata": {
      "needs_background": "light"
     },
     "output_type": "display_data"
    }
   ],
   "source": [
    "edisgo.plot_mv_grid_topology(technologies=True)"
   ]
  },
  {
   "cell_type": "markdown",
   "metadata": {},
   "source": [
    "### Grid reinforcement <a class=\"anchor\" id=\"grid_reinforcement\"></a>\n",
    "\n",
    "Now we can calculate grid expansion costs that arise from the integration of the new generators.\n",
    "\n",
    "The grid expansion methodology is based on the distribution grid study of dena [[1]](#[1]) and Baden-Wuerttemberg [[2]](#[2]). The order grid expansion measures are conducted is as follows:\n",
    "\n",
    "* Reinforce transformers and lines due to overloading issues\n",
    "* Reinforce lines in MV grid due to voltage issues\n",
    "* Reinforce distribution substations due to voltage issues\n",
    "* Reinforce lines in LV grid due to voltage issues\n",
    "* Reinforce transformers and lines due to overloading issues\n",
    "\n",
    "Reinforcement of transformers and lines due to overloading issues is performed twice, once in the beginning and again after fixing voltage problems, as the changed power flows after reinforcing the grid may lead to new overloading issues. (For further explanation see the [documentation](http://edisgo.readthedocs.io/en/dev/features_in_detail.html#automatic-grid-expansion).)\n",
    "\n",
    "After each reinforcement step a non-linear power flow analyses is conducted using PyPSA. Let's do a power flow analysis before the reinforcement to see how many over-loading and voltage issues there are."
   ]
  },
  {
   "cell_type": "code",
   "execution_count": 26,
   "metadata": {},
   "outputs": [
    {
     "name": "stderr",
     "output_type": "stream",
     "text": [
      "/usr/local/anaconda3/envs/edisgo/lib/python3.6/site-packages/pandas/core/indexing.py:1494: FutureWarning: \n",
      "Passing list-likes to .loc or [] with any missing label will raise\n",
      "KeyError in the future, you can use .reindex() as an alternative.\n",
      "\n",
      "See the documentation here:\n",
      "https://pandas.pydata.org/pandas-docs/stable/indexing.html#deprecate-loc-reindex-listlike\n",
      "  return self._getitem_tuple(key)\n",
      "INFO:pypsa.pf:Performing non-linear load-flow on AC sub-network SubNetwork 0 for snapshots DatetimeIndex(['1970-01-01 00:00:00', '1970-01-01 01:00:00'], dtype='datetime64[ns]', freq='H')\n",
      "INFO:pypsa.pf:Newton-Raphson solved in 4 iterations with error of 0.000000 in 0.183603 seconds\n",
      "INFO:pypsa.pf:Newton-Raphson solved in 3 iterations with error of 0.000000 in 0.071401 seconds\n"
     ]
    }
   ],
   "source": [
    "# Do non-linear power flow analysis with PyPSA\n",
    "edisgo.analyze()"
   ]
  },
  {
   "cell_type": "code",
   "execution_count": 27,
   "metadata": {},
   "outputs": [
    {
     "name": "stderr",
     "output_type": "stream",
     "text": [
      "/Users/heikernleong/Documents/localFiles/sa_code/edisgo/eDisGo/edisgo/tools/plots.py:588: UserWarning: Boolean Series key will be reindexed to match DataFrame index.\n",
      "  ][edisgo_obj.topology.lines_df.bus1.isin(pypsa_plot.buses.index)].loc[\n"
     ]
    },
    {
     "ename": "TypeError",
     "evalue": "You must first set_array for mappable",
     "output_type": "error",
     "traceback": [
      "\u001b[0;31m---------------------------------------------------------------------------\u001b[0m",
      "\u001b[0;31mTypeError\u001b[0m                                 Traceback (most recent call last)",
      "\u001b[0;32m<ipython-input-27-ace7361485ea>\u001b[0m in \u001b[0;36m<module>\u001b[0;34m\u001b[0m\n\u001b[1;32m      2\u001b[0m edisgo.plot_mv_line_loading(\n\u001b[1;32m      3\u001b[0m     \u001b[0mnode_color\u001b[0m\u001b[0;34m=\u001b[0m\u001b[0;34m'voltage_deviation'\u001b[0m\u001b[0;34m,\u001b[0m\u001b[0;34m\u001b[0m\u001b[0;34m\u001b[0m\u001b[0m\n\u001b[0;32m----> 4\u001b[0;31m     timestep=edisgo.timeseries.timeindex[0])\n\u001b[0m",
      "\u001b[0;32m~/Documents/localFiles/sa_code/edisgo/eDisGo/edisgo/edisgo.py\u001b[0m in \u001b[0;36mplot_mv_line_loading\u001b[0;34m(self, **kwargs)\u001b[0m\n\u001b[1;32m    581\u001b[0m                 \u001b[0;34m\"scaling_factor_line_width\"\u001b[0m\u001b[0;34m,\u001b[0m \u001b[0;32mNone\u001b[0m\u001b[0;34m\u001b[0m\u001b[0;34m\u001b[0m\u001b[0m\n\u001b[1;32m    582\u001b[0m             ),\n\u001b[0;32m--> 583\u001b[0;31m             \u001b[0mcurtailment_df\u001b[0m\u001b[0;34m=\u001b[0m\u001b[0mkwargs\u001b[0m\u001b[0;34m.\u001b[0m\u001b[0mget\u001b[0m\u001b[0;34m(\u001b[0m\u001b[0;34m\"curtailment_df\"\u001b[0m\u001b[0;34m,\u001b[0m \u001b[0;32mNone\u001b[0m\u001b[0;34m)\u001b[0m\u001b[0;34m,\u001b[0m\u001b[0;34m\u001b[0m\u001b[0;34m\u001b[0m\u001b[0m\n\u001b[0m\u001b[1;32m    584\u001b[0m         )\n\u001b[1;32m    585\u001b[0m \u001b[0;34m\u001b[0m\u001b[0m\n",
      "\u001b[0;32m~/Documents/localFiles/sa_code/edisgo/eDisGo/edisgo/tools/plots.py\u001b[0m in \u001b[0;36mmv_grid_topology\u001b[0;34m(edisgo_obj, timestep, line_color, node_color, line_load, grid_expansion_costs, filename, arrows, grid_district_geom, background_map, voltage, limits_cb_lines, limits_cb_nodes, xlim, ylim, lines_cmap, title, scaling_factor_line_width, curtailment_df, **kwargs)\u001b[0m\n\u001b[1;32m    746\u001b[0m         \u001b[0mll\u001b[0m\u001b[0;34m[\u001b[0m\u001b[0;36m0\u001b[0m\u001b[0;34m]\u001b[0m\u001b[0;34m.\u001b[0m\u001b[0mset\u001b[0m\u001b[0;34m(\u001b[0m\u001b[0mcmap\u001b[0m\u001b[0;34m=\u001b[0m\u001b[0;34m'Blues'\u001b[0m\u001b[0;34m)\u001b[0m\u001b[0;34m\u001b[0m\u001b[0;34m\u001b[0m\u001b[0m\n\u001b[1;32m    747\u001b[0m         cb_voltage = plt.colorbar(\n\u001b[0;32m--> 748\u001b[0;31m             \u001b[0mll\u001b[0m\u001b[0;34m[\u001b[0m\u001b[0;36m0\u001b[0m\u001b[0;34m]\u001b[0m\u001b[0;34m,\u001b[0m \u001b[0mboundaries\u001b[0m\u001b[0;34m=\u001b[0m\u001b[0mv_voltage\u001b[0m\u001b[0;34m,\u001b[0m \u001b[0mticks\u001b[0m\u001b[0;34m=\u001b[0m\u001b[0mv_voltage\u001b[0m\u001b[0;34m[\u001b[0m\u001b[0;36m0\u001b[0m\u001b[0;34m:\u001b[0m\u001b[0;36m101\u001b[0m\u001b[0;34m:\u001b[0m\u001b[0;36m10\u001b[0m\u001b[0;34m]\u001b[0m\u001b[0;34m\u001b[0m\u001b[0;34m\u001b[0m\u001b[0m\n\u001b[0m\u001b[1;32m    749\u001b[0m         )\n\u001b[1;32m    750\u001b[0m         \u001b[0mcb_voltage\u001b[0m\u001b[0;34m.\u001b[0m\u001b[0mnorm\u001b[0m\u001b[0;34m.\u001b[0m\u001b[0mvmin\u001b[0m \u001b[0;34m=\u001b[0m \u001b[0mlimits_cb_nodes\u001b[0m\u001b[0;34m[\u001b[0m\u001b[0;36m0\u001b[0m\u001b[0;34m]\u001b[0m\u001b[0;34m\u001b[0m\u001b[0;34m\u001b[0m\u001b[0m\n",
      "\u001b[0;32m/usr/local/anaconda3/envs/edisgo/lib/python3.6/site-packages/matplotlib/pyplot.py\u001b[0m in \u001b[0;36mcolorbar\u001b[0;34m(mappable, cax, ax, **kw)\u001b[0m\n\u001b[1;32m   2318\u001b[0m         \u001b[0max\u001b[0m \u001b[0;34m=\u001b[0m \u001b[0mgca\u001b[0m\u001b[0;34m(\u001b[0m\u001b[0;34m)\u001b[0m\u001b[0;34m\u001b[0m\u001b[0;34m\u001b[0m\u001b[0m\n\u001b[1;32m   2319\u001b[0m \u001b[0;34m\u001b[0m\u001b[0m\n\u001b[0;32m-> 2320\u001b[0;31m     \u001b[0mret\u001b[0m \u001b[0;34m=\u001b[0m \u001b[0mgcf\u001b[0m\u001b[0;34m(\u001b[0m\u001b[0;34m)\u001b[0m\u001b[0;34m.\u001b[0m\u001b[0mcolorbar\u001b[0m\u001b[0;34m(\u001b[0m\u001b[0mmappable\u001b[0m\u001b[0;34m,\u001b[0m \u001b[0mcax\u001b[0m \u001b[0;34m=\u001b[0m \u001b[0mcax\u001b[0m\u001b[0;34m,\u001b[0m \u001b[0max\u001b[0m\u001b[0;34m=\u001b[0m\u001b[0max\u001b[0m\u001b[0;34m,\u001b[0m \u001b[0;34m**\u001b[0m\u001b[0mkw\u001b[0m\u001b[0;34m)\u001b[0m\u001b[0;34m\u001b[0m\u001b[0;34m\u001b[0m\u001b[0m\n\u001b[0m\u001b[1;32m   2321\u001b[0m     \u001b[0;32mreturn\u001b[0m \u001b[0mret\u001b[0m\u001b[0;34m\u001b[0m\u001b[0;34m\u001b[0m\u001b[0m\n\u001b[1;32m   2322\u001b[0m \u001b[0mcolorbar\u001b[0m\u001b[0;34m.\u001b[0m\u001b[0m__doc__\u001b[0m \u001b[0;34m=\u001b[0m \u001b[0mmatplotlib\u001b[0m\u001b[0;34m.\u001b[0m\u001b[0mcolorbar\u001b[0m\u001b[0;34m.\u001b[0m\u001b[0mcolorbar_doc\u001b[0m\u001b[0;34m\u001b[0m\u001b[0;34m\u001b[0m\u001b[0m\n",
      "\u001b[0;32m/usr/local/anaconda3/envs/edisgo/lib/python3.6/site-packages/matplotlib/figure.py\u001b[0m in \u001b[0;36mcolorbar\u001b[0;34m(self, mappable, cax, ax, use_gridspec, **kw)\u001b[0m\n\u001b[1;32m   2096\u001b[0m                              'panchor']\n\u001b[1;32m   2097\u001b[0m         \u001b[0mcb_kw\u001b[0m \u001b[0;34m=\u001b[0m \u001b[0;34m{\u001b[0m\u001b[0mk\u001b[0m\u001b[0;34m:\u001b[0m \u001b[0mv\u001b[0m \u001b[0;32mfor\u001b[0m \u001b[0mk\u001b[0m\u001b[0;34m,\u001b[0m \u001b[0mv\u001b[0m \u001b[0;32min\u001b[0m \u001b[0mkw\u001b[0m\u001b[0;34m.\u001b[0m\u001b[0mitems\u001b[0m\u001b[0;34m(\u001b[0m\u001b[0;34m)\u001b[0m \u001b[0;32mif\u001b[0m \u001b[0mk\u001b[0m \u001b[0;32mnot\u001b[0m \u001b[0;32min\u001b[0m \u001b[0mNON_COLORBAR_KEYS\u001b[0m\u001b[0;34m}\u001b[0m\u001b[0;34m\u001b[0m\u001b[0;34m\u001b[0m\u001b[0m\n\u001b[0;32m-> 2098\u001b[0;31m         \u001b[0mcb\u001b[0m \u001b[0;34m=\u001b[0m \u001b[0mcbar\u001b[0m\u001b[0;34m.\u001b[0m\u001b[0mcolorbar_factory\u001b[0m\u001b[0;34m(\u001b[0m\u001b[0mcax\u001b[0m\u001b[0;34m,\u001b[0m \u001b[0mmappable\u001b[0m\u001b[0;34m,\u001b[0m \u001b[0;34m**\u001b[0m\u001b[0mcb_kw\u001b[0m\u001b[0;34m)\u001b[0m\u001b[0;34m\u001b[0m\u001b[0;34m\u001b[0m\u001b[0m\n\u001b[0m\u001b[1;32m   2099\u001b[0m \u001b[0;34m\u001b[0m\u001b[0m\n\u001b[1;32m   2100\u001b[0m         \u001b[0mself\u001b[0m\u001b[0;34m.\u001b[0m\u001b[0msca\u001b[0m\u001b[0;34m(\u001b[0m\u001b[0mcurrent_ax\u001b[0m\u001b[0;34m)\u001b[0m\u001b[0;34m\u001b[0m\u001b[0;34m\u001b[0m\u001b[0m\n",
      "\u001b[0;32m/usr/local/anaconda3/envs/edisgo/lib/python3.6/site-packages/matplotlib/colorbar.py\u001b[0m in \u001b[0;36mcolorbar_factory\u001b[0;34m(cax, mappable, **kwargs)\u001b[0m\n\u001b[1;32m   1397\u001b[0m         \u001b[0mcb\u001b[0m \u001b[0;34m=\u001b[0m \u001b[0mColorbarPatch\u001b[0m\u001b[0;34m(\u001b[0m\u001b[0mcax\u001b[0m\u001b[0;34m,\u001b[0m \u001b[0mmappable\u001b[0m\u001b[0;34m,\u001b[0m \u001b[0;34m**\u001b[0m\u001b[0mkwargs\u001b[0m\u001b[0;34m)\u001b[0m\u001b[0;34m\u001b[0m\u001b[0;34m\u001b[0m\u001b[0m\n\u001b[1;32m   1398\u001b[0m     \u001b[0;32melse\u001b[0m\u001b[0;34m:\u001b[0m\u001b[0;34m\u001b[0m\u001b[0;34m\u001b[0m\u001b[0m\n\u001b[0;32m-> 1399\u001b[0;31m         \u001b[0mcb\u001b[0m \u001b[0;34m=\u001b[0m \u001b[0mColorbar\u001b[0m\u001b[0;34m(\u001b[0m\u001b[0mcax\u001b[0m\u001b[0;34m,\u001b[0m \u001b[0mmappable\u001b[0m\u001b[0;34m,\u001b[0m \u001b[0;34m**\u001b[0m\u001b[0mkwargs\u001b[0m\u001b[0;34m)\u001b[0m\u001b[0;34m\u001b[0m\u001b[0;34m\u001b[0m\u001b[0m\n\u001b[0m\u001b[1;32m   1400\u001b[0m \u001b[0;34m\u001b[0m\u001b[0m\n\u001b[1;32m   1401\u001b[0m     \u001b[0mcid\u001b[0m \u001b[0;34m=\u001b[0m \u001b[0mmappable\u001b[0m\u001b[0;34m.\u001b[0m\u001b[0mcallbacksSM\u001b[0m\u001b[0;34m.\u001b[0m\u001b[0mconnect\u001b[0m\u001b[0;34m(\u001b[0m\u001b[0;34m'changed'\u001b[0m\u001b[0;34m,\u001b[0m \u001b[0mcb\u001b[0m\u001b[0;34m.\u001b[0m\u001b[0mon_mappable_changed\u001b[0m\u001b[0;34m)\u001b[0m\u001b[0;34m\u001b[0m\u001b[0;34m\u001b[0m\u001b[0m\n",
      "\u001b[0;32m/usr/local/anaconda3/envs/edisgo/lib/python3.6/site-packages/matplotlib/colorbar.py\u001b[0m in \u001b[0;36m__init__\u001b[0;34m(self, ax, mappable, **kw)\u001b[0m\n\u001b[1;32m    918\u001b[0m         \u001b[0;31m# Ensure the given mappable's norm has appropriate vmin and vmax set\u001b[0m\u001b[0;34m\u001b[0m\u001b[0;34m\u001b[0m\u001b[0;34m\u001b[0m\u001b[0m\n\u001b[1;32m    919\u001b[0m         \u001b[0;31m# even if mappable.draw has not yet been called.\u001b[0m\u001b[0;34m\u001b[0m\u001b[0;34m\u001b[0m\u001b[0;34m\u001b[0m\u001b[0m\n\u001b[0;32m--> 920\u001b[0;31m         \u001b[0mmappable\u001b[0m\u001b[0;34m.\u001b[0m\u001b[0mautoscale_None\u001b[0m\u001b[0;34m(\u001b[0m\u001b[0;34m)\u001b[0m\u001b[0;34m\u001b[0m\u001b[0;34m\u001b[0m\u001b[0m\n\u001b[0m\u001b[1;32m    921\u001b[0m \u001b[0;34m\u001b[0m\u001b[0m\n\u001b[1;32m    922\u001b[0m         \u001b[0mself\u001b[0m\u001b[0;34m.\u001b[0m\u001b[0mmappable\u001b[0m \u001b[0;34m=\u001b[0m \u001b[0mmappable\u001b[0m\u001b[0;34m\u001b[0m\u001b[0;34m\u001b[0m\u001b[0m\n",
      "\u001b[0;32m/usr/local/anaconda3/envs/edisgo/lib/python3.6/site-packages/matplotlib/cm.py\u001b[0m in \u001b[0;36mautoscale_None\u001b[0;34m(self)\u001b[0m\n\u001b[1;32m    360\u001b[0m         \"\"\"\n\u001b[1;32m    361\u001b[0m         \u001b[0;32mif\u001b[0m \u001b[0mself\u001b[0m\u001b[0;34m.\u001b[0m\u001b[0m_A\u001b[0m \u001b[0;32mis\u001b[0m \u001b[0;32mNone\u001b[0m\u001b[0;34m:\u001b[0m\u001b[0;34m\u001b[0m\u001b[0;34m\u001b[0m\u001b[0m\n\u001b[0;32m--> 362\u001b[0;31m             \u001b[0;32mraise\u001b[0m \u001b[0mTypeError\u001b[0m\u001b[0;34m(\u001b[0m\u001b[0;34m'You must first set_array for mappable'\u001b[0m\u001b[0;34m)\u001b[0m\u001b[0;34m\u001b[0m\u001b[0;34m\u001b[0m\u001b[0m\n\u001b[0m\u001b[1;32m    363\u001b[0m         \u001b[0mself\u001b[0m\u001b[0;34m.\u001b[0m\u001b[0mnorm\u001b[0m\u001b[0;34m.\u001b[0m\u001b[0mautoscale_None\u001b[0m\u001b[0;34m(\u001b[0m\u001b[0mself\u001b[0m\u001b[0;34m.\u001b[0m\u001b[0m_A\u001b[0m\u001b[0;34m)\u001b[0m\u001b[0;34m\u001b[0m\u001b[0;34m\u001b[0m\u001b[0m\n\u001b[1;32m    364\u001b[0m         \u001b[0mself\u001b[0m\u001b[0;34m.\u001b[0m\u001b[0mchanged\u001b[0m\u001b[0;34m(\u001b[0m\u001b[0;34m)\u001b[0m\u001b[0;34m\u001b[0m\u001b[0;34m\u001b[0m\u001b[0m\n",
      "\u001b[0;31mTypeError\u001b[0m: You must first set_array for mappable"
     ]
    },
    {
     "data": {
      "image/png": "[encoded data removed]",
      "text/plain": [
       "<Figure size 864x576 with 3 Axes>"
      ]
     },
     "metadata": {
      "needs_background": "light"
     },
     "output_type": "display_data"
    }
   ],
   "source": [
    "# feed-in case\n",
    "edisgo.plot_mv_line_loading(\n",
    "    node_color='voltage_deviation',\n",
    "    timestep=edisgo.timeseries.timeindex[0])"
   ]
  },
  {
   "cell_type": "code",
   "execution_count": null,
   "metadata": {},
   "outputs": [],
   "source": [
    "# load case\n",
    "edisgo.plot_mv_line_loading(\n",
    "    node_color='voltage_deviation',\n",
    "    timestep=edisgo.timeseries.timeindex[1])"
   ]
  },
  {
   "cell_type": "markdown",
   "metadata": {},
   "source": [
    "Let's check voltages and line loadings before the reinforcement."
   ]
  },
  {
   "cell_type": "code",
   "execution_count": 28,
   "metadata": {},
   "outputs": [
    {
     "data": {
      "image/png": "[encoded data removed]",
      "text/plain": [
       "<Figure size 597.6x417.6 with 1 Axes>"
      ]
     },
     "metadata": {
      "needs_background": "light"
     },
     "output_type": "display_data"
    }
   ],
   "source": [
    "edisgo.histogram_voltage(binwidth=0.005)"
   ]
  },
  {
   "cell_type": "code",
   "execution_count": null,
   "metadata": {},
   "outputs": [],
   "source": [
    "edisgo.histogram_relative_line_load(binwidth=0.2)"
   ]
  },
  {
   "cell_type": "markdown",
   "metadata": {},
   "source": [
    "Reinforcement is invoked doing the following:"
   ]
  },
  {
   "cell_type": "code",
   "execution_count": null,
   "metadata": {},
   "outputs": [],
   "source": [
    "# Do grid reinforcement\n",
    "edisgo.reinforce()"
   ]
  },
  {
   "cell_type": "markdown",
   "metadata": {},
   "source": [
    "Let's check voltages and line loadings again:"
   ]
  },
  {
   "cell_type": "code",
   "execution_count": null,
   "metadata": {},
   "outputs": [],
   "source": [
    "# load and feed-in case\n",
    "edisgo.plot_mv_line_loading(\n",
    "    node_color='voltage_deviation')"
   ]
  },
  {
   "cell_type": "code",
   "execution_count": null,
   "metadata": {},
   "outputs": [],
   "source": [
    "edisgo.histogram_voltage(binwidth=0.005)"
   ]
  },
  {
   "cell_type": "code",
   "execution_count": null,
   "metadata": {},
   "outputs": [],
   "source": [
    "edisgo.histogram_relative_line_load(binwidth=0.2)"
   ]
  },
  {
   "cell_type": "markdown",
   "metadata": {},
   "source": [
    "### Evaluate results <a class=\"anchor\" id=\"evaluation\"></a>\n",
    "\n",
    "Results such as voltages at nodes and line loading from the power flow analysis as well as\n",
    "grid expansion costs are provided through the [Results](https://edisgo.readthedocs.io/en/features-refactoring/api/edisgo.network.html#edisgo.network.results.Results) class. Above it was already shown how to access \n",
    "the results:\n",
    "\n",
    "```python\n",
    "edisgo.results\n",
    "```\n",
    "\n",
    "Get voltages at nodes through `v_res` attribute and line loading through `s_res` or `i_res` attribute.\n",
    "The `equipment_changes` attribute holds details about measures performed during grid expansion. Associated costs can be obtained through the `grid_expansion_costs` attribute."
   ]
  },
  {
   "cell_type": "code",
   "execution_count": null,
   "metadata": {},
   "outputs": [],
   "source": [
    "# Get voltages at nodes from last power flow analysis\n",
    "edisgo.results.v_res"
   ]
  },
  {
   "cell_type": "code",
   "execution_count": null,
   "metadata": {},
   "outputs": [],
   "source": [
    "# View reinforced equipment\n",
    "edisgo.results.equipment_changes.head()"
   ]
  },
  {
   "cell_type": "code",
   "execution_count": null,
   "metadata": {},
   "outputs": [],
   "source": [
    "# Get costs in kEUR for reinforcement per equipment\n",
    "costs = edisgo.results.grid_expansion_costs\n",
    "costs.head()"
   ]
  },
  {
   "cell_type": "code",
   "execution_count": null,
   "metadata": {},
   "outputs": [],
   "source": [
    "# Group costs by voltage level\n",
    "costs_grouped_nep = costs.groupby(['voltage_level']).sum()\n",
    "costs_grouped_nep.loc[:, ['total_costs']]"
   ]
  },
  {
   "cell_type": "markdown",
   "metadata": {},
   "source": [
    "An overview of the assumptions used to calculate grid expansion costs can be found in the [documentation]( http://edisgo.readthedocs.io/en/dev/features_in_detail.html#grid-expansion-costs).\n",
    "\n",
    "You can also view grid expansion costs for equipment in the MV using the following plot:"
   ]
  },
  {
   "cell_type": "code",
   "execution_count": null,
   "metadata": {},
   "outputs": [],
   "source": [
    "edisgo.plot_mv_grid_expansion_costs()"
   ]
  },
  {
   "cell_type": "markdown",
   "metadata": {},
   "source": [
    "Results can be saved to csv files with:\n",
    "\n",
    "```python\n",
    "edisgo.results.save('path/to/results/directory/')\n",
    "```"
   ]
  },
  {
   "cell_type": "markdown",
   "metadata": {},
   "source": [
    "Now let's compare the grid expansion costs for the 'NEP 2035' scenario with grid expansion costs for the 'ego 100' scenario. Therefore, we first have to setup the new scenario and calculate grid expansion costs."
   ]
  },
  {
   "cell_type": "code",
   "execution_count": null,
   "metadata": {},
   "outputs": [],
   "source": [
    "# initialize new EDisGo object with 'ego 100' scenario\n",
    "edisgo_ego100 = EDisGo(ding0_grid=ding0_grid,\n",
    "                       worst_case_analysis=worst_case_analysis,\n",
    "                       generator_scenario='ego100')\n",
    "# conduct grid reinforcement\n",
    "edisgo_ego100.reinforce()"
   ]
  },
  {
   "cell_type": "code",
   "execution_count": null,
   "metadata": {},
   "outputs": [],
   "source": [
    "# get grouped costs\n",
    "costs_grouped_ego100 = edisgo_ego100.results.grid_expansion_costs.groupby(['voltage_level']).sum()\n",
    "costs_grouped_ego100.loc[:, ['total_costs']]"
   ]
  },
  {
   "cell_type": "code",
   "execution_count": null,
   "metadata": {},
   "outputs": [],
   "source": [
    "# compare expansion costs for both scenarios in a plot\n",
    "\n",
    "import matplotlib.pyplot as plt\n",
    "\n",
    "# set up dataframe to plot\n",
    "costs_df = costs_grouped_nep.loc[:, ['total_costs']].join(costs_grouped_ego100.loc[:, ['total_costs']], rsuffix='_ego100', lsuffix='_nep2035').rename(\n",
    "    columns={'total_costs_ego100': 'ego100',\n",
    "             'total_costs_nep2035': 'NEP2035'}).T\n",
    "# plot\n",
    "costs_df.plot(kind='bar', stacked=True)\n",
    "plt.xticks(rotation=0)\n",
    "plt.ylabel('Grid reinforcement costs in k€');"
   ]
  },
  {
   "cell_type": "markdown",
   "metadata": {},
   "source": [
    "## References <a class=\"anchor\" id=\"references\"></a>\n",
    "\n",
    "<a class=\"anchor\" id=\"[1]\"></a> [1] A.C. Agricola et al.: dena-Verteilnetzstudie: Ausbau- und Innovationsbedarf der Stromverteilnetze in Deutschland bis 2030. 2012.\n",
    "\n",
    "<a class=\"anchor\" id=\"[2]\"></a> [2] C. Rehtanz et al.: Verteilnetzstudie für das Land Baden-Württemberg, ef.Ruhr GmbH, 2017."
   ]
  },
  {
   "cell_type": "code",
   "execution_count": null,
   "metadata": {},
   "outputs": [],
   "source": []
  }
 ],
 "metadata": {
  "kernelspec": {
   "display_name": "Python [conda env:edisgo]",
   "language": "python",
   "name": "conda-env-edisgo-py"
  },
  "language_info": {
   "codemirror_mode": {
    "name": "ipython",
    "version": 3
   },
   "file_extension": ".py",
   "mimetype": "text/x-python",
   "name": "python",
   "nbconvert_exporter": "python",
   "pygments_lexer": "ipython3",
   "version": "3.6.12"
  }
 },
 "nbformat": 4,
 "nbformat_minor": 4
}
