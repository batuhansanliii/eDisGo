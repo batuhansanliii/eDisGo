{
 "cells": [
  {
   "cell_type": "code",
   "execution_count": null,
   "metadata": {},
   "outputs": [],
   "source": [
    "__copyright__ = \"Reiner Lemoine Institut gGmbH\"\n",
    "__license__ = \"GNU Affero General Public License Version 3 (AGPL-3.0)\"\n",
    "__url__ = \"https://github.com/openego/eDisGo/blob/master/LICENSE\"\n",
    "__author__ = \"mltja\""
   ]
  },
  {
   "cell_type": "markdown",
   "metadata": {},
   "source": [
    "# eDisGo plot example with plotly"
   ]
  },
  {
   "cell_type": "markdown",
   "metadata": {},
   "source": [
    "## Setup"
   ]
  },
  {
   "cell_type": "markdown",
   "metadata": {
    "tags": []
   },
   "source": [
    "#### Import packages"
   ]
  },
  {
   "cell_type": "code",
   "execution_count": null,
   "metadata": {},
   "outputs": [],
   "source": [
    "import os\n",
    "import sys\n",
    "import pandas as pd\n",
    "import requests\n",
    "import copy\n",
    "\n",
    "from edisgo import EDisGo\n",
    "from edisgo.tools.plots import draw_plotly\n",
    "from edisgo.tools.plots import dash_plot"
   ]
  },
  {
   "cell_type": "markdown",
   "metadata": {},
   "source": [
    "#### Download example grid"
   ]
  },
  {
   "cell_type": "code",
   "execution_count": null,
   "metadata": {},
   "outputs": [],
   "source": [
    "def download_ding0_example_grid():\n",
    "\n",
    "    # create directories to save ding0 example grid into\n",
    "    ding0_example_grid_path = os.path.join(\n",
    "        os.path.expanduser(\"~\"), \".edisgo\", \"ding0_test_network\"\n",
    "    )\n",
    "    os.makedirs(ding0_example_grid_path, exist_ok=True)\n",
    "\n",
    "    # download files\n",
    "    filenames = [\n",
    "        \"buses\",\n",
    "        \"generators\",\n",
    "        \"lines\",\n",
    "        \"loads\",\n",
    "        \"network\",\n",
    "        \"switches\",\n",
    "        \"transformers\",\n",
    "        \"transformers_hvmv\",\n",
    "    ]\n",
    "\n",
    "    for file in filenames:\n",
    "        req = requests.get(\n",
    "            \"https://raw.githubusercontent.com/openego/eDisGo/dev/tests/data/ding0_test_network_1/{}.csv\".format(\n",
    "                file\n",
    "            )\n",
    "        )\n",
    "        filename = os.path.join(ding0_example_grid_path, \"{}.csv\".format(file))\n",
    "        with open(filename, \"wb\") as fout:\n",
    "            fout.write(req.content)\n",
    "\n",
    "\n",
    "download_ding0_example_grid()"
   ]
  },
  {
   "cell_type": "code",
   "execution_count": null,
   "metadata": {},
   "outputs": [],
   "source": [
    "ding0_grid = os.path.join(os.path.expanduser(\"~\"), \".edisgo\", \"ding0_test_network\")"
   ]
  },
  {
   "cell_type": "markdown",
   "metadata": {},
   "source": [
    "#### Create edisgo objects"
   ]
  },
  {
   "cell_type": "code",
   "execution_count": null,
   "metadata": {},
   "outputs": [],
   "source": [
    "edisgo_root = EDisGo(ding0_grid=ding0_grid)\n",
    "edisgo_root.set_time_series_worst_case_analysis()\n",
    "edisgo_root.analyze()"
   ]
  },
  {
   "cell_type": "code",
   "execution_count": null,
   "metadata": {},
   "outputs": [],
   "source": [
    "edisgo_copy = copy.deepcopy(edisgo_root)"
   ]
  },
  {
   "cell_type": "code",
   "execution_count": null,
   "metadata": {},
   "outputs": [],
   "source": [
    "edisgo_reinforced = copy.deepcopy(edisgo_root)\n",
    "edisgo_reinforced.reinforce()"
   ]
  },
  {
   "cell_type": "markdown",
   "metadata": {},
   "source": [
    "## Plots"
   ]
  },
  {
   "cell_type": "markdown",
   "metadata": {
    "tags": []
   },
   "source": [
    "### draw_plotly function"
   ]
  },
  {
   "cell_type": "markdown",
   "metadata": {
    "tags": []
   },
   "source": [
    "In the following different plotting options are shown.\n",
    "\n",
    "The different options for node colors (set using parameter `mode_nodes`) and line colors (set using parameter `mode_lines`) are:\n",
    "\n",
    "- mode_nodes\n",
    "    - 'voltage_deviation' - shows the deviation of the node voltage relative to 1 p.u.\n",
    "    - 'adjacencies' - shows the the number of connections of the graph\n",
    "- mode_lines\n",
    "    - 'relative_loading' - shows the line loading relative to the s_nom of the line\n",
    "    - 'loading' - shows the loading\n",
    "    - 'reinforce' - shows the reinforced lines in green\n",
    "\n",
    "\n",
    "The different options for used coordinates (set using parameter `grid`) are:\n",
    "\n",
    "- grid\n",
    "    - grid object - the coordinate origin is set to the stations coordinates\n",
    "    - False - the coordinates are not modified \n",
    "\n",
    "Hovering over nodes and lines shows some information on them."
   ]
  },
  {
   "cell_type": "code",
   "execution_count": null,
   "metadata": {},
   "outputs": [],
   "source": [
    "edisgo_obj = edisgo_root\n",
    "grid = edisgo_obj.topology.mv_grid\n",
    "G = grid.graph"
   ]
  },
  {
   "cell_type": "code",
   "execution_count": null,
   "metadata": {},
   "outputs": [],
   "source": [
    "# plotting relative loading and voltage deviation, with grid coordinates modified to have the station in the origin\n",
    "mode_lines = \"relative_loading\"\n",
    "mode_nodes = \"voltage_deviation\"\n",
    "\n",
    "fig = draw_plotly(\n",
    "    edisgo_obj, G, line_color=mode_lines, node_color=mode_nodes, grid=grid\n",
    ")\n",
    "fig.show()"
   ]
  },
  {
   "cell_type": "code",
   "execution_count": 10,
   "metadata": {},
   "outputs": [
    {
     "data": {
      "application/vnd.plotly.v1+json": {
       "config": {
        "plotlyServerURL": "https://plot.ly"
       },
       "data": [
        {
         "hoverinfo": "text",
         "marker": {
          "color": "white",
          "opacity": 0,
          "size": 10
         },
         "mode": "markers",
         "text": [
          "Line_10003<br>Loading = 4.289802219545046<br>bus0 = Bus_MVStation_1<br>bus1 = Bus_BranchTee_MVGrid_1_1<br>length = 0.083904310632546<br>x = 0.031103993574751<br>r = 0.031044594934042<br>s_nom = 7.27461339178928<br>num_parallel = 1.0<br>type_info = 48-AL1/8-ST1A<br>kind = line",
          "Line_10004<br>Loading = 0.15658759101092978<br>bus0 = Bus_MVStation_1<br>bus1 = Bus_BranchTee_MVGrid_1_4<br>length = 0.226148217025158<br>x = 0.083834938112983<br>r = 0.083674840299309<br>s_nom = 7.27461339178928<br>num_parallel = 1.0<br>type_info = 48-AL1/8-ST1A<br>kind = line",
          "Line_10005<br>Loading = 7.741373355518216<br>bus0 = Bus_MVStation_1<br>bus1 = Bus_BranchTee_MVGrid_1_5<br>length = 0.543380191002877<br>x = 0.201435347506981<br>r = 0.201050670671064<br>s_nom = 7.27461339178928<br>num_parallel = 1.0<br>type_info = 48-AL1/8-ST1A<br>kind = line",
          "Line_10006<br>Loading = 8.469545208335326<br>bus0 = Bus_MVStation_1<br>bus1 = Bus_BranchTee_MVGrid_1_6<br>length = 0.297650465459542<br>x = 0.110341388843783<br>r = 0.110130672220031<br>s_nom = 7.27461339178928<br>num_parallel = 1.0<br>type_info = NA2XS2Y 3x1x185 RM/25<br>kind = line",
          "Line_10011<br>Loading = 0.8611111111118184<br>bus0 = BusBar_MVGrid_1_LVGrid_2_MV<br>bus1 = Bus_Generator_1<br>length = 0.138872233591103<br>x = 0.051481038682815<br>r = 0.051382726428708<br>s_nom = 7.27461339178928<br>num_parallel = 1.0<br>type_info = 48-AL1/8-ST1A<br>kind = line",
          "Line_10025<br>Loading = 2.5555555555576777<br>bus0 = Bus_GeneratorFluctuating_2<br>bus1 = BusBar_MVGrid_1_LVGrid_3_MV<br>length = 1.26723954<br>x = 0.469775750645896<br>r = 0.4688786298<br>s_nom = 7.27461339178928<br>num_parallel = 1.0<br>type_info = 48-AL1/8-ST1A<br>kind = cable",
          "Line_10029<br>Loading = 2.5216666666673677<br>bus0 = Bus_BranchTee_MVGrid_1_11<br>bus1 = Bus_GeneratorFluctuating_3<br>length = 0.203355255541373<br>x = 0.075385406471563<br>r = 0.075241444550308<br>s_nom = 7.27461339178928<br>num_parallel = 1.0<br>type_info = 48-AL1/8-ST1A<br>kind = cable",
          "Line_10027<br>Loading = 1.822777777777603<br>bus0 = Bus_GeneratorFluctuating_4<br>bus1 = Bus_BranchTee_MVGrid_1_10<br>length = 0.322656877175863<br>x = 0.119611464045978<br>r = 0.119383044555069<br>s_nom = 7.27461339178928<br>num_parallel = 1.0<br>type_info = 48-AL1/8-ST1A<br>kind = cable",
          "Line_10020<br>Loading = 2.55555555560692<br>bus0 = Bus_BranchTee_MVGrid_1_8<br>bus1 = Bus_GeneratorFluctuating_5<br>length = 0.001<br>x = 0.000370707933124<br>r = 0.00037<br>s_nom = 7.27461339178928<br>num_parallel = 1.0<br>type_info = 48-AL1/8-ST1A<br>kind = cable",
          "Line_10013<br>Loading = 3.3888888888892987<br>bus0 = Bus_BranchTee_MVGrid_1_3<br>bus1 = Bus_GeneratorFluctuating_6<br>length = 0.307472748812273<br>x = 0.113982587204028<br>r = 0.113764917060541<br>s_nom = 7.27461339178928<br>num_parallel = 1.0<br>type_info = 48-AL1/8-ST1A<br>kind = cable",
          "Line_10018<br>Loading = 3.3333333333336523<br>bus0 = Bus_GeneratorFluctuating_7<br>bus1 = Bus_BranchTee_MVGrid_1_7<br>length = 0.468278333841994<br>x = 0.173594493265127<br>r = 0.173262983521538<br>s_nom = 7.27461339178928<br>num_parallel = 1.0<br>type_info = 48-AL1/8-ST1A<br>kind = cable",
          "Line_10032<br>Loading = 3.3333333333210007<br>bus0 = BusBar_MVGrid_1_LVGrid_4_MV<br>bus1 = Bus_GeneratorFluctuating_8<br>length = 0.001<br>x = 0.000370707933124<br>r = 0.00037<br>s_nom = 7.27461339178928<br>num_parallel = 1.0<br>type_info = 48-AL1/8-ST1A<br>kind = cable",
          "Line_10007<br>Loading = 4.295334806115695<br>bus0 = Bus_BranchTee_MVGrid_1_1<br>bus1 = BusBar_MVGrid_1_LVGrid_1_MV<br>length = 0.722445826838636<br>x = 0.267816399261118<br>r = 0.267304955930295<br>s_nom = 7.27461339178928<br>num_parallel = 1.0<br>type_info = NA2XS2Y 3x1x185 RM/25<br>kind = line",
          "Line_10008<br>Loading = 4.258336463748079<br>bus0 = Bus_BranchTee_MVGrid_1_2<br>bus1 = BusBar_MVGrid_1_LVGrid_1_MV<br>length = 0.132867031507129<br>x = 0.049254862630276<br>r = 0.049160801657638<br>s_nom = 7.27461339178928<br>num_parallel = 1.0<br>type_info = 48-AL1/8-ST1A<br>kind = line",
          "Line_10009<br>Loading = 0.8662193059088681<br>bus0 = Bus_BranchTee_MVGrid_1_2<br>bus1 = BusBar_MVGrid_1_LVGrid_2_MV<br>length = 0.705785336662554<br>x = 0.261640223383117<br>r = 0.261140574565145<br>s_nom = 7.27461339178928<br>num_parallel = 1.0<br>type_info = 48-AL1/8-ST1A<br>kind = line",
          "Line_10010<br>Loading = 3.3924192568716145<br>bus0 = Bus_BranchTee_MVGrid_1_2<br>bus1 = BusBar_MVGrid_1_LVGrid_5_MV<br>length = 0.012061682815469<br>x = 0.004471361506515<br>r = 0.004462822641724<br>s_nom = 7.27461339178928<br>num_parallel = 1.0<br>type_info = 48-AL1/8-ST1A<br>kind = line",
          "Line_10012<br>Loading = 3.38738888103316<br>bus0 = Bus_BranchTee_MVGrid_1_3<br>bus1 = BusBar_MVGrid_1_LVGrid_5_MV<br>length = 0.926662521213033<br>x = 0.343521147941983<br>r = 0.342865132848822<br>s_nom = 7.27461339178928<br>num_parallel = 1.0<br>type_info = 48-AL1/8-ST1A<br>kind = line",
          "Line_10016<br>Loading = 1.6126335350311464e-13<br>bus0 = Bus_BranchTee_MVGrid_1_3<br>bus1 = virtual_BusBar_MVGrid_1_LVGrid_9_MV<br>length = 0.661777693745236<br>x = 0.245326241035596<br>r = 0.244857746685737<br>s_nom = 7.27461339178928<br>num_parallel = 1.0<br>type_info = 48-AL1/8-ST1A<br>kind = cable",
          "Line_10014<br>Loading = 0.15658103965528467<br>bus0 = Bus_BranchTee_MVGrid_1_4<br>bus1 = BusBar_MVGrid_1_LVGrid_6_MV<br>length = 0.785931969351047<br>x = 0.291351215933884<br>r = 0.290794828659887<br>s_nom = 7.27461339178928<br>num_parallel = 1.0<br>type_info = 48-AL1/8-ST1A<br>kind = cable",
          "Line_10026<br>Loading = 7.751828050845921<br>bus0 = Bus_BranchTee_MVGrid_1_5<br>bus1 = Bus_BranchTee_MVGrid_1_10<br>length = 0.41419799375453<br>x = 0.153546482168682<br>r = 0.153253257689176<br>s_nom = 7.27461339178928<br>num_parallel = 1.0<br>type_info = 48-AL1/8-ST1A<br>kind = cable",
          "Line_10017<br>Loading = 8.49014386846336<br>bus0 = Bus_BranchTee_MVGrid_1_6<br>bus1 = Bus_BranchTee_MVGrid_1_7<br>length = 0.690714941884979<br>x = 0.256053508483765<br>r = 0.255564528497442<br>s_nom = 7.27461339178928<br>num_parallel = 1.0<br>type_info = 48-AL1/8-ST1A<br>kind = cable",
          "Line_10019<br>Loading = 5.163538697951342<br>bus0 = Bus_BranchTee_MVGrid_1_8<br>bus1 = Bus_BranchTee_MVGrid_1_7<br>length = 0.403852029<br>x = 0.14971115095836<br>r = 0.14942525073<br>s_nom = 7.27461339178928<br>num_parallel = 1.0<br>type_info = 48-AL1/8-ST1A<br>kind = cable",
          "Line_10021<br>Loading = 2.6119498024380228<br>bus0 = Bus_BranchTee_MVGrid_1_8<br>bus1 = BusBar_MVGrid_1_LVGrid_8_MV<br>length = 1.378502271<br>x = 0.511021727688593<br>r = 0.51004584027<br>s_nom = 7.27461339178928<br>num_parallel = 1.0<br>type_info = 48-AL1/8-ST1A<br>kind = cable",
          "Line_10022<br>Loading = 2.585246456583186<br>bus0 = Bus_BranchTee_MVGrid_1_9<br>bus1 = BusBar_MVGrid_1_LVGrid_8_MV<br>length = 0.437506744572693<br>x = 0.162187221008176<br>r = 0.161877495491896<br>s_nom = 7.27461339178928<br>num_parallel = 1.0<br>type_info = 48-AL1/8-ST1A<br>kind = cable",
          "Line_10023<br>Loading = 2.5859449805827626<br>bus0 = Bus_BranchTee_MVGrid_1_9<br>bus1 = BusBar_MVGrid_1_LVGrid_3_MV<br>length = 0.251147233966026<br>x = 0.093102272013254<br>r = 0.09292447656743<br>s_nom = 7.27461339178928<br>num_parallel = 1.0<br>type_info = 48-AL1/8-ST1A<br>kind = cable",
          "Line_10031<br>Loading = 0.0<br>bus0 = Bus_BranchTee_MVGrid_1_9<br>bus1 = virtual_BusBar_MVGrid_1_LVGrid_4_MV<br>length = 0.543380191002877<br>x = 0.201435347506981<br>r = 0.201050670671064<br>s_nom = 7.27461339178928<br>num_parallel = 1.0<br>type_info = 48-AL1/8-ST1A<br>kind = cable",
          "Line_10028<br>Loading = 5.93700350902972<br>bus0 = Bus_BranchTee_MVGrid_1_11<br>bus1 = Bus_BranchTee_MVGrid_1_10<br>length = 0.502639122266729<br>x = 0.186332310122557<br>r = 0.18597647523869<br>s_nom = 7.27461339178928<br>num_parallel = 1.0<br>type_info = 48-AL1/8-ST1A<br>kind = cable",
          "Line_10030<br>Loading = 3.4171931071523463<br>bus0 = Bus_BranchTee_MVGrid_1_11<br>bus1 = BusBar_MVGrid_1_LVGrid_4_MV<br>length = 0.262336104334286<br>x = 0.097250075021459<br>r = 0.097064358603686<br>s_nom = 7.27461339178928<br>num_parallel = 1.0<br>type_info = 48-AL1/8-ST1A<br>kind = cable",
          "Line_10024<br>Loading = 0.0693092429083005<br>bus0 = BusBar_MVGrid_1_LVGrid_7_MV<br>bus1 = BusBar_MVGrid_1_LVGrid_3_MV<br>length = 0.9840075060051<br>x = 0.364779388729255<br>r = 0.364082777221887<br>s_nom = 7.27461339178928<br>num_parallel = 1.0<br>type_info = 48-AL1/8-ST1A<br>kind = cable",
          "Line_10015<br>Loading = 0.06819180563578973<br>bus0 = BusBar_MVGrid_1_LVGrid_6_MV<br>bus1 = BusBar_MVGrid_1_LVGrid_9_MV<br>length = 0.491545784577804<br>x = 0.182219921836454<br>r = 0.181871940293787<br>s_nom = 7.27461339178928<br>num_parallel = 1.0<br>type_info = 48-AL1/8-ST1A<br>kind = cable"
         ],
         "type": "scatter",
         "x": [
          1081207.9922094196,
          1081375.814579037,
          1081648.668662732,
          1081787.7626315895,
          1079862.1723515382,
          1089926.6166197686,
          1085207.664445059,
          1083437.2243151003,
          1084368.2558014742,
          1080589.923052351,
          1083096.4361433163,
          1086846.3087923015,
          1080944.9983778745,
          1080565.9627882782,
          1080054.819966822,
          1080549.2756892983,
          1080904.736459082,
          1080987.6710673957,
          1081228.6302155023,
          1082641.0805019233,
          1082614.980788528,
          1083844.9732160307,
          1085622.3165294235,
          1087135.660176021,
          1088581.9986916706,
          1087305.3500541644,
          1084328.6573084593,
          1086087.8219274436,
          1089549.536575093,
          1081108.4611129179
         ],
         "y": [
          5068859.676773131,
          5068828.261489303,
          5068886.213724926,
          5068509.278971788,
          5068108.302509077,
          5064785.560283304,
          5068019.753572989,
          5068796.773699408,
          5067335.053160445,
          5066737.340190534,
          5067216.180371832,
          5068345.636600375,
          5068639.664143086,
          5068289.196759984,
          5068102.902552589,
          5067674.5367030185,
          5067156.462354379,
          5066659.380815058,
          5067842.805404579,
          5068790.631506622,
          5067817.821262679,
          5067293.784598574,
          5066267.164877621,
          5065137.380109424,
          5064765.452979824,
          5066482.949256838,
          5068644.110480683,
          5068367.791333122,
          5064628.6782385735,
          5066669.390283436
         ]
        },
        {
         "hoverinfo": "none",
         "line": {
          "color": "#d9dce1",
          "width": 2
         },
         "mode": "lines",
         "opacity": 0.4,
         "type": "scatter",
         "x": [
          1081450.5805416484,
          1080965.4038771912,
          null
         ],
         "y": [
          5068919.790081119,
          5068799.563465143,
          null
         ]
        },
        {
         "hoverinfo": "none",
         "line": {
          "color": "#3b4cc0",
          "width": 2
         },
         "mode": "lines",
         "opacity": 0.4,
         "type": "scatter",
         "x": [
          1081450.5805416484,
          1081301.048616426,
          null
         ],
         "y": [
          5068919.790081119,
          5068736.732897487,
          null
         ]
        },
        {
         "hoverinfo": "none",
         "line": {
          "color": "#d44e41",
          "width": 2
         },
         "mode": "lines",
         "opacity": 0.4,
         "type": "scatter",
         "x": [
          1081450.5805416484,
          1081846.7567838156,
          null
         ],
         "y": [
          5068919.790081119,
          5068852.637368732,
          null
         ]
        },
        {
         "hoverinfo": "none",
         "line": {
          "color": "#b40426",
          "width": 2
         },
         "mode": "lines",
         "opacity": 0.4,
         "type": "scatter",
         "x": [
          1081450.5805416484,
          1082124.9447215311,
          null
         ],
         "y": [
          5068919.790081119,
          5068098.767862457,
          null
         ]
        },
        {
         "hoverinfo": "none",
         "line": {
          "color": "#4e68d8",
          "width": 2
         },
         "mode": "lines",
         "opacity": 0.4,
         "type": "scatter",
         "x": [
          1079822.0374674322,
          1079902.3072356447,
          null
         ],
         "y": [
          5068109.428611916,
          5068107.176406238,
          null
         ]
        },
        {
         "hoverinfo": "none",
         "line": {
          "color": "#94b6ff",
          "width": 2
         },
         "mode": "lines",
         "opacity": 0.4,
         "type": "scatter",
         "x": [
          1090300.8527259273,
          1089552.3805136094,
          null
         ],
         "y": [
          5064831.339604814,
          5064739.780961795,
          null
         ]
        },
        {
         "hoverinfo": "none",
         "line": {
          "color": "#93b5fe",
          "width": 2
         },
         "mode": "lines",
         "opacity": 0.4,
         "type": "scatter",
         "x": [
          1085193.41849323,
          1085221.910396888,
          null
         ],
         "y": [
          5067479.911829123,
          5068559.595316855,
          null
         ]
        },
        {
         "hoverinfo": "none",
         "line": {
          "color": "#7597f6",
          "width": 2
         },
         "mode": "lines",
         "opacity": 0.4,
         "type": "scatter",
         "x": [
          1083439.0444101696,
          1083435.404220031,
          null
         ],
         "y": [
          5068864.921754306,
          5068728.625644512,
          null
         ]
        },
        {
         "hoverinfo": "none",
         "line": {
          "color": "#94b6ff",
          "width": 2
         },
         "mode": "lines",
         "opacity": 0.4,
         "type": "scatter",
         "x": [
          1084151.5820264118,
          1084584.9295765366,
          null
         ],
         "y": [
          5067619.411786642,
          5067050.694534248,
          null
         ]
        },
        {
         "hoverinfo": "none",
         "line": {
          "color": "#b7cff9",
          "width": 2
         },
         "mode": "lines",
         "opacity": 0.4,
         "type": "scatter",
         "x": [
          1080261.5918671354,
          1080918.2542375666,
          null
         ],
         "y": [
          5066412.200379407,
          5067062.480001659,
          null
         ]
        },
        {
         "hoverinfo": "none",
         "line": {
          "color": "#b6cefa",
          "width": 2
         },
         "mode": "lines",
         "opacity": 0.4,
         "type": "scatter",
         "x": [
          1083087.8554311087,
          1083105.0168555244,
          null
         ],
         "y": [
          5066895.486080762,
          5067536.874662901,
          null
         ]
        },
        {
         "hoverinfo": "none",
         "line": {
          "color": "#b6cefa",
          "width": 2
         },
         "mode": "lines",
         "opacity": 0.4,
         "type": "scatter",
         "x": [
          1086738.8841266031,
          1086953.7334579993,
          null
         ],
         "y": [
          5068515.285851361,
          5068175.987349389,
          null
         ]
        },
        {
         "hoverinfo": "none",
         "line": {
          "color": "#d9dce1",
          "width": 2
         },
         "mode": "lines",
         "opacity": 0.4,
         "type": "scatter",
         "x": [
          1080965.4038771912,
          1080924.5928785577,
          null
         ],
         "y": [
          5068799.563465143,
          5068479.76482103,
          null
         ]
        },
        {
         "hoverinfo": "none",
         "line": {
          "color": "#d8dce2",
          "width": 2
         },
         "mode": "lines",
         "opacity": 0.4,
         "type": "scatter",
         "x": [
          1080207.3326979992,
          1080924.5928785577,
          null
         ],
         "y": [
          5068098.6286989385,
          5068479.76482103,
          null
         ]
        },
        {
         "hoverinfo": "none",
         "line": {
          "color": "#4e68d8",
          "width": 2
         },
         "mode": "lines",
         "opacity": 0.4,
         "type": "scatter",
         "x": [
          1080207.3326979992,
          1079902.3072356447,
          null
         ],
         "y": [
          5068098.6286989385,
          5068107.176406238,
          null
         ]
        },
        {
         "hoverinfo": "none",
         "line": {
          "color": "#b7cff9",
          "width": 2
         },
         "mode": "lines",
         "opacity": 0.4,
         "type": "scatter",
         "x": [
          1080207.3326979992,
          1080891.2186805978,
          null
         ],
         "y": [
          5068098.6286989385,
          5067250.4447070975,
          null
         ]
        },
        {
         "hoverinfo": "none",
         "line": {
          "color": "#b7cff9",
          "width": 2
         },
         "mode": "lines",
         "opacity": 0.4,
         "type": "scatter",
         "x": [
          1080918.2542375666,
          1080891.2186805978,
          null
         ],
         "y": [
          5067062.480001659,
          5067250.4447070975,
          null
         ]
        },
        {
         "hoverinfo": "none",
         "line": {
          "color": "#3b4cc0",
          "width": 2
         },
         "mode": "lines",
         "opacity": 0.4,
         "type": "scatter",
         "x": [
          1080918.2542375666,
          1081057.0878972248,
          null
         ],
         "y": [
          5067062.480001659,
          5066256.281628456,
          null
         ]
        },
        {
         "hoverinfo": "none",
         "line": {
          "color": "#3b4cc0",
          "width": 2
         },
         "mode": "lines",
         "opacity": 0.4,
         "type": "scatter",
         "x": [
          1081301.048616426,
          1081156.2118145786,
          null
         ],
         "y": [
          5068736.732897487,
          5066948.877911672,
          null
         ]
        },
        {
         "hoverinfo": "none",
         "line": {
          "color": "#d44e41",
          "width": 2
         },
         "mode": "lines",
         "opacity": 0.4,
         "type": "scatter",
         "x": [
          1081846.7567838156,
          1083435.404220031,
          null
         ],
         "y": [
          5068852.637368732,
          5068728.625644512,
          null
         ]
        },
        {
         "hoverinfo": "none",
         "line": {
          "color": "#b40426",
          "width": 2
         },
         "mode": "lines",
         "opacity": 0.4,
         "type": "scatter",
         "x": [
          1082124.9447215311,
          1083105.0168555244,
          null
         ],
         "y": [
          5068098.767862457,
          5067536.874662901,
          null
         ]
        },
        {
         "hoverinfo": "none",
         "line": {
          "color": "#f1cdba",
          "width": 2
         },
         "mode": "lines",
         "opacity": 0.4,
         "type": "scatter",
         "x": [
          1083105.0168555244,
          1084584.9295765366,
          null
         ],
         "y": [
          5067536.874662901,
          5067050.694534248,
          null
         ]
        },
        {
         "hoverinfo": "none",
         "line": {
          "color": "#97b8ff",
          "width": 2
         },
         "mode": "lines",
         "opacity": 0.4,
         "type": "scatter",
         "x": [
          1084584.9295765366,
          1086659.7034823103,
          null
         ],
         "y": [
          5067050.694534248,
          5065483.635220994,
          null
         ]
        },
        {
         "hoverinfo": "none",
         "line": {
          "color": "#96b7ff",
          "width": 2
         },
         "mode": "lines",
         "opacity": 0.4,
         "type": "scatter",
         "x": [
          1087611.6168697318,
          1086659.7034823103,
          null
         ],
         "y": [
          5064791.124997852,
          5065483.635220994,
          null
         ]
        },
        {
         "hoverinfo": "none",
         "line": {
          "color": "#96b7ff",
          "width": 2
         },
         "mode": "lines",
         "opacity": 0.4,
         "type": "scatter",
         "x": [
          1087611.6168697318,
          1089552.3805136094,
          null
         ],
         "y": [
          5064791.124997852,
          5064739.780961795,
          null
         ]
        },
        {
         "hoverinfo": "none",
         "line": {
          "color": "#3b4cc0",
          "width": 2
         },
         "mode": "lines",
         "opacity": 0.4,
         "type": "scatter",
         "x": [
          1087611.6168697318,
          1086999.083238597,
          null
         ],
         "y": [
          5064791.124997852,
          5068174.773515824,
          null
         ]
        },
        {
         "hoverinfo": "none",
         "line": {
          "color": "#f7b194",
          "width": 2
         },
         "mode": "lines",
         "opacity": 0.4,
         "type": "scatter",
         "x": [
          1083435.404220031,
          1085221.910396888,
          null
         ],
         "y": [
          5068728.625644512,
          5068559.595316855,
          null
         ]
        },
        {
         "hoverinfo": "none",
         "line": {
          "color": "#b9d0f9",
          "width": 2
         },
         "mode": "lines",
         "opacity": 0.4,
         "type": "scatter",
         "x": [
          1085221.910396888,
          1086953.7334579993,
          null
         ],
         "y": [
          5068559.595316855,
          5068175.987349389,
          null
         ]
        },
        {
         "hoverinfo": "none",
         "line": {
          "color": "#3b4cc0",
          "width": 2
         },
         "mode": "lines",
         "opacity": 0.4,
         "type": "scatter",
         "x": [
          1089552.3805136094,
          1089546.692636576,
          null
         ],
         "y": [
          5064739.780961795,
          5064517.575515352,
          null
         ]
        },
        {
         "hoverinfo": "none",
         "line": {
          "color": "#3b4cc0",
          "width": 2
         },
         "mode": "lines",
         "opacity": 0.4,
         "type": "scatter",
         "x": [
          1081156.2118145786,
          1081060.710411257,
          null
         ],
         "y": [
          5066948.877911672,
          5066389.9026552,
          null
         ]
        },
        {
         "hoverinfo": "text",
         "marker": {
          "cmid": 0,
          "color": [
           0,
           0.001989022620912939,
           0.007941703113786058,
           0.004589842192910032,
           0.003354723087970024,
           0.0043393987103281795,
           0.0034662604471278335,
           0.004131824626465885,
           0.004756695119327192,
           0.0001488486825891311,
           0.0016763361119582765,
           0.0030221009239523866,
           -4.18382861044897e-05,
           0.0017509347638440254,
           0.0010329174646699357,
           0.003467515348856587,
           0.004338308313716954,
           0.006300793187351106,
           0.003103795598323078,
           0.004371296881219067,
           0.001438747331785617,
           0.0019378896686015334,
           0.006572691927660301,
           0.004755273455521625,
           0.0016934629389968592,
           -0.000187235601876945,
           0.006588905106678755,
           0.005828655915325998,
           -0.00022656433361201156,
           0.0030221009239523866,
           0.006300793187351106
          ],
          "colorbar": {
           "thickness": 15,
           "title": {
            "side": "right",
            "text": "Node Voltage Deviation"
           },
           "xanchor": "left"
          },
          "colorscale": [
           [
            0,
            "rgb(103,0,31)"
           ],
           [
            0.1,
            "rgb(178,24,43)"
           ],
           [
            0.2,
            "rgb(214,96,77)"
           ],
           [
            0.3,
            "rgb(244,165,130)"
           ],
           [
            0.4,
            "rgb(253,219,199)"
           ],
           [
            0.5,
            "rgb(247,247,247)"
           ],
           [
            0.6,
            "rgb(209,229,240)"
           ],
           [
            0.7,
            "rgb(146,197,222)"
           ],
           [
            0.8,
            "rgb(67,147,195)"
           ],
           [
            0.9,
            "rgb(33,102,172)"
           ],
           [
            1,
            "rgb(5,48,97)"
           ]
          ],
          "line": {
           "width": 2
          },
          "reversescale": true,
          "showscale": true,
          "size": 8
         },
         "mode": "markers",
         "text": [
          "Bus_MVStation_1<br>peak_load = 0.0<br>p_nom_gen = 0.0<br>v = 1.0<br>Neighbors = 4<br>v_nom = 20.0<br>x = 7.94859122759009<br>y = 48.0844553685898<br>mv_grid_id = 1<br>lv_grid_id = nan<br>in_building = False",
          "Bus_Generator_1<br>peak_load = 0.0<br>p_nom_gen = 0.775<br>v = 1.001989022620913<br>Neighbors = 1<br>v_nom = 20.0<br>x = 7.9270478194687<br>y = 48.076758003523<br>mv_grid_id = 1<br>lv_grid_id = nan<br>in_building = False",
          "Bus_GeneratorFluctuating_2<br>peak_load = 0.0<br>p_nom_gen = 2.3<br>v = 1.007941703113786<br>Neighbors = 1<br>v_nom = 20.0<br>x = 8.06868539549975<br>y = 48.0498283526783<br>mv_grid_id = 1<br>lv_grid_id = nan<br>in_building = False",
          "Bus_GeneratorFluctuating_3<br>peak_load = 0.0<br>p_nom_gen = 2.67<br>v = 1.00458984219291<br>Neighbors = 1<br>v_nom = 20.0<br>x = 7.99929765404084<br>y = 48.0724282356729<br>mv_grid_id = 1<br>lv_grid_id = nan<br>in_building = False",
          "Bus_GeneratorFluctuating_4<br>peak_load = 0.0<br>p_nom_gen = 1.93<br>v = 1.00335472308797<br>Neighbors = 1<br>v_nom = 20.0<br>x = 7.9752788204589<br>y = 48.0844553685898<br>mv_grid_id = 1<br>lv_grid_id = nan<br>in_building = False",
          "Bus_GeneratorFluctuating_5<br>peak_load = 0.0<br>p_nom_gen = 2.3<br>v = 1.0043393987103282<br>Neighbors = 1<br>v_nom = 20.0<br>x = 7.9852788204589<br>y = 48.0734282356729<br>mv_grid_id = 1<br>lv_grid_id = nan<br>in_building = False",
          "Bus_GeneratorFluctuating_6<br>peak_load = 0.0<br>p_nom_gen = 3.05<br>v = 1.0034662604471278<br>Neighbors = 1<br>v_nom = 20.0<br>x = 7.93356211845248<br>y = 48.0616038160476<br>mv_grid_id = 1<br>lv_grid_id = nan<br>in_building = False",
          "Bus_GeneratorFluctuating_7<br>peak_load = 0.0<br>p_nom_gen = 3.0<br>v = 1.0041318246264659<br>Neighbors = 1<br>v_nom = 20.0<br>x = 7.97127568152858<br>y = 48.0666552118727<br>mv_grid_id = 1<br>lv_grid_id = nan<br>in_building = False",
          "Bus_GeneratorFluctuating_8<br>peak_load = 0.0<br>p_nom_gen = 3.0<br>v = 1.0047566951193272<br>Neighbors = 1<br>v_nom = 20.0<br>x = 8.01965714512685<br>y = 48.0821153215746<br>mv_grid_id = 1<br>lv_grid_id = nan<br>in_building = False",
          "Bus_BranchTee_MVGrid_1_1<br>peak_load = 0.0<br>p_nom_gen = 0.0<br>v = 1.0001488486825891<br>Neighbors = 2<br>v_nom = 20.0<br>x = 7.94212820515367<br>y = 48.0832526552981<br>mv_grid_id = 1<br>lv_grid_id = nan<br>in_building = False",
          "Bus_BranchTee_MVGrid_1_2<br>peak_load = 0.0<br>p_nom_gen = 0.0<br>v = 1.0016763361119583<br>Neighbors = 3<br>v_nom = 20.0<br>x = 7.93221823741783<br>y = 48.076758003523<br>mv_grid_id = 1<br>lv_grid_id = nan<br>in_building = False",
          "Bus_BranchTee_MVGrid_1_3<br>peak_load = 0.0<br>p_nom_gen = 0.0<br>v = 1.0030221009239524<br>Neighbors = 3<br>v_nom = 20.0<br>x = 7.94212820515367<br>y = 48.0676173825061<br>mv_grid_id = 1<br>lv_grid_id = nan<br>in_building = False",
          "Bus_BranchTee_MVGrid_1_4<br>peak_load = 0.0<br>p_nom_gen = 0.0<br>v = 0.9999581617138955<br>Neighbors = 2<br>v_nom = 20.0<br>x = 7.94665232085917<br>y = 48.0827715699814<br>mv_grid_id = 1<br>lv_grid_id = nan<br>in_building = False",
          "Bus_BranchTee_MVGrid_1_5<br>peak_load = 0.0<br>p_nom_gen = 0.0<br>v = 1.001750934763844<br>Neighbors = 2<br>v_nom = 20.0<br>x = 7.95392874616385<br>y = 48.0839502290073<br>mv_grid_id = 1<br>lv_grid_id = nan<br>in_building = False",
          "Bus_BranchTee_MVGrid_1_6<br>peak_load = 0.0<br>p_nom_gen = 0.0<br>v = 1.00103291746467<br>Neighbors = 2<br>v_nom = 20.0<br>x = 7.95793188509418<br>y = 48.0772390888396<br>mv_grid_id = 1<br>lv_grid_id = nan<br>in_building = False",
          "Bus_BranchTee_MVGrid_1_7<br>peak_load = 0.0<br>p_nom_gen = 0.0<br>v = 1.0034675153488566<br>Neighbors = 3<br>v_nom = 20.0<br>x = 7.97127568152858<br>y = 48.0724282356729<br>mv_grid_id = 1<br>lv_grid_id = nan<br>in_building = False",
          "Bus_BranchTee_MVGrid_1_8<br>peak_load = 0.0<br>p_nom_gen = 0.0<br>v = 1.004338308313717<br>Neighbors = 3<br>v_nom = 20.0<br>x = 7.99129137618019<br>y = 48.0684191913672<br>mv_grid_id = 1<br>lv_grid_id = nan<br>in_building = False",
          "Bus_BranchTee_MVGrid_1_9<br>peak_load = 0.0<br>p_nom_gen = 0.0<br>v = 1.006300793187351<br>Neighbors = 3<br>v_nom = 20.0<br>x = 8.03265714512685<br>y = 48.0488283526783<br>mv_grid_id = 1<br>lv_grid_id = nan<br>in_building = False",
          "Bus_BranchTee_MVGrid_1_10<br>peak_load = 0.0<br>p_nom_gen = 0.0<br>v = 1.003103795598323<br>Neighbors = 3<br>v_nom = 20.0<br>x = 7.9752788204589<br>y = 48.0832286010323<br>mv_grid_id = 1<br>lv_grid_id = nan<br>in_building = False",
          "Bus_BranchTee_MVGrid_1_11<br>peak_load = 0.0<br>p_nom_gen = 0.0<br>v = 1.004371296881219<br>Neighbors = 3<br>v_nom = 20.0<br>x = 7.99929765404084<br>y = 48.0821461590697<br>mv_grid_id = 1<br>lv_grid_id = nan<br>in_building = False",
          "BusBar_MVGrid_1_LVGrid_1_MV<br>peak_load = 0.0<br>p_nom_gen = 0.0<br>v = 1.0014387473317856<br>Neighbors = 2<br>v_nom = 20.0<br>x = 7.94169733699125<br>y = 48.080366143398<br>mv_grid_id = 1<br>lv_grid_id = nan<br>in_building = False",
          "BusBar_MVGrid_1_LVGrid_2_MV<br>peak_load = 0.0<br>p_nom_gen = 0.0<br>v = 1.0019378896686015<br>Neighbors = 2<br>v_nom = 20.0<br>x = 7.92812498987477<br>y = 48.076758003523<br>mv_grid_id = 1<br>lv_grid_id = nan<br>in_building = False",
          "BusBar_MVGrid_1_LVGrid_3_MV<br>peak_load = 0.0<br>p_nom_gen = 0.0<br>v = 1.0065726919276603<br>Neighbors = 3<br>v_nom = 20.0<br>x = 8.05868539549975<br>y = 48.0488283526783<br>mv_grid_id = 1<br>lv_grid_id = nan<br>in_building = False",
          "BusBar_MVGrid_1_LVGrid_4_MV<br>peak_load = 0.0<br>p_nom_gen = 0.0<br>v = 1.0047552734555216<br>Neighbors = 2<br>v_nom = 20.0<br>x = 8.02265714512685<br>y = 48.0791153215746<br>mv_grid_id = 1<br>lv_grid_id = nan<br>in_building = False",
          "BusBar_MVGrid_1_LVGrid_5_MV<br>peak_load = 0.0<br>p_nom_gen = 0.0<br>v = 1.0016934629389969<br>Neighbors = 2<br>v_nom = 20.0<br>x = 7.94169733699125<br>y = 48.0693011811144<br>mv_grid_id = 1<br>lv_grid_id = nan<br>in_building = False",
          "BusBar_MVGrid_1_LVGrid_6_MV<br>peak_load = 0.0<br>p_nom_gen = 0.0<br>v = 0.999812764398123<br>Neighbors = 2<br>v_nom = 20.0<br>x = 7.94535971637188<br>y = 48.0666552118727<br>mv_grid_id = 1<br>lv_grid_id = nan<br>in_building = False",
          "BusBar_MVGrid_1_LVGrid_7_MV<br>peak_load = 0.0<br>p_nom_gen = 0.0<br>v = 1.0065889051066788<br>Neighbors = 1<br>v_nom = 20.0<br>x = 8.05868539549975<br>y = 48.0468283526783<br>mv_grid_id = 1<br>lv_grid_id = nan<br>in_building = False",
          "BusBar_MVGrid_1_LVGrid_8_MV<br>peak_load = 0.0<br>p_nom_gen = 0.0<br>v = 1.005828655915326<br>Neighbors = 2<br>v_nom = 20.0<br>x = 8.01965714512685<br>y = 48.0548283526783<br>mv_grid_id = 1<br>lv_grid_id = nan<br>in_building = False",
          "BusBar_MVGrid_1_LVGrid_9_MV<br>peak_load = 0.0<br>p_nom_gen = 0.0<br>v = 0.999773435666388<br>Neighbors = 1<br>v_nom = 20.0<br>x = 7.94428254596581<br>y = 48.0616038160476<br>mv_grid_id = 1<br>lv_grid_id = nan<br>in_building = False",
          "virtual_BusBar_MVGrid_1_LVGrid_9_MV<br>peak_load = 0.0<br>p_nom_gen = 0.0<br>v = 1.0030221009239524<br>Neighbors = 1<br>v_nom = 20.0<br>x = 7.94428254596581<br>y = 48.0604011027559<br>mv_grid_id = 1<br>lv_grid_id = nan<br>in_building = False",
          "virtual_BusBar_MVGrid_1_LVGrid_4_MV<br>peak_load = 0.0<br>p_nom_gen = 0.0<br>v = 1.006300793187351<br>Neighbors = 1<br>v_nom = 20.0<br>x = 8.02326571451269<br>y = 48.0791153215746<br>mv_grid_id = 1<br>lv_grid_id = nan<br>in_building = False"
         ],
         "type": "scatter",
         "x": [
          1081450.5805416484,
          1079822.0374674322,
          1090300.8527259273,
          1085193.41849323,
          1083439.0444101696,
          1084151.5820264118,
          1080261.5918671354,
          1083087.8554311087,
          1086738.8841266031,
          1080965.4038771912,
          1080207.3326979992,
          1080918.2542375666,
          1081301.048616426,
          1081846.7567838156,
          1082124.9447215311,
          1083105.0168555244,
          1084584.9295765366,
          1087611.6168697318,
          1083435.404220031,
          1085221.910396888,
          1080924.5928785577,
          1079902.3072356447,
          1089552.3805136094,
          1086953.7334579993,
          1080891.2186805978,
          1081156.2118145786,
          1089546.692636576,
          1086659.7034823103,
          1081060.710411257,
          1081057.0878972248,
          1086999.083238597
         ],
         "y": [
          5068919.790081119,
          5068109.428611916,
          5064831.339604814,
          5067479.911829123,
          5068864.921754306,
          5067619.411786642,
          5066412.200379407,
          5066895.486080762,
          5068515.285851361,
          5068799.563465143,
          5068098.6286989385,
          5067062.480001659,
          5068736.732897487,
          5068852.637368732,
          5068098.767862457,
          5067536.874662901,
          5067050.694534248,
          5064791.124997852,
          5068728.625644512,
          5068559.595316855,
          5068479.76482103,
          5068107.176406238,
          5064739.780961795,
          5068175.987349389,
          5067250.4447070975,
          5066948.877911672,
          5064517.575515352,
          5065483.635220994,
          5066389.9026552,
          5066256.281628456,
          5068174.773515824
         ]
        }
       ],
       "layout": {
        "height": 500,
        "hovermode": "closest",
        "margin": {
         "b": 20,
         "l": 5,
         "r": 5,
         "t": 40
        },
        "showlegend": false,
        "template": {
         "data": {
          "bar": [
           {
            "error_x": {
             "color": "#2a3f5f"
            },
            "error_y": {
             "color": "#2a3f5f"
            },
            "marker": {
             "line": {
              "color": "#E5ECF6",
              "width": 0.5
             },
             "pattern": {
              "fillmode": "overlay",
              "size": 10,
              "solidity": 0.2
             }
            },
            "type": "bar"
           }
          ],
          "barpolar": [
           {
            "marker": {
             "line": {
              "color": "#E5ECF6",
              "width": 0.5
             },
             "pattern": {
              "fillmode": "overlay",
              "size": 10,
              "solidity": 0.2
             }
            },
            "type": "barpolar"
           }
          ],
          "carpet": [
           {
            "aaxis": {
             "endlinecolor": "#2a3f5f",
             "gridcolor": "white",
             "linecolor": "white",
             "minorgridcolor": "white",
             "startlinecolor": "#2a3f5f"
            },
            "baxis": {
             "endlinecolor": "#2a3f5f",
             "gridcolor": "white",
             "linecolor": "white",
             "minorgridcolor": "white",
             "startlinecolor": "#2a3f5f"
            },
            "type": "carpet"
           }
          ],
          "choropleth": [
           {
            "colorbar": {
             "outlinewidth": 0,
             "ticks": ""
            },
            "type": "choropleth"
           }
          ],
          "contour": [
           {
            "colorbar": {
             "outlinewidth": 0,
             "ticks": ""
            },
            "colorscale": [
             [
              0,
              "#0d0887"
             ],
             [
              0.1111111111111111,
              "#46039f"
             ],
             [
              0.2222222222222222,
              "#7201a8"
             ],
             [
              0.3333333333333333,
              "#9c179e"
             ],
             [
              0.4444444444444444,
              "#bd3786"
             ],
             [
              0.5555555555555556,
              "#d8576b"
             ],
             [
              0.6666666666666666,
              "#ed7953"
             ],
             [
              0.7777777777777778,
              "#fb9f3a"
             ],
             [
              0.8888888888888888,
              "#fdca26"
             ],
             [
              1,
              "#f0f921"
             ]
            ],
            "type": "contour"
           }
          ],
          "contourcarpet": [
           {
            "colorbar": {
             "outlinewidth": 0,
             "ticks": ""
            },
            "type": "contourcarpet"
           }
          ],
          "heatmap": [
           {
            "colorbar": {
             "outlinewidth": 0,
             "ticks": ""
            },
            "colorscale": [
             [
              0,
              "#0d0887"
             ],
             [
              0.1111111111111111,
              "#46039f"
             ],
             [
              0.2222222222222222,
              "#7201a8"
             ],
             [
              0.3333333333333333,
              "#9c179e"
             ],
             [
              0.4444444444444444,
              "#bd3786"
             ],
             [
              0.5555555555555556,
              "#d8576b"
             ],
             [
              0.6666666666666666,
              "#ed7953"
             ],
             [
              0.7777777777777778,
              "#fb9f3a"
             ],
             [
              0.8888888888888888,
              "#fdca26"
             ],
             [
              1,
              "#f0f921"
             ]
            ],
            "type": "heatmap"
           }
          ],
          "heatmapgl": [
           {
            "colorbar": {
             "outlinewidth": 0,
             "ticks": ""
            },
            "colorscale": [
             [
              0,
              "#0d0887"
             ],
             [
              0.1111111111111111,
              "#46039f"
             ],
             [
              0.2222222222222222,
              "#7201a8"
             ],
             [
              0.3333333333333333,
              "#9c179e"
             ],
             [
              0.4444444444444444,
              "#bd3786"
             ],
             [
              0.5555555555555556,
              "#d8576b"
             ],
             [
              0.6666666666666666,
              "#ed7953"
             ],
             [
              0.7777777777777778,
              "#fb9f3a"
             ],
             [
              0.8888888888888888,
              "#fdca26"
             ],
             [
              1,
              "#f0f921"
             ]
            ],
            "type": "heatmapgl"
           }
          ],
          "histogram": [
           {
            "marker": {
             "pattern": {
              "fillmode": "overlay",
              "size": 10,
              "solidity": 0.2
             }
            },
            "type": "histogram"
           }
          ],
          "histogram2d": [
           {
            "colorbar": {
             "outlinewidth": 0,
             "ticks": ""
            },
            "colorscale": [
             [
              0,
              "#0d0887"
             ],
             [
              0.1111111111111111,
              "#46039f"
             ],
             [
              0.2222222222222222,
              "#7201a8"
             ],
             [
              0.3333333333333333,
              "#9c179e"
             ],
             [
              0.4444444444444444,
              "#bd3786"
             ],
             [
              0.5555555555555556,
              "#d8576b"
             ],
             [
              0.6666666666666666,
              "#ed7953"
             ],
             [
              0.7777777777777778,
              "#fb9f3a"
             ],
             [
              0.8888888888888888,
              "#fdca26"
             ],
             [
              1,
              "#f0f921"
             ]
            ],
            "type": "histogram2d"
           }
          ],
          "histogram2dcontour": [
           {
            "colorbar": {
             "outlinewidth": 0,
             "ticks": ""
            },
            "colorscale": [
             [
              0,
              "#0d0887"
             ],
             [
              0.1111111111111111,
              "#46039f"
             ],
             [
              0.2222222222222222,
              "#7201a8"
             ],
             [
              0.3333333333333333,
              "#9c179e"
             ],
             [
              0.4444444444444444,
              "#bd3786"
             ],
             [
              0.5555555555555556,
              "#d8576b"
             ],
             [
              0.6666666666666666,
              "#ed7953"
             ],
             [
              0.7777777777777778,
              "#fb9f3a"
             ],
             [
              0.8888888888888888,
              "#fdca26"
             ],
             [
              1,
              "#f0f921"
             ]
            ],
            "type": "histogram2dcontour"
           }
          ],
          "mesh3d": [
           {
            "colorbar": {
             "outlinewidth": 0,
             "ticks": ""
            },
            "type": "mesh3d"
           }
          ],
          "parcoords": [
           {
            "line": {
             "colorbar": {
              "outlinewidth": 0,
              "ticks": ""
             }
            },
            "type": "parcoords"
           }
          ],
          "pie": [
           {
            "automargin": true,
            "type": "pie"
           }
          ],
          "scatter": [
           {
            "fillpattern": {
             "fillmode": "overlay",
             "size": 10,
             "solidity": 0.2
            },
            "type": "scatter"
           }
          ],
          "scatter3d": [
           {
            "line": {
             "colorbar": {
              "outlinewidth": 0,
              "ticks": ""
             }
            },
            "marker": {
             "colorbar": {
              "outlinewidth": 0,
              "ticks": ""
             }
            },
            "type": "scatter3d"
           }
          ],
          "scattercarpet": [
           {
            "marker": {
             "colorbar": {
              "outlinewidth": 0,
              "ticks": ""
             }
            },
            "type": "scattercarpet"
           }
          ],
          "scattergeo": [
           {
            "marker": {
             "colorbar": {
              "outlinewidth": 0,
              "ticks": ""
             }
            },
            "type": "scattergeo"
           }
          ],
          "scattergl": [
           {
            "marker": {
             "colorbar": {
              "outlinewidth": 0,
              "ticks": ""
             }
            },
            "type": "scattergl"
           }
          ],
          "scattermapbox": [
           {
            "marker": {
             "colorbar": {
              "outlinewidth": 0,
              "ticks": ""
             }
            },
            "type": "scattermapbox"
           }
          ],
          "scatterpolar": [
           {
            "marker": {
             "colorbar": {
              "outlinewidth": 0,
              "ticks": ""
             }
            },
            "type": "scatterpolar"
           }
          ],
          "scatterpolargl": [
           {
            "marker": {
             "colorbar": {
              "outlinewidth": 0,
              "ticks": ""
             }
            },
            "type": "scatterpolargl"
           }
          ],
          "scatterternary": [
           {
            "marker": {
             "colorbar": {
              "outlinewidth": 0,
              "ticks": ""
             }
            },
            "type": "scatterternary"
           }
          ],
          "surface": [
           {
            "colorbar": {
             "outlinewidth": 0,
             "ticks": ""
            },
            "colorscale": [
             [
              0,
              "#0d0887"
             ],
             [
              0.1111111111111111,
              "#46039f"
             ],
             [
              0.2222222222222222,
              "#7201a8"
             ],
             [
              0.3333333333333333,
              "#9c179e"
             ],
             [
              0.4444444444444444,
              "#bd3786"
             ],
             [
              0.5555555555555556,
              "#d8576b"
             ],
             [
              0.6666666666666666,
              "#ed7953"
             ],
             [
              0.7777777777777778,
              "#fb9f3a"
             ],
             [
              0.8888888888888888,
              "#fdca26"
             ],
             [
              1,
              "#f0f921"
             ]
            ],
            "type": "surface"
           }
          ],
          "table": [
           {
            "cells": {
             "fill": {
              "color": "#EBF0F8"
             },
             "line": {
              "color": "white"
             }
            },
            "header": {
             "fill": {
              "color": "#C8D4E3"
             },
             "line": {
              "color": "white"
             }
            },
            "type": "table"
           }
          ]
         },
         "layout": {
          "annotationdefaults": {
           "arrowcolor": "#2a3f5f",
           "arrowhead": 0,
           "arrowwidth": 1
          },
          "autotypenumbers": "strict",
          "coloraxis": {
           "colorbar": {
            "outlinewidth": 0,
            "ticks": ""
           }
          },
          "colorscale": {
           "diverging": [
            [
             0,
             "#8e0152"
            ],
            [
             0.1,
             "#c51b7d"
            ],
            [
             0.2,
             "#de77ae"
            ],
            [
             0.3,
             "#f1b6da"
            ],
            [
             0.4,
             "#fde0ef"
            ],
            [
             0.5,
             "#f7f7f7"
            ],
            [
             0.6,
             "#e6f5d0"
            ],
            [
             0.7,
             "#b8e186"
            ],
            [
             0.8,
             "#7fbc41"
            ],
            [
             0.9,
             "#4d9221"
            ],
            [
             1,
             "#276419"
            ]
           ],
           "sequential": [
            [
             0,
             "#0d0887"
            ],
            [
             0.1111111111111111,
             "#46039f"
            ],
            [
             0.2222222222222222,
             "#7201a8"
            ],
            [
             0.3333333333333333,
             "#9c179e"
            ],
            [
             0.4444444444444444,
             "#bd3786"
            ],
            [
             0.5555555555555556,
             "#d8576b"
            ],
            [
             0.6666666666666666,
             "#ed7953"
            ],
            [
             0.7777777777777778,
             "#fb9f3a"
            ],
            [
             0.8888888888888888,
             "#fdca26"
            ],
            [
             1,
             "#f0f921"
            ]
           ],
           "sequentialminus": [
            [
             0,
             "#0d0887"
            ],
            [
             0.1111111111111111,
             "#46039f"
            ],
            [
             0.2222222222222222,
             "#7201a8"
            ],
            [
             0.3333333333333333,
             "#9c179e"
            ],
            [
             0.4444444444444444,
             "#bd3786"
            ],
            [
             0.5555555555555556,
             "#d8576b"
            ],
            [
             0.6666666666666666,
             "#ed7953"
            ],
            [
             0.7777777777777778,
             "#fb9f3a"
            ],
            [
             0.8888888888888888,
             "#fdca26"
            ],
            [
             1,
             "#f0f921"
            ]
           ]
          },
          "colorway": [
           "#636efa",
           "#EF553B",
           "#00cc96",
           "#ab63fa",
           "#FFA15A",
           "#19d3f3",
           "#FF6692",
           "#B6E880",
           "#FF97FF",
           "#FECB52"
          ],
          "font": {
           "color": "#2a3f5f"
          },
          "geo": {
           "bgcolor": "white",
           "lakecolor": "white",
           "landcolor": "#E5ECF6",
           "showlakes": true,
           "showland": true,
           "subunitcolor": "white"
          },
          "hoverlabel": {
           "align": "left"
          },
          "hovermode": "closest",
          "mapbox": {
           "style": "light"
          },
          "paper_bgcolor": "white",
          "plot_bgcolor": "#E5ECF6",
          "polar": {
           "angularaxis": {
            "gridcolor": "white",
            "linecolor": "white",
            "ticks": ""
           },
           "bgcolor": "#E5ECF6",
           "radialaxis": {
            "gridcolor": "white",
            "linecolor": "white",
            "ticks": ""
           }
          },
          "scene": {
           "xaxis": {
            "backgroundcolor": "#E5ECF6",
            "gridcolor": "white",
            "gridwidth": 2,
            "linecolor": "white",
            "showbackground": true,
            "ticks": "",
            "zerolinecolor": "white"
           },
           "yaxis": {
            "backgroundcolor": "#E5ECF6",
            "gridcolor": "white",
            "gridwidth": 2,
            "linecolor": "white",
            "showbackground": true,
            "ticks": "",
            "zerolinecolor": "white"
           },
           "zaxis": {
            "backgroundcolor": "#E5ECF6",
            "gridcolor": "white",
            "gridwidth": 2,
            "linecolor": "white",
            "showbackground": true,
            "ticks": "",
            "zerolinecolor": "white"
           }
          },
          "shapedefaults": {
           "line": {
            "color": "#2a3f5f"
           }
          },
          "ternary": {
           "aaxis": {
            "gridcolor": "white",
            "linecolor": "white",
            "ticks": ""
           },
           "baxis": {
            "gridcolor": "white",
            "linecolor": "white",
            "ticks": ""
           },
           "bgcolor": "#E5ECF6",
           "caxis": {
            "gridcolor": "white",
            "linecolor": "white",
            "ticks": ""
           }
          },
          "title": {
           "x": 0.05
          },
          "xaxis": {
           "automargin": true,
           "gridcolor": "white",
           "linecolor": "white",
           "ticks": "",
           "title": {
            "standoff": 15
           },
           "zerolinecolor": "white",
           "zerolinewidth": 2
          },
          "yaxis": {
           "automargin": true,
           "gridcolor": "white",
           "linecolor": "white",
           "ticks": "",
           "title": {
            "standoff": 15
           },
           "zerolinecolor": "white",
           "zerolinewidth": 2
          }
         }
        },
        "title": {
         "font": {
          "size": 16
         }
        },
        "xaxis": {
         "showgrid": true,
         "showticklabels": true,
         "zeroline": true
        },
        "yaxis": {
         "scaleanchor": "x",
         "scaleratio": 1,
         "showgrid": true,
         "showticklabels": true,
         "zeroline": true
        }
       }
      },
      "text/html": [
       "<div>                            <div id=\"3d331305-b6c8-4427-a2df-37cc1e97f0a1\" class=\"plotly-graph-div\" style=\"height:500px; width:100%;\"></div>            <script type=\"text/javascript\">                require([\"plotly\"], function(Plotly) {                    window.PLOTLYENV=window.PLOTLYENV || {};                                    if (document.getElementById(\"3d331305-b6c8-4427-a2df-37cc1e97f0a1\")) {                    Plotly.newPlot(                        \"3d331305-b6c8-4427-a2df-37cc1e97f0a1\",                        [{\"hoverinfo\":\"text\",\"marker\":{\"color\":\"white\",\"opacity\":0.0,\"size\":10},\"mode\":\"markers\",\"text\":[\"Line_10003<br>Loading = 4.289802219545046<br>bus0 = Bus_MVStation_1<br>bus1 = Bus_BranchTee_MVGrid_1_1<br>length = 0.083904310632546<br>x = 0.031103993574751<br>r = 0.031044594934042<br>s_nom = 7.27461339178928<br>num_parallel = 1.0<br>type_info = 48-AL1/8-ST1A<br>kind = line\",\"Line_10004<br>Loading = 0.15658759101092978<br>bus0 = Bus_MVStation_1<br>bus1 = Bus_BranchTee_MVGrid_1_4<br>length = 0.226148217025158<br>x = 0.083834938112983<br>r = 0.083674840299309<br>s_nom = 7.27461339178928<br>num_parallel = 1.0<br>type_info = 48-AL1/8-ST1A<br>kind = line\",\"Line_10005<br>Loading = 7.741373355518216<br>bus0 = Bus_MVStation_1<br>bus1 = Bus_BranchTee_MVGrid_1_5<br>length = 0.543380191002877<br>x = 0.201435347506981<br>r = 0.201050670671064<br>s_nom = 7.27461339178928<br>num_parallel = 1.0<br>type_info = 48-AL1/8-ST1A<br>kind = line\",\"Line_10006<br>Loading = 8.469545208335326<br>bus0 = Bus_MVStation_1<br>bus1 = Bus_BranchTee_MVGrid_1_6<br>length = 0.297650465459542<br>x = 0.110341388843783<br>r = 0.110130672220031<br>s_nom = 7.27461339178928<br>num_parallel = 1.0<br>type_info = NA2XS2Y 3x1x185 RM/25<br>kind = line\",\"Line_10011<br>Loading = 0.8611111111118184<br>bus0 = BusBar_MVGrid_1_LVGrid_2_MV<br>bus1 = Bus_Generator_1<br>length = 0.138872233591103<br>x = 0.051481038682815<br>r = 0.051382726428708<br>s_nom = 7.27461339178928<br>num_parallel = 1.0<br>type_info = 48-AL1/8-ST1A<br>kind = line\",\"Line_10025<br>Loading = 2.5555555555576777<br>bus0 = Bus_GeneratorFluctuating_2<br>bus1 = BusBar_MVGrid_1_LVGrid_3_MV<br>length = 1.26723954<br>x = 0.469775750645896<br>r = 0.4688786298<br>s_nom = 7.27461339178928<br>num_parallel = 1.0<br>type_info = 48-AL1/8-ST1A<br>kind = cable\",\"Line_10029<br>Loading = 2.5216666666673677<br>bus0 = Bus_BranchTee_MVGrid_1_11<br>bus1 = Bus_GeneratorFluctuating_3<br>length = 0.203355255541373<br>x = 0.075385406471563<br>r = 0.075241444550308<br>s_nom = 7.27461339178928<br>num_parallel = 1.0<br>type_info = 48-AL1/8-ST1A<br>kind = cable\",\"Line_10027<br>Loading = 1.822777777777603<br>bus0 = Bus_GeneratorFluctuating_4<br>bus1 = Bus_BranchTee_MVGrid_1_10<br>length = 0.322656877175863<br>x = 0.119611464045978<br>r = 0.119383044555069<br>s_nom = 7.27461339178928<br>num_parallel = 1.0<br>type_info = 48-AL1/8-ST1A<br>kind = cable\",\"Line_10020<br>Loading = 2.55555555560692<br>bus0 = Bus_BranchTee_MVGrid_1_8<br>bus1 = Bus_GeneratorFluctuating_5<br>length = 0.001<br>x = 0.000370707933124<br>r = 0.00037<br>s_nom = 7.27461339178928<br>num_parallel = 1.0<br>type_info = 48-AL1/8-ST1A<br>kind = cable\",\"Line_10013<br>Loading = 3.3888888888892987<br>bus0 = Bus_BranchTee_MVGrid_1_3<br>bus1 = Bus_GeneratorFluctuating_6<br>length = 0.307472748812273<br>x = 0.113982587204028<br>r = 0.113764917060541<br>s_nom = 7.27461339178928<br>num_parallel = 1.0<br>type_info = 48-AL1/8-ST1A<br>kind = cable\",\"Line_10018<br>Loading = 3.3333333333336523<br>bus0 = Bus_GeneratorFluctuating_7<br>bus1 = Bus_BranchTee_MVGrid_1_7<br>length = 0.468278333841994<br>x = 0.173594493265127<br>r = 0.173262983521538<br>s_nom = 7.27461339178928<br>num_parallel = 1.0<br>type_info = 48-AL1/8-ST1A<br>kind = cable\",\"Line_10032<br>Loading = 3.3333333333210007<br>bus0 = BusBar_MVGrid_1_LVGrid_4_MV<br>bus1 = Bus_GeneratorFluctuating_8<br>length = 0.001<br>x = 0.000370707933124<br>r = 0.00037<br>s_nom = 7.27461339178928<br>num_parallel = 1.0<br>type_info = 48-AL1/8-ST1A<br>kind = cable\",\"Line_10007<br>Loading = 4.295334806115695<br>bus0 = Bus_BranchTee_MVGrid_1_1<br>bus1 = BusBar_MVGrid_1_LVGrid_1_MV<br>length = 0.722445826838636<br>x = 0.267816399261118<br>r = 0.267304955930295<br>s_nom = 7.27461339178928<br>num_parallel = 1.0<br>type_info = NA2XS2Y 3x1x185 RM/25<br>kind = line\",\"Line_10008<br>Loading = 4.258336463748079<br>bus0 = Bus_BranchTee_MVGrid_1_2<br>bus1 = BusBar_MVGrid_1_LVGrid_1_MV<br>length = 0.132867031507129<br>x = 0.049254862630276<br>r = 0.049160801657638<br>s_nom = 7.27461339178928<br>num_parallel = 1.0<br>type_info = 48-AL1/8-ST1A<br>kind = line\",\"Line_10009<br>Loading = 0.8662193059088681<br>bus0 = Bus_BranchTee_MVGrid_1_2<br>bus1 = BusBar_MVGrid_1_LVGrid_2_MV<br>length = 0.705785336662554<br>x = 0.261640223383117<br>r = 0.261140574565145<br>s_nom = 7.27461339178928<br>num_parallel = 1.0<br>type_info = 48-AL1/8-ST1A<br>kind = line\",\"Line_10010<br>Loading = 3.3924192568716145<br>bus0 = Bus_BranchTee_MVGrid_1_2<br>bus1 = BusBar_MVGrid_1_LVGrid_5_MV<br>length = 0.012061682815469<br>x = 0.004471361506515<br>r = 0.004462822641724<br>s_nom = 7.27461339178928<br>num_parallel = 1.0<br>type_info = 48-AL1/8-ST1A<br>kind = line\",\"Line_10012<br>Loading = 3.38738888103316<br>bus0 = Bus_BranchTee_MVGrid_1_3<br>bus1 = BusBar_MVGrid_1_LVGrid_5_MV<br>length = 0.926662521213033<br>x = 0.343521147941983<br>r = 0.342865132848822<br>s_nom = 7.27461339178928<br>num_parallel = 1.0<br>type_info = 48-AL1/8-ST1A<br>kind = line\",\"Line_10016<br>Loading = 1.6126335350311464e-13<br>bus0 = Bus_BranchTee_MVGrid_1_3<br>bus1 = virtual_BusBar_MVGrid_1_LVGrid_9_MV<br>length = 0.661777693745236<br>x = 0.245326241035596<br>r = 0.244857746685737<br>s_nom = 7.27461339178928<br>num_parallel = 1.0<br>type_info = 48-AL1/8-ST1A<br>kind = cable\",\"Line_10014<br>Loading = 0.15658103965528467<br>bus0 = Bus_BranchTee_MVGrid_1_4<br>bus1 = BusBar_MVGrid_1_LVGrid_6_MV<br>length = 0.785931969351047<br>x = 0.291351215933884<br>r = 0.290794828659887<br>s_nom = 7.27461339178928<br>num_parallel = 1.0<br>type_info = 48-AL1/8-ST1A<br>kind = cable\",\"Line_10026<br>Loading = 7.751828050845921<br>bus0 = Bus_BranchTee_MVGrid_1_5<br>bus1 = Bus_BranchTee_MVGrid_1_10<br>length = 0.41419799375453<br>x = 0.153546482168682<br>r = 0.153253257689176<br>s_nom = 7.27461339178928<br>num_parallel = 1.0<br>type_info = 48-AL1/8-ST1A<br>kind = cable\",\"Line_10017<br>Loading = 8.49014386846336<br>bus0 = Bus_BranchTee_MVGrid_1_6<br>bus1 = Bus_BranchTee_MVGrid_1_7<br>length = 0.690714941884979<br>x = 0.256053508483765<br>r = 0.255564528497442<br>s_nom = 7.27461339178928<br>num_parallel = 1.0<br>type_info = 48-AL1/8-ST1A<br>kind = cable\",\"Line_10019<br>Loading = 5.163538697951342<br>bus0 = Bus_BranchTee_MVGrid_1_8<br>bus1 = Bus_BranchTee_MVGrid_1_7<br>length = 0.403852029<br>x = 0.14971115095836<br>r = 0.14942525073<br>s_nom = 7.27461339178928<br>num_parallel = 1.0<br>type_info = 48-AL1/8-ST1A<br>kind = cable\",\"Line_10021<br>Loading = 2.6119498024380228<br>bus0 = Bus_BranchTee_MVGrid_1_8<br>bus1 = BusBar_MVGrid_1_LVGrid_8_MV<br>length = 1.378502271<br>x = 0.511021727688593<br>r = 0.51004584027<br>s_nom = 7.27461339178928<br>num_parallel = 1.0<br>type_info = 48-AL1/8-ST1A<br>kind = cable\",\"Line_10022<br>Loading = 2.585246456583186<br>bus0 = Bus_BranchTee_MVGrid_1_9<br>bus1 = BusBar_MVGrid_1_LVGrid_8_MV<br>length = 0.437506744572693<br>x = 0.162187221008176<br>r = 0.161877495491896<br>s_nom = 7.27461339178928<br>num_parallel = 1.0<br>type_info = 48-AL1/8-ST1A<br>kind = cable\",\"Line_10023<br>Loading = 2.5859449805827626<br>bus0 = Bus_BranchTee_MVGrid_1_9<br>bus1 = BusBar_MVGrid_1_LVGrid_3_MV<br>length = 0.251147233966026<br>x = 0.093102272013254<br>r = 0.09292447656743<br>s_nom = 7.27461339178928<br>num_parallel = 1.0<br>type_info = 48-AL1/8-ST1A<br>kind = cable\",\"Line_10031<br>Loading = 0.0<br>bus0 = Bus_BranchTee_MVGrid_1_9<br>bus1 = virtual_BusBar_MVGrid_1_LVGrid_4_MV<br>length = 0.543380191002877<br>x = 0.201435347506981<br>r = 0.201050670671064<br>s_nom = 7.27461339178928<br>num_parallel = 1.0<br>type_info = 48-AL1/8-ST1A<br>kind = cable\",\"Line_10028<br>Loading = 5.93700350902972<br>bus0 = Bus_BranchTee_MVGrid_1_11<br>bus1 = Bus_BranchTee_MVGrid_1_10<br>length = 0.502639122266729<br>x = 0.186332310122557<br>r = 0.18597647523869<br>s_nom = 7.27461339178928<br>num_parallel = 1.0<br>type_info = 48-AL1/8-ST1A<br>kind = cable\",\"Line_10030<br>Loading = 3.4171931071523463<br>bus0 = Bus_BranchTee_MVGrid_1_11<br>bus1 = BusBar_MVGrid_1_LVGrid_4_MV<br>length = 0.262336104334286<br>x = 0.097250075021459<br>r = 0.097064358603686<br>s_nom = 7.27461339178928<br>num_parallel = 1.0<br>type_info = 48-AL1/8-ST1A<br>kind = cable\",\"Line_10024<br>Loading = 0.0693092429083005<br>bus0 = BusBar_MVGrid_1_LVGrid_7_MV<br>bus1 = BusBar_MVGrid_1_LVGrid_3_MV<br>length = 0.9840075060051<br>x = 0.364779388729255<br>r = 0.364082777221887<br>s_nom = 7.27461339178928<br>num_parallel = 1.0<br>type_info = 48-AL1/8-ST1A<br>kind = cable\",\"Line_10015<br>Loading = 0.06819180563578973<br>bus0 = BusBar_MVGrid_1_LVGrid_6_MV<br>bus1 = BusBar_MVGrid_1_LVGrid_9_MV<br>length = 0.491545784577804<br>x = 0.182219921836454<br>r = 0.181871940293787<br>s_nom = 7.27461339178928<br>num_parallel = 1.0<br>type_info = 48-AL1/8-ST1A<br>kind = cable\"],\"x\":[1081207.9922094196,1081375.814579037,1081648.668662732,1081787.7626315895,1079862.1723515382,1089926.6166197686,1085207.664445059,1083437.2243151003,1084368.2558014742,1080589.923052351,1083096.4361433163,1086846.3087923015,1080944.9983778745,1080565.9627882782,1080054.819966822,1080549.2756892983,1080904.736459082,1080987.6710673957,1081228.6302155023,1082641.0805019233,1082614.980788528,1083844.9732160307,1085622.3165294235,1087135.660176021,1088581.9986916706,1087305.3500541644,1084328.6573084593,1086087.8219274436,1089549.536575093,1081108.4611129179],\"y\":[5068859.676773131,5068828.261489303,5068886.213724926,5068509.278971788,5068108.302509077,5064785.560283304,5068019.753572989,5068796.773699408,5067335.053160445,5066737.340190534,5067216.180371832,5068345.636600375,5068639.664143086,5068289.196759984,5068102.902552589,5067674.5367030185,5067156.462354379,5066659.380815058,5067842.805404579,5068790.631506622,5067817.821262679,5067293.784598574,5066267.164877621,5065137.380109424,5064765.452979824,5066482.949256838,5068644.110480683,5068367.791333122,5064628.6782385735,5066669.390283436],\"type\":\"scatter\"},{\"hoverinfo\":\"none\",\"line\":{\"color\":\"#d9dce1\",\"width\":2},\"mode\":\"lines\",\"opacity\":0.4,\"x\":[1081450.5805416484,1080965.4038771912,null],\"y\":[5068919.790081119,5068799.563465143,null],\"type\":\"scatter\"},{\"hoverinfo\":\"none\",\"line\":{\"color\":\"#3b4cc0\",\"width\":2},\"mode\":\"lines\",\"opacity\":0.4,\"x\":[1081450.5805416484,1081301.048616426,null],\"y\":[5068919.790081119,5068736.732897487,null],\"type\":\"scatter\"},{\"hoverinfo\":\"none\",\"line\":{\"color\":\"#d44e41\",\"width\":2},\"mode\":\"lines\",\"opacity\":0.4,\"x\":[1081450.5805416484,1081846.7567838156,null],\"y\":[5068919.790081119,5068852.637368732,null],\"type\":\"scatter\"},{\"hoverinfo\":\"none\",\"line\":{\"color\":\"#b40426\",\"width\":2},\"mode\":\"lines\",\"opacity\":0.4,\"x\":[1081450.5805416484,1082124.9447215311,null],\"y\":[5068919.790081119,5068098.767862457,null],\"type\":\"scatter\"},{\"hoverinfo\":\"none\",\"line\":{\"color\":\"#4e68d8\",\"width\":2},\"mode\":\"lines\",\"opacity\":0.4,\"x\":[1079822.0374674322,1079902.3072356447,null],\"y\":[5068109.428611916,5068107.176406238,null],\"type\":\"scatter\"},{\"hoverinfo\":\"none\",\"line\":{\"color\":\"#94b6ff\",\"width\":2},\"mode\":\"lines\",\"opacity\":0.4,\"x\":[1090300.8527259273,1089552.3805136094,null],\"y\":[5064831.339604814,5064739.780961795,null],\"type\":\"scatter\"},{\"hoverinfo\":\"none\",\"line\":{\"color\":\"#93b5fe\",\"width\":2},\"mode\":\"lines\",\"opacity\":0.4,\"x\":[1085193.41849323,1085221.910396888,null],\"y\":[5067479.911829123,5068559.595316855,null],\"type\":\"scatter\"},{\"hoverinfo\":\"none\",\"line\":{\"color\":\"#7597f6\",\"width\":2},\"mode\":\"lines\",\"opacity\":0.4,\"x\":[1083439.0444101696,1083435.404220031,null],\"y\":[5068864.921754306,5068728.625644512,null],\"type\":\"scatter\"},{\"hoverinfo\":\"none\",\"line\":{\"color\":\"#94b6ff\",\"width\":2},\"mode\":\"lines\",\"opacity\":0.4,\"x\":[1084151.5820264118,1084584.9295765366,null],\"y\":[5067619.411786642,5067050.694534248,null],\"type\":\"scatter\"},{\"hoverinfo\":\"none\",\"line\":{\"color\":\"#b7cff9\",\"width\":2},\"mode\":\"lines\",\"opacity\":0.4,\"x\":[1080261.5918671354,1080918.2542375666,null],\"y\":[5066412.200379407,5067062.480001659,null],\"type\":\"scatter\"},{\"hoverinfo\":\"none\",\"line\":{\"color\":\"#b6cefa\",\"width\":2},\"mode\":\"lines\",\"opacity\":0.4,\"x\":[1083087.8554311087,1083105.0168555244,null],\"y\":[5066895.486080762,5067536.874662901,null],\"type\":\"scatter\"},{\"hoverinfo\":\"none\",\"line\":{\"color\":\"#b6cefa\",\"width\":2},\"mode\":\"lines\",\"opacity\":0.4,\"x\":[1086738.8841266031,1086953.7334579993,null],\"y\":[5068515.285851361,5068175.987349389,null],\"type\":\"scatter\"},{\"hoverinfo\":\"none\",\"line\":{\"color\":\"#d9dce1\",\"width\":2},\"mode\":\"lines\",\"opacity\":0.4,\"x\":[1080965.4038771912,1080924.5928785577,null],\"y\":[5068799.563465143,5068479.76482103,null],\"type\":\"scatter\"},{\"hoverinfo\":\"none\",\"line\":{\"color\":\"#d8dce2\",\"width\":2},\"mode\":\"lines\",\"opacity\":0.4,\"x\":[1080207.3326979992,1080924.5928785577,null],\"y\":[5068098.6286989385,5068479.76482103,null],\"type\":\"scatter\"},{\"hoverinfo\":\"none\",\"line\":{\"color\":\"#4e68d8\",\"width\":2},\"mode\":\"lines\",\"opacity\":0.4,\"x\":[1080207.3326979992,1079902.3072356447,null],\"y\":[5068098.6286989385,5068107.176406238,null],\"type\":\"scatter\"},{\"hoverinfo\":\"none\",\"line\":{\"color\":\"#b7cff9\",\"width\":2},\"mode\":\"lines\",\"opacity\":0.4,\"x\":[1080207.3326979992,1080891.2186805978,null],\"y\":[5068098.6286989385,5067250.4447070975,null],\"type\":\"scatter\"},{\"hoverinfo\":\"none\",\"line\":{\"color\":\"#b7cff9\",\"width\":2},\"mode\":\"lines\",\"opacity\":0.4,\"x\":[1080918.2542375666,1080891.2186805978,null],\"y\":[5067062.480001659,5067250.4447070975,null],\"type\":\"scatter\"},{\"hoverinfo\":\"none\",\"line\":{\"color\":\"#3b4cc0\",\"width\":2},\"mode\":\"lines\",\"opacity\":0.4,\"x\":[1080918.2542375666,1081057.0878972248,null],\"y\":[5067062.480001659,5066256.281628456,null],\"type\":\"scatter\"},{\"hoverinfo\":\"none\",\"line\":{\"color\":\"#3b4cc0\",\"width\":2},\"mode\":\"lines\",\"opacity\":0.4,\"x\":[1081301.048616426,1081156.2118145786,null],\"y\":[5068736.732897487,5066948.877911672,null],\"type\":\"scatter\"},{\"hoverinfo\":\"none\",\"line\":{\"color\":\"#d44e41\",\"width\":2},\"mode\":\"lines\",\"opacity\":0.4,\"x\":[1081846.7567838156,1083435.404220031,null],\"y\":[5068852.637368732,5068728.625644512,null],\"type\":\"scatter\"},{\"hoverinfo\":\"none\",\"line\":{\"color\":\"#b40426\",\"width\":2},\"mode\":\"lines\",\"opacity\":0.4,\"x\":[1082124.9447215311,1083105.0168555244,null],\"y\":[5068098.767862457,5067536.874662901,null],\"type\":\"scatter\"},{\"hoverinfo\":\"none\",\"line\":{\"color\":\"#f1cdba\",\"width\":2},\"mode\":\"lines\",\"opacity\":0.4,\"x\":[1083105.0168555244,1084584.9295765366,null],\"y\":[5067536.874662901,5067050.694534248,null],\"type\":\"scatter\"},{\"hoverinfo\":\"none\",\"line\":{\"color\":\"#97b8ff\",\"width\":2},\"mode\":\"lines\",\"opacity\":0.4,\"x\":[1084584.9295765366,1086659.7034823103,null],\"y\":[5067050.694534248,5065483.635220994,null],\"type\":\"scatter\"},{\"hoverinfo\":\"none\",\"line\":{\"color\":\"#96b7ff\",\"width\":2},\"mode\":\"lines\",\"opacity\":0.4,\"x\":[1087611.6168697318,1086659.7034823103,null],\"y\":[5064791.124997852,5065483.635220994,null],\"type\":\"scatter\"},{\"hoverinfo\":\"none\",\"line\":{\"color\":\"#96b7ff\",\"width\":2},\"mode\":\"lines\",\"opacity\":0.4,\"x\":[1087611.6168697318,1089552.3805136094,null],\"y\":[5064791.124997852,5064739.780961795,null],\"type\":\"scatter\"},{\"hoverinfo\":\"none\",\"line\":{\"color\":\"#3b4cc0\",\"width\":2},\"mode\":\"lines\",\"opacity\":0.4,\"x\":[1087611.6168697318,1086999.083238597,null],\"y\":[5064791.124997852,5068174.773515824,null],\"type\":\"scatter\"},{\"hoverinfo\":\"none\",\"line\":{\"color\":\"#f7b194\",\"width\":2},\"mode\":\"lines\",\"opacity\":0.4,\"x\":[1083435.404220031,1085221.910396888,null],\"y\":[5068728.625644512,5068559.595316855,null],\"type\":\"scatter\"},{\"hoverinfo\":\"none\",\"line\":{\"color\":\"#b9d0f9\",\"width\":2},\"mode\":\"lines\",\"opacity\":0.4,\"x\":[1085221.910396888,1086953.7334579993,null],\"y\":[5068559.595316855,5068175.987349389,null],\"type\":\"scatter\"},{\"hoverinfo\":\"none\",\"line\":{\"color\":\"#3b4cc0\",\"width\":2},\"mode\":\"lines\",\"opacity\":0.4,\"x\":[1089552.3805136094,1089546.692636576,null],\"y\":[5064739.780961795,5064517.575515352,null],\"type\":\"scatter\"},{\"hoverinfo\":\"none\",\"line\":{\"color\":\"#3b4cc0\",\"width\":2},\"mode\":\"lines\",\"opacity\":0.4,\"x\":[1081156.2118145786,1081060.710411257,null],\"y\":[5066948.877911672,5066389.9026552,null],\"type\":\"scatter\"},{\"hoverinfo\":\"text\",\"marker\":{\"cmid\":0,\"color\":[0.0,0.001989022620912939,0.007941703113786058,0.004589842192910032,0.003354723087970024,0.0043393987103281795,0.0034662604471278335,0.004131824626465885,0.004756695119327192,0.0001488486825891311,0.0016763361119582765,0.0030221009239523866,-4.18382861044897e-05,0.0017509347638440254,0.0010329174646699357,0.003467515348856587,0.004338308313716954,0.006300793187351106,0.003103795598323078,0.004371296881219067,0.001438747331785617,0.0019378896686015334,0.006572691927660301,0.004755273455521625,0.0016934629389968592,-0.000187235601876945,0.006588905106678755,0.005828655915325998,-0.00022656433361201156,0.0030221009239523866,0.006300793187351106],\"colorbar\":{\"thickness\":15,\"title\":{\"side\":\"right\",\"text\":\"Node Voltage Deviation\"},\"xanchor\":\"left\"},\"colorscale\":[[0.0,\"rgb(103,0,31)\"],[0.1,\"rgb(178,24,43)\"],[0.2,\"rgb(214,96,77)\"],[0.3,\"rgb(244,165,130)\"],[0.4,\"rgb(253,219,199)\"],[0.5,\"rgb(247,247,247)\"],[0.6,\"rgb(209,229,240)\"],[0.7,\"rgb(146,197,222)\"],[0.8,\"rgb(67,147,195)\"],[0.9,\"rgb(33,102,172)\"],[1.0,\"rgb(5,48,97)\"]],\"line\":{\"width\":2},\"reversescale\":true,\"showscale\":true,\"size\":8},\"mode\":\"markers\",\"text\":[\"Bus_MVStation_1<br>peak_load = 0.0<br>p_nom_gen = 0.0<br>v = 1.0<br>Neighbors = 4<br>v_nom = 20.0<br>x = 7.94859122759009<br>y = 48.0844553685898<br>mv_grid_id = 1<br>lv_grid_id = nan<br>in_building = False\",\"Bus_Generator_1<br>peak_load = 0.0<br>p_nom_gen = 0.775<br>v = 1.001989022620913<br>Neighbors = 1<br>v_nom = 20.0<br>x = 7.9270478194687<br>y = 48.076758003523<br>mv_grid_id = 1<br>lv_grid_id = nan<br>in_building = False\",\"Bus_GeneratorFluctuating_2<br>peak_load = 0.0<br>p_nom_gen = 2.3<br>v = 1.007941703113786<br>Neighbors = 1<br>v_nom = 20.0<br>x = 8.06868539549975<br>y = 48.0498283526783<br>mv_grid_id = 1<br>lv_grid_id = nan<br>in_building = False\",\"Bus_GeneratorFluctuating_3<br>peak_load = 0.0<br>p_nom_gen = 2.67<br>v = 1.00458984219291<br>Neighbors = 1<br>v_nom = 20.0<br>x = 7.99929765404084<br>y = 48.0724282356729<br>mv_grid_id = 1<br>lv_grid_id = nan<br>in_building = False\",\"Bus_GeneratorFluctuating_4<br>peak_load = 0.0<br>p_nom_gen = 1.93<br>v = 1.00335472308797<br>Neighbors = 1<br>v_nom = 20.0<br>x = 7.9752788204589<br>y = 48.0844553685898<br>mv_grid_id = 1<br>lv_grid_id = nan<br>in_building = False\",\"Bus_GeneratorFluctuating_5<br>peak_load = 0.0<br>p_nom_gen = 2.3<br>v = 1.0043393987103282<br>Neighbors = 1<br>v_nom = 20.0<br>x = 7.9852788204589<br>y = 48.0734282356729<br>mv_grid_id = 1<br>lv_grid_id = nan<br>in_building = False\",\"Bus_GeneratorFluctuating_6<br>peak_load = 0.0<br>p_nom_gen = 3.05<br>v = 1.0034662604471278<br>Neighbors = 1<br>v_nom = 20.0<br>x = 7.93356211845248<br>y = 48.0616038160476<br>mv_grid_id = 1<br>lv_grid_id = nan<br>in_building = False\",\"Bus_GeneratorFluctuating_7<br>peak_load = 0.0<br>p_nom_gen = 3.0<br>v = 1.0041318246264659<br>Neighbors = 1<br>v_nom = 20.0<br>x = 7.97127568152858<br>y = 48.0666552118727<br>mv_grid_id = 1<br>lv_grid_id = nan<br>in_building = False\",\"Bus_GeneratorFluctuating_8<br>peak_load = 0.0<br>p_nom_gen = 3.0<br>v = 1.0047566951193272<br>Neighbors = 1<br>v_nom = 20.0<br>x = 8.01965714512685<br>y = 48.0821153215746<br>mv_grid_id = 1<br>lv_grid_id = nan<br>in_building = False\",\"Bus_BranchTee_MVGrid_1_1<br>peak_load = 0.0<br>p_nom_gen = 0.0<br>v = 1.0001488486825891<br>Neighbors = 2<br>v_nom = 20.0<br>x = 7.94212820515367<br>y = 48.0832526552981<br>mv_grid_id = 1<br>lv_grid_id = nan<br>in_building = False\",\"Bus_BranchTee_MVGrid_1_2<br>peak_load = 0.0<br>p_nom_gen = 0.0<br>v = 1.0016763361119583<br>Neighbors = 3<br>v_nom = 20.0<br>x = 7.93221823741783<br>y = 48.076758003523<br>mv_grid_id = 1<br>lv_grid_id = nan<br>in_building = False\",\"Bus_BranchTee_MVGrid_1_3<br>peak_load = 0.0<br>p_nom_gen = 0.0<br>v = 1.0030221009239524<br>Neighbors = 3<br>v_nom = 20.0<br>x = 7.94212820515367<br>y = 48.0676173825061<br>mv_grid_id = 1<br>lv_grid_id = nan<br>in_building = False\",\"Bus_BranchTee_MVGrid_1_4<br>peak_load = 0.0<br>p_nom_gen = 0.0<br>v = 0.9999581617138955<br>Neighbors = 2<br>v_nom = 20.0<br>x = 7.94665232085917<br>y = 48.0827715699814<br>mv_grid_id = 1<br>lv_grid_id = nan<br>in_building = False\",\"Bus_BranchTee_MVGrid_1_5<br>peak_load = 0.0<br>p_nom_gen = 0.0<br>v = 1.001750934763844<br>Neighbors = 2<br>v_nom = 20.0<br>x = 7.95392874616385<br>y = 48.0839502290073<br>mv_grid_id = 1<br>lv_grid_id = nan<br>in_building = False\",\"Bus_BranchTee_MVGrid_1_6<br>peak_load = 0.0<br>p_nom_gen = 0.0<br>v = 1.00103291746467<br>Neighbors = 2<br>v_nom = 20.0<br>x = 7.95793188509418<br>y = 48.0772390888396<br>mv_grid_id = 1<br>lv_grid_id = nan<br>in_building = False\",\"Bus_BranchTee_MVGrid_1_7<br>peak_load = 0.0<br>p_nom_gen = 0.0<br>v = 1.0034675153488566<br>Neighbors = 3<br>v_nom = 20.0<br>x = 7.97127568152858<br>y = 48.0724282356729<br>mv_grid_id = 1<br>lv_grid_id = nan<br>in_building = False\",\"Bus_BranchTee_MVGrid_1_8<br>peak_load = 0.0<br>p_nom_gen = 0.0<br>v = 1.004338308313717<br>Neighbors = 3<br>v_nom = 20.0<br>x = 7.99129137618019<br>y = 48.0684191913672<br>mv_grid_id = 1<br>lv_grid_id = nan<br>in_building = False\",\"Bus_BranchTee_MVGrid_1_9<br>peak_load = 0.0<br>p_nom_gen = 0.0<br>v = 1.006300793187351<br>Neighbors = 3<br>v_nom = 20.0<br>x = 8.03265714512685<br>y = 48.0488283526783<br>mv_grid_id = 1<br>lv_grid_id = nan<br>in_building = False\",\"Bus_BranchTee_MVGrid_1_10<br>peak_load = 0.0<br>p_nom_gen = 0.0<br>v = 1.003103795598323<br>Neighbors = 3<br>v_nom = 20.0<br>x = 7.9752788204589<br>y = 48.0832286010323<br>mv_grid_id = 1<br>lv_grid_id = nan<br>in_building = False\",\"Bus_BranchTee_MVGrid_1_11<br>peak_load = 0.0<br>p_nom_gen = 0.0<br>v = 1.004371296881219<br>Neighbors = 3<br>v_nom = 20.0<br>x = 7.99929765404084<br>y = 48.0821461590697<br>mv_grid_id = 1<br>lv_grid_id = nan<br>in_building = False\",\"BusBar_MVGrid_1_LVGrid_1_MV<br>peak_load = 0.0<br>p_nom_gen = 0.0<br>v = 1.0014387473317856<br>Neighbors = 2<br>v_nom = 20.0<br>x = 7.94169733699125<br>y = 48.080366143398<br>mv_grid_id = 1<br>lv_grid_id = nan<br>in_building = False\",\"BusBar_MVGrid_1_LVGrid_2_MV<br>peak_load = 0.0<br>p_nom_gen = 0.0<br>v = 1.0019378896686015<br>Neighbors = 2<br>v_nom = 20.0<br>x = 7.92812498987477<br>y = 48.076758003523<br>mv_grid_id = 1<br>lv_grid_id = nan<br>in_building = False\",\"BusBar_MVGrid_1_LVGrid_3_MV<br>peak_load = 0.0<br>p_nom_gen = 0.0<br>v = 1.0065726919276603<br>Neighbors = 3<br>v_nom = 20.0<br>x = 8.05868539549975<br>y = 48.0488283526783<br>mv_grid_id = 1<br>lv_grid_id = nan<br>in_building = False\",\"BusBar_MVGrid_1_LVGrid_4_MV<br>peak_load = 0.0<br>p_nom_gen = 0.0<br>v = 1.0047552734555216<br>Neighbors = 2<br>v_nom = 20.0<br>x = 8.02265714512685<br>y = 48.0791153215746<br>mv_grid_id = 1<br>lv_grid_id = nan<br>in_building = False\",\"BusBar_MVGrid_1_LVGrid_5_MV<br>peak_load = 0.0<br>p_nom_gen = 0.0<br>v = 1.0016934629389969<br>Neighbors = 2<br>v_nom = 20.0<br>x = 7.94169733699125<br>y = 48.0693011811144<br>mv_grid_id = 1<br>lv_grid_id = nan<br>in_building = False\",\"BusBar_MVGrid_1_LVGrid_6_MV<br>peak_load = 0.0<br>p_nom_gen = 0.0<br>v = 0.999812764398123<br>Neighbors = 2<br>v_nom = 20.0<br>x = 7.94535971637188<br>y = 48.0666552118727<br>mv_grid_id = 1<br>lv_grid_id = nan<br>in_building = False\",\"BusBar_MVGrid_1_LVGrid_7_MV<br>peak_load = 0.0<br>p_nom_gen = 0.0<br>v = 1.0065889051066788<br>Neighbors = 1<br>v_nom = 20.0<br>x = 8.05868539549975<br>y = 48.0468283526783<br>mv_grid_id = 1<br>lv_grid_id = nan<br>in_building = False\",\"BusBar_MVGrid_1_LVGrid_8_MV<br>peak_load = 0.0<br>p_nom_gen = 0.0<br>v = 1.005828655915326<br>Neighbors = 2<br>v_nom = 20.0<br>x = 8.01965714512685<br>y = 48.0548283526783<br>mv_grid_id = 1<br>lv_grid_id = nan<br>in_building = False\",\"BusBar_MVGrid_1_LVGrid_9_MV<br>peak_load = 0.0<br>p_nom_gen = 0.0<br>v = 0.999773435666388<br>Neighbors = 1<br>v_nom = 20.0<br>x = 7.94428254596581<br>y = 48.0616038160476<br>mv_grid_id = 1<br>lv_grid_id = nan<br>in_building = False\",\"virtual_BusBar_MVGrid_1_LVGrid_9_MV<br>peak_load = 0.0<br>p_nom_gen = 0.0<br>v = 1.0030221009239524<br>Neighbors = 1<br>v_nom = 20.0<br>x = 7.94428254596581<br>y = 48.0604011027559<br>mv_grid_id = 1<br>lv_grid_id = nan<br>in_building = False\",\"virtual_BusBar_MVGrid_1_LVGrid_4_MV<br>peak_load = 0.0<br>p_nom_gen = 0.0<br>v = 1.006300793187351<br>Neighbors = 1<br>v_nom = 20.0<br>x = 8.02326571451269<br>y = 48.0791153215746<br>mv_grid_id = 1<br>lv_grid_id = nan<br>in_building = False\"],\"x\":[1081450.5805416484,1079822.0374674322,1090300.8527259273,1085193.41849323,1083439.0444101696,1084151.5820264118,1080261.5918671354,1083087.8554311087,1086738.8841266031,1080965.4038771912,1080207.3326979992,1080918.2542375666,1081301.048616426,1081846.7567838156,1082124.9447215311,1083105.0168555244,1084584.9295765366,1087611.6168697318,1083435.404220031,1085221.910396888,1080924.5928785577,1079902.3072356447,1089552.3805136094,1086953.7334579993,1080891.2186805978,1081156.2118145786,1089546.692636576,1086659.7034823103,1081060.710411257,1081057.0878972248,1086999.083238597],\"y\":[5068919.790081119,5068109.428611916,5064831.339604814,5067479.911829123,5068864.921754306,5067619.411786642,5066412.200379407,5066895.486080762,5068515.285851361,5068799.563465143,5068098.6286989385,5067062.480001659,5068736.732897487,5068852.637368732,5068098.767862457,5067536.874662901,5067050.694534248,5064791.124997852,5068728.625644512,5068559.595316855,5068479.76482103,5068107.176406238,5064739.780961795,5068175.987349389,5067250.4447070975,5066948.877911672,5064517.575515352,5065483.635220994,5066389.9026552,5066256.281628456,5068174.773515824],\"type\":\"scatter\"}],                        {\"height\":500,\"hovermode\":\"closest\",\"margin\":{\"b\":20,\"l\":5,\"r\":5,\"t\":40},\"showlegend\":false,\"title\":{\"font\":{\"size\":16}},\"xaxis\":{\"showgrid\":true,\"showticklabels\":true,\"zeroline\":true},\"yaxis\":{\"showgrid\":true,\"showticklabels\":true,\"zeroline\":true,\"scaleanchor\":\"x\",\"scaleratio\":1},\"template\":{\"data\":{\"histogram2dcontour\":[{\"type\":\"histogram2dcontour\",\"colorbar\":{\"outlinewidth\":0,\"ticks\":\"\"},\"colorscale\":[[0.0,\"#0d0887\"],[0.1111111111111111,\"#46039f\"],[0.2222222222222222,\"#7201a8\"],[0.3333333333333333,\"#9c179e\"],[0.4444444444444444,\"#bd3786\"],[0.5555555555555556,\"#d8576b\"],[0.6666666666666666,\"#ed7953\"],[0.7777777777777778,\"#fb9f3a\"],[0.8888888888888888,\"#fdca26\"],[1.0,\"#f0f921\"]]}],\"choropleth\":[{\"type\":\"choropleth\",\"colorbar\":{\"outlinewidth\":0,\"ticks\":\"\"}}],\"histogram2d\":[{\"type\":\"histogram2d\",\"colorbar\":{\"outlinewidth\":0,\"ticks\":\"\"},\"colorscale\":[[0.0,\"#0d0887\"],[0.1111111111111111,\"#46039f\"],[0.2222222222222222,\"#7201a8\"],[0.3333333333333333,\"#9c179e\"],[0.4444444444444444,\"#bd3786\"],[0.5555555555555556,\"#d8576b\"],[0.6666666666666666,\"#ed7953\"],[0.7777777777777778,\"#fb9f3a\"],[0.8888888888888888,\"#fdca26\"],[1.0,\"#f0f921\"]]}],\"heatmap\":[{\"type\":\"heatmap\",\"colorbar\":{\"outlinewidth\":0,\"ticks\":\"\"},\"colorscale\":[[0.0,\"#0d0887\"],[0.1111111111111111,\"#46039f\"],[0.2222222222222222,\"#7201a8\"],[0.3333333333333333,\"#9c179e\"],[0.4444444444444444,\"#bd3786\"],[0.5555555555555556,\"#d8576b\"],[0.6666666666666666,\"#ed7953\"],[0.7777777777777778,\"#fb9f3a\"],[0.8888888888888888,\"#fdca26\"],[1.0,\"#f0f921\"]]}],\"heatmapgl\":[{\"type\":\"heatmapgl\",\"colorbar\":{\"outlinewidth\":0,\"ticks\":\"\"},\"colorscale\":[[0.0,\"#0d0887\"],[0.1111111111111111,\"#46039f\"],[0.2222222222222222,\"#7201a8\"],[0.3333333333333333,\"#9c179e\"],[0.4444444444444444,\"#bd3786\"],[0.5555555555555556,\"#d8576b\"],[0.6666666666666666,\"#ed7953\"],[0.7777777777777778,\"#fb9f3a\"],[0.8888888888888888,\"#fdca26\"],[1.0,\"#f0f921\"]]}],\"contourcarpet\":[{\"type\":\"contourcarpet\",\"colorbar\":{\"outlinewidth\":0,\"ticks\":\"\"}}],\"contour\":[{\"type\":\"contour\",\"colorbar\":{\"outlinewidth\":0,\"ticks\":\"\"},\"colorscale\":[[0.0,\"#0d0887\"],[0.1111111111111111,\"#46039f\"],[0.2222222222222222,\"#7201a8\"],[0.3333333333333333,\"#9c179e\"],[0.4444444444444444,\"#bd3786\"],[0.5555555555555556,\"#d8576b\"],[0.6666666666666666,\"#ed7953\"],[0.7777777777777778,\"#fb9f3a\"],[0.8888888888888888,\"#fdca26\"],[1.0,\"#f0f921\"]]}],\"surface\":[{\"type\":\"surface\",\"colorbar\":{\"outlinewidth\":0,\"ticks\":\"\"},\"colorscale\":[[0.0,\"#0d0887\"],[0.1111111111111111,\"#46039f\"],[0.2222222222222222,\"#7201a8\"],[0.3333333333333333,\"#9c179e\"],[0.4444444444444444,\"#bd3786\"],[0.5555555555555556,\"#d8576b\"],[0.6666666666666666,\"#ed7953\"],[0.7777777777777778,\"#fb9f3a\"],[0.8888888888888888,\"#fdca26\"],[1.0,\"#f0f921\"]]}],\"mesh3d\":[{\"type\":\"mesh3d\",\"colorbar\":{\"outlinewidth\":0,\"ticks\":\"\"}}],\"scatter\":[{\"fillpattern\":{\"fillmode\":\"overlay\",\"size\":10,\"solidity\":0.2},\"type\":\"scatter\"}],\"parcoords\":[{\"type\":\"parcoords\",\"line\":{\"colorbar\":{\"outlinewidth\":0,\"ticks\":\"\"}}}],\"scatterpolargl\":[{\"type\":\"scatterpolargl\",\"marker\":{\"colorbar\":{\"outlinewidth\":0,\"ticks\":\"\"}}}],\"bar\":[{\"error_x\":{\"color\":\"#2a3f5f\"},\"error_y\":{\"color\":\"#2a3f5f\"},\"marker\":{\"line\":{\"color\":\"#E5ECF6\",\"width\":0.5},\"pattern\":{\"fillmode\":\"overlay\",\"size\":10,\"solidity\":0.2}},\"type\":\"bar\"}],\"scattergeo\":[{\"type\":\"scattergeo\",\"marker\":{\"colorbar\":{\"outlinewidth\":0,\"ticks\":\"\"}}}],\"scatterpolar\":[{\"type\":\"scatterpolar\",\"marker\":{\"colorbar\":{\"outlinewidth\":0,\"ticks\":\"\"}}}],\"histogram\":[{\"marker\":{\"pattern\":{\"fillmode\":\"overlay\",\"size\":10,\"solidity\":0.2}},\"type\":\"histogram\"}],\"scattergl\":[{\"type\":\"scattergl\",\"marker\":{\"colorbar\":{\"outlinewidth\":0,\"ticks\":\"\"}}}],\"scatter3d\":[{\"type\":\"scatter3d\",\"line\":{\"colorbar\":{\"outlinewidth\":0,\"ticks\":\"\"}},\"marker\":{\"colorbar\":{\"outlinewidth\":0,\"ticks\":\"\"}}}],\"scattermapbox\":[{\"type\":\"scattermapbox\",\"marker\":{\"colorbar\":{\"outlinewidth\":0,\"ticks\":\"\"}}}],\"scatterternary\":[{\"type\":\"scatterternary\",\"marker\":{\"colorbar\":{\"outlinewidth\":0,\"ticks\":\"\"}}}],\"scattercarpet\":[{\"type\":\"scattercarpet\",\"marker\":{\"colorbar\":{\"outlinewidth\":0,\"ticks\":\"\"}}}],\"carpet\":[{\"aaxis\":{\"endlinecolor\":\"#2a3f5f\",\"gridcolor\":\"white\",\"linecolor\":\"white\",\"minorgridcolor\":\"white\",\"startlinecolor\":\"#2a3f5f\"},\"baxis\":{\"endlinecolor\":\"#2a3f5f\",\"gridcolor\":\"white\",\"linecolor\":\"white\",\"minorgridcolor\":\"white\",\"startlinecolor\":\"#2a3f5f\"},\"type\":\"carpet\"}],\"table\":[{\"cells\":{\"fill\":{\"color\":\"#EBF0F8\"},\"line\":{\"color\":\"white\"}},\"header\":{\"fill\":{\"color\":\"#C8D4E3\"},\"line\":{\"color\":\"white\"}},\"type\":\"table\"}],\"barpolar\":[{\"marker\":{\"line\":{\"color\":\"#E5ECF6\",\"width\":0.5},\"pattern\":{\"fillmode\":\"overlay\",\"size\":10,\"solidity\":0.2}},\"type\":\"barpolar\"}],\"pie\":[{\"automargin\":true,\"type\":\"pie\"}]},\"layout\":{\"autotypenumbers\":\"strict\",\"colorway\":[\"#636efa\",\"#EF553B\",\"#00cc96\",\"#ab63fa\",\"#FFA15A\",\"#19d3f3\",\"#FF6692\",\"#B6E880\",\"#FF97FF\",\"#FECB52\"],\"font\":{\"color\":\"#2a3f5f\"},\"hovermode\":\"closest\",\"hoverlabel\":{\"align\":\"left\"},\"paper_bgcolor\":\"white\",\"plot_bgcolor\":\"#E5ECF6\",\"polar\":{\"bgcolor\":\"#E5ECF6\",\"angularaxis\":{\"gridcolor\":\"white\",\"linecolor\":\"white\",\"ticks\":\"\"},\"radialaxis\":{\"gridcolor\":\"white\",\"linecolor\":\"white\",\"ticks\":\"\"}},\"ternary\":{\"bgcolor\":\"#E5ECF6\",\"aaxis\":{\"gridcolor\":\"white\",\"linecolor\":\"white\",\"ticks\":\"\"},\"baxis\":{\"gridcolor\":\"white\",\"linecolor\":\"white\",\"ticks\":\"\"},\"caxis\":{\"gridcolor\":\"white\",\"linecolor\":\"white\",\"ticks\":\"\"}},\"coloraxis\":{\"colorbar\":{\"outlinewidth\":0,\"ticks\":\"\"}},\"colorscale\":{\"sequential\":[[0.0,\"#0d0887\"],[0.1111111111111111,\"#46039f\"],[0.2222222222222222,\"#7201a8\"],[0.3333333333333333,\"#9c179e\"],[0.4444444444444444,\"#bd3786\"],[0.5555555555555556,\"#d8576b\"],[0.6666666666666666,\"#ed7953\"],[0.7777777777777778,\"#fb9f3a\"],[0.8888888888888888,\"#fdca26\"],[1.0,\"#f0f921\"]],\"sequentialminus\":[[0.0,\"#0d0887\"],[0.1111111111111111,\"#46039f\"],[0.2222222222222222,\"#7201a8\"],[0.3333333333333333,\"#9c179e\"],[0.4444444444444444,\"#bd3786\"],[0.5555555555555556,\"#d8576b\"],[0.6666666666666666,\"#ed7953\"],[0.7777777777777778,\"#fb9f3a\"],[0.8888888888888888,\"#fdca26\"],[1.0,\"#f0f921\"]],\"diverging\":[[0,\"#8e0152\"],[0.1,\"#c51b7d\"],[0.2,\"#de77ae\"],[0.3,\"#f1b6da\"],[0.4,\"#fde0ef\"],[0.5,\"#f7f7f7\"],[0.6,\"#e6f5d0\"],[0.7,\"#b8e186\"],[0.8,\"#7fbc41\"],[0.9,\"#4d9221\"],[1,\"#276419\"]]},\"xaxis\":{\"gridcolor\":\"white\",\"linecolor\":\"white\",\"ticks\":\"\",\"title\":{\"standoff\":15},\"zerolinecolor\":\"white\",\"automargin\":true,\"zerolinewidth\":2},\"yaxis\":{\"gridcolor\":\"white\",\"linecolor\":\"white\",\"ticks\":\"\",\"title\":{\"standoff\":15},\"zerolinecolor\":\"white\",\"automargin\":true,\"zerolinewidth\":2},\"scene\":{\"xaxis\":{\"backgroundcolor\":\"#E5ECF6\",\"gridcolor\":\"white\",\"linecolor\":\"white\",\"showbackground\":true,\"ticks\":\"\",\"zerolinecolor\":\"white\",\"gridwidth\":2},\"yaxis\":{\"backgroundcolor\":\"#E5ECF6\",\"gridcolor\":\"white\",\"linecolor\":\"white\",\"showbackground\":true,\"ticks\":\"\",\"zerolinecolor\":\"white\",\"gridwidth\":2},\"zaxis\":{\"backgroundcolor\":\"#E5ECF6\",\"gridcolor\":\"white\",\"linecolor\":\"white\",\"showbackground\":true,\"ticks\":\"\",\"zerolinecolor\":\"white\",\"gridwidth\":2}},\"shapedefaults\":{\"line\":{\"color\":\"#2a3f5f\"}},\"annotationdefaults\":{\"arrowcolor\":\"#2a3f5f\",\"arrowhead\":0,\"arrowwidth\":1},\"geo\":{\"bgcolor\":\"white\",\"landcolor\":\"#E5ECF6\",\"subunitcolor\":\"white\",\"showland\":true,\"showlakes\":true,\"lakecolor\":\"white\"},\"title\":{\"x\":0.05},\"mapbox\":{\"style\":\"light\"}}}},                        {\"responsive\": true}                    ).then(function(){\n",
       "                            \n",
       "var gd = document.getElementById('3d331305-b6c8-4427-a2df-37cc1e97f0a1');\n",
       "var x = new MutationObserver(function (mutations, observer) {{\n",
       "        var display = window.getComputedStyle(gd).display;\n",
       "        if (!display || display === 'none') {{\n",
       "            console.log([gd, 'removed!']);\n",
       "            Plotly.purge(gd);\n",
       "            observer.disconnect();\n",
       "        }}\n",
       "}});\n",
       "\n",
       "// Listen for the removal of the full notebook cells\n",
       "var notebookContainer = gd.closest('#notebook-container');\n",
       "if (notebookContainer) {{\n",
       "    x.observe(notebookContainer, {childList: true});\n",
       "}}\n",
       "\n",
       "// Listen for the clearing of the current output cell\n",
       "var outputEl = gd.closest('.output');\n",
       "if (outputEl) {{\n",
       "    x.observe(outputEl, {childList: true});\n",
       "}}\n",
       "\n",
       "                        })                };                });            </script>        </div>"
      ]
     },
     "metadata": {},
     "output_type": "display_data"
    }
   ],
   "source": [
    "# plotting loading and voltage deviation, with unchanged coordinates\n",
    "mode_lines = \"loading\"\n",
    "mode_nodes = \"voltage_deviation\"\n",
    "\n",
    "fig = draw_plotly(\n",
    "    edisgo_obj, G, line_color=mode_lines, node_color=mode_nodes, grid=False\n",
    ")\n",
    "fig.show()"
   ]
  },
  {
   "cell_type": "code",
   "execution_count": 11,
   "metadata": {},
   "outputs": [
    {
     "data": {
      "application/vnd.plotly.v1+json": {
       "config": {
        "plotlyServerURL": "https://plot.ly"
       },
       "data": [
        {
         "hoverinfo": "text",
         "marker": {
          "color": "white",
          "opacity": 0,
          "size": 10
         },
         "mode": "markers",
         "text": [
          "Line_10003<br>Loading = 4.289798241733044<br>bus0 = Bus_MVStation_1<br>bus1 = Bus_BranchTee_MVGrid_1_1<br>length = 0.083904310632546<br>x = 0.031103993574751<br>r = 0.031044594934042<br>s_nom = 7.27461339178928<br>num_parallel = 1.0<br>type_info = 48-AL1/8-ST1A<br>kind = line",
          "Line_10004<br>Loading = 0.15450263121854058<br>bus0 = Bus_MVStation_1<br>bus1 = Bus_BranchTee_MVGrid_1_4<br>length = 0.226148217025158<br>x = 0.083834938112983<br>r = 0.083674840299309<br>s_nom = 7.27461339178928<br>num_parallel = 1.0<br>type_info = 48-AL1/8-ST1A<br>kind = line",
          "Line_10005<br>Loading = 7.7464158971234465<br>bus0 = Bus_MVStation_1<br>bus1 = Bus_BranchTee_MVGrid_1_5<br>length = 0.543380191002877<br>x = 0.06486901021411257<br>r = 0.08911435132447183<br>s_nom = 12.366842766041781<br>num_parallel = 1.0<br>type_info = NA2XS2Y 3x1x185 RM/25<br>kind = cable",
          "Line_10006<br>Loading = 8.479697844991776<br>bus0 = Bus_MVStation_1<br>bus1 = Bus_BranchTee_MVGrid_1_6<br>length = 0.297650465459542<br>x = 0.0551706944218915<br>r = 0.0550653361100155<br>s_nom = 14.54922678357856<br>num_parallel = 2.0<br>type_info = NA2XS2Y 3x1x185 RM/25<br>kind = line",
          "Line_10011<br>Loading = 0.861111111111287<br>bus0 = BusBar_MVGrid_1_LVGrid_2_MV<br>bus1 = Bus_Generator_1<br>length = 0.138872233591103<br>x = 0.051481038682815<br>r = 0.051382726428708<br>s_nom = 7.27461339178928<br>num_parallel = 1.0<br>type_info = 48-AL1/8-ST1A<br>kind = line",
          "Line_10025<br>Loading = 2.5555555555560843<br>bus0 = Bus_GeneratorFluctuating_2<br>bus1 = BusBar_MVGrid_1_LVGrid_3_MV<br>length = 1.26723954<br>x = 0.469775750645896<br>r = 0.4688786298<br>s_nom = 7.27461339178928<br>num_parallel = 1.0<br>type_info = 48-AL1/8-ST1A<br>kind = cable",
          "Line_10029<br>Loading = 2.5216666666668943<br>bus0 = Bus_BranchTee_MVGrid_1_11<br>bus1 = Bus_GeneratorFluctuating_3<br>length = 0.203355255541373<br>x = 0.075385406471563<br>r = 0.075241444550308<br>s_nom = 7.27461339178928<br>num_parallel = 1.0<br>type_info = 48-AL1/8-ST1A<br>kind = cable",
          "Line_10027<br>Loading = 1.8227777777775702<br>bus0 = Bus_GeneratorFluctuating_4<br>bus1 = Bus_BranchTee_MVGrid_1_10<br>length = 0.322656877175863<br>x = 0.119611464045978<br>r = 0.119383044555069<br>s_nom = 7.27461339178928<br>num_parallel = 1.0<br>type_info = 48-AL1/8-ST1A<br>kind = cable",
          "Line_10020<br>Loading = 2.55555555563524<br>bus0 = Bus_BranchTee_MVGrid_1_8<br>bus1 = Bus_GeneratorFluctuating_5<br>length = 0.001<br>x = 0.000370707933124<br>r = 0.00037<br>s_nom = 7.27461339178928<br>num_parallel = 1.0<br>type_info = 48-AL1/8-ST1A<br>kind = cable",
          "Line_10013<br>Loading = 3.388888888889109<br>bus0 = Bus_BranchTee_MVGrid_1_3<br>bus1 = Bus_GeneratorFluctuating_6<br>length = 0.307472748812273<br>x = 0.113982587204028<br>r = 0.113764917060541<br>s_nom = 7.27461339178928<br>num_parallel = 1.0<br>type_info = 48-AL1/8-ST1A<br>kind = cable",
          "Line_10018<br>Loading = 3.3333333333336754<br>bus0 = Bus_GeneratorFluctuating_7<br>bus1 = Bus_BranchTee_MVGrid_1_7<br>length = 0.468278333841994<br>x = 0.173594493265127<br>r = 0.173262983521538<br>s_nom = 7.27461339178928<br>num_parallel = 1.0<br>type_info = 48-AL1/8-ST1A<br>kind = cable",
          "Line_10032<br>Loading = 3.3333333334540964<br>bus0 = BusBar_MVGrid_1_LVGrid_4_MV<br>bus1 = Bus_GeneratorFluctuating_8<br>length = 0.001<br>x = 0.000370707933124<br>r = 0.00037<br>s_nom = 7.27461339178928<br>num_parallel = 1.0<br>type_info = 48-AL1/8-ST1A<br>kind = cable",
          "Line_10007<br>Loading = 4.295331181276145<br>bus0 = Bus_BranchTee_MVGrid_1_1<br>bus1 = BusBar_MVGrid_1_LVGrid_1_MV<br>length = 0.722445826838636<br>x = 0.267816399261118<br>r = 0.267304955930295<br>s_nom = 7.27461339178928<br>num_parallel = 1.0<br>type_info = NA2XS2Y 3x1x185 RM/25<br>kind = line",
          "Line_10008<br>Loading = 4.258340932470252<br>bus0 = Bus_BranchTee_MVGrid_1_2<br>bus1 = BusBar_MVGrid_1_LVGrid_1_MV<br>length = 0.132867031507129<br>x = 0.049254862630276<br>r = 0.049160801657638<br>s_nom = 7.27461339178928<br>num_parallel = 1.0<br>type_info = 48-AL1/8-ST1A<br>kind = line",
          "Line_10009<br>Loading = 0.8662193059188412<br>bus0 = Bus_BranchTee_MVGrid_1_2<br>bus1 = BusBar_MVGrid_1_LVGrid_2_MV<br>length = 0.705785336662554<br>x = 0.261640223383117<br>r = 0.261140574565145<br>s_nom = 7.27461339178928<br>num_parallel = 1.0<br>type_info = 48-AL1/8-ST1A<br>kind = line",
          "Line_10010<br>Loading = 3.3924237024958175<br>bus0 = Bus_BranchTee_MVGrid_1_2<br>bus1 = BusBar_MVGrid_1_LVGrid_5_MV<br>length = 0.012061682815469<br>x = 0.004471361506515<br>r = 0.004462822641724<br>s_nom = 7.27461339178928<br>num_parallel = 1.0<br>type_info = 48-AL1/8-ST1A<br>kind = line",
          "Line_10012<br>Loading = 3.387388881320882<br>bus0 = Bus_BranchTee_MVGrid_1_3<br>bus1 = BusBar_MVGrid_1_LVGrid_5_MV<br>length = 0.926662521213033<br>x = 0.343521147941983<br>r = 0.342865132848822<br>s_nom = 7.27461339178928<br>num_parallel = 1.0<br>type_info = 48-AL1/8-ST1A<br>kind = line",
          "Line_10016<br>Loading = 0.0<br>bus0 = Bus_BranchTee_MVGrid_1_3<br>bus1 = virtual_BusBar_MVGrid_1_LVGrid_9_MV<br>length = 0.661777693745236<br>x = 0.245326241035596<br>r = 0.244857746685737<br>s_nom = 7.27461339178928<br>num_parallel = 1.0<br>type_info = 48-AL1/8-ST1A<br>kind = cable",
          "Line_10014<br>Loading = 0.15449628252570394<br>bus0 = Bus_BranchTee_MVGrid_1_4<br>bus1 = BusBar_MVGrid_1_LVGrid_6_MV<br>length = 0.785931969351047<br>x = 0.291351215933884<br>r = 0.290794828659887<br>s_nom = 7.27461339178928<br>num_parallel = 1.0<br>type_info = 48-AL1/8-ST1A<br>kind = cable",
          "Line_10026<br>Loading = 7.7516762238504064<br>bus0 = Bus_BranchTee_MVGrid_1_5<br>bus1 = Bus_BranchTee_MVGrid_1_10<br>length = 0.41419799375453<br>x = 0.076773241084341<br>r = 0.076626628844588<br>s_nom = 14.54922678357856<br>num_parallel = 2.0<br>type_info = 48-AL1/8-ST1A<br>kind = cable",
          "Line_10017<br>Loading = 8.490087323796033<br>bus0 = Bus_BranchTee_MVGrid_1_6<br>bus1 = Bus_BranchTee_MVGrid_1_7<br>length = 0.690714941884979<br>x = 0.1280267542418825<br>r = 0.127782264248721<br>s_nom = 14.54922678357856<br>num_parallel = 2.0<br>type_info = 48-AL1/8-ST1A<br>kind = cable",
          "Line_10019<br>Loading = 5.1635049484575575<br>bus0 = Bus_BranchTee_MVGrid_1_8<br>bus1 = Bus_BranchTee_MVGrid_1_7<br>length = 0.403852029<br>x = 0.14971115095836<br>r = 0.14942525073<br>s_nom = 7.27461339178928<br>num_parallel = 1.0<br>type_info = 48-AL1/8-ST1A<br>kind = cable",
          "Line_10021<br>Loading = 2.6119294581633925<br>bus0 = Bus_BranchTee_MVGrid_1_8<br>bus1 = BusBar_MVGrid_1_LVGrid_8_MV<br>length = 1.378502271<br>x = 0.511021727688593<br>r = 0.51004584027<br>s_nom = 7.27461339178928<br>num_parallel = 1.0<br>type_info = 48-AL1/8-ST1A<br>kind = cable",
          "Line_10022<br>Loading = 2.5852304202593177<br>bus0 = Bus_BranchTee_MVGrid_1_9<br>bus1 = BusBar_MVGrid_1_LVGrid_8_MV<br>length = 0.437506744572693<br>x = 0.162187221008176<br>r = 0.161877495491896<br>s_nom = 7.27461339178928<br>num_parallel = 1.0<br>type_info = 48-AL1/8-ST1A<br>kind = cable",
          "Line_10023<br>Loading = 2.585931287061067<br>bus0 = Bus_BranchTee_MVGrid_1_9<br>bus1 = BusBar_MVGrid_1_LVGrid_3_MV<br>length = 0.251147233966026<br>x = 0.093102272013254<br>r = 0.09292447656743<br>s_nom = 7.27461339178928<br>num_parallel = 1.0<br>type_info = 48-AL1/8-ST1A<br>kind = cable",
          "Line_10031<br>Loading = 0.0<br>bus0 = Bus_BranchTee_MVGrid_1_9<br>bus1 = virtual_BusBar_MVGrid_1_LVGrid_4_MV<br>length = 0.543380191002877<br>x = 0.201435347506981<br>r = 0.201050670671064<br>s_nom = 7.27461339178928<br>num_parallel = 1.0<br>type_info = 48-AL1/8-ST1A<br>kind = cable",
          "Line_10028<br>Loading = 5.936878912504851<br>bus0 = Bus_BranchTee_MVGrid_1_11<br>bus1 = Bus_BranchTee_MVGrid_1_10<br>length = 0.502639122266729<br>x = 0.186332310122557<br>r = 0.18597647523869<br>s_nom = 7.27461339178928<br>num_parallel = 1.0<br>type_info = 48-AL1/8-ST1A<br>kind = cable",
          "Line_10030<br>Loading = 3.417076743368679<br>bus0 = Bus_BranchTee_MVGrid_1_11<br>bus1 = BusBar_MVGrid_1_LVGrid_4_MV<br>length = 0.262336104334286<br>x = 0.097250075021459<br>r = 0.097064358603686<br>s_nom = 7.27461339178928<br>num_parallel = 1.0<br>type_info = 48-AL1/8-ST1A<br>kind = cable",
          "Line_10024<br>Loading = 0.06930884905074822<br>bus0 = BusBar_MVGrid_1_LVGrid_7_MV<br>bus1 = BusBar_MVGrid_1_LVGrid_3_MV<br>length = 0.9840075060051<br>x = 0.364779388729255<br>r = 0.364082777221887<br>s_nom = 7.27461339178928<br>num_parallel = 1.0<br>type_info = 48-AL1/8-ST1A<br>kind = cable",
          "Line_10015<br>Loading = 0.06819179761647355<br>bus0 = BusBar_MVGrid_1_LVGrid_6_MV<br>bus1 = BusBar_MVGrid_1_LVGrid_9_MV<br>length = 0.491545784577804<br>x = 0.182219921836454<br>r = 0.181871940293787<br>s_nom = 7.27461339178928<br>num_parallel = 1.0<br>type_info = 48-AL1/8-ST1A<br>kind = cable"
         ],
         "type": "scatter",
         "x": [
          1081207.9922094196,
          1081375.814579037,
          1081648.668662732,
          1081787.7626315895,
          1079862.1723515382,
          1089926.6166197686,
          1085207.664445059,
          1083437.2243151003,
          1084368.2558014742,
          1080589.923052351,
          1083096.4361433163,
          1086846.3087923015,
          1080944.9983778745,
          1080565.9627882782,
          1080054.819966822,
          1080549.2756892983,
          1080904.736459082,
          1080987.6710673957,
          1081228.6302155023,
          1082641.0805019233,
          1082614.980788528,
          1083844.9732160307,
          1085622.3165294235,
          1087135.660176021,
          1088581.9986916706,
          1087305.3500541644,
          1084328.6573084593,
          1086087.8219274436,
          1089549.536575093,
          1081108.4611129179
         ],
         "y": [
          5068859.676773131,
          5068828.261489303,
          5068886.213724926,
          5068509.278971788,
          5068108.302509077,
          5064785.560283304,
          5068019.753572989,
          5068796.773699408,
          5067335.053160445,
          5066737.340190534,
          5067216.180371832,
          5068345.636600375,
          5068639.664143086,
          5068289.196759984,
          5068102.902552589,
          5067674.5367030185,
          5067156.462354379,
          5066659.380815058,
          5067842.805404579,
          5068790.631506622,
          5067817.821262679,
          5067293.784598574,
          5066267.164877621,
          5065137.380109424,
          5064765.452979824,
          5066482.949256838,
          5068644.110480683,
          5068367.791333122,
          5064628.6782385735,
          5066669.390283436
         ]
        },
        {
         "hoverinfo": "none",
         "line": {
          "color": "black",
          "width": 2
         },
         "mode": "lines",
         "opacity": 0.4,
         "type": "scatter",
         "x": [
          1081450.5805416484,
          1080965.4038771912,
          null
         ],
         "y": [
          5068919.790081119,
          5068799.563465143,
          null
         ]
        },
        {
         "hoverinfo": "none",
         "line": {
          "color": "black",
          "width": 2
         },
         "mode": "lines",
         "opacity": 0.4,
         "type": "scatter",
         "x": [
          1081450.5805416484,
          1081301.048616426,
          null
         ],
         "y": [
          5068919.790081119,
          5068736.732897487,
          null
         ]
        },
        {
         "hoverinfo": "none",
         "line": {
          "color": "lightgreen",
          "width": 2
         },
         "mode": "lines",
         "opacity": 0.4,
         "type": "scatter",
         "x": [
          1081450.5805416484,
          1081846.7567838156,
          null
         ],
         "y": [
          5068919.790081119,
          5068852.637368732,
          null
         ]
        },
        {
         "hoverinfo": "none",
         "line": {
          "color": "lightgreen",
          "width": 2
         },
         "mode": "lines",
         "opacity": 0.4,
         "type": "scatter",
         "x": [
          1081450.5805416484,
          1082124.9447215311,
          null
         ],
         "y": [
          5068919.790081119,
          5068098.767862457,
          null
         ]
        },
        {
         "hoverinfo": "none",
         "line": {
          "color": "black",
          "width": 2
         },
         "mode": "lines",
         "opacity": 0.4,
         "type": "scatter",
         "x": [
          1079822.0374674322,
          1079902.3072356447,
          null
         ],
         "y": [
          5068109.428611916,
          5068107.176406238,
          null
         ]
        },
        {
         "hoverinfo": "none",
         "line": {
          "color": "black",
          "width": 2
         },
         "mode": "lines",
         "opacity": 0.4,
         "type": "scatter",
         "x": [
          1090300.8527259273,
          1089552.3805136094,
          null
         ],
         "y": [
          5064831.339604814,
          5064739.780961795,
          null
         ]
        },
        {
         "hoverinfo": "none",
         "line": {
          "color": "black",
          "width": 2
         },
         "mode": "lines",
         "opacity": 0.4,
         "type": "scatter",
         "x": [
          1085193.41849323,
          1085221.910396888,
          null
         ],
         "y": [
          5067479.911829123,
          5068559.595316855,
          null
         ]
        },
        {
         "hoverinfo": "none",
         "line": {
          "color": "black",
          "width": 2
         },
         "mode": "lines",
         "opacity": 0.4,
         "type": "scatter",
         "x": [
          1083439.0444101696,
          1083435.404220031,
          null
         ],
         "y": [
          5068864.921754306,
          5068728.625644512,
          null
         ]
        },
        {
         "hoverinfo": "none",
         "line": {
          "color": "black",
          "width": 2
         },
         "mode": "lines",
         "opacity": 0.4,
         "type": "scatter",
         "x": [
          1084151.5820264118,
          1084584.9295765366,
          null
         ],
         "y": [
          5067619.411786642,
          5067050.694534248,
          null
         ]
        },
        {
         "hoverinfo": "none",
         "line": {
          "color": "black",
          "width": 2
         },
         "mode": "lines",
         "opacity": 0.4,
         "type": "scatter",
         "x": [
          1080261.5918671354,
          1080918.2542375666,
          null
         ],
         "y": [
          5066412.200379407,
          5067062.480001659,
          null
         ]
        },
        {
         "hoverinfo": "none",
         "line": {
          "color": "black",
          "width": 2
         },
         "mode": "lines",
         "opacity": 0.4,
         "type": "scatter",
         "x": [
          1083087.8554311087,
          1083105.0168555244,
          null
         ],
         "y": [
          5066895.486080762,
          5067536.874662901,
          null
         ]
        },
        {
         "hoverinfo": "none",
         "line": {
          "color": "black",
          "width": 2
         },
         "mode": "lines",
         "opacity": 0.4,
         "type": "scatter",
         "x": [
          1086738.8841266031,
          1086953.7334579993,
          null
         ],
         "y": [
          5068515.285851361,
          5068175.987349389,
          null
         ]
        },
        {
         "hoverinfo": "none",
         "line": {
          "color": "black",
          "width": 2
         },
         "mode": "lines",
         "opacity": 0.4,
         "type": "scatter",
         "x": [
          1080965.4038771912,
          1080924.5928785577,
          null
         ],
         "y": [
          5068799.563465143,
          5068479.76482103,
          null
         ]
        },
        {
         "hoverinfo": "none",
         "line": {
          "color": "black",
          "width": 2
         },
         "mode": "lines",
         "opacity": 0.4,
         "type": "scatter",
         "x": [
          1080207.3326979992,
          1080924.5928785577,
          null
         ],
         "y": [
          5068098.6286989385,
          5068479.76482103,
          null
         ]
        },
        {
         "hoverinfo": "none",
         "line": {
          "color": "black",
          "width": 2
         },
         "mode": "lines",
         "opacity": 0.4,
         "type": "scatter",
         "x": [
          1080207.3326979992,
          1079902.3072356447,
          null
         ],
         "y": [
          5068098.6286989385,
          5068107.176406238,
          null
         ]
        },
        {
         "hoverinfo": "none",
         "line": {
          "color": "black",
          "width": 2
         },
         "mode": "lines",
         "opacity": 0.4,
         "type": "scatter",
         "x": [
          1080207.3326979992,
          1080891.2186805978,
          null
         ],
         "y": [
          5068098.6286989385,
          5067250.4447070975,
          null
         ]
        },
        {
         "hoverinfo": "none",
         "line": {
          "color": "black",
          "width": 2
         },
         "mode": "lines",
         "opacity": 0.4,
         "type": "scatter",
         "x": [
          1080918.2542375666,
          1080891.2186805978,
          null
         ],
         "y": [
          5067062.480001659,
          5067250.4447070975,
          null
         ]
        },
        {
         "hoverinfo": "none",
         "line": {
          "color": "black",
          "width": 2
         },
         "mode": "lines",
         "opacity": 0.4,
         "type": "scatter",
         "x": [
          1080918.2542375666,
          1081057.0878972248,
          null
         ],
         "y": [
          5067062.480001659,
          5066256.281628456,
          null
         ]
        },
        {
         "hoverinfo": "none",
         "line": {
          "color": "black",
          "width": 2
         },
         "mode": "lines",
         "opacity": 0.4,
         "type": "scatter",
         "x": [
          1081301.048616426,
          1081156.2118145786,
          null
         ],
         "y": [
          5068736.732897487,
          5066948.877911672,
          null
         ]
        },
        {
         "hoverinfo": "none",
         "line": {
          "color": "lightgreen",
          "width": 2
         },
         "mode": "lines",
         "opacity": 0.4,
         "type": "scatter",
         "x": [
          1081846.7567838156,
          1083435.404220031,
          null
         ],
         "y": [
          5068852.637368732,
          5068728.625644512,
          null
         ]
        },
        {
         "hoverinfo": "none",
         "line": {
          "color": "lightgreen",
          "width": 2
         },
         "mode": "lines",
         "opacity": 0.4,
         "type": "scatter",
         "x": [
          1082124.9447215311,
          1083105.0168555244,
          null
         ],
         "y": [
          5068098.767862457,
          5067536.874662901,
          null
         ]
        },
        {
         "hoverinfo": "none",
         "line": {
          "color": "black",
          "width": 2
         },
         "mode": "lines",
         "opacity": 0.4,
         "type": "scatter",
         "x": [
          1083105.0168555244,
          1084584.9295765366,
          null
         ],
         "y": [
          5067536.874662901,
          5067050.694534248,
          null
         ]
        },
        {
         "hoverinfo": "none",
         "line": {
          "color": "black",
          "width": 2
         },
         "mode": "lines",
         "opacity": 0.4,
         "type": "scatter",
         "x": [
          1084584.9295765366,
          1086659.7034823103,
          null
         ],
         "y": [
          5067050.694534248,
          5065483.635220994,
          null
         ]
        },
        {
         "hoverinfo": "none",
         "line": {
          "color": "black",
          "width": 2
         },
         "mode": "lines",
         "opacity": 0.4,
         "type": "scatter",
         "x": [
          1087611.6168697318,
          1086659.7034823103,
          null
         ],
         "y": [
          5064791.124997852,
          5065483.635220994,
          null
         ]
        },
        {
         "hoverinfo": "none",
         "line": {
          "color": "black",
          "width": 2
         },
         "mode": "lines",
         "opacity": 0.4,
         "type": "scatter",
         "x": [
          1087611.6168697318,
          1089552.3805136094,
          null
         ],
         "y": [
          5064791.124997852,
          5064739.780961795,
          null
         ]
        },
        {
         "hoverinfo": "none",
         "line": {
          "color": "black",
          "width": 2
         },
         "mode": "lines",
         "opacity": 0.4,
         "type": "scatter",
         "x": [
          1087611.6168697318,
          1086999.083238597,
          null
         ],
         "y": [
          5064791.124997852,
          5068174.773515824,
          null
         ]
        },
        {
         "hoverinfo": "none",
         "line": {
          "color": "black",
          "width": 2
         },
         "mode": "lines",
         "opacity": 0.4,
         "type": "scatter",
         "x": [
          1083435.404220031,
          1085221.910396888,
          null
         ],
         "y": [
          5068728.625644512,
          5068559.595316855,
          null
         ]
        },
        {
         "hoverinfo": "none",
         "line": {
          "color": "black",
          "width": 2
         },
         "mode": "lines",
         "opacity": 0.4,
         "type": "scatter",
         "x": [
          1085221.910396888,
          1086953.7334579993,
          null
         ],
         "y": [
          5068559.595316855,
          5068175.987349389,
          null
         ]
        },
        {
         "hoverinfo": "none",
         "line": {
          "color": "black",
          "width": 2
         },
         "mode": "lines",
         "opacity": 0.4,
         "type": "scatter",
         "x": [
          1089552.3805136094,
          1089546.692636576,
          null
         ],
         "y": [
          5064739.780961795,
          5064517.575515352,
          null
         ]
        },
        {
         "hoverinfo": "none",
         "line": {
          "color": "black",
          "width": 2
         },
         "mode": "lines",
         "opacity": 0.4,
         "type": "scatter",
         "x": [
          1081156.2118145786,
          1081060.710411257,
          null
         ],
         "y": [
          5066948.877911672,
          5066389.9026552,
          null
         ]
        },
        {
         "hoverinfo": "text",
         "marker": {
          "color": [
           4,
           1,
           1,
           1,
           1,
           1,
           1,
           1,
           1,
           2,
           3,
           3,
           2,
           2,
           2,
           3,
           3,
           3,
           3,
           3,
           2,
           2,
           3,
           2,
           2,
           2,
           1,
           2,
           1,
           1,
           1
          ],
          "colorbar": {
           "thickness": 15,
           "title": {
            "side": "right",
            "text": "Node Connections"
           },
           "xanchor": "left"
          },
          "colorscale": [
           [
            0,
            "rgb(255,255,217)"
           ],
           [
            0.125,
            "rgb(237,248,177)"
           ],
           [
            0.25,
            "rgb(199,233,180)"
           ],
           [
            0.375,
            "rgb(127,205,187)"
           ],
           [
            0.5,
            "rgb(65,182,196)"
           ],
           [
            0.625,
            "rgb(29,145,192)"
           ],
           [
            0.75,
            "rgb(34,94,168)"
           ],
           [
            0.875,
            "rgb(37,52,148)"
           ],
           [
            1,
            "rgb(8,29,88)"
           ]
          ],
          "line": {
           "width": 2
          },
          "reversescale": true,
          "showscale": true,
          "size": 8
         },
         "mode": "markers",
         "text": [
          "Bus_MVStation_1<br>peak_load = 0.0<br>p_nom_gen = 0.0<br>v = 1.0<br>Neighbors = 4<br>v_nom = 20.0<br>x = 7.94859122759009<br>y = 48.0844553685898<br>mv_grid_id = 1<br>lv_grid_id = nan<br>in_building = False",
          "Bus_Generator_1<br>peak_load = 0.0<br>p_nom_gen = 0.775<br>v = 1.001989118723874<br>Neighbors = 1<br>v_nom = 20.0<br>x = 7.9270478194687<br>y = 48.076758003523<br>mv_grid_id = 1<br>lv_grid_id = nan<br>in_building = False",
          "Bus_GeneratorFluctuating_2<br>peak_load = 0.0<br>p_nom_gen = 2.3<br>v = 1.0062315934515431<br>Neighbors = 1<br>v_nom = 20.0<br>x = 8.06868539549975<br>y = 48.0498283526783<br>mv_grid_id = 1<br>lv_grid_id = nan<br>in_building = False",
          "Bus_GeneratorFluctuating_3<br>peak_load = 0.0<br>p_nom_gen = 2.67<br>v = 1.0031631446086093<br>Neighbors = 1<br>v_nom = 20.0<br>x = 7.99929765404084<br>y = 48.0724282356729<br>mv_grid_id = 1<br>lv_grid_id = nan<br>in_building = False",
          "Bus_GeneratorFluctuating_4<br>peak_load = 0.0<br>p_nom_gen = 1.93<br>v = 1.001925307708865<br>Neighbors = 1<br>v_nom = 20.0<br>x = 7.9752788204589<br>y = 48.0844553685898<br>mv_grid_id = 1<br>lv_grid_id = nan<br>in_building = False",
          "Bus_GeneratorFluctuating_5<br>peak_load = 0.0<br>p_nom_gen = 2.3<br>v = 1.0026233663681856<br>Neighbors = 1<br>v_nom = 20.0<br>x = 7.9852788204589<br>y = 48.0734282356729<br>mv_grid_id = 1<br>lv_grid_id = nan<br>in_building = False",
          "Bus_GeneratorFluctuating_6<br>peak_load = 0.0<br>p_nom_gen = 3.05<br>v = 1.0034663566776956<br>Neighbors = 1<br>v_nom = 20.0<br>x = 7.93356211845248<br>y = 48.0616038160476<br>mv_grid_id = 1<br>lv_grid_id = nan<br>in_building = False",
          "Bus_GeneratorFluctuating_7<br>peak_load = 0.0<br>p_nom_gen = 3.0<br>v = 1.0024154963440217<br>Neighbors = 1<br>v_nom = 20.0<br>x = 7.97127568152858<br>y = 48.0666552118727<br>mv_grid_id = 1<br>lv_grid_id = nan<br>in_building = False",
          "Bus_GeneratorFluctuating_8<br>peak_load = 0.0<br>p_nom_gen = 3.0<br>v = 1.0033307497286326<br>Neighbors = 1<br>v_nom = 20.0<br>x = 8.01965714512685<br>y = 48.0821153215746<br>mv_grid_id = 1<br>lv_grid_id = nan<br>in_building = False",
          "Bus_BranchTee_MVGrid_1_1<br>peak_load = 0.0<br>p_nom_gen = 0.0<br>v = 1.00014885839648<br>Neighbors = 2<br>v_nom = 20.0<br>x = 7.94212820515367<br>y = 48.0832526552981<br>mv_grid_id = 1<br>lv_grid_id = nan<br>in_building = False",
          "Bus_BranchTee_MVGrid_1_2<br>peak_load = 0.0<br>p_nom_gen = 0.0<br>v = 1.0016764322448268<br>Neighbors = 3<br>v_nom = 20.0<br>x = 7.93221823741783<br>y = 48.076758003523<br>mv_grid_id = 1<br>lv_grid_id = nan<br>in_building = False",
          "Bus_BranchTee_MVGrid_1_3<br>peak_load = 0.0<br>p_nom_gen = 0.0<br>v = 1.0030221971969562<br>Neighbors = 3<br>v_nom = 20.0<br>x = 7.94212820515367<br>y = 48.0676173825061<br>mv_grid_id = 1<br>lv_grid_id = nan<br>in_building = False",
          "Bus_BranchTee_MVGrid_1_4<br>peak_load = 0.0<br>p_nom_gen = 0.0<br>v = 0.9999589088360669<br>Neighbors = 2<br>v_nom = 20.0<br>x = 7.94665232085917<br>y = 48.0827715699814<br>mv_grid_id = 1<br>lv_grid_id = nan<br>in_building = False",
          "Bus_BranchTee_MVGrid_1_5<br>peak_load = 0.0<br>p_nom_gen = 0.0<br>v = 1.0009942819158217<br>Neighbors = 2<br>v_nom = 20.0<br>x = 7.95392874616385<br>y = 48.0839502290073<br>mv_grid_id = 1<br>lv_grid_id = nan<br>in_building = False",
          "Bus_BranchTee_MVGrid_1_6<br>peak_load = 0.0<br>p_nom_gen = 0.0<br>v = 1.0005241956759994<br>Neighbors = 2<br>v_nom = 20.0<br>x = 7.95793188509418<br>y = 48.0772390888396<br>mv_grid_id = 1<br>lv_grid_id = nan<br>in_building = False",
          "Bus_BranchTee_MVGrid_1_7<br>peak_load = 0.0<br>p_nom_gen = 0.0<br>v = 1.0017500559736352<br>Neighbors = 3<br>v_nom = 20.0<br>x = 7.97127568152858<br>y = 48.0724282356729<br>mv_grid_id = 1<br>lv_grid_id = nan<br>in_building = False",
          "Bus_BranchTee_MVGrid_1_8<br>peak_load = 0.0<br>p_nom_gen = 0.0<br>v = 1.0026222741053312<br>Neighbors = 3<br>v_nom = 20.0<br>x = 7.99129137618019<br>y = 48.0684191913672<br>mv_grid_id = 1<br>lv_grid_id = nan<br>in_building = False",
          "Bus_BranchTee_MVGrid_1_9<br>peak_load = 0.0<br>p_nom_gen = 0.0<br>v = 1.0045879343939914<br>Neighbors = 3<br>v_nom = 20.0<br>x = 8.03265714512685<br>y = 48.0488283526783<br>mv_grid_id = 1<br>lv_grid_id = nan<br>in_building = False",
          "Bus_BranchTee_MVGrid_1_10<br>peak_load = 0.0<br>p_nom_gen = 0.0<br>v = 1.0016740229787398<br>Neighbors = 3<br>v_nom = 20.0<br>x = 7.9752788204589<br>y = 48.0832286010323<br>mv_grid_id = 1<br>lv_grid_id = nan<br>in_building = False",
          "Bus_BranchTee_MVGrid_1_11<br>peak_load = 0.0<br>p_nom_gen = 0.0<br>v = 1.0029442890481626<br>Neighbors = 3<br>v_nom = 20.0<br>x = 7.99929765404084<br>y = 48.0821461590697<br>mv_grid_id = 1<br>lv_grid_id = nan<br>in_building = False",
          "BusBar_MVGrid_1_LVGrid_1_MV<br>peak_load = 0.0<br>p_nom_gen = 0.0<br>v = 1.001438840548276<br>Neighbors = 2<br>v_nom = 20.0<br>x = 7.94169733699125<br>y = 48.080366143398<br>mv_grid_id = 1<br>lv_grid_id = nan<br>in_building = False",
          "BusBar_MVGrid_1_LVGrid_2_MV<br>peak_load = 0.0<br>p_nom_gen = 0.0<br>v = 1.0019379857764648<br>Neighbors = 2<br>v_nom = 20.0<br>x = 7.92812498987477<br>y = 48.076758003523<br>mv_grid_id = 1<br>lv_grid_id = nan<br>in_building = False",
          "BusBar_MVGrid_1_LVGrid_3_MV<br>peak_load = 0.0<br>p_nom_gen = 0.0<br>v = 1.0048602823930775<br>Neighbors = 3<br>v_nom = 20.0<br>x = 8.05868539549975<br>y = 48.0488283526783<br>mv_grid_id = 1<br>lv_grid_id = nan<br>in_building = False",
          "BusBar_MVGrid_1_LVGrid_4_MV<br>peak_load = 0.0<br>p_nom_gen = 0.0<br>v = 1.0033293260443654<br>Neighbors = 2<br>v_nom = 20.0<br>x = 8.02265714512685<br>y = 48.0791153215746<br>mv_grid_id = 1<br>lv_grid_id = nan<br>in_building = False",
          "BusBar_MVGrid_1_LVGrid_5_MV<br>peak_load = 0.0<br>p_nom_gen = 0.0<br>v = 1.0016935593370215<br>Neighbors = 2<br>v_nom = 20.0<br>x = 7.94169733699125<br>y = 48.0693011811144<br>mv_grid_id = 1<br>lv_grid_id = nan<br>in_building = False",
          "BusBar_MVGrid_1_LVGrid_6_MV<br>peak_load = 0.0<br>p_nom_gen = 0.0<br>v = 0.999816108030442<br>Neighbors = 2<br>v_nom = 20.0<br>x = 7.94535971637188<br>y = 48.0666552118727<br>mv_grid_id = 1<br>lv_grid_id = nan<br>in_building = False",
          "BusBar_MVGrid_1_LVGrid_7_MV<br>peak_load = 0.0<br>p_nom_gen = 0.0<br>v = 1.0048765188347117<br>Neighbors = 1<br>v_nom = 20.0<br>x = 8.05868539549975<br>y = 48.0468283526783<br>mv_grid_id = 1<br>lv_grid_id = nan<br>in_building = False",
          "BusBar_MVGrid_1_LVGrid_8_MV<br>peak_load = 0.0<br>p_nom_gen = 0.0<br>v = 1.0041150222827842<br>Neighbors = 2<br>v_nom = 20.0<br>x = 8.01965714512685<br>y = 48.0548283526783<br>mv_grid_id = 1<br>lv_grid_id = nan<br>in_building = False",
          "BusBar_MVGrid_1_LVGrid_9_MV<br>peak_load = 0.0<br>p_nom_gen = 0.0<br>v = 0.9997767794359788<br>Neighbors = 1<br>v_nom = 20.0<br>x = 7.94428254596581<br>y = 48.0616038160476<br>mv_grid_id = 1<br>lv_grid_id = nan<br>in_building = False",
          "virtual_BusBar_MVGrid_1_LVGrid_9_MV<br>peak_load = 0.0<br>p_nom_gen = 0.0<br>v = 1.0030221971969562<br>Neighbors = 1<br>v_nom = 20.0<br>x = 7.94428254596581<br>y = 48.0604011027559<br>mv_grid_id = 1<br>lv_grid_id = nan<br>in_building = False",
          "virtual_BusBar_MVGrid_1_LVGrid_4_MV<br>peak_load = 0.0<br>p_nom_gen = 0.0<br>v = 1.0045879343939914<br>Neighbors = 1<br>v_nom = 20.0<br>x = 8.02326571451269<br>y = 48.0791153215746<br>mv_grid_id = 1<br>lv_grid_id = nan<br>in_building = False"
         ],
         "type": "scatter",
         "x": [
          1081450.5805416484,
          1079822.0374674322,
          1090300.8527259273,
          1085193.41849323,
          1083439.0444101696,
          1084151.5820264118,
          1080261.5918671354,
          1083087.8554311087,
          1086738.8841266031,
          1080965.4038771912,
          1080207.3326979992,
          1080918.2542375666,
          1081301.048616426,
          1081846.7567838156,
          1082124.9447215311,
          1083105.0168555244,
          1084584.9295765366,
          1087611.6168697318,
          1083435.404220031,
          1085221.910396888,
          1080924.5928785577,
          1079902.3072356447,
          1089552.3805136094,
          1086953.7334579993,
          1080891.2186805978,
          1081156.2118145786,
          1089546.692636576,
          1086659.7034823103,
          1081060.710411257,
          1081057.0878972248,
          1086999.083238597
         ],
         "y": [
          5068919.790081119,
          5068109.428611916,
          5064831.339604814,
          5067479.911829123,
          5068864.921754306,
          5067619.411786642,
          5066412.200379407,
          5066895.486080762,
          5068515.285851361,
          5068799.563465143,
          5068098.6286989385,
          5067062.480001659,
          5068736.732897487,
          5068852.637368732,
          5068098.767862457,
          5067536.874662901,
          5067050.694534248,
          5064791.124997852,
          5068728.625644512,
          5068559.595316855,
          5068479.76482103,
          5068107.176406238,
          5064739.780961795,
          5068175.987349389,
          5067250.4447070975,
          5066948.877911672,
          5064517.575515352,
          5065483.635220994,
          5066389.9026552,
          5066256.281628456,
          5068174.773515824
         ]
        }
       ],
       "layout": {
        "height": 500,
        "hovermode": "closest",
        "margin": {
         "b": 20,
         "l": 5,
         "r": 5,
         "t": 40
        },
        "showlegend": false,
        "template": {
         "data": {
          "bar": [
           {
            "error_x": {
             "color": "#2a3f5f"
            },
            "error_y": {
             "color": "#2a3f5f"
            },
            "marker": {
             "line": {
              "color": "#E5ECF6",
              "width": 0.5
             },
             "pattern": {
              "fillmode": "overlay",
              "size": 10,
              "solidity": 0.2
             }
            },
            "type": "bar"
           }
          ],
          "barpolar": [
           {
            "marker": {
             "line": {
              "color": "#E5ECF6",
              "width": 0.5
             },
             "pattern": {
              "fillmode": "overlay",
              "size": 10,
              "solidity": 0.2
             }
            },
            "type": "barpolar"
           }
          ],
          "carpet": [
           {
            "aaxis": {
             "endlinecolor": "#2a3f5f",
             "gridcolor": "white",
             "linecolor": "white",
             "minorgridcolor": "white",
             "startlinecolor": "#2a3f5f"
            },
            "baxis": {
             "endlinecolor": "#2a3f5f",
             "gridcolor": "white",
             "linecolor": "white",
             "minorgridcolor": "white",
             "startlinecolor": "#2a3f5f"
            },
            "type": "carpet"
           }
          ],
          "choropleth": [
           {
            "colorbar": {
             "outlinewidth": 0,
             "ticks": ""
            },
            "type": "choropleth"
           }
          ],
          "contour": [
           {
            "colorbar": {
             "outlinewidth": 0,
             "ticks": ""
            },
            "colorscale": [
             [
              0,
              "#0d0887"
             ],
             [
              0.1111111111111111,
              "#46039f"
             ],
             [
              0.2222222222222222,
              "#7201a8"
             ],
             [
              0.3333333333333333,
              "#9c179e"
             ],
             [
              0.4444444444444444,
              "#bd3786"
             ],
             [
              0.5555555555555556,
              "#d8576b"
             ],
             [
              0.6666666666666666,
              "#ed7953"
             ],
             [
              0.7777777777777778,
              "#fb9f3a"
             ],
             [
              0.8888888888888888,
              "#fdca26"
             ],
             [
              1,
              "#f0f921"
             ]
            ],
            "type": "contour"
           }
          ],
          "contourcarpet": [
           {
            "colorbar": {
             "outlinewidth": 0,
             "ticks": ""
            },
            "type": "contourcarpet"
           }
          ],
          "heatmap": [
           {
            "colorbar": {
             "outlinewidth": 0,
             "ticks": ""
            },
            "colorscale": [
             [
              0,
              "#0d0887"
             ],
             [
              0.1111111111111111,
              "#46039f"
             ],
             [
              0.2222222222222222,
              "#7201a8"
             ],
             [
              0.3333333333333333,
              "#9c179e"
             ],
             [
              0.4444444444444444,
              "#bd3786"
             ],
             [
              0.5555555555555556,
              "#d8576b"
             ],
             [
              0.6666666666666666,
              "#ed7953"
             ],
             [
              0.7777777777777778,
              "#fb9f3a"
             ],
             [
              0.8888888888888888,
              "#fdca26"
             ],
             [
              1,
              "#f0f921"
             ]
            ],
            "type": "heatmap"
           }
          ],
          "heatmapgl": [
           {
            "colorbar": {
             "outlinewidth": 0,
             "ticks": ""
            },
            "colorscale": [
             [
              0,
              "#0d0887"
             ],
             [
              0.1111111111111111,
              "#46039f"
             ],
             [
              0.2222222222222222,
              "#7201a8"
             ],
             [
              0.3333333333333333,
              "#9c179e"
             ],
             [
              0.4444444444444444,
              "#bd3786"
             ],
             [
              0.5555555555555556,
              "#d8576b"
             ],
             [
              0.6666666666666666,
              "#ed7953"
             ],
             [
              0.7777777777777778,
              "#fb9f3a"
             ],
             [
              0.8888888888888888,
              "#fdca26"
             ],
             [
              1,
              "#f0f921"
             ]
            ],
            "type": "heatmapgl"
           }
          ],
          "histogram": [
           {
            "marker": {
             "pattern": {
              "fillmode": "overlay",
              "size": 10,
              "solidity": 0.2
             }
            },
            "type": "histogram"
           }
          ],
          "histogram2d": [
           {
            "colorbar": {
             "outlinewidth": 0,
             "ticks": ""
            },
            "colorscale": [
             [
              0,
              "#0d0887"
             ],
             [
              0.1111111111111111,
              "#46039f"
             ],
             [
              0.2222222222222222,
              "#7201a8"
             ],
             [
              0.3333333333333333,
              "#9c179e"
             ],
             [
              0.4444444444444444,
              "#bd3786"
             ],
             [
              0.5555555555555556,
              "#d8576b"
             ],
             [
              0.6666666666666666,
              "#ed7953"
             ],
             [
              0.7777777777777778,
              "#fb9f3a"
             ],
             [
              0.8888888888888888,
              "#fdca26"
             ],
             [
              1,
              "#f0f921"
             ]
            ],
            "type": "histogram2d"
           }
          ],
          "histogram2dcontour": [
           {
            "colorbar": {
             "outlinewidth": 0,
             "ticks": ""
            },
            "colorscale": [
             [
              0,
              "#0d0887"
             ],
             [
              0.1111111111111111,
              "#46039f"
             ],
             [
              0.2222222222222222,
              "#7201a8"
             ],
             [
              0.3333333333333333,
              "#9c179e"
             ],
             [
              0.4444444444444444,
              "#bd3786"
             ],
             [
              0.5555555555555556,
              "#d8576b"
             ],
             [
              0.6666666666666666,
              "#ed7953"
             ],
             [
              0.7777777777777778,
              "#fb9f3a"
             ],
             [
              0.8888888888888888,
              "#fdca26"
             ],
             [
              1,
              "#f0f921"
             ]
            ],
            "type": "histogram2dcontour"
           }
          ],
          "mesh3d": [
           {
            "colorbar": {
             "outlinewidth": 0,
             "ticks": ""
            },
            "type": "mesh3d"
           }
          ],
          "parcoords": [
           {
            "line": {
             "colorbar": {
              "outlinewidth": 0,
              "ticks": ""
             }
            },
            "type": "parcoords"
           }
          ],
          "pie": [
           {
            "automargin": true,
            "type": "pie"
           }
          ],
          "scatter": [
           {
            "fillpattern": {
             "fillmode": "overlay",
             "size": 10,
             "solidity": 0.2
            },
            "type": "scatter"
           }
          ],
          "scatter3d": [
           {
            "line": {
             "colorbar": {
              "outlinewidth": 0,
              "ticks": ""
             }
            },
            "marker": {
             "colorbar": {
              "outlinewidth": 0,
              "ticks": ""
             }
            },
            "type": "scatter3d"
           }
          ],
          "scattercarpet": [
           {
            "marker": {
             "colorbar": {
              "outlinewidth": 0,
              "ticks": ""
             }
            },
            "type": "scattercarpet"
           }
          ],
          "scattergeo": [
           {
            "marker": {
             "colorbar": {
              "outlinewidth": 0,
              "ticks": ""
             }
            },
            "type": "scattergeo"
           }
          ],
          "scattergl": [
           {
            "marker": {
             "colorbar": {
              "outlinewidth": 0,
              "ticks": ""
             }
            },
            "type": "scattergl"
           }
          ],
          "scattermapbox": [
           {
            "marker": {
             "colorbar": {
              "outlinewidth": 0,
              "ticks": ""
             }
            },
            "type": "scattermapbox"
           }
          ],
          "scatterpolar": [
           {
            "marker": {
             "colorbar": {
              "outlinewidth": 0,
              "ticks": ""
             }
            },
            "type": "scatterpolar"
           }
          ],
          "scatterpolargl": [
           {
            "marker": {
             "colorbar": {
              "outlinewidth": 0,
              "ticks": ""
             }
            },
            "type": "scatterpolargl"
           }
          ],
          "scatterternary": [
           {
            "marker": {
             "colorbar": {
              "outlinewidth": 0,
              "ticks": ""
             }
            },
            "type": "scatterternary"
           }
          ],
          "surface": [
           {
            "colorbar": {
             "outlinewidth": 0,
             "ticks": ""
            },
            "colorscale": [
             [
              0,
              "#0d0887"
             ],
             [
              0.1111111111111111,
              "#46039f"
             ],
             [
              0.2222222222222222,
              "#7201a8"
             ],
             [
              0.3333333333333333,
              "#9c179e"
             ],
             [
              0.4444444444444444,
              "#bd3786"
             ],
             [
              0.5555555555555556,
              "#d8576b"
             ],
             [
              0.6666666666666666,
              "#ed7953"
             ],
             [
              0.7777777777777778,
              "#fb9f3a"
             ],
             [
              0.8888888888888888,
              "#fdca26"
             ],
             [
              1,
              "#f0f921"
             ]
            ],
            "type": "surface"
           }
          ],
          "table": [
           {
            "cells": {
             "fill": {
              "color": "#EBF0F8"
             },
             "line": {
              "color": "white"
             }
            },
            "header": {
             "fill": {
              "color": "#C8D4E3"
             },
             "line": {
              "color": "white"
             }
            },
            "type": "table"
           }
          ]
         },
         "layout": {
          "annotationdefaults": {
           "arrowcolor": "#2a3f5f",
           "arrowhead": 0,
           "arrowwidth": 1
          },
          "autotypenumbers": "strict",
          "coloraxis": {
           "colorbar": {
            "outlinewidth": 0,
            "ticks": ""
           }
          },
          "colorscale": {
           "diverging": [
            [
             0,
             "#8e0152"
            ],
            [
             0.1,
             "#c51b7d"
            ],
            [
             0.2,
             "#de77ae"
            ],
            [
             0.3,
             "#f1b6da"
            ],
            [
             0.4,
             "#fde0ef"
            ],
            [
             0.5,
             "#f7f7f7"
            ],
            [
             0.6,
             "#e6f5d0"
            ],
            [
             0.7,
             "#b8e186"
            ],
            [
             0.8,
             "#7fbc41"
            ],
            [
             0.9,
             "#4d9221"
            ],
            [
             1,
             "#276419"
            ]
           ],
           "sequential": [
            [
             0,
             "#0d0887"
            ],
            [
             0.1111111111111111,
             "#46039f"
            ],
            [
             0.2222222222222222,
             "#7201a8"
            ],
            [
             0.3333333333333333,
             "#9c179e"
            ],
            [
             0.4444444444444444,
             "#bd3786"
            ],
            [
             0.5555555555555556,
             "#d8576b"
            ],
            [
             0.6666666666666666,
             "#ed7953"
            ],
            [
             0.7777777777777778,
             "#fb9f3a"
            ],
            [
             0.8888888888888888,
             "#fdca26"
            ],
            [
             1,
             "#f0f921"
            ]
           ],
           "sequentialminus": [
            [
             0,
             "#0d0887"
            ],
            [
             0.1111111111111111,
             "#46039f"
            ],
            [
             0.2222222222222222,
             "#7201a8"
            ],
            [
             0.3333333333333333,
             "#9c179e"
            ],
            [
             0.4444444444444444,
             "#bd3786"
            ],
            [
             0.5555555555555556,
             "#d8576b"
            ],
            [
             0.6666666666666666,
             "#ed7953"
            ],
            [
             0.7777777777777778,
             "#fb9f3a"
            ],
            [
             0.8888888888888888,
             "#fdca26"
            ],
            [
             1,
             "#f0f921"
            ]
           ]
          },
          "colorway": [
           "#636efa",
           "#EF553B",
           "#00cc96",
           "#ab63fa",
           "#FFA15A",
           "#19d3f3",
           "#FF6692",
           "#B6E880",
           "#FF97FF",
           "#FECB52"
          ],
          "font": {
           "color": "#2a3f5f"
          },
          "geo": {
           "bgcolor": "white",
           "lakecolor": "white",
           "landcolor": "#E5ECF6",
           "showlakes": true,
           "showland": true,
           "subunitcolor": "white"
          },
          "hoverlabel": {
           "align": "left"
          },
          "hovermode": "closest",
          "mapbox": {
           "style": "light"
          },
          "paper_bgcolor": "white",
          "plot_bgcolor": "#E5ECF6",
          "polar": {
           "angularaxis": {
            "gridcolor": "white",
            "linecolor": "white",
            "ticks": ""
           },
           "bgcolor": "#E5ECF6",
           "radialaxis": {
            "gridcolor": "white",
            "linecolor": "white",
            "ticks": ""
           }
          },
          "scene": {
           "xaxis": {
            "backgroundcolor": "#E5ECF6",
            "gridcolor": "white",
            "gridwidth": 2,
            "linecolor": "white",
            "showbackground": true,
            "ticks": "",
            "zerolinecolor": "white"
           },
           "yaxis": {
            "backgroundcolor": "#E5ECF6",
            "gridcolor": "white",
            "gridwidth": 2,
            "linecolor": "white",
            "showbackground": true,
            "ticks": "",
            "zerolinecolor": "white"
           },
           "zaxis": {
            "backgroundcolor": "#E5ECF6",
            "gridcolor": "white",
            "gridwidth": 2,
            "linecolor": "white",
            "showbackground": true,
            "ticks": "",
            "zerolinecolor": "white"
           }
          },
          "shapedefaults": {
           "line": {
            "color": "#2a3f5f"
           }
          },
          "ternary": {
           "aaxis": {
            "gridcolor": "white",
            "linecolor": "white",
            "ticks": ""
           },
           "baxis": {
            "gridcolor": "white",
            "linecolor": "white",
            "ticks": ""
           },
           "bgcolor": "#E5ECF6",
           "caxis": {
            "gridcolor": "white",
            "linecolor": "white",
            "ticks": ""
           }
          },
          "title": {
           "x": 0.05
          },
          "xaxis": {
           "automargin": true,
           "gridcolor": "white",
           "linecolor": "white",
           "ticks": "",
           "title": {
            "standoff": 15
           },
           "zerolinecolor": "white",
           "zerolinewidth": 2
          },
          "yaxis": {
           "automargin": true,
           "gridcolor": "white",
           "linecolor": "white",
           "ticks": "",
           "title": {
            "standoff": 15
           },
           "zerolinecolor": "white",
           "zerolinewidth": 2
          }
         }
        },
        "title": {
         "font": {
          "size": 16
         }
        },
        "xaxis": {
         "showgrid": true,
         "showticklabels": true,
         "zeroline": true
        },
        "yaxis": {
         "scaleanchor": "x",
         "scaleratio": 1,
         "showgrid": true,
         "showticklabels": true,
         "zeroline": true
        }
       }
      },
      "text/html": [
       "<div>                            <div id=\"7c03434d-0782-416d-96ba-99a2a3c36a2c\" class=\"plotly-graph-div\" style=\"height:500px; width:100%;\"></div>            <script type=\"text/javascript\">                require([\"plotly\"], function(Plotly) {                    window.PLOTLYENV=window.PLOTLYENV || {};                                    if (document.getElementById(\"7c03434d-0782-416d-96ba-99a2a3c36a2c\")) {                    Plotly.newPlot(                        \"7c03434d-0782-416d-96ba-99a2a3c36a2c\",                        [{\"hoverinfo\":\"text\",\"marker\":{\"color\":\"white\",\"opacity\":0.0,\"size\":10},\"mode\":\"markers\",\"text\":[\"Line_10003<br>Loading = 4.289798241733044<br>bus0 = Bus_MVStation_1<br>bus1 = Bus_BranchTee_MVGrid_1_1<br>length = 0.083904310632546<br>x = 0.031103993574751<br>r = 0.031044594934042<br>s_nom = 7.27461339178928<br>num_parallel = 1.0<br>type_info = 48-AL1/8-ST1A<br>kind = line\",\"Line_10004<br>Loading = 0.15450263121854058<br>bus0 = Bus_MVStation_1<br>bus1 = Bus_BranchTee_MVGrid_1_4<br>length = 0.226148217025158<br>x = 0.083834938112983<br>r = 0.083674840299309<br>s_nom = 7.27461339178928<br>num_parallel = 1.0<br>type_info = 48-AL1/8-ST1A<br>kind = line\",\"Line_10005<br>Loading = 7.7464158971234465<br>bus0 = Bus_MVStation_1<br>bus1 = Bus_BranchTee_MVGrid_1_5<br>length = 0.543380191002877<br>x = 0.06486901021411257<br>r = 0.08911435132447183<br>s_nom = 12.366842766041781<br>num_parallel = 1.0<br>type_info = NA2XS2Y 3x1x185 RM/25<br>kind = cable\",\"Line_10006<br>Loading = 8.479697844991776<br>bus0 = Bus_MVStation_1<br>bus1 = Bus_BranchTee_MVGrid_1_6<br>length = 0.297650465459542<br>x = 0.0551706944218915<br>r = 0.0550653361100155<br>s_nom = 14.54922678357856<br>num_parallel = 2.0<br>type_info = NA2XS2Y 3x1x185 RM/25<br>kind = line\",\"Line_10011<br>Loading = 0.861111111111287<br>bus0 = BusBar_MVGrid_1_LVGrid_2_MV<br>bus1 = Bus_Generator_1<br>length = 0.138872233591103<br>x = 0.051481038682815<br>r = 0.051382726428708<br>s_nom = 7.27461339178928<br>num_parallel = 1.0<br>type_info = 48-AL1/8-ST1A<br>kind = line\",\"Line_10025<br>Loading = 2.5555555555560843<br>bus0 = Bus_GeneratorFluctuating_2<br>bus1 = BusBar_MVGrid_1_LVGrid_3_MV<br>length = 1.26723954<br>x = 0.469775750645896<br>r = 0.4688786298<br>s_nom = 7.27461339178928<br>num_parallel = 1.0<br>type_info = 48-AL1/8-ST1A<br>kind = cable\",\"Line_10029<br>Loading = 2.5216666666668943<br>bus0 = Bus_BranchTee_MVGrid_1_11<br>bus1 = Bus_GeneratorFluctuating_3<br>length = 0.203355255541373<br>x = 0.075385406471563<br>r = 0.075241444550308<br>s_nom = 7.27461339178928<br>num_parallel = 1.0<br>type_info = 48-AL1/8-ST1A<br>kind = cable\",\"Line_10027<br>Loading = 1.8227777777775702<br>bus0 = Bus_GeneratorFluctuating_4<br>bus1 = Bus_BranchTee_MVGrid_1_10<br>length = 0.322656877175863<br>x = 0.119611464045978<br>r = 0.119383044555069<br>s_nom = 7.27461339178928<br>num_parallel = 1.0<br>type_info = 48-AL1/8-ST1A<br>kind = cable\",\"Line_10020<br>Loading = 2.55555555563524<br>bus0 = Bus_BranchTee_MVGrid_1_8<br>bus1 = Bus_GeneratorFluctuating_5<br>length = 0.001<br>x = 0.000370707933124<br>r = 0.00037<br>s_nom = 7.27461339178928<br>num_parallel = 1.0<br>type_info = 48-AL1/8-ST1A<br>kind = cable\",\"Line_10013<br>Loading = 3.388888888889109<br>bus0 = Bus_BranchTee_MVGrid_1_3<br>bus1 = Bus_GeneratorFluctuating_6<br>length = 0.307472748812273<br>x = 0.113982587204028<br>r = 0.113764917060541<br>s_nom = 7.27461339178928<br>num_parallel = 1.0<br>type_info = 48-AL1/8-ST1A<br>kind = cable\",\"Line_10018<br>Loading = 3.3333333333336754<br>bus0 = Bus_GeneratorFluctuating_7<br>bus1 = Bus_BranchTee_MVGrid_1_7<br>length = 0.468278333841994<br>x = 0.173594493265127<br>r = 0.173262983521538<br>s_nom = 7.27461339178928<br>num_parallel = 1.0<br>type_info = 48-AL1/8-ST1A<br>kind = cable\",\"Line_10032<br>Loading = 3.3333333334540964<br>bus0 = BusBar_MVGrid_1_LVGrid_4_MV<br>bus1 = Bus_GeneratorFluctuating_8<br>length = 0.001<br>x = 0.000370707933124<br>r = 0.00037<br>s_nom = 7.27461339178928<br>num_parallel = 1.0<br>type_info = 48-AL1/8-ST1A<br>kind = cable\",\"Line_10007<br>Loading = 4.295331181276145<br>bus0 = Bus_BranchTee_MVGrid_1_1<br>bus1 = BusBar_MVGrid_1_LVGrid_1_MV<br>length = 0.722445826838636<br>x = 0.267816399261118<br>r = 0.267304955930295<br>s_nom = 7.27461339178928<br>num_parallel = 1.0<br>type_info = NA2XS2Y 3x1x185 RM/25<br>kind = line\",\"Line_10008<br>Loading = 4.258340932470252<br>bus0 = Bus_BranchTee_MVGrid_1_2<br>bus1 = BusBar_MVGrid_1_LVGrid_1_MV<br>length = 0.132867031507129<br>x = 0.049254862630276<br>r = 0.049160801657638<br>s_nom = 7.27461339178928<br>num_parallel = 1.0<br>type_info = 48-AL1/8-ST1A<br>kind = line\",\"Line_10009<br>Loading = 0.8662193059188412<br>bus0 = Bus_BranchTee_MVGrid_1_2<br>bus1 = BusBar_MVGrid_1_LVGrid_2_MV<br>length = 0.705785336662554<br>x = 0.261640223383117<br>r = 0.261140574565145<br>s_nom = 7.27461339178928<br>num_parallel = 1.0<br>type_info = 48-AL1/8-ST1A<br>kind = line\",\"Line_10010<br>Loading = 3.3924237024958175<br>bus0 = Bus_BranchTee_MVGrid_1_2<br>bus1 = BusBar_MVGrid_1_LVGrid_5_MV<br>length = 0.012061682815469<br>x = 0.004471361506515<br>r = 0.004462822641724<br>s_nom = 7.27461339178928<br>num_parallel = 1.0<br>type_info = 48-AL1/8-ST1A<br>kind = line\",\"Line_10012<br>Loading = 3.387388881320882<br>bus0 = Bus_BranchTee_MVGrid_1_3<br>bus1 = BusBar_MVGrid_1_LVGrid_5_MV<br>length = 0.926662521213033<br>x = 0.343521147941983<br>r = 0.342865132848822<br>s_nom = 7.27461339178928<br>num_parallel = 1.0<br>type_info = 48-AL1/8-ST1A<br>kind = line\",\"Line_10016<br>Loading = 0.0<br>bus0 = Bus_BranchTee_MVGrid_1_3<br>bus1 = virtual_BusBar_MVGrid_1_LVGrid_9_MV<br>length = 0.661777693745236<br>x = 0.245326241035596<br>r = 0.244857746685737<br>s_nom = 7.27461339178928<br>num_parallel = 1.0<br>type_info = 48-AL1/8-ST1A<br>kind = cable\",\"Line_10014<br>Loading = 0.15449628252570394<br>bus0 = Bus_BranchTee_MVGrid_1_4<br>bus1 = BusBar_MVGrid_1_LVGrid_6_MV<br>length = 0.785931969351047<br>x = 0.291351215933884<br>r = 0.290794828659887<br>s_nom = 7.27461339178928<br>num_parallel = 1.0<br>type_info = 48-AL1/8-ST1A<br>kind = cable\",\"Line_10026<br>Loading = 7.7516762238504064<br>bus0 = Bus_BranchTee_MVGrid_1_5<br>bus1 = Bus_BranchTee_MVGrid_1_10<br>length = 0.41419799375453<br>x = 0.076773241084341<br>r = 0.076626628844588<br>s_nom = 14.54922678357856<br>num_parallel = 2.0<br>type_info = 48-AL1/8-ST1A<br>kind = cable\",\"Line_10017<br>Loading = 8.490087323796033<br>bus0 = Bus_BranchTee_MVGrid_1_6<br>bus1 = Bus_BranchTee_MVGrid_1_7<br>length = 0.690714941884979<br>x = 0.1280267542418825<br>r = 0.127782264248721<br>s_nom = 14.54922678357856<br>num_parallel = 2.0<br>type_info = 48-AL1/8-ST1A<br>kind = cable\",\"Line_10019<br>Loading = 5.1635049484575575<br>bus0 = Bus_BranchTee_MVGrid_1_8<br>bus1 = Bus_BranchTee_MVGrid_1_7<br>length = 0.403852029<br>x = 0.14971115095836<br>r = 0.14942525073<br>s_nom = 7.27461339178928<br>num_parallel = 1.0<br>type_info = 48-AL1/8-ST1A<br>kind = cable\",\"Line_10021<br>Loading = 2.6119294581633925<br>bus0 = Bus_BranchTee_MVGrid_1_8<br>bus1 = BusBar_MVGrid_1_LVGrid_8_MV<br>length = 1.378502271<br>x = 0.511021727688593<br>r = 0.51004584027<br>s_nom = 7.27461339178928<br>num_parallel = 1.0<br>type_info = 48-AL1/8-ST1A<br>kind = cable\",\"Line_10022<br>Loading = 2.5852304202593177<br>bus0 = Bus_BranchTee_MVGrid_1_9<br>bus1 = BusBar_MVGrid_1_LVGrid_8_MV<br>length = 0.437506744572693<br>x = 0.162187221008176<br>r = 0.161877495491896<br>s_nom = 7.27461339178928<br>num_parallel = 1.0<br>type_info = 48-AL1/8-ST1A<br>kind = cable\",\"Line_10023<br>Loading = 2.585931287061067<br>bus0 = Bus_BranchTee_MVGrid_1_9<br>bus1 = BusBar_MVGrid_1_LVGrid_3_MV<br>length = 0.251147233966026<br>x = 0.093102272013254<br>r = 0.09292447656743<br>s_nom = 7.27461339178928<br>num_parallel = 1.0<br>type_info = 48-AL1/8-ST1A<br>kind = cable\",\"Line_10031<br>Loading = 0.0<br>bus0 = Bus_BranchTee_MVGrid_1_9<br>bus1 = virtual_BusBar_MVGrid_1_LVGrid_4_MV<br>length = 0.543380191002877<br>x = 0.201435347506981<br>r = 0.201050670671064<br>s_nom = 7.27461339178928<br>num_parallel = 1.0<br>type_info = 48-AL1/8-ST1A<br>kind = cable\",\"Line_10028<br>Loading = 5.936878912504851<br>bus0 = Bus_BranchTee_MVGrid_1_11<br>bus1 = Bus_BranchTee_MVGrid_1_10<br>length = 0.502639122266729<br>x = 0.186332310122557<br>r = 0.18597647523869<br>s_nom = 7.27461339178928<br>num_parallel = 1.0<br>type_info = 48-AL1/8-ST1A<br>kind = cable\",\"Line_10030<br>Loading = 3.417076743368679<br>bus0 = Bus_BranchTee_MVGrid_1_11<br>bus1 = BusBar_MVGrid_1_LVGrid_4_MV<br>length = 0.262336104334286<br>x = 0.097250075021459<br>r = 0.097064358603686<br>s_nom = 7.27461339178928<br>num_parallel = 1.0<br>type_info = 48-AL1/8-ST1A<br>kind = cable\",\"Line_10024<br>Loading = 0.06930884905074822<br>bus0 = BusBar_MVGrid_1_LVGrid_7_MV<br>bus1 = BusBar_MVGrid_1_LVGrid_3_MV<br>length = 0.9840075060051<br>x = 0.364779388729255<br>r = 0.364082777221887<br>s_nom = 7.27461339178928<br>num_parallel = 1.0<br>type_info = 48-AL1/8-ST1A<br>kind = cable\",\"Line_10015<br>Loading = 0.06819179761647355<br>bus0 = BusBar_MVGrid_1_LVGrid_6_MV<br>bus1 = BusBar_MVGrid_1_LVGrid_9_MV<br>length = 0.491545784577804<br>x = 0.182219921836454<br>r = 0.181871940293787<br>s_nom = 7.27461339178928<br>num_parallel = 1.0<br>type_info = 48-AL1/8-ST1A<br>kind = cable\"],\"x\":[1081207.9922094196,1081375.814579037,1081648.668662732,1081787.7626315895,1079862.1723515382,1089926.6166197686,1085207.664445059,1083437.2243151003,1084368.2558014742,1080589.923052351,1083096.4361433163,1086846.3087923015,1080944.9983778745,1080565.9627882782,1080054.819966822,1080549.2756892983,1080904.736459082,1080987.6710673957,1081228.6302155023,1082641.0805019233,1082614.980788528,1083844.9732160307,1085622.3165294235,1087135.660176021,1088581.9986916706,1087305.3500541644,1084328.6573084593,1086087.8219274436,1089549.536575093,1081108.4611129179],\"y\":[5068859.676773131,5068828.261489303,5068886.213724926,5068509.278971788,5068108.302509077,5064785.560283304,5068019.753572989,5068796.773699408,5067335.053160445,5066737.340190534,5067216.180371832,5068345.636600375,5068639.664143086,5068289.196759984,5068102.902552589,5067674.5367030185,5067156.462354379,5066659.380815058,5067842.805404579,5068790.631506622,5067817.821262679,5067293.784598574,5066267.164877621,5065137.380109424,5064765.452979824,5066482.949256838,5068644.110480683,5068367.791333122,5064628.6782385735,5066669.390283436],\"type\":\"scatter\"},{\"hoverinfo\":\"none\",\"line\":{\"color\":\"black\",\"width\":2},\"mode\":\"lines\",\"opacity\":0.4,\"x\":[1081450.5805416484,1080965.4038771912,null],\"y\":[5068919.790081119,5068799.563465143,null],\"type\":\"scatter\"},{\"hoverinfo\":\"none\",\"line\":{\"color\":\"black\",\"width\":2},\"mode\":\"lines\",\"opacity\":0.4,\"x\":[1081450.5805416484,1081301.048616426,null],\"y\":[5068919.790081119,5068736.732897487,null],\"type\":\"scatter\"},{\"hoverinfo\":\"none\",\"line\":{\"color\":\"lightgreen\",\"width\":2},\"mode\":\"lines\",\"opacity\":0.4,\"x\":[1081450.5805416484,1081846.7567838156,null],\"y\":[5068919.790081119,5068852.637368732,null],\"type\":\"scatter\"},{\"hoverinfo\":\"none\",\"line\":{\"color\":\"lightgreen\",\"width\":2},\"mode\":\"lines\",\"opacity\":0.4,\"x\":[1081450.5805416484,1082124.9447215311,null],\"y\":[5068919.790081119,5068098.767862457,null],\"type\":\"scatter\"},{\"hoverinfo\":\"none\",\"line\":{\"color\":\"black\",\"width\":2},\"mode\":\"lines\",\"opacity\":0.4,\"x\":[1079822.0374674322,1079902.3072356447,null],\"y\":[5068109.428611916,5068107.176406238,null],\"type\":\"scatter\"},{\"hoverinfo\":\"none\",\"line\":{\"color\":\"black\",\"width\":2},\"mode\":\"lines\",\"opacity\":0.4,\"x\":[1090300.8527259273,1089552.3805136094,null],\"y\":[5064831.339604814,5064739.780961795,null],\"type\":\"scatter\"},{\"hoverinfo\":\"none\",\"line\":{\"color\":\"black\",\"width\":2},\"mode\":\"lines\",\"opacity\":0.4,\"x\":[1085193.41849323,1085221.910396888,null],\"y\":[5067479.911829123,5068559.595316855,null],\"type\":\"scatter\"},{\"hoverinfo\":\"none\",\"line\":{\"color\":\"black\",\"width\":2},\"mode\":\"lines\",\"opacity\":0.4,\"x\":[1083439.0444101696,1083435.404220031,null],\"y\":[5068864.921754306,5068728.625644512,null],\"type\":\"scatter\"},{\"hoverinfo\":\"none\",\"line\":{\"color\":\"black\",\"width\":2},\"mode\":\"lines\",\"opacity\":0.4,\"x\":[1084151.5820264118,1084584.9295765366,null],\"y\":[5067619.411786642,5067050.694534248,null],\"type\":\"scatter\"},{\"hoverinfo\":\"none\",\"line\":{\"color\":\"black\",\"width\":2},\"mode\":\"lines\",\"opacity\":0.4,\"x\":[1080261.5918671354,1080918.2542375666,null],\"y\":[5066412.200379407,5067062.480001659,null],\"type\":\"scatter\"},{\"hoverinfo\":\"none\",\"line\":{\"color\":\"black\",\"width\":2},\"mode\":\"lines\",\"opacity\":0.4,\"x\":[1083087.8554311087,1083105.0168555244,null],\"y\":[5066895.486080762,5067536.874662901,null],\"type\":\"scatter\"},{\"hoverinfo\":\"none\",\"line\":{\"color\":\"black\",\"width\":2},\"mode\":\"lines\",\"opacity\":0.4,\"x\":[1086738.8841266031,1086953.7334579993,null],\"y\":[5068515.285851361,5068175.987349389,null],\"type\":\"scatter\"},{\"hoverinfo\":\"none\",\"line\":{\"color\":\"black\",\"width\":2},\"mode\":\"lines\",\"opacity\":0.4,\"x\":[1080965.4038771912,1080924.5928785577,null],\"y\":[5068799.563465143,5068479.76482103,null],\"type\":\"scatter\"},{\"hoverinfo\":\"none\",\"line\":{\"color\":\"black\",\"width\":2},\"mode\":\"lines\",\"opacity\":0.4,\"x\":[1080207.3326979992,1080924.5928785577,null],\"y\":[5068098.6286989385,5068479.76482103,null],\"type\":\"scatter\"},{\"hoverinfo\":\"none\",\"line\":{\"color\":\"black\",\"width\":2},\"mode\":\"lines\",\"opacity\":0.4,\"x\":[1080207.3326979992,1079902.3072356447,null],\"y\":[5068098.6286989385,5068107.176406238,null],\"type\":\"scatter\"},{\"hoverinfo\":\"none\",\"line\":{\"color\":\"black\",\"width\":2},\"mode\":\"lines\",\"opacity\":0.4,\"x\":[1080207.3326979992,1080891.2186805978,null],\"y\":[5068098.6286989385,5067250.4447070975,null],\"type\":\"scatter\"},{\"hoverinfo\":\"none\",\"line\":{\"color\":\"black\",\"width\":2},\"mode\":\"lines\",\"opacity\":0.4,\"x\":[1080918.2542375666,1080891.2186805978,null],\"y\":[5067062.480001659,5067250.4447070975,null],\"type\":\"scatter\"},{\"hoverinfo\":\"none\",\"line\":{\"color\":\"black\",\"width\":2},\"mode\":\"lines\",\"opacity\":0.4,\"x\":[1080918.2542375666,1081057.0878972248,null],\"y\":[5067062.480001659,5066256.281628456,null],\"type\":\"scatter\"},{\"hoverinfo\":\"none\",\"line\":{\"color\":\"black\",\"width\":2},\"mode\":\"lines\",\"opacity\":0.4,\"x\":[1081301.048616426,1081156.2118145786,null],\"y\":[5068736.732897487,5066948.877911672,null],\"type\":\"scatter\"},{\"hoverinfo\":\"none\",\"line\":{\"color\":\"lightgreen\",\"width\":2},\"mode\":\"lines\",\"opacity\":0.4,\"x\":[1081846.7567838156,1083435.404220031,null],\"y\":[5068852.637368732,5068728.625644512,null],\"type\":\"scatter\"},{\"hoverinfo\":\"none\",\"line\":{\"color\":\"lightgreen\",\"width\":2},\"mode\":\"lines\",\"opacity\":0.4,\"x\":[1082124.9447215311,1083105.0168555244,null],\"y\":[5068098.767862457,5067536.874662901,null],\"type\":\"scatter\"},{\"hoverinfo\":\"none\",\"line\":{\"color\":\"black\",\"width\":2},\"mode\":\"lines\",\"opacity\":0.4,\"x\":[1083105.0168555244,1084584.9295765366,null],\"y\":[5067536.874662901,5067050.694534248,null],\"type\":\"scatter\"},{\"hoverinfo\":\"none\",\"line\":{\"color\":\"black\",\"width\":2},\"mode\":\"lines\",\"opacity\":0.4,\"x\":[1084584.9295765366,1086659.7034823103,null],\"y\":[5067050.694534248,5065483.635220994,null],\"type\":\"scatter\"},{\"hoverinfo\":\"none\",\"line\":{\"color\":\"black\",\"width\":2},\"mode\":\"lines\",\"opacity\":0.4,\"x\":[1087611.6168697318,1086659.7034823103,null],\"y\":[5064791.124997852,5065483.635220994,null],\"type\":\"scatter\"},{\"hoverinfo\":\"none\",\"line\":{\"color\":\"black\",\"width\":2},\"mode\":\"lines\",\"opacity\":0.4,\"x\":[1087611.6168697318,1089552.3805136094,null],\"y\":[5064791.124997852,5064739.780961795,null],\"type\":\"scatter\"},{\"hoverinfo\":\"none\",\"line\":{\"color\":\"black\",\"width\":2},\"mode\":\"lines\",\"opacity\":0.4,\"x\":[1087611.6168697318,1086999.083238597,null],\"y\":[5064791.124997852,5068174.773515824,null],\"type\":\"scatter\"},{\"hoverinfo\":\"none\",\"line\":{\"color\":\"black\",\"width\":2},\"mode\":\"lines\",\"opacity\":0.4,\"x\":[1083435.404220031,1085221.910396888,null],\"y\":[5068728.625644512,5068559.595316855,null],\"type\":\"scatter\"},{\"hoverinfo\":\"none\",\"line\":{\"color\":\"black\",\"width\":2},\"mode\":\"lines\",\"opacity\":0.4,\"x\":[1085221.910396888,1086953.7334579993,null],\"y\":[5068559.595316855,5068175.987349389,null],\"type\":\"scatter\"},{\"hoverinfo\":\"none\",\"line\":{\"color\":\"black\",\"width\":2},\"mode\":\"lines\",\"opacity\":0.4,\"x\":[1089552.3805136094,1089546.692636576,null],\"y\":[5064739.780961795,5064517.575515352,null],\"type\":\"scatter\"},{\"hoverinfo\":\"none\",\"line\":{\"color\":\"black\",\"width\":2},\"mode\":\"lines\",\"opacity\":0.4,\"x\":[1081156.2118145786,1081060.710411257,null],\"y\":[5066948.877911672,5066389.9026552,null],\"type\":\"scatter\"},{\"hoverinfo\":\"text\",\"marker\":{\"color\":[4,1,1,1,1,1,1,1,1,2,3,3,2,2,2,3,3,3,3,3,2,2,3,2,2,2,1,2,1,1,1],\"colorbar\":{\"thickness\":15,\"title\":{\"side\":\"right\",\"text\":\"Node Connections\"},\"xanchor\":\"left\"},\"colorscale\":[[0.0,\"rgb(255,255,217)\"],[0.125,\"rgb(237,248,177)\"],[0.25,\"rgb(199,233,180)\"],[0.375,\"rgb(127,205,187)\"],[0.5,\"rgb(65,182,196)\"],[0.625,\"rgb(29,145,192)\"],[0.75,\"rgb(34,94,168)\"],[0.875,\"rgb(37,52,148)\"],[1.0,\"rgb(8,29,88)\"]],\"line\":{\"width\":2},\"reversescale\":true,\"showscale\":true,\"size\":8},\"mode\":\"markers\",\"text\":[\"Bus_MVStation_1<br>peak_load = 0.0<br>p_nom_gen = 0.0<br>v = 1.0<br>Neighbors = 4<br>v_nom = 20.0<br>x = 7.94859122759009<br>y = 48.0844553685898<br>mv_grid_id = 1<br>lv_grid_id = nan<br>in_building = False\",\"Bus_Generator_1<br>peak_load = 0.0<br>p_nom_gen = 0.775<br>v = 1.001989118723874<br>Neighbors = 1<br>v_nom = 20.0<br>x = 7.9270478194687<br>y = 48.076758003523<br>mv_grid_id = 1<br>lv_grid_id = nan<br>in_building = False\",\"Bus_GeneratorFluctuating_2<br>peak_load = 0.0<br>p_nom_gen = 2.3<br>v = 1.0062315934515431<br>Neighbors = 1<br>v_nom = 20.0<br>x = 8.06868539549975<br>y = 48.0498283526783<br>mv_grid_id = 1<br>lv_grid_id = nan<br>in_building = False\",\"Bus_GeneratorFluctuating_3<br>peak_load = 0.0<br>p_nom_gen = 2.67<br>v = 1.0031631446086093<br>Neighbors = 1<br>v_nom = 20.0<br>x = 7.99929765404084<br>y = 48.0724282356729<br>mv_grid_id = 1<br>lv_grid_id = nan<br>in_building = False\",\"Bus_GeneratorFluctuating_4<br>peak_load = 0.0<br>p_nom_gen = 1.93<br>v = 1.001925307708865<br>Neighbors = 1<br>v_nom = 20.0<br>x = 7.9752788204589<br>y = 48.0844553685898<br>mv_grid_id = 1<br>lv_grid_id = nan<br>in_building = False\",\"Bus_GeneratorFluctuating_5<br>peak_load = 0.0<br>p_nom_gen = 2.3<br>v = 1.0026233663681856<br>Neighbors = 1<br>v_nom = 20.0<br>x = 7.9852788204589<br>y = 48.0734282356729<br>mv_grid_id = 1<br>lv_grid_id = nan<br>in_building = False\",\"Bus_GeneratorFluctuating_6<br>peak_load = 0.0<br>p_nom_gen = 3.05<br>v = 1.0034663566776956<br>Neighbors = 1<br>v_nom = 20.0<br>x = 7.93356211845248<br>y = 48.0616038160476<br>mv_grid_id = 1<br>lv_grid_id = nan<br>in_building = False\",\"Bus_GeneratorFluctuating_7<br>peak_load = 0.0<br>p_nom_gen = 3.0<br>v = 1.0024154963440217<br>Neighbors = 1<br>v_nom = 20.0<br>x = 7.97127568152858<br>y = 48.0666552118727<br>mv_grid_id = 1<br>lv_grid_id = nan<br>in_building = False\",\"Bus_GeneratorFluctuating_8<br>peak_load = 0.0<br>p_nom_gen = 3.0<br>v = 1.0033307497286326<br>Neighbors = 1<br>v_nom = 20.0<br>x = 8.01965714512685<br>y = 48.0821153215746<br>mv_grid_id = 1<br>lv_grid_id = nan<br>in_building = False\",\"Bus_BranchTee_MVGrid_1_1<br>peak_load = 0.0<br>p_nom_gen = 0.0<br>v = 1.00014885839648<br>Neighbors = 2<br>v_nom = 20.0<br>x = 7.94212820515367<br>y = 48.0832526552981<br>mv_grid_id = 1<br>lv_grid_id = nan<br>in_building = False\",\"Bus_BranchTee_MVGrid_1_2<br>peak_load = 0.0<br>p_nom_gen = 0.0<br>v = 1.0016764322448268<br>Neighbors = 3<br>v_nom = 20.0<br>x = 7.93221823741783<br>y = 48.076758003523<br>mv_grid_id = 1<br>lv_grid_id = nan<br>in_building = False\",\"Bus_BranchTee_MVGrid_1_3<br>peak_load = 0.0<br>p_nom_gen = 0.0<br>v = 1.0030221971969562<br>Neighbors = 3<br>v_nom = 20.0<br>x = 7.94212820515367<br>y = 48.0676173825061<br>mv_grid_id = 1<br>lv_grid_id = nan<br>in_building = False\",\"Bus_BranchTee_MVGrid_1_4<br>peak_load = 0.0<br>p_nom_gen = 0.0<br>v = 0.9999589088360669<br>Neighbors = 2<br>v_nom = 20.0<br>x = 7.94665232085917<br>y = 48.0827715699814<br>mv_grid_id = 1<br>lv_grid_id = nan<br>in_building = False\",\"Bus_BranchTee_MVGrid_1_5<br>peak_load = 0.0<br>p_nom_gen = 0.0<br>v = 1.0009942819158217<br>Neighbors = 2<br>v_nom = 20.0<br>x = 7.95392874616385<br>y = 48.0839502290073<br>mv_grid_id = 1<br>lv_grid_id = nan<br>in_building = False\",\"Bus_BranchTee_MVGrid_1_6<br>peak_load = 0.0<br>p_nom_gen = 0.0<br>v = 1.0005241956759994<br>Neighbors = 2<br>v_nom = 20.0<br>x = 7.95793188509418<br>y = 48.0772390888396<br>mv_grid_id = 1<br>lv_grid_id = nan<br>in_building = False\",\"Bus_BranchTee_MVGrid_1_7<br>peak_load = 0.0<br>p_nom_gen = 0.0<br>v = 1.0017500559736352<br>Neighbors = 3<br>v_nom = 20.0<br>x = 7.97127568152858<br>y = 48.0724282356729<br>mv_grid_id = 1<br>lv_grid_id = nan<br>in_building = False\",\"Bus_BranchTee_MVGrid_1_8<br>peak_load = 0.0<br>p_nom_gen = 0.0<br>v = 1.0026222741053312<br>Neighbors = 3<br>v_nom = 20.0<br>x = 7.99129137618019<br>y = 48.0684191913672<br>mv_grid_id = 1<br>lv_grid_id = nan<br>in_building = False\",\"Bus_BranchTee_MVGrid_1_9<br>peak_load = 0.0<br>p_nom_gen = 0.0<br>v = 1.0045879343939914<br>Neighbors = 3<br>v_nom = 20.0<br>x = 8.03265714512685<br>y = 48.0488283526783<br>mv_grid_id = 1<br>lv_grid_id = nan<br>in_building = False\",\"Bus_BranchTee_MVGrid_1_10<br>peak_load = 0.0<br>p_nom_gen = 0.0<br>v = 1.0016740229787398<br>Neighbors = 3<br>v_nom = 20.0<br>x = 7.9752788204589<br>y = 48.0832286010323<br>mv_grid_id = 1<br>lv_grid_id = nan<br>in_building = False\",\"Bus_BranchTee_MVGrid_1_11<br>peak_load = 0.0<br>p_nom_gen = 0.0<br>v = 1.0029442890481626<br>Neighbors = 3<br>v_nom = 20.0<br>x = 7.99929765404084<br>y = 48.0821461590697<br>mv_grid_id = 1<br>lv_grid_id = nan<br>in_building = False\",\"BusBar_MVGrid_1_LVGrid_1_MV<br>peak_load = 0.0<br>p_nom_gen = 0.0<br>v = 1.001438840548276<br>Neighbors = 2<br>v_nom = 20.0<br>x = 7.94169733699125<br>y = 48.080366143398<br>mv_grid_id = 1<br>lv_grid_id = nan<br>in_building = False\",\"BusBar_MVGrid_1_LVGrid_2_MV<br>peak_load = 0.0<br>p_nom_gen = 0.0<br>v = 1.0019379857764648<br>Neighbors = 2<br>v_nom = 20.0<br>x = 7.92812498987477<br>y = 48.076758003523<br>mv_grid_id = 1<br>lv_grid_id = nan<br>in_building = False\",\"BusBar_MVGrid_1_LVGrid_3_MV<br>peak_load = 0.0<br>p_nom_gen = 0.0<br>v = 1.0048602823930775<br>Neighbors = 3<br>v_nom = 20.0<br>x = 8.05868539549975<br>y = 48.0488283526783<br>mv_grid_id = 1<br>lv_grid_id = nan<br>in_building = False\",\"BusBar_MVGrid_1_LVGrid_4_MV<br>peak_load = 0.0<br>p_nom_gen = 0.0<br>v = 1.0033293260443654<br>Neighbors = 2<br>v_nom = 20.0<br>x = 8.02265714512685<br>y = 48.0791153215746<br>mv_grid_id = 1<br>lv_grid_id = nan<br>in_building = False\",\"BusBar_MVGrid_1_LVGrid_5_MV<br>peak_load = 0.0<br>p_nom_gen = 0.0<br>v = 1.0016935593370215<br>Neighbors = 2<br>v_nom = 20.0<br>x = 7.94169733699125<br>y = 48.0693011811144<br>mv_grid_id = 1<br>lv_grid_id = nan<br>in_building = False\",\"BusBar_MVGrid_1_LVGrid_6_MV<br>peak_load = 0.0<br>p_nom_gen = 0.0<br>v = 0.999816108030442<br>Neighbors = 2<br>v_nom = 20.0<br>x = 7.94535971637188<br>y = 48.0666552118727<br>mv_grid_id = 1<br>lv_grid_id = nan<br>in_building = False\",\"BusBar_MVGrid_1_LVGrid_7_MV<br>peak_load = 0.0<br>p_nom_gen = 0.0<br>v = 1.0048765188347117<br>Neighbors = 1<br>v_nom = 20.0<br>x = 8.05868539549975<br>y = 48.0468283526783<br>mv_grid_id = 1<br>lv_grid_id = nan<br>in_building = False\",\"BusBar_MVGrid_1_LVGrid_8_MV<br>peak_load = 0.0<br>p_nom_gen = 0.0<br>v = 1.0041150222827842<br>Neighbors = 2<br>v_nom = 20.0<br>x = 8.01965714512685<br>y = 48.0548283526783<br>mv_grid_id = 1<br>lv_grid_id = nan<br>in_building = False\",\"BusBar_MVGrid_1_LVGrid_9_MV<br>peak_load = 0.0<br>p_nom_gen = 0.0<br>v = 0.9997767794359788<br>Neighbors = 1<br>v_nom = 20.0<br>x = 7.94428254596581<br>y = 48.0616038160476<br>mv_grid_id = 1<br>lv_grid_id = nan<br>in_building = False\",\"virtual_BusBar_MVGrid_1_LVGrid_9_MV<br>peak_load = 0.0<br>p_nom_gen = 0.0<br>v = 1.0030221971969562<br>Neighbors = 1<br>v_nom = 20.0<br>x = 7.94428254596581<br>y = 48.0604011027559<br>mv_grid_id = 1<br>lv_grid_id = nan<br>in_building = False\",\"virtual_BusBar_MVGrid_1_LVGrid_4_MV<br>peak_load = 0.0<br>p_nom_gen = 0.0<br>v = 1.0045879343939914<br>Neighbors = 1<br>v_nom = 20.0<br>x = 8.02326571451269<br>y = 48.0791153215746<br>mv_grid_id = 1<br>lv_grid_id = nan<br>in_building = False\"],\"x\":[1081450.5805416484,1079822.0374674322,1090300.8527259273,1085193.41849323,1083439.0444101696,1084151.5820264118,1080261.5918671354,1083087.8554311087,1086738.8841266031,1080965.4038771912,1080207.3326979992,1080918.2542375666,1081301.048616426,1081846.7567838156,1082124.9447215311,1083105.0168555244,1084584.9295765366,1087611.6168697318,1083435.404220031,1085221.910396888,1080924.5928785577,1079902.3072356447,1089552.3805136094,1086953.7334579993,1080891.2186805978,1081156.2118145786,1089546.692636576,1086659.7034823103,1081060.710411257,1081057.0878972248,1086999.083238597],\"y\":[5068919.790081119,5068109.428611916,5064831.339604814,5067479.911829123,5068864.921754306,5067619.411786642,5066412.200379407,5066895.486080762,5068515.285851361,5068799.563465143,5068098.6286989385,5067062.480001659,5068736.732897487,5068852.637368732,5068098.767862457,5067536.874662901,5067050.694534248,5064791.124997852,5068728.625644512,5068559.595316855,5068479.76482103,5068107.176406238,5064739.780961795,5068175.987349389,5067250.4447070975,5066948.877911672,5064517.575515352,5065483.635220994,5066389.9026552,5066256.281628456,5068174.773515824],\"type\":\"scatter\"}],                        {\"height\":500,\"hovermode\":\"closest\",\"margin\":{\"b\":20,\"l\":5,\"r\":5,\"t\":40},\"showlegend\":false,\"title\":{\"font\":{\"size\":16}},\"xaxis\":{\"showgrid\":true,\"showticklabels\":true,\"zeroline\":true},\"yaxis\":{\"showgrid\":true,\"showticklabels\":true,\"zeroline\":true,\"scaleanchor\":\"x\",\"scaleratio\":1},\"template\":{\"data\":{\"histogram2dcontour\":[{\"type\":\"histogram2dcontour\",\"colorbar\":{\"outlinewidth\":0,\"ticks\":\"\"},\"colorscale\":[[0.0,\"#0d0887\"],[0.1111111111111111,\"#46039f\"],[0.2222222222222222,\"#7201a8\"],[0.3333333333333333,\"#9c179e\"],[0.4444444444444444,\"#bd3786\"],[0.5555555555555556,\"#d8576b\"],[0.6666666666666666,\"#ed7953\"],[0.7777777777777778,\"#fb9f3a\"],[0.8888888888888888,\"#fdca26\"],[1.0,\"#f0f921\"]]}],\"choropleth\":[{\"type\":\"choropleth\",\"colorbar\":{\"outlinewidth\":0,\"ticks\":\"\"}}],\"histogram2d\":[{\"type\":\"histogram2d\",\"colorbar\":{\"outlinewidth\":0,\"ticks\":\"\"},\"colorscale\":[[0.0,\"#0d0887\"],[0.1111111111111111,\"#46039f\"],[0.2222222222222222,\"#7201a8\"],[0.3333333333333333,\"#9c179e\"],[0.4444444444444444,\"#bd3786\"],[0.5555555555555556,\"#d8576b\"],[0.6666666666666666,\"#ed7953\"],[0.7777777777777778,\"#fb9f3a\"],[0.8888888888888888,\"#fdca26\"],[1.0,\"#f0f921\"]]}],\"heatmap\":[{\"type\":\"heatmap\",\"colorbar\":{\"outlinewidth\":0,\"ticks\":\"\"},\"colorscale\":[[0.0,\"#0d0887\"],[0.1111111111111111,\"#46039f\"],[0.2222222222222222,\"#7201a8\"],[0.3333333333333333,\"#9c179e\"],[0.4444444444444444,\"#bd3786\"],[0.5555555555555556,\"#d8576b\"],[0.6666666666666666,\"#ed7953\"],[0.7777777777777778,\"#fb9f3a\"],[0.8888888888888888,\"#fdca26\"],[1.0,\"#f0f921\"]]}],\"heatmapgl\":[{\"type\":\"heatmapgl\",\"colorbar\":{\"outlinewidth\":0,\"ticks\":\"\"},\"colorscale\":[[0.0,\"#0d0887\"],[0.1111111111111111,\"#46039f\"],[0.2222222222222222,\"#7201a8\"],[0.3333333333333333,\"#9c179e\"],[0.4444444444444444,\"#bd3786\"],[0.5555555555555556,\"#d8576b\"],[0.6666666666666666,\"#ed7953\"],[0.7777777777777778,\"#fb9f3a\"],[0.8888888888888888,\"#fdca26\"],[1.0,\"#f0f921\"]]}],\"contourcarpet\":[{\"type\":\"contourcarpet\",\"colorbar\":{\"outlinewidth\":0,\"ticks\":\"\"}}],\"contour\":[{\"type\":\"contour\",\"colorbar\":{\"outlinewidth\":0,\"ticks\":\"\"},\"colorscale\":[[0.0,\"#0d0887\"],[0.1111111111111111,\"#46039f\"],[0.2222222222222222,\"#7201a8\"],[0.3333333333333333,\"#9c179e\"],[0.4444444444444444,\"#bd3786\"],[0.5555555555555556,\"#d8576b\"],[0.6666666666666666,\"#ed7953\"],[0.7777777777777778,\"#fb9f3a\"],[0.8888888888888888,\"#fdca26\"],[1.0,\"#f0f921\"]]}],\"surface\":[{\"type\":\"surface\",\"colorbar\":{\"outlinewidth\":0,\"ticks\":\"\"},\"colorscale\":[[0.0,\"#0d0887\"],[0.1111111111111111,\"#46039f\"],[0.2222222222222222,\"#7201a8\"],[0.3333333333333333,\"#9c179e\"],[0.4444444444444444,\"#bd3786\"],[0.5555555555555556,\"#d8576b\"],[0.6666666666666666,\"#ed7953\"],[0.7777777777777778,\"#fb9f3a\"],[0.8888888888888888,\"#fdca26\"],[1.0,\"#f0f921\"]]}],\"mesh3d\":[{\"type\":\"mesh3d\",\"colorbar\":{\"outlinewidth\":0,\"ticks\":\"\"}}],\"scatter\":[{\"fillpattern\":{\"fillmode\":\"overlay\",\"size\":10,\"solidity\":0.2},\"type\":\"scatter\"}],\"parcoords\":[{\"type\":\"parcoords\",\"line\":{\"colorbar\":{\"outlinewidth\":0,\"ticks\":\"\"}}}],\"scatterpolargl\":[{\"type\":\"scatterpolargl\",\"marker\":{\"colorbar\":{\"outlinewidth\":0,\"ticks\":\"\"}}}],\"bar\":[{\"error_x\":{\"color\":\"#2a3f5f\"},\"error_y\":{\"color\":\"#2a3f5f\"},\"marker\":{\"line\":{\"color\":\"#E5ECF6\",\"width\":0.5},\"pattern\":{\"fillmode\":\"overlay\",\"size\":10,\"solidity\":0.2}},\"type\":\"bar\"}],\"scattergeo\":[{\"type\":\"scattergeo\",\"marker\":{\"colorbar\":{\"outlinewidth\":0,\"ticks\":\"\"}}}],\"scatterpolar\":[{\"type\":\"scatterpolar\",\"marker\":{\"colorbar\":{\"outlinewidth\":0,\"ticks\":\"\"}}}],\"histogram\":[{\"marker\":{\"pattern\":{\"fillmode\":\"overlay\",\"size\":10,\"solidity\":0.2}},\"type\":\"histogram\"}],\"scattergl\":[{\"type\":\"scattergl\",\"marker\":{\"colorbar\":{\"outlinewidth\":0,\"ticks\":\"\"}}}],\"scatter3d\":[{\"type\":\"scatter3d\",\"line\":{\"colorbar\":{\"outlinewidth\":0,\"ticks\":\"\"}},\"marker\":{\"colorbar\":{\"outlinewidth\":0,\"ticks\":\"\"}}}],\"scattermapbox\":[{\"type\":\"scattermapbox\",\"marker\":{\"colorbar\":{\"outlinewidth\":0,\"ticks\":\"\"}}}],\"scatterternary\":[{\"type\":\"scatterternary\",\"marker\":{\"colorbar\":{\"outlinewidth\":0,\"ticks\":\"\"}}}],\"scattercarpet\":[{\"type\":\"scattercarpet\",\"marker\":{\"colorbar\":{\"outlinewidth\":0,\"ticks\":\"\"}}}],\"carpet\":[{\"aaxis\":{\"endlinecolor\":\"#2a3f5f\",\"gridcolor\":\"white\",\"linecolor\":\"white\",\"minorgridcolor\":\"white\",\"startlinecolor\":\"#2a3f5f\"},\"baxis\":{\"endlinecolor\":\"#2a3f5f\",\"gridcolor\":\"white\",\"linecolor\":\"white\",\"minorgridcolor\":\"white\",\"startlinecolor\":\"#2a3f5f\"},\"type\":\"carpet\"}],\"table\":[{\"cells\":{\"fill\":{\"color\":\"#EBF0F8\"},\"line\":{\"color\":\"white\"}},\"header\":{\"fill\":{\"color\":\"#C8D4E3\"},\"line\":{\"color\":\"white\"}},\"type\":\"table\"}],\"barpolar\":[{\"marker\":{\"line\":{\"color\":\"#E5ECF6\",\"width\":0.5},\"pattern\":{\"fillmode\":\"overlay\",\"size\":10,\"solidity\":0.2}},\"type\":\"barpolar\"}],\"pie\":[{\"automargin\":true,\"type\":\"pie\"}]},\"layout\":{\"autotypenumbers\":\"strict\",\"colorway\":[\"#636efa\",\"#EF553B\",\"#00cc96\",\"#ab63fa\",\"#FFA15A\",\"#19d3f3\",\"#FF6692\",\"#B6E880\",\"#FF97FF\",\"#FECB52\"],\"font\":{\"color\":\"#2a3f5f\"},\"hovermode\":\"closest\",\"hoverlabel\":{\"align\":\"left\"},\"paper_bgcolor\":\"white\",\"plot_bgcolor\":\"#E5ECF6\",\"polar\":{\"bgcolor\":\"#E5ECF6\",\"angularaxis\":{\"gridcolor\":\"white\",\"linecolor\":\"white\",\"ticks\":\"\"},\"radialaxis\":{\"gridcolor\":\"white\",\"linecolor\":\"white\",\"ticks\":\"\"}},\"ternary\":{\"bgcolor\":\"#E5ECF6\",\"aaxis\":{\"gridcolor\":\"white\",\"linecolor\":\"white\",\"ticks\":\"\"},\"baxis\":{\"gridcolor\":\"white\",\"linecolor\":\"white\",\"ticks\":\"\"},\"caxis\":{\"gridcolor\":\"white\",\"linecolor\":\"white\",\"ticks\":\"\"}},\"coloraxis\":{\"colorbar\":{\"outlinewidth\":0,\"ticks\":\"\"}},\"colorscale\":{\"sequential\":[[0.0,\"#0d0887\"],[0.1111111111111111,\"#46039f\"],[0.2222222222222222,\"#7201a8\"],[0.3333333333333333,\"#9c179e\"],[0.4444444444444444,\"#bd3786\"],[0.5555555555555556,\"#d8576b\"],[0.6666666666666666,\"#ed7953\"],[0.7777777777777778,\"#fb9f3a\"],[0.8888888888888888,\"#fdca26\"],[1.0,\"#f0f921\"]],\"sequentialminus\":[[0.0,\"#0d0887\"],[0.1111111111111111,\"#46039f\"],[0.2222222222222222,\"#7201a8\"],[0.3333333333333333,\"#9c179e\"],[0.4444444444444444,\"#bd3786\"],[0.5555555555555556,\"#d8576b\"],[0.6666666666666666,\"#ed7953\"],[0.7777777777777778,\"#fb9f3a\"],[0.8888888888888888,\"#fdca26\"],[1.0,\"#f0f921\"]],\"diverging\":[[0,\"#8e0152\"],[0.1,\"#c51b7d\"],[0.2,\"#de77ae\"],[0.3,\"#f1b6da\"],[0.4,\"#fde0ef\"],[0.5,\"#f7f7f7\"],[0.6,\"#e6f5d0\"],[0.7,\"#b8e186\"],[0.8,\"#7fbc41\"],[0.9,\"#4d9221\"],[1,\"#276419\"]]},\"xaxis\":{\"gridcolor\":\"white\",\"linecolor\":\"white\",\"ticks\":\"\",\"title\":{\"standoff\":15},\"zerolinecolor\":\"white\",\"automargin\":true,\"zerolinewidth\":2},\"yaxis\":{\"gridcolor\":\"white\",\"linecolor\":\"white\",\"ticks\":\"\",\"title\":{\"standoff\":15},\"zerolinecolor\":\"white\",\"automargin\":true,\"zerolinewidth\":2},\"scene\":{\"xaxis\":{\"backgroundcolor\":\"#E5ECF6\",\"gridcolor\":\"white\",\"linecolor\":\"white\",\"showbackground\":true,\"ticks\":\"\",\"zerolinecolor\":\"white\",\"gridwidth\":2},\"yaxis\":{\"backgroundcolor\":\"#E5ECF6\",\"gridcolor\":\"white\",\"linecolor\":\"white\",\"showbackground\":true,\"ticks\":\"\",\"zerolinecolor\":\"white\",\"gridwidth\":2},\"zaxis\":{\"backgroundcolor\":\"#E5ECF6\",\"gridcolor\":\"white\",\"linecolor\":\"white\",\"showbackground\":true,\"ticks\":\"\",\"zerolinecolor\":\"white\",\"gridwidth\":2}},\"shapedefaults\":{\"line\":{\"color\":\"#2a3f5f\"}},\"annotationdefaults\":{\"arrowcolor\":\"#2a3f5f\",\"arrowhead\":0,\"arrowwidth\":1},\"geo\":{\"bgcolor\":\"white\",\"landcolor\":\"#E5ECF6\",\"subunitcolor\":\"white\",\"showland\":true,\"showlakes\":true,\"lakecolor\":\"white\"},\"title\":{\"x\":0.05},\"mapbox\":{\"style\":\"light\"}}}},                        {\"responsive\": true}                    ).then(function(){\n",
       "                            \n",
       "var gd = document.getElementById('7c03434d-0782-416d-96ba-99a2a3c36a2c');\n",
       "var x = new MutationObserver(function (mutations, observer) {{\n",
       "        var display = window.getComputedStyle(gd).display;\n",
       "        if (!display || display === 'none') {{\n",
       "            console.log([gd, 'removed!']);\n",
       "            Plotly.purge(gd);\n",
       "            observer.disconnect();\n",
       "        }}\n",
       "}});\n",
       "\n",
       "// Listen for the removal of the full notebook cells\n",
       "var notebookContainer = gd.closest('#notebook-container');\n",
       "if (notebookContainer) {{\n",
       "    x.observe(notebookContainer, {childList: true});\n",
       "}}\n",
       "\n",
       "// Listen for the clearing of the current output cell\n",
       "var outputEl = gd.closest('.output');\n",
       "if (outputEl) {{\n",
       "    x.observe(outputEl, {childList: true});\n",
       "}}\n",
       "\n",
       "                        })                };                });            </script>        </div>"
      ]
     },
     "metadata": {},
     "output_type": "display_data"
    }
   ],
   "source": [
    "# plotting reinforced lines and node adjacencies\n",
    "edisgo_obj = edisgo_reinforced\n",
    "G = edisgo_obj.topology.mv_grid.graph\n",
    "\n",
    "mode_lines = \"reinforce\"\n",
    "mode_nodes = \"adjacencies\"\n",
    "\n",
    "fig = draw_plotly(\n",
    "    edisgo_obj, G, line_color=mode_lines, node_color=mode_nodes, grid=False\n",
    ")\n",
    "fig.show()"
   ]
  },
  {
   "cell_type": "markdown",
   "metadata": {
    "tags": []
   },
   "source": [
    "### Dash plot app which calls draw_plotly\n",
    "One edisgo object creates one large plot. Two or more edisgo objects create two adjacent plots, where the objects to be plotted are selected in the dropdown menu."
   ]
  },
  {
   "cell_type": "markdown",
   "metadata": {
    "tags": []
   },
   "source": [
    "#### One interactive plot"
   ]
  },
  {
   "cell_type": "code",
   "execution_count": 12,
   "metadata": {},
   "outputs": [],
   "source": [
    "app = dash_plot(edisgo_objects=edisgo_root)\n",
    "app.run_server(mode=\"inline\")"
   ]
  },
  {
   "cell_type": "markdown",
   "metadata": {},
   "source": [
    "#### Two interactives plots side by side"
   ]
  },
  {
   "cell_type": "code",
   "execution_count": null,
   "metadata": {},
   "outputs": [],
   "source": [
    "app = dash_plot(\n",
    "    edisgo_objects={\"edisgo_obj_1\": edisgo_root, \"edisgo_obj_2\": edisgo_reinforced}\n",
    ")\n",
    "app.run_server(mode=\"inline\")"
   ]
  },
  {
   "cell_type": "markdown",
   "metadata": {},
   "source": [
    "#### Two interactives plots side by side with 3 EDisGo objects\n",
    "\n",
    "Choose your edisgo objects in the drop down menu."
   ]
  },
  {
   "cell_type": "code",
   "execution_count": null,
   "metadata": {},
   "outputs": [],
   "source": [
    "app = dash_plot(\n",
    "    edisgo_objects={\n",
    "        \"edisgo_obj_1\": edisgo_root,\n",
    "        \"edisgo_obj_2\": edisgo_reinforced,\n",
    "        \"edisgo_obj_3\": edisgo_copy,\n",
    "    }\n",
    ")\n",
    "app.run_server(mode=\"inline\")"
   ]
  },
  {
   "cell_type": "code",
   "execution_count": null,
   "metadata": {},
   "outputs": [],
   "source": []
  }
 ],
 "metadata": {
  "kernelspec": {
   "display_name": "Python 3 (ipykernel)",
   "language": "python",
   "name": "python3"
  },
  "language_info": {
   "codemirror_mode": {
    "name": "ipython",
    "version": 3
   },
   "file_extension": ".py",
   "mimetype": "text/x-python",
   "name": "python",
   "nbconvert_exporter": "python",
   "pygments_lexer": "ipython3",
   "version": "3.8.10"
  },
  "toc": {
   "base_numbering": 1,
   "nav_menu": {},
   "number_sections": true,
   "sideBar": true,
   "skip_h1_title": false,
   "title_cell": "Table of Contents",
   "title_sidebar": "Contents",
   "toc_cell": false,
   "toc_position": {},
   "toc_section_display": true,
   "toc_window_display": false
  }
 },
 "nbformat": 4,
 "nbformat_minor": 4
}
