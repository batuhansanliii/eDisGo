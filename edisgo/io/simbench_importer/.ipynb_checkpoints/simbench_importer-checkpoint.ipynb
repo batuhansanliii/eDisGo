{
 "cells": [
  {
   "cell_type": "code",
   "execution_count": 120,
   "metadata": {},
   "outputs": [],
   "source": [
    "import pandas as pd\n",
    "from pathlib import Path\n",
    "from edisgo import flex_opt\n",
    "from edisgo import network\n",
    "from edisgo import tools\n",
    "\n",
    "from edisgo import EDisGo\n",
    "from edisgo.network.grids import MVGrid, LVGrid\n",
    "from tabulate import tabulate\n",
    "from io import StringIO"
   ]
  },
  {
   "cell_type": "code",
   "execution_count": 121,
   "metadata": {},
   "outputs": [],
   "source": [
    "# Some helpful debugging functions\n",
    "def pd_print(df):\n",
    "    print(tabulate(df, headers='keys', tablefmt='psql'))\n",
    "    \n",
    "def search_str(df,col,search_str,invert=False):\n",
    "    if invert == False:\n",
    "        pd_print(df.loc[df[col].str.contains(search_str)])\n",
    "        return df.loc[df[col].str.contains(search_str)]\n",
    "    else:\n",
    "        pd_print(df.loc[~df[col].str.contains(search_str)])\n",
    "        return df.loc[~df[col].str.contains(search_str)]\n",
    "    \n",
    "def search_str_df(df,col,search_str,invert=False):\n",
    "    if invert == False:\n",
    "        return df.loc[df[col].str.contains(search_str)]\n",
    "    else:\n",
    "        return df.loc[~df[col].str.contains(search_str)]"
   ]
  },
  {
   "cell_type": "code",
   "execution_count": 122,
   "metadata": {},
   "outputs": [
    {
     "name": "stdout",
     "output_type": "stream",
     "text": [
      "/Users/heikernleong/Documents/localFiles/sa_code/edisgo/hk_edisgo/1-MVLV-semiurb-3.202-1-no_sw\n"
     ]
    }
   ],
   "source": [
    "# grid_name = '1-MVLV-comm-all-0-no_sw'\n",
    "grid_name = '1-MVLV-semiurb-3.202-1-no_sw'\n",
    "\n",
    "\n",
    "curr_path = Path.cwd()\n",
    "parent_dir = curr_path.parents[3]\n",
    "# simbench_grids_dir = parent_dir / 'simbench'\n",
    "grid_dir = parent_dir / grid_name\n",
    "print (grid_dir)"
   ]
  },
  {
   "cell_type": "markdown",
   "metadata": {},
   "source": [
    "Importing the simbench raw data into panda dataframes"
   ]
  },
  {
   "cell_type": "code",
   "execution_count": 123,
   "metadata": {},
   "outputs": [
    {
     "name": "stdout",
     "output_type": "stream",
     "text": [
      "Line\n",
      "LoadProfile\n",
      "RES\n",
      "ExternalNet\n",
      "TransformerType\n",
      "StudyCases\n",
      "Node\n",
      "Switch\n",
      "Measurement\n",
      "Storage\n",
      "Coordinates\n",
      "StorageProfile\n",
      "NodePFResult\n",
      "Substation\n",
      "Transformer\n",
      "Load\n",
      "RESProfile\n",
      "LineType\n"
     ]
    }
   ],
   "source": [
    "file_list = [i for i in grid_dir.iterdir()]\n",
    "simbench_dict = {i.name[:-4]:pd.read_csv(i,delimiter=\";\") for i in file_list}\n",
    "for i in simbench_dict.keys(): print (i)\n",
    "sb_ding0_dict = {}"
   ]
  },
  {
   "cell_type": "markdown",
   "metadata": {},
   "source": [
    "## 1) buses_df"
   ]
  },
  {
   "cell_type": "code",
   "execution_count": 124,
   "metadata": {},
   "outputs": [
    {
     "name": "stdout",
     "output_type": "stream",
     "text": [
      "Int64Index([0], dtype='int64')\n",
      "+----+-------------------+---------+----------+--------------+--------------+---------+---------------+\n",
      "|    | name              |       x |        y | mv_grid_id   | lv_grid_id   |   v_nom | in_building   |\n",
      "|----+-------------------+---------+----------+--------------+--------------+---------+---------------|\n",
      "|  0 | HV1 Bus 19        | 13.489  | -14.0665 | MV2.101      |              |     110 | False         |\n",
      "|  1 | MV2.101 busbar1.1 | 13.489  | -14.0665 | MV2.101      |              |      20 | False         |\n",
      "|  2 | MV2.101 Bus 4     | 13.4919 | -14.0668 | MV2.101      |              |      20 | False         |\n",
      "|  3 | MV2.101 Bus 5     | 13.4936 | -14.0671 | MV2.101      |              |      20 | False         |\n",
      "|  4 | MV2.101 Bus 6     | 13.4951 | -14.0674 | MV2.101      |              |      20 | False         |\n",
      "+----+-------------------+---------+----------+--------------+--------------+---------+---------------+\n"
     ]
    }
   ],
   "source": [
    "def label_mv_grid_id(name):\n",
    "    if \"LV\" in name:\n",
    "        return \"\"\n",
    "    elif \"MV\" in name:\n",
    "        return name[0:name.find(\" \")]\n",
    "\n",
    "def label_lv_grid_id(name):\n",
    "    if \"MV\" in name:\n",
    "        return \"\"\n",
    "    elif \"LV\" in name:\n",
    "        return name[name.find(\".\")+1:]\n",
    "    \n",
    "buses_cols_to_drop = [\n",
    "    'type',\n",
    "    'vmSetp',\n",
    "    'vaSetp',\n",
    "    'vmMin',\n",
    "    'vmMax',\n",
    "    'substation',\n",
    "    'voltLvl'\n",
    "]\n",
    "\n",
    "buses_col_location = [\n",
    "    'name',\n",
    "    'x',\n",
    "    'y',\n",
    "    'mv_grid_id',\n",
    "    'lv_grid_id',\n",
    "    'v_nom',\n",
    "    'in_building'\n",
    "]\n",
    "\n",
    "buses_df = simbench_dict['Node']\n",
    "# buses_df_busbar = buses_df.loc[buses_df['type'].str.contains('busbar')]\n",
    "# buses_df_node = buses_df.loc[buses_df['type'].str.contains('node')]\n",
    "# buses_df = pd.concat([buses_df_busbar,buses_df_node],ignore_index=True)\n",
    "buses_df = buses_df.rename(columns={'vmR':'v_nom'})\n",
    "buses_df = buses_df.rename(columns={'id':'name'})\n",
    "coord_df = simbench_dict['Coordinates']\n",
    "coord_df = coord_df.set_index('id')\n",
    "buses_df['x'] = buses_df['coordID'].apply(lambda coordID: coord_df.loc[coordID,'x'] )\n",
    "buses_df['y'] = buses_df['coordID'].apply(lambda coordID: coord_df.loc[coordID,'y'] )\n",
    "buses_df['in_building'] = 'False'\n",
    "\n",
    "buses_df['mv_grid_id'] =  buses_df['name'].apply(label_mv_grid_id)\n",
    "buses_df['lv_grid_id'] =  buses_df['subnet'].apply(label_lv_grid_id)\n",
    "\n",
    "# get the HV grid to adopt the mv grid id\n",
    "# hv_name = buses_df[buses_df['name'].str.contains('HV')]['name'].iloc[0]\n",
    "hv_index = buses_df.index[buses_df['name'].str.contains('HV')]\n",
    "print (hv_index)\n",
    "mv_grid_id = buses_df[buses_df['name'].str.contains('MV')]['mv_grid_id'].iloc[0]\n",
    "buses_df.loc[hv_index,'mv_grid_id'] = mv_grid_id \n",
    "\n",
    "\n",
    "\n",
    "buses_df = buses_df.drop(buses_cols_to_drop,axis=1)\n",
    "buses_df = buses_df[buses_col_location]\n",
    "# buses_df = buses_df.set_index('name')\n",
    "pd_print(buses_df.head())\n",
    "sb_ding0_dict['buses_df'] = buses_df"
   ]
  },
  {
   "cell_type": "markdown",
   "metadata": {},
   "source": [
    "## 2) generator_df"
   ]
  },
  {
   "cell_type": "code",
   "execution_count": 125,
   "metadata": {},
   "outputs": [
    {
     "name": "stdout",
     "output_type": "stream",
     "text": [
      "+----+---------------------------+-------------------+-----------+---------+---------+-------------------+------------+\n",
      "|    | name                      | bus               | control   |   p_nom | type    | weather_cell_id   | subtype    |\n",
      "|----+---------------------------+-------------------+-----------+---------+---------+-------------------+------------|\n",
      "|  0 | HV1 grid at MV2.101_slack | HV1 Bus 19        | Slack     |  0      | station |                   | mv_station |\n",
      "|  1 | MV2.101 SGen 1            | MV2.101 busbar1.1 | PQ        |  1.5    | wind_mv | WP7               | wind_mv    |\n",
      "|  2 | MV2.101 SGen 2            | MV2.101 Bus 4     | PQ        |  0.14   | lv_res  | lv_urban6         | lv_res     |\n",
      "|  3 | MV2.101 SGen 3            | MV2.101 Bus 5     | PQ        |  0.1818 | lv_res  | lv_semiurb5       | lv_res     |\n",
      "|  4 | MV2.101 SGen 4            | MV2.101 Bus 6     | PQ        |  0.1818 | lv_res  | lv_semiurb5       | lv_res     |\n",
      "+----+---------------------------+-------------------+-----------+---------+---------+-------------------+------------+\n"
     ]
    }
   ],
   "source": [
    "gen_cols_to_drop = [\n",
    "    'pRES',\n",
    "    'qRES',\n",
    "    'subnet',\n",
    "    'voltLvl'\n",
    "]\n",
    "\n",
    "gen_col_location = [\n",
    "    'name',\n",
    "    'bus',\n",
    "    'control',\n",
    "    'p_nom',\n",
    "    'type',\n",
    "    'weather_cell_id',\n",
    "    'subtype'\n",
    "]\n",
    "\n",
    "gen_rename_dict = {\n",
    "    'id':'name',\n",
    "    'node':'bus',\n",
    "    'sR':'p_nom',\n",
    "    'profile':'weather_cell_id'\n",
    "}\n",
    "\n",
    "slack_col_to_drop = [\n",
    "    'dspf',\n",
    "    'pExtNet',\n",
    "    'qExtNet',\n",
    "    'pWardShunt',\n",
    "    'qWardShunt',\n",
    "    'rXWard',\n",
    "    'xXWard',\n",
    "    'vmXWard',\n",
    "    'subnet',\n",
    "    'voltLvl'\n",
    "]\n",
    "\n",
    "def add_slack_terms(gen_df):\n",
    "    add_gen_dict = {\n",
    "        'p_nom':0.0,\n",
    "        'type':'station',\n",
    "        'weather_cell_id':\"\",\n",
    "        'subtype':'mv_station'\n",
    "    }\n",
    "    for key in add_gen_dict:\n",
    "        gen_df[key] = gen_df['control'].apply(lambda x: add_gen_dict[key] if x == 'Slack' else x)\n",
    "    return gen_df\n",
    "\n",
    "generators_df = simbench_dict['RES']\n",
    "generators_df = generators_df.rename(columns=gen_rename_dict)\n",
    "generators_df['calc_type'] = generators_df['calc_type'].apply(lambda x: x.upper())\n",
    "generators_df = generators_df.rename(columns={'calc_type':'control'})\n",
    "generators_df['type'] = generators_df['type'].apply(lambda x: 'solar' if x== 'PV' else x.lower())\n",
    "generators_df['subtype'] = generators_df['type']\n",
    "generators_df = generators_df.drop(gen_cols_to_drop, axis = 1)\n",
    "generators_df = generators_df[gen_col_location]\n",
    "\n",
    "\n",
    "# including the slack bus\n",
    "slack_df = simbench_dict['ExternalNet']\n",
    "slack_df = slack_df.rename(columns={'id':'name'})\n",
    "slack_df = slack_df.rename(columns={'node':'bus'})\n",
    "slack_df = slack_df.rename(columns={'calc_type':'control'})\n",
    "slack_df = slack_df.drop(slack_col_to_drop,axis=1)\n",
    "slack_df['control'] = slack_df['control'].apply(lambda x: 'Slack' if x == 'vavm' else x)\n",
    "slack_df['name'] = slack_df['name'].apply(lambda x: x+'_slack')\n",
    "slack_df = add_slack_terms(slack_df)\n",
    "# pd_print(slack_df)\n",
    "# pd_print (generators_df.head())\n",
    "generators_df = pd.concat([slack_df,generators_df] ,ignore_index=True)\n",
    "# generators_df = generators_df.set_index('name')\n",
    "pd_print (generators_df.head())\n",
    "\n",
    "sb_ding0_dict['generators_df'] = generators_df"
   ]
  },
  {
   "cell_type": "markdown",
   "metadata": {},
   "source": [
    "## 3) lines_df"
   ]
  },
  {
   "cell_type": "code",
   "execution_count": 126,
   "metadata": {},
   "outputs": [
    {
     "name": "stdout",
     "output_type": "stream",
     "text": [
      "+----+----------------+-------------------+---------------+----------+---------+---------+------------+----------------+--------+-----------------------------+\n",
      "|    | name           | bus0              | bus1          |   length |       r |       x |      s_nom |   num_parallel | kind   | type_info                   |\n",
      "|----+----------------+-------------------+---------------+----------+---------+---------+------------+----------------+--------+-----------------------------|\n",
      "|  0 | MV2.101 Line 1 | MV2.101 busbar1.1 | MV2.101 Bus 4 |     0.7  | 0.2191  | 0.0924  | 0.0151004  |              1 | cable  | NA2XS2Y 1x95 RM/25 12/20 kV |\n",
      "|  1 | MV2.101 Line 2 | MV2.101 Bus 4     | MV2.101 Bus 5 |     0.45 | 0.14085 | 0.0594  | 0.00970741 |              1 | cable  | NA2XS2Y 1x95 RM/25 12/20 kV |\n",
      "|  2 | MV2.101 Line 3 | MV2.101 Bus 5     | MV2.101 Bus 6 |     0.4  | 0.1252  | 0.0528  | 0.00862881 |              1 | cable  | NA2XS2Y 1x95 RM/25 12/20 kV |\n",
      "|  3 | MV2.101 Line 4 | MV2.101 Bus 6     | MV2.101 Bus 7 |     0.35 | 0.15505 | 0.0462  | 0.00783048 |              1 | cable  | NA2XS2Y 1x70 RM/25 12/20 kV |\n",
      "|  4 | MV2.101 Line 5 | MV2.101 Bus 7     | MV2.101 Bus 8 |     0.38 | 0.16834 | 0.05016 | 0.00850166 |              1 | cable  | NA2XS2Y 1x70 RM/25 12/20 kV |\n",
      "+----+----------------+-------------------+---------------+----------+---------+---------+------------+----------------+--------+-----------------------------+\n"
     ]
    }
   ],
   "source": [
    "lines_cols_to_drop = [\n",
    "    'loadingMax',\n",
    "    'subnet',\n",
    "    'voltLvl'\n",
    "]\n",
    "\n",
    "lines_col_location = [\n",
    "    'name',\n",
    "    'bus0',\n",
    "    'bus1',\n",
    "    'length',\n",
    "    'r',\n",
    "    'x',\n",
    "    's_nom',\n",
    "    'num_parallel',\n",
    "    'kind',\n",
    "    'type_info'\n",
    "]\n",
    "\n",
    "def get_line_char(lines_df, line_type_df):\n",
    "    char_dict = {\n",
    "        'r':'r',\n",
    "        'x': 'x',\n",
    "        'iMax':'iMax',\n",
    "        'kind':'type'\n",
    "    }\n",
    "    for key in char_dict:\n",
    "        lines_df[key] = lines_df['type_info'].apply(lambda x: line_type_df.loc[x,char_dict[key]])\n",
    "    return lines_df\n",
    "\n",
    "def cal_s_nom(name):\n",
    "    x = name['x']\n",
    "    r = name['r']\n",
    "    i = name['iMax']\n",
    "    return ((((x**2 + r**2))**0.5) * (i)**2)/(10**6)\n",
    "\n",
    "def mul_length(name):\n",
    "    return name['x']*name['length']\n",
    "\n",
    "lines_df = simbench_dict['Line']\n",
    "line_type_df = simbench_dict['LineType']\n",
    "line_type_df = line_type_df.set_index('id')\n",
    "\n",
    "# pd_print(line_type_df.head())\n",
    "lines_rename_dict = {\n",
    "    'id':'name',\n",
    "    'nodeA':'bus0',\n",
    "    'nodeB':'bus1',\n",
    "    'type': 'type_info'\n",
    "}\n",
    "lines_df = lines_df.rename(columns=lines_rename_dict)\n",
    "lines_df = lines_df.drop(lines_cols_to_drop,axis=1)\n",
    "lines_df = get_line_char(lines_df,line_type_df)\n",
    "lines_df['kind'] = lines_df['kind'].apply(lambda x : 'line' if x =='ohl' else x)\n",
    "lines_df['num_parallel'] = 1\n",
    "lines_df['r'] = lines_df.apply(lambda name: name['r']*name['length'],axis=1)\n",
    "lines_df['x'] = lines_df.apply(lambda name: name['x']*name['length'],axis=1)\n",
    "lines_df['s_nom'] = lines_df.apply(cal_s_nom,axis=1)\n",
    "lines_df = lines_df[lines_col_location]\n",
    "# lines_df = lines_df.set_index('name')\n",
    "pd_print(lines_df.head())\n",
    "\n",
    "sb_ding0_dict['lines_df'] = lines_df"
   ]
  },
  {
   "cell_type": "markdown",
   "metadata": {},
   "source": [
    "## 4) loads_df"
   ]
  },
  {
   "cell_type": "code",
   "execution_count": 131,
   "metadata": {},
   "outputs": [
    {
     "name": "stdout",
     "output_type": "stream",
     "text": [
      "+----+------------------+-------------------+-------------+----------------------+-------------+\n",
      "|    | name             | bus               |   peak_load |   annual_consumption | sector      |\n",
      "|----+------------------+-------------------+-------------+----------------------+-------------|\n",
      "|  0 | HV1_MV2.101_load | MV2.101 busbar1.1 |    0.3641   |              6912.21 | G2-A        |\n",
      "|  1 | MV2.101 Load 2   | MV2.101 Bus 4     |    0.206082 |              2704.23 | lv_urban6   |\n",
      "|  2 | MV2.101 Load 3   | MV2.101 Bus 5     |    0.213884 |              2659.97 | lv_semiurb5 |\n",
      "|  3 | MV2.101 Load 4   | MV2.101 Bus 6     |    0.213884 |              2659.97 | lv_semiurb5 |\n",
      "|  4 | MV2.101 Load 5   | MV2.101 Bus 7     |    0.130194 |              2003.56 | lv_semiurb4 |\n",
      "+----+------------------+-------------------+-------------+----------------------+-------------+\n"
     ]
    }
   ],
   "source": [
    "loads_rename_dict = {\n",
    "    'id':'name',\n",
    "    'node':'bus',\n",
    "    'profile': 'sector'\n",
    "}\n",
    "\n",
    "loads_cols_to_drop = [\n",
    "    'pLoad',\n",
    "    'qLoad',\n",
    "    'subnet',\n",
    "    'voltLvl',\n",
    "    'sR'\n",
    "]\n",
    "\n",
    "loads_cols_location = [\n",
    "    'name',\n",
    "    'bus',\n",
    "    'peak_load',\n",
    "    'annual_consumption',\n",
    "    'sector'\n",
    "]\n",
    "\n",
    "def cal_annual_consumption(name):\n",
    "    sR = name['sR']\n",
    "    sector = name['sector']\n",
    "    loads_profile[sector+'_sload'] = (loads_profile[ sector + '_pload']**2+loads_profile[sector + '_qload']**2)**0.5\n",
    "    annual_consumption = loads_profile[sector+'_sload'].sum()*sR\n",
    "    return annual_consumption\n",
    "\n",
    "def cal_peak_load(name):\n",
    "    sR = name['sR']\n",
    "    sector = name['sector']\n",
    "    peak_load = loads_profile[sector+'_pload'].max()*sR\n",
    "    return peak_load\n",
    "\n",
    "loads_profile = simbench_dict['LoadProfile']\n",
    "loads_df = simbench_dict['Load']\n",
    "loads_df = loads_df.rename(columns=loads_rename_dict)\n",
    "loads_df['peak_load'] = loads_df.apply(cal_peak_load,axis=1)\n",
    "loads_df['annual_consumption'] = loads_df.apply(cal_annual_consumption,axis=1)\n",
    "loads_df = loads_df[loads_cols_location]\n",
    "# loads_df = loads_df.set_index('name')\n",
    "pd_print(loads_df.head())\n",
    "\n",
    "sb_ding0_dict['loads_df'] = loads_df"
   ]
  },
  {
   "cell_type": "markdown",
   "metadata": {},
   "source": [
    "## 5) switches_df\n",
    "currently not implemented due to different means of working on the switches between the 2 systems"
   ]
  },
  {
   "cell_type": "code",
   "execution_count": 128,
   "metadata": {},
   "outputs": [
    {
     "name": "stdout",
     "output_type": "stream",
     "text": [
      "+----+------------------------------+-----------------+-------------------+----------+-------------+\n",
      "|    | name                         | bus_closed      | bus_open          |   branch | type_info   |\n",
      "|----+------------------------------+-----------------+-------------------+----------+-------------|\n",
      "|  0 | MV2.101 loop_line_switch 1.2 | MV2.101 Bus 57  | MV2.101 Bus 57_1  |      nan | LBS         |\n",
      "|  1 | MV2.101 loop_line_switch 2.2 | MV2.101 Bus 116 | MV2.101 Bus 116_1 |      nan | LBS         |\n",
      "|  2 | MV2.101 loop_line_switch 3.2 | MV2.101 Bus 13  | MV2.101 Bus 13_1  |      nan | LBS         |\n",
      "|  3 | MV2.101 loop_line_switch 4.2 | MV2.101 Bus 86  | MV2.101 Bus 86_1  |      nan | LBS         |\n",
      "|  4 | MV2.101 loop_line_switch 5.2 | MV2.101 Bus 75  | MV2.101 Bus 75_1  |      nan | LBS         |\n",
      "|  5 | MV2.101 loop_line_switch 6.2 | MV2.101 Bus 25  | MV2.101 Bus 25_1  |      nan | LBS         |\n",
      "|  6 | MV2.101 loop_line_switch 7.2 | MV2.101 Bus 37  | MV2.101 Bus 37_1  |      nan | LBS         |\n",
      "|  7 | MV2.101 loop_line_switch 8.2 | MV2.101 Bus 46  | MV2.101 Bus 46_1  |      nan | LBS         |\n",
      "+----+------------------------------+-----------------+-------------------+----------+-------------+\n"
     ]
    }
   ],
   "source": [
    "switch_rename_dict = {\n",
    "    'id':'name',\n",
    "    'nodeA':'bus_closed',\n",
    "    'nodeB':'bus_open',\n",
    "    'substation':'branch',\n",
    "    'type':'type_info'\n",
    "}\n",
    "\n",
    "switch_col_location = [\n",
    "    'name',\n",
    "    'bus_closed',\n",
    "    'bus_open',\n",
    "    'branch',\n",
    "    'type_info'\n",
    "]\n",
    "\n",
    "switches_df = simbench_dict['Switch']\n",
    "switches_df = switches_df.rename(columns=switch_rename_dict)\n",
    "switches_df = switches_df[switch_col_location]\n",
    "\n",
    "pd_print(switches_df)\n",
    "\n",
    "sb_ding0_dict['switches_df'] = switches_df"
   ]
  },
  {
   "cell_type": "markdown",
   "metadata": {},
   "source": [
    "## 6) transformer_df"
   ]
  },
  {
   "cell_type": "code",
   "execution_count": 129,
   "metadata": {},
   "outputs": [
    {
     "name": "stdout",
     "output_type": "stream",
     "text": [
      "+----+--------------------+------------+-------------------+---------+-----+-----+-----------------------+-----------------------+\n",
      "|    | name               | bus0       | bus1              |   s_nom | r   | x   | type                  | type_info             |\n",
      "|----+--------------------+------------+-------------------+---------+-----+-----+-----------------------+-----------------------|\n",
      "|  0 | HV1-MV2.101-Trafo1 | HV1 Bus 19 | MV2.101 busbar1.1 |      40 |     |     | 40 MVA 110/20 kV YNd5 | 40 MVA 110/20 kV YNd5 |\n",
      "|  1 | HV1-MV2.101-Trafo2 | HV1 Bus 19 | MV2.101 busbar1.1 |      40 |     |     | 40 MVA 110/20 kV YNd5 | 40 MVA 110/20 kV YNd5 |\n",
      "+----+--------------------+------------+-------------------+---------+-----+-----+-----------------------+-----------------------+\n",
      "+----+-----------------------+----------------+----------------+---------+-----+-----+-----------------------------+-----------------------------+\n",
      "|    | name                  | bus0           | bus1           |   s_nom | r   | x   | type                        | type_info                   |\n",
      "|----+-----------------------+----------------+----------------+---------+-----+-----+-----------------------------+-----------------------------|\n",
      "|  2 | MV2.101-LV3.202-Trafo | MV2.101 Bus 24 | LV3.202 Bus 16 |     0.4 |     |     | 0.4 MVA 20/0.4 kV Dyn5 ASEA | 0.4 MVA 20/0.4 kV Dyn5 ASEA |\n",
      "+----+-----------------------+----------------+----------------+---------+-----+-----+-----------------------------+-----------------------------+\n"
     ]
    }
   ],
   "source": [
    "trans_rename_dict = {\n",
    "    'id':'name',\n",
    "    'nodeHV':'bus0',\n",
    "    'nodeLV':'bus1',\n",
    "}\n",
    "\n",
    "trans_col_location = [\n",
    "    'name',\n",
    "    'bus0',\n",
    "    'bus1',\n",
    "    's_nom',\n",
    "    'r',\n",
    "    'x',\n",
    "    'type',\n",
    "    'type_info'\n",
    "]\n",
    "\n",
    "sb_trans_df = simbench_dict['Transformer']\n",
    "sb_trans_type_df = simbench_dict['TransformerType']\n",
    "sb_trans_df = sb_trans_df.rename(columns=trans_rename_dict)\n",
    "sb_trans_type_df = sb_trans_type_df.set_index('id')\n",
    "sb_trans_df['s_nom'] = sb_trans_df['type'].apply(lambda x: sb_trans_type_df.loc[x,'sR'] )\n",
    "sb_trans_df['r'] = ''\n",
    "sb_trans_df['x'] = ''\n",
    "sb_trans_df['type_info'] = sb_trans_df['type']\n",
    "sb_trans_df = sb_trans_df[trans_col_location]\n",
    "\n",
    "transformers_hvmv_df = sb_trans_df[sb_trans_df['bus0'].str.contains('HV')]\n",
    "transformers_hvmv_df = sb_trans_df[sb_trans_df['bus1'].str.contains('MV')]\n",
    "\n",
    "transformers_df = sb_trans_df[sb_trans_df['bus0'].str.contains('MV')]\n",
    "transformers_df = sb_trans_df[sb_trans_df['bus1'].str.contains('LV')]\n",
    "\n",
    "# transformers_hvmv_df = transformers_hvmv_df.set_index('name')\n",
    "# transformers_df = transformers_df.set_index('name')\n",
    "\n",
    "pd_print(transformers_hvmv_df.head())\n",
    "pd_print(transformers_df.head())\n",
    "\n",
    "sb_ding0_dict['transformers_hvmv_df'] = transformers_hvmv_df\n",
    "sb_ding0_dict['transformers_df'] = transformers_df"
   ]
  },
  {
   "cell_type": "markdown",
   "metadata": {},
   "source": [
    "## Debugging code"
   ]
  },
  {
   "cell_type": "code",
   "execution_count": 130,
   "metadata": {},
   "outputs": [
    {
     "name": "stdout",
     "output_type": "stream",
     "text": [
      "buses_df\n",
      "generators_df\n",
      "lines_df\n",
      "loads_df\n",
      "switches_df\n",
      "transformers_hvmv_df\n",
      "transformers_df\n"
     ]
    }
   ],
   "source": [
    "for key in sb_ding0_dict:\n",
    "    print (key)"
   ]
  },
  {
   "cell_type": "code",
   "execution_count": 77,
   "metadata": {},
   "outputs": [
    {
     "name": "stdout",
     "output_type": "stream",
     "text": [
      "+------+------------+---------+---------+--------------+--------------+---------+---------------+\n",
      "|      | name       |       x |       y | mv_grid_id   | lv_grid_id   |   v_nom | in_building   |\n",
      "|------+------------+---------+---------+--------------+--------------+---------+---------------|\n",
      "| 6099 | HV1 Bus 13 | 11.4511 | 53.5923 | MV4.101      |              |     110 | False         |\n",
      "+------+------------+---------+---------+--------------+--------------+---------+---------------+\n"
     ]
    }
   ],
   "source": [
    "# for key in sb_ding0_dict:\n",
    "#     print (\"key: \" + key)\n",
    "#     if 'generators' or 'loads' in key:\n",
    "#         search_str(sb_ding0_dict[key],'bus','HV1 Bus 13',invert=False)\n",
    "#     elif 'lines' or 'transformers' in key:\n",
    "#         search_str(sb_ding0_dict[key],'bus0','HV1 Bus 13',invert=False)\n",
    "#         search_str(sb_ding0_dict[key],'bus1','HV1 Bus 13',invert=False)\n",
    "#     elif 'switches' in key:\n",
    "#         search_str(sb_ding0_dict[key],'bus_closed','HV1 Bus 13',invert=False)\n",
    "#         search_str(sb_ding0_dict[key],'bus_open','HV1 Bus 13',invert=False)\n",
    "\n",
    "# search_str(generators_df,'name','MV4.101 MV SGen 1',invert=False)\n",
    "search_str(buses_df,'name','HV',invert=False)\n",
    "# sb_node_df = simbench_dict['Node']\n",
    "# pd_print(sb_node_df.head())\n",
    "# search_str(sb_node_df,'id','MV4.101 Bus 28',invert=False)\n",
    "# search_str(sb_node_df,'type','busbar',invert=True)\n",
    "# search_str(sb_node_df,'id','HV1 Bus 13',invert=False)\n",
    "\n",
    "# ding0_grid = parent_dir / 'Data_working' / 'ding0_test_network'\n",
    "# ding0_bus_df_csv = ding0_grid / 'buses.csv'\n",
    "# ding0_bus_df = pd.read_csv(ding0_bus_df_csv)\n",
    "# pd_print (ding0_bus_df.head())\n",
    "# search_str(ding0_bus_df,'name','hv',invert=False)"
   ]
  },
  {
   "cell_type": "markdown",
   "metadata": {},
   "source": [
    "## EDisGo direct import testing"
   ]
  },
  {
   "cell_type": "code",
   "execution_count": 117,
   "metadata": {},
   "outputs": [],
   "source": [
    "edisgo_obj = EDisGo(import_timeseries=False)\n",
    "# importing the dataframes into the edisgo_obj\n",
    "# for key in sb_ding0_dict:\n",
    "#     print(key)\n",
    "#     edisgo_obj.topology.key = sb_ding0_dict[key]\n",
    "    \n",
    "edisgo_obj.topology.buses_df = buses_df\n",
    "edisgo_obj.topology.generators_df = generators_df\n",
    "edisgo_obj.topology.lines_df = lines_df\n",
    "edisgo_obj.topology.loads_df = loads_df\n",
    "edisgo_obj.topology.switches_df = switches_df\n",
    "edisgo_obj.topology.transformers_hvmv_df = transformers_hvmv_df\n",
    "edisgo_obj.topology.transformers_df = transformers_df\n",
    "\n",
    "# creating the mv grid\n",
    "edisgo_obj.topology.mv_grid = MVGrid(id=mv_grid_id, edisgo_obj=edisgo_obj)\n",
    "edisgo_obj.topology._grids = {}\n",
    "edisgo_obj.topology._grids[str(edisgo_obj.topology.mv_grid)] = edisgo_obj.topology.mv_grid\n",
    "\n",
    "#creating the lv grid\n",
    "lv_grid_df =  search_str_df(buses_df,'name','LV',invert=False)\n",
    "# pd_print (lv_grid_df)\n",
    "lv_grid_ids = lv_grid_df['lv_grid_id'].unique()\n",
    "for lv_grid_id in lv_grid_ids:\n",
    "        lv_grid = LVGrid(id=lv_grid_id, edisgo_obj=edisgo_obj)\n",
    "        edisgo_obj.topology.mv_grid._lv_grids.append(lv_grid)\n",
    "        edisgo_obj.topology._grids[str(lv_grid)] = lv_grid"
   ]
  },
  {
   "cell_type": "code",
   "execution_count": 141,
   "metadata": {},
   "outputs": [
    {
     "ename": "AttributeError",
     "evalue": "'Topology' object has no attribute '_storage_units_df'",
     "output_type": "error",
     "traceback": [
      "\u001b[0;31m---------------------------------------------------------------------------\u001b[0m",
      "\u001b[0;31mAttributeError\u001b[0m                            Traceback (most recent call last)",
      "\u001b[0;32m<ipython-input-141-515078b1f31c>\u001b[0m in \u001b[0;36m<module>\u001b[0;34m\u001b[0m\n\u001b[1;32m      3\u001b[0m \u001b[0;31m# edisgo_obj.to_graph()\u001b[0m\u001b[0;34m\u001b[0m\u001b[0;34m\u001b[0m\u001b[0;34m\u001b[0m\u001b[0m\n\u001b[1;32m      4\u001b[0m \u001b[0;31m# edisgo_obj.plot_mv_grid_topology(technologies=True)\u001b[0m\u001b[0;34m\u001b[0m\u001b[0;34m\u001b[0m\u001b[0;34m\u001b[0m\u001b[0m\n\u001b[0;32m----> 5\u001b[0;31m \u001b[0medisgo_obj\u001b[0m\u001b[0;34m.\u001b[0m\u001b[0manalyze\u001b[0m\u001b[0;34m(\u001b[0m\u001b[0;34m)\u001b[0m\u001b[0;34m\u001b[0m\u001b[0;34m\u001b[0m\u001b[0m\n\u001b[0m",
      "\u001b[0;32m~/Documents/localFiles/sa_code/edisgo/eDisGo/edisgo/edisgo.py\u001b[0m in \u001b[0;36manalyze\u001b[0;34m(self, mode, timesteps)\u001b[0m\n\u001b[1;32m    417\u001b[0m             \u001b[0mtimesteps\u001b[0m \u001b[0;34m=\u001b[0m \u001b[0;34m[\u001b[0m\u001b[0mtimesteps\u001b[0m\u001b[0;34m]\u001b[0m\u001b[0;34m\u001b[0m\u001b[0;34m\u001b[0m\u001b[0m\n\u001b[1;32m    418\u001b[0m \u001b[0;34m\u001b[0m\u001b[0m\n\u001b[0;32m--> 419\u001b[0;31m         \u001b[0mpypsa_network\u001b[0m \u001b[0;34m=\u001b[0m \u001b[0mself\u001b[0m\u001b[0;34m.\u001b[0m\u001b[0mto_pypsa\u001b[0m\u001b[0;34m(\u001b[0m\u001b[0mmode\u001b[0m\u001b[0;34m=\u001b[0m\u001b[0mmode\u001b[0m\u001b[0;34m,\u001b[0m \u001b[0mtimesteps\u001b[0m\u001b[0;34m=\u001b[0m\u001b[0mtimesteps\u001b[0m\u001b[0;34m)\u001b[0m\u001b[0;34m\u001b[0m\u001b[0;34m\u001b[0m\u001b[0m\n\u001b[0m\u001b[1;32m    420\u001b[0m \u001b[0;34m\u001b[0m\u001b[0m\n\u001b[1;32m    421\u001b[0m         \u001b[0;31m# run power flow analysis\u001b[0m\u001b[0;34m\u001b[0m\u001b[0;34m\u001b[0m\u001b[0;34m\u001b[0m\u001b[0m\n",
      "\u001b[0;32m~/Documents/localFiles/sa_code/edisgo/eDisGo/edisgo/edisgo.py\u001b[0m in \u001b[0;36mto_pypsa\u001b[0;34m(self, **kwargs)\u001b[0m\n\u001b[1;32m    316\u001b[0m         \u001b[0;31m# export grid\u001b[0m\u001b[0;34m\u001b[0m\u001b[0;34m\u001b[0m\u001b[0;34m\u001b[0m\u001b[0m\n\u001b[1;32m    317\u001b[0m         \u001b[0;32mif\u001b[0m \u001b[0;32mnot\u001b[0m \u001b[0mmode\u001b[0m\u001b[0;34m:\u001b[0m\u001b[0;34m\u001b[0m\u001b[0;34m\u001b[0m\u001b[0m\n\u001b[0;32m--> 318\u001b[0;31m             \u001b[0;32mreturn\u001b[0m \u001b[0mpypsa_io\u001b[0m\u001b[0;34m.\u001b[0m\u001b[0mto_pypsa\u001b[0m\u001b[0;34m(\u001b[0m\u001b[0mself\u001b[0m\u001b[0;34m,\u001b[0m \u001b[0mtimesteps\u001b[0m\u001b[0;34m,\u001b[0m \u001b[0;34m**\u001b[0m\u001b[0mkwargs\u001b[0m\u001b[0;34m)\u001b[0m\u001b[0;34m\u001b[0m\u001b[0;34m\u001b[0m\u001b[0m\n\u001b[0m\u001b[1;32m    319\u001b[0m         \u001b[0;32melif\u001b[0m \u001b[0;34m\"mv\"\u001b[0m \u001b[0;32min\u001b[0m \u001b[0mmode\u001b[0m\u001b[0;34m:\u001b[0m\u001b[0;34m\u001b[0m\u001b[0;34m\u001b[0m\u001b[0m\n\u001b[1;32m    320\u001b[0m             return pypsa_io.to_pypsa(\n",
      "\u001b[0;32m~/Documents/localFiles/sa_code/edisgo/eDisGo/edisgo/tools/pypsa_io.py\u001b[0m in \u001b[0;36mto_pypsa\u001b[0;34m(grid_object, timesteps, **kwargs)\u001b[0m\n\u001b[1;32m    137\u001b[0m                 \u001b[0;34m:\u001b[0m\u001b[0;34m,\u001b[0m \u001b[0;34m[\u001b[0m\u001b[0;34m\"bus\"\u001b[0m\u001b[0;34m,\u001b[0m \u001b[0;34m\"control\"\u001b[0m\u001b[0;34m,\u001b[0m \u001b[0;34m\"p_nom\"\u001b[0m\u001b[0;34m]\u001b[0m\u001b[0;34m\u001b[0m\u001b[0;34m\u001b[0m\u001b[0m\n\u001b[1;32m    138\u001b[0m             ],\n\u001b[0;32m--> 139\u001b[0;31m             \"StorageUnit\": grid_object.topology.storage_units_df.loc[\n\u001b[0m\u001b[1;32m    140\u001b[0m                 \u001b[0;34m:\u001b[0m\u001b[0;34m,\u001b[0m \u001b[0;34m[\u001b[0m\u001b[0;34m\"bus\"\u001b[0m\u001b[0;34m,\u001b[0m \u001b[0;34m\"control\"\u001b[0m\u001b[0;34m]\u001b[0m\u001b[0;34m\u001b[0m\u001b[0;34m\u001b[0m\u001b[0m\n\u001b[1;32m    141\u001b[0m             ],\n",
      "\u001b[0;32m~/Documents/localFiles/sa_code/edisgo/eDisGo/edisgo/network/topology.py\u001b[0m in \u001b[0;36mstorage_units_df\u001b[0;34m(self)\u001b[0m\n\u001b[1;32m    435\u001b[0m \u001b[0;34m\u001b[0m\u001b[0m\n\u001b[1;32m    436\u001b[0m         \"\"\"\n\u001b[0;32m--> 437\u001b[0;31m         \u001b[0;32mreturn\u001b[0m \u001b[0mself\u001b[0m\u001b[0;34m.\u001b[0m\u001b[0m_storage_units_df\u001b[0m\u001b[0;34m\u001b[0m\u001b[0;34m\u001b[0m\u001b[0m\n\u001b[0m\u001b[1;32m    438\u001b[0m \u001b[0;34m\u001b[0m\u001b[0m\n\u001b[1;32m    439\u001b[0m     \u001b[0;34m@\u001b[0m\u001b[0mstorage_units_df\u001b[0m\u001b[0;34m.\u001b[0m\u001b[0msetter\u001b[0m\u001b[0;34m\u001b[0m\u001b[0;34m\u001b[0m\u001b[0m\n",
      "\u001b[0;31mAttributeError\u001b[0m: 'Topology' object has no attribute '_storage_units_df'"
     ]
    }
   ],
   "source": [
    "# print(edisgo_obj.__dict__)\n",
    "# print(edisgo_obj.topology.__dict__)\n",
    "# edisgo_obj.to_graph()\n",
    "# edisgo_obj.plot_mv_grid_topology(technologies=True)\n",
    "edisgo_obj.analyze()"
   ]
  },
  {
   "cell_type": "markdown",
   "metadata": {},
   "source": [
    "## Test Export to csv"
   ]
  },
  {
   "cell_type": "code",
   "execution_count": 79,
   "metadata": {},
   "outputs": [
    {
     "name": "stdout",
     "output_type": "stream",
     "text": [
      "/Users/heikernleong/Documents/localFiles/sa_code/edisgo/hk_edisgo/sb_ding0\n",
      "dict_keys(['buses_df', 'generators_df', 'lines_df', 'loads_df', 'switches_df', 'transformers_hvmv_df', 'transformers_df'])\n"
     ]
    }
   ],
   "source": [
    "sb_ding0_dir = parent_dir / 'sb_ding0'\n",
    "print (sb_ding0_dir)\n",
    "\n",
    "if not sb_ding0_dir.exists():\n",
    "    Path.mkdir(sb_ding0_dir)\n",
    "    \n",
    "print (sb_ding0_dict.keys())    \n",
    "    \n",
    "for key in sb_ding0_dict:\n",
    "    sb_ding0_dict[key] = sb_ding0_dict[key].set_index('name')\n",
    "    sb_ding0_dict[key].to_csv(str(sb_ding0_dir)+'/'+ key[:-3] +'.csv')"
   ]
  },
  {
   "cell_type": "code",
   "execution_count": null,
   "metadata": {},
   "outputs": [],
   "source": []
  }
 ],
 "metadata": {
  "kernelspec": {
   "display_name": "Python 3",
   "language": "python",
   "name": "python3"
  },
  "language_info": {
   "codemirror_mode": {
    "name": "ipython",
    "version": 3
   },
   "file_extension": ".py",
   "mimetype": "text/x-python",
   "name": "python",
   "nbconvert_exporter": "python",
   "pygments_lexer": "ipython3",
   "version": "3.6.12"
  }
 },
 "nbformat": 4,
 "nbformat_minor": 4
}
