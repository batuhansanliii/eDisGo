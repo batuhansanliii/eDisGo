{
 "cells": [
  {
   "cell_type": "code",
   "execution_count": 164,
   "metadata": {},
   "outputs": [],
   "source": [
    "import pandas as pd\n",
    "from pathlib import Path\n",
    "from edisgo import flex_opt\n",
    "from edisgo import network\n",
    "from edisgo import tools\n",
    "\n",
    "from edisgo import EDisGo\n",
    "from edisgo.network.grids import MVGrid, LVGrid\n",
    "from tabulate import tabulate\n",
    "from io import StringIO\n",
    "\n",
    "from pypsa import Network as PyPSANetwork"
   ]
  },
  {
   "cell_type": "code",
   "execution_count": 131,
   "metadata": {},
   "outputs": [],
   "source": [
    "# Some helpful debugging functions\n",
    "def pd_print(df):\n",
    "    print(tabulate(df, headers='keys', tablefmt='psql'))\n",
    "    \n",
    "def search_str(df,col,search_str,invert=False):\n",
    "    if invert == False:\n",
    "        pd_print(df.loc[df[col].str.contains(search_str)])\n",
    "        return df.loc[df[col].str.contains(search_str)]\n",
    "    else:\n",
    "        pd_print(df.loc[~df[col].str.contains(search_str)])\n",
    "        return df.loc[~df[col].str.contains(search_str)]\n",
    "    \n",
    "def search_str_df(df,col,search_str,invert=False):\n",
    "    if invert == False:\n",
    "        return df.loc[df[col].str.contains(search_str)]\n",
    "    else:\n",
    "        return df.loc[~df[col].str.contains(search_str)]"
   ]
  },
  {
   "cell_type": "code",
   "execution_count": 132,
   "metadata": {},
   "outputs": [
    {
     "name": "stdout",
     "output_type": "stream",
     "text": [
      "/Users/heikernleong/Documents/localFiles/sa_code/edisgo/hk_edisgo/1-MVLV-comm-all-0-no_sw\n"
     ]
    }
   ],
   "source": [
    "grid_name = '1-MVLV-comm-all-0-no_sw'\n",
    "# grid_name = '1-MVLV-semiurb-3.202-1-no_sw'\n",
    "\n",
    "\n",
    "curr_path = Path.cwd()\n",
    "parent_dir = curr_path.parents[3]\n",
    "# simbench_grids_dir = parent_dir / 'simbench'\n",
    "grid_dir = parent_dir / grid_name\n",
    "print (grid_dir)"
   ]
  },
  {
   "cell_type": "markdown",
   "metadata": {},
   "source": [
    "Importing the simbench raw data into panda dataframes"
   ]
  },
  {
   "cell_type": "code",
   "execution_count": 133,
   "metadata": {},
   "outputs": [
    {
     "name": "stdout",
     "output_type": "stream",
     "text": [
      "Line\n",
      "LoadProfile\n",
      "RES\n",
      "ExternalNet\n",
      "TransformerType\n",
      "StudyCases\n",
      "Node\n",
      "Switch\n",
      "Measurement\n",
      "Coordinates\n",
      "NodePFResult\n",
      "Substation\n",
      "Transformer\n",
      "Load\n",
      "RESProfile\n",
      "LineType\n"
     ]
    }
   ],
   "source": [
    "file_list = [i for i in grid_dir.iterdir()]\n",
    "simbench_dict = {i.name[:-4]:pd.read_csv(i,delimiter=\";\") for i in file_list}\n",
    "for i in simbench_dict.keys(): print (i)\n",
    "sb_ding0_dict = {}"
   ]
  },
  {
   "cell_type": "markdown",
   "metadata": {},
   "source": [
    "## 1) buses_df"
   ]
  },
  {
   "cell_type": "code",
   "execution_count": 192,
   "metadata": {},
   "outputs": [
    {
     "name": "stdout",
     "output_type": "stream",
     "text": [
      "Int64Index([6099], dtype='int64')\n",
      "+------+------------+--------+----------+----------+---------+---------+---------+------------------------+------------+-------------+-----------+---------+---------+---------------+--------------+--------------+\n",
      "|      | name       | type   |   vmSetp |   vaSetp |   v_nom |   vmMin |   vmMax | substation             | coordID    | subnet      |   voltLvl |       x |       y | in_building   | mv_grid_id   | lv_grid_id   |\n",
      "|------+------------+--------+----------+----------+---------+---------+---------+------------------------+------------+-------------+-----------+---------+---------+---------------+--------------+--------------|\n",
      "| 6099 | HV1 Bus 13 | busbar |    1.025 |        0 |     110 |     0.9 |     1.1 | HV1_MV4.101_Substation | coord_6101 | HV1_MV4.101 |         3 | 11.4511 | 53.5923 | False         | MV4.101      |              |\n",
      "+------+------------+--------+----------+----------+---------+---------+---------+------------------------+------------+-------------+-----------+---------+---------+---------------+--------------+--------------+\n",
      "+----+---------------+---------+---------+--------------+--------------+---------+---------------+\n",
      "|    | name          |       x |       y | mv_grid_id   |   lv_grid_id |   v_nom | in_building   |\n",
      "|----+---------------+---------+---------+--------------+--------------+---------+---------------|\n",
      "|  0 | LV1.401 Bus 1 | 11.4545 | 53.5965 |              |          401 |     0.4 | False         |\n",
      "|  1 | LV1.401 Bus 2 | 11.4537 | 53.5965 |              |          401 |     0.4 | False         |\n",
      "|  2 | LV1.401 Bus 3 | 11.452  | 53.5949 |              |          401 |     0.4 | False         |\n",
      "|  3 | LV1.401 Bus 4 | 11.4533 | 53.597  |              |          401 |     0.4 | False         |\n",
      "|  4 | LV1.401 Bus 5 | 11.4528 | 53.5945 |              |          401 |     0.4 | False         |\n",
      "+----+---------------+---------+---------+--------------+--------------+---------+---------------+\n"
     ]
    }
   ],
   "source": [
    "def label_mv_grid_id(name):\n",
    "    if \"LV\" in name:\n",
    "        return \"\"\n",
    "    elif \"MV\" in name:\n",
    "        return name[0:name.find(\" \")]\n",
    "\n",
    "def label_lv_grid_id(name):\n",
    "    if \"MV\" in name:\n",
    "        return \"\"\n",
    "    elif \"LV\" in name:\n",
    "        return name[name.find(\".\")+1:]\n",
    "    \n",
    "buses_cols_to_drop = [\n",
    "    'type',\n",
    "    'vmSetp',\n",
    "    'vaSetp',\n",
    "    'vmMin',\n",
    "    'vmMax',\n",
    "    'substation',\n",
    "    'voltLvl'\n",
    "]\n",
    "\n",
    "buses_col_location = [\n",
    "    'name',\n",
    "    'x',\n",
    "    'y',\n",
    "    'mv_grid_id',\n",
    "    'lv_grid_id',\n",
    "    'v_nom',\n",
    "    'in_building'\n",
    "]\n",
    "\n",
    "buses_df = simbench_dict['Node']\n",
    "# buses_df_busbar = buses_df.loc[buses_df['type'].str.contains('busbar')]\n",
    "# buses_df_node = buses_df.loc[buses_df['type'].str.contains('node')]\n",
    "# buses_df = pd.concat([buses_df_busbar,buses_df_node],ignore_index=True)\n",
    "buses_df = buses_df.rename(columns={'vmR':'v_nom'})\n",
    "buses_df = buses_df.rename(columns={'id':'name'})\n",
    "coord_df = simbench_dict['Coordinates']\n",
    "coord_df = coord_df.set_index('id')\n",
    "buses_df['x'] = buses_df['coordID'].apply(lambda coordID: coord_df.loc[coordID,'x'] )\n",
    "buses_df['y'] = buses_df['coordID'].apply(lambda coordID: coord_df.loc[coordID,'y'] )\n",
    "buses_df['in_building'] = 'False'\n",
    "\n",
    "buses_df['mv_grid_id'] =  buses_df['name'].apply(label_mv_grid_id)\n",
    "buses_df['lv_grid_id'] =  buses_df['subnet'].apply(label_lv_grid_id)\n",
    "\n",
    "# get the HV grid to adopt the mv grid id\n",
    "# hv_name = buses_df[buses_df['name'].str.contains('HV')]['name'].iloc[0]\n",
    "hv_index = buses_df.index[buses_df['name'].str.contains('HV')]\n",
    "print (hv_index)\n",
    "mv_grid_id = buses_df[buses_df['name'].str.contains('MV')]['mv_grid_id'].iloc[0]\n",
    "buses_df.loc[hv_index,'mv_grid_id'] = mv_grid_id \n",
    "# experimental drop\n",
    "# buses_df = buses_df.drop(hv_index)\n",
    "search_str(buses_df,'name','HV',invert=False)\n",
    "\n",
    "\n",
    "buses_df = buses_df.drop(buses_cols_to_drop,axis=1)\n",
    "buses_df = buses_df[buses_col_location]\n",
    "# buses_df = buses_df.set_index('name')\n",
    "pd_print(buses_df.head())\n",
    "sb_ding0_dict['buses_df'] = buses_df"
   ]
  },
  {
   "cell_type": "markdown",
   "metadata": {},
   "source": [
    "## 2) generator_df"
   ]
  },
  {
   "cell_type": "code",
   "execution_count": 178,
   "metadata": {},
   "outputs": [
    {
     "name": "stdout",
     "output_type": "stream",
     "text": [
      "+----+---------------------------+----------------+-----------+----------+---------+-------------------+------------+\n",
      "|    | name                      | bus            | control   |    p_nom | type    | weather_cell_id   | subtype    |\n",
      "|----+---------------------------+----------------+-----------+----------+---------+-------------------+------------|\n",
      "|  0 | HV1 grid at MV4.101_slack | HV1 Bus 13     | Slack     | 0        | station |                   | mv_station |\n",
      "|  1 | LV1.401 SGen 1            | LV1.401 Bus 7  | PQ        | 0.04     | solar   | PV5               | solar      |\n",
      "|  2 | LV1.401 SGen 2            | LV1.401 Bus 11 | PQ        | 0.078381 | solar   | PV8               | solar      |\n",
      "|  3 | LV1.401 SGen 4            | LV1.401 Bus 8  | PQ        | 0.019    | solar   | PV6               | solar      |\n",
      "|  4 | LV1.401 SGen 3            | LV1.401 Bus 13 | PQ        | 0.023    | solar   | PV5               | solar      |\n",
      "+----+---------------------------+----------------+-----------+----------+---------+-------------------+------------+\n"
     ]
    }
   ],
   "source": [
    "gen_cols_to_drop = [\n",
    "    'pRES',\n",
    "    'qRES',\n",
    "    'subnet',\n",
    "    'voltLvl'\n",
    "]\n",
    "\n",
    "gen_col_location = [\n",
    "    'name',\n",
    "    'bus',\n",
    "    'control',\n",
    "    'p_nom',\n",
    "    'type',\n",
    "    'weather_cell_id',\n",
    "    'subtype'\n",
    "]\n",
    "\n",
    "gen_rename_dict = {\n",
    "    'id':'name',\n",
    "    'node':'bus',\n",
    "    'sR':'p_nom',\n",
    "    'profile':'weather_cell_id'\n",
    "}\n",
    "\n",
    "slack_col_to_drop = [\n",
    "    'dspf',\n",
    "    'pExtNet',\n",
    "    'qExtNet',\n",
    "    'pWardShunt',\n",
    "    'qWardShunt',\n",
    "    'rXWard',\n",
    "    'xXWard',\n",
    "    'vmXWard',\n",
    "    'subnet',\n",
    "    'voltLvl'\n",
    "]\n",
    "\n",
    "def add_slack_terms(gen_df):\n",
    "    add_gen_dict = {\n",
    "        'p_nom':0.0,\n",
    "        'type':'station',\n",
    "        'weather_cell_id':\"\",\n",
    "        'subtype':'mv_station'\n",
    "    }\n",
    "    for key in add_gen_dict:\n",
    "        gen_df[key] = gen_df['control'].apply(lambda x: add_gen_dict[key] if x == 'Slack' else x)\n",
    "    return gen_df\n",
    "\n",
    "generators_df = simbench_dict['RES']\n",
    "generators_df = generators_df.rename(columns=gen_rename_dict)\n",
    "generators_df['calc_type'] = generators_df['calc_type'].apply(lambda x: x.upper())\n",
    "generators_df = generators_df.rename(columns={'calc_type':'control'})\n",
    "generators_df['type'] = generators_df['type'].apply(lambda x: 'solar' if x== 'PV' else x.lower())\n",
    "generators_df['subtype'] = generators_df['type']\n",
    "generators_df = generators_df.drop(gen_cols_to_drop, axis = 1)\n",
    "generators_df = generators_df[gen_col_location]\n",
    "\n",
    "\n",
    "# including the slack bus\n",
    "slack_df = simbench_dict['ExternalNet']\n",
    "slack_df = slack_df.rename(columns={'id':'name'})\n",
    "slack_df = slack_df.rename(columns={'node':'bus'})\n",
    "slack_df = slack_df.rename(columns={'calc_type':'control'})\n",
    "slack_df = slack_df.drop(slack_col_to_drop,axis=1)\n",
    "slack_df['control'] = slack_df['control'].apply(lambda x: 'Slack' if x == 'vavm' else x)\n",
    "slack_df['name'] = slack_df['name'].apply(lambda x: x+'_slack')\n",
    "slack_df = add_slack_terms(slack_df)\n",
    "# pd_print(slack_df)\n",
    "# pd_print (generators_df.head())\n",
    "generators_df = pd.concat([slack_df,generators_df] ,ignore_index=True)\n",
    "# generators_df = generators_df.set_index('name')\n",
    "pd_print (generators_df.head())\n",
    "\n",
    "sb_ding0_dict['generators_df'] = generators_df"
   ]
  },
  {
   "cell_type": "markdown",
   "metadata": {},
   "source": [
    "## 3) lines_df"
   ]
  },
  {
   "cell_type": "code",
   "execution_count": 179,
   "metadata": {},
   "outputs": [
    {
     "name": "stdout",
     "output_type": "stream",
     "text": [
      "+----+----------------+----------------+----------------+-----------+------------+------------+-------------+----------------+--------+----------------------+\n",
      "|    | name           | bus0           | bus1           |    length |          r |          x |       s_nom |   num_parallel | kind   | type_info            |\n",
      "|----+----------------+----------------+----------------+-----------+------------+------------+-------------+----------------+--------+----------------------|\n",
      "|  0 | LV1.401 Line 1 | LV1.401 Bus 10 | LV1.401 Bus 3  | 0.0557667 | 0.011527   | 0.00448503 | 0.000901684 |              1 | cable  | NAYY 4x150SE 0.6/1kV |\n",
      "|  1 | LV1.401 Line 2 | LV1.401 Bus 14 | LV1.401 Bus 12 | 0.0535763 | 0.0110742  | 0.00430886 | 0.000866268 |              1 | cable  | NAYY 4x150SE 0.6/1kV |\n",
      "|  2 | LV1.401 Line 3 | LV1.401 Bus 7  | LV1.401 Bus 4  | 0.0498145 | 0.0102967  | 0.00400632 | 0.000805444 |              1 | cable  | NAYY 4x150SE 0.6/1kV |\n",
      "|  3 | LV1.401 Line 4 | LV1.401 Bus 9  | LV1.401 Bus 2  | 0.0178861 | 0.00369706 | 0.00143849 | 0.000289198 |              1 | cable  | NAYY 4x150SE 0.6/1kV |\n",
      "|  4 | LV1.401 Line 5 | LV1.401 Bus 8  | LV1.401 Bus 11 | 0.0160892 | 0.00332564 | 0.00129397 | 0.000260144 |              1 | cable  | NAYY 4x150SE 0.6/1kV |\n",
      "+----+----------------+----------------+----------------+-----------+------------+------------+-------------+----------------+--------+----------------------+\n"
     ]
    }
   ],
   "source": [
    "lines_cols_to_drop = [\n",
    "    'loadingMax',\n",
    "    'subnet',\n",
    "    'voltLvl'\n",
    "]\n",
    "\n",
    "lines_col_location = [\n",
    "    'name',\n",
    "    'bus0',\n",
    "    'bus1',\n",
    "    'length',\n",
    "    'r',\n",
    "    'x',\n",
    "    's_nom',\n",
    "    'num_parallel',\n",
    "    'kind',\n",
    "    'type_info'\n",
    "]\n",
    "\n",
    "def get_line_char(lines_df, line_type_df):\n",
    "    char_dict = {\n",
    "        'r':'r',\n",
    "        'x': 'x',\n",
    "        'iMax':'iMax',\n",
    "        'kind':'type'\n",
    "    }\n",
    "    for key in char_dict:\n",
    "        lines_df[key] = lines_df['type_info'].apply(lambda x: line_type_df.loc[x,char_dict[key]])\n",
    "    return lines_df\n",
    "\n",
    "def cal_s_nom(name):\n",
    "    x = name['x']\n",
    "    r = name['r']\n",
    "    i = name['iMax']\n",
    "    return ((((x**2 + r**2))**0.5) * (i)**2)/(10**6)\n",
    "\n",
    "def mul_length(name):\n",
    "    return name['x']*name['length']\n",
    "\n",
    "lines_df = simbench_dict['Line']\n",
    "line_type_df = simbench_dict['LineType']\n",
    "line_type_df = line_type_df.set_index('id')\n",
    "\n",
    "# pd_print(line_type_df.head())\n",
    "lines_rename_dict = {\n",
    "    'id':'name',\n",
    "    'nodeA':'bus0',\n",
    "    'nodeB':'bus1',\n",
    "    'type': 'type_info'\n",
    "}\n",
    "lines_df = lines_df.rename(columns=lines_rename_dict)\n",
    "lines_df = lines_df.drop(lines_cols_to_drop,axis=1)\n",
    "lines_df = get_line_char(lines_df,line_type_df)\n",
    "lines_df['kind'] = lines_df['kind'].apply(lambda x : 'line' if x =='ohl' else x)\n",
    "lines_df['num_parallel'] = 1\n",
    "lines_df['r'] = lines_df.apply(lambda name: name['r']*name['length'],axis=1)\n",
    "lines_df['x'] = lines_df.apply(lambda name: name['x']*name['length'],axis=1)\n",
    "lines_df['s_nom'] = lines_df.apply(cal_s_nom,axis=1)\n",
    "lines_df = lines_df[lines_col_location]\n",
    "# lines_df = lines_df.set_index('name')\n",
    "pd_print(lines_df.head())\n",
    "\n",
    "sb_ding0_dict['lines_df'] = lines_df"
   ]
  },
  {
   "cell_type": "markdown",
   "metadata": {},
   "source": [
    "## 4) loads_df"
   ]
  },
  {
   "cell_type": "code",
   "execution_count": 180,
   "metadata": {},
   "outputs": [
    {
     "name": "stdout",
     "output_type": "stream",
     "text": [
      "+----+----------------+----------------+-------------+----------------------+----------+\n",
      "|    | name           | bus            |   peak_load |   annual_consumption | sector   |\n",
      "|----+----------------+----------------+-------------+----------------------+----------|\n",
      "|  0 | LV1.401 Load 1 | LV1.401 Bus 10 |  0.00645161 |            112.246   | L2-A     |\n",
      "|  1 | LV1.401 Load 2 | LV1.401 Bus 8  |  0.00322581 |             15.1998  | H0-C     |\n",
      "|  2 | LV1.401 Load 3 | LV1.401 Bus 14 |  0.00537634 |             81.477   | L1-A     |\n",
      "|  3 | LV1.401 Load 4 | LV1.401 Bus 13 |  0.00215054 |              7.71586 | H0-B     |\n",
      "|  4 | LV1.401 Load 5 | LV1.401 Bus 9  |  0.00430108 |             74.831   | L2-A     |\n",
      "+----+----------------+----------------+-------------+----------------------+----------+\n"
     ]
    }
   ],
   "source": [
    "loads_rename_dict = {\n",
    "    'id':'name',\n",
    "    'node':'bus',\n",
    "    'profile': 'sector'\n",
    "}\n",
    "\n",
    "loads_cols_to_drop = [\n",
    "    'pLoad',\n",
    "    'qLoad',\n",
    "    'subnet',\n",
    "    'voltLvl',\n",
    "    'sR'\n",
    "]\n",
    "\n",
    "loads_cols_location = [\n",
    "    'name',\n",
    "    'bus',\n",
    "    'peak_load',\n",
    "    'annual_consumption',\n",
    "    'sector'\n",
    "]\n",
    "\n",
    "def cal_annual_consumption(name):\n",
    "    sR = name['sR']\n",
    "    sector = name['sector']\n",
    "    loads_profile[sector+'_sload'] = (loads_profile[ sector + '_pload']**2+loads_profile[sector + '_qload']**2)**0.5\n",
    "    annual_consumption = loads_profile[sector+'_sload'].sum()*sR\n",
    "    return annual_consumption\n",
    "\n",
    "def cal_peak_load(name):\n",
    "    sR = name['sR']\n",
    "    sector = name['sector']\n",
    "    peak_load = loads_profile[sector+'_pload'].max()*sR\n",
    "    return peak_load\n",
    "\n",
    "loads_profile = simbench_dict['LoadProfile']\n",
    "loads_df = simbench_dict['Load']\n",
    "loads_df = loads_df.rename(columns=loads_rename_dict)\n",
    "loads_df['peak_load'] = loads_df.apply(cal_peak_load,axis=1)\n",
    "loads_df['annual_consumption'] = loads_df.apply(cal_annual_consumption,axis=1)\n",
    "loads_df = loads_df[loads_cols_location]\n",
    "# loads_df = loads_df.set_index('name')\n",
    "pd_print(loads_df.head())\n",
    "\n",
    "sb_ding0_dict['loads_df'] = loads_df"
   ]
  },
  {
   "cell_type": "markdown",
   "metadata": {},
   "source": [
    "## 5) switches_df\n",
    "currently not implemented due to different means of working on the switches between the 2 systems"
   ]
  },
  {
   "cell_type": "code",
   "execution_count": 181,
   "metadata": {},
   "outputs": [
    {
     "name": "stdout",
     "output_type": "stream",
     "text": [
      "+----+-------------------------------------------+---------------------+-----------------------+------------------------+-------------+\n",
      "|    | name                                      | bus_closed          | bus_open              | branch                 | type_info   |\n",
      "|----+-------------------------------------------+---------------------+-----------------------+------------------------+-------------|\n",
      "|  0 | MV4.101 BB-RS-line CB Remote Station      | MV4.101 RS busbar1A | MV4.101 RS busbar1A_1 | MV4.101_Remote_Station | CB          |\n",
      "|  1 | MV4.101 loop_line_switch 1.2              | MV4.101 Bus 69      | MV4.101 Bus 69_1      | nan                    | LBS         |\n",
      "|  2 | MV4.101 loop_line_switch 2.2              | MV4.101 Bus 82      | MV4.101 Bus 82_1      | nan                    | LBS         |\n",
      "|  3 | MV4.101 loop_line_switch 3.2              | MV4.101 Bus 87      | MV4.101 Bus 87_1      | nan                    | LBS         |\n",
      "|  4 | MV4.101 loop_line_switch 4.2              | MV4.101 Bus 36      | MV4.101 Bus 36_1      | nan                    | LBS         |\n",
      "|  5 | MV4.101 RS-Feeder3_line CB Remote Station | MV4.101 RS busbar1A | MV4.101 RS busbar1A_2 | MV4.101_Remote_Station | CB          |\n",
      "|  6 | MV4.101 RS-Feeder7_line CB Remote Station | MV4.101 RS busbar1A | MV4.101 RS busbar1A_3 | MV4.101_Remote_Station | CB          |\n",
      "+----+-------------------------------------------+---------------------+-----------------------+------------------------+-------------+\n"
     ]
    }
   ],
   "source": [
    "switch_rename_dict = {\n",
    "    'id':'name',\n",
    "    'nodeA':'bus_closed',\n",
    "    'nodeB':'bus_open',\n",
    "    'substation':'branch',\n",
    "    'type':'type_info'\n",
    "}\n",
    "\n",
    "switch_col_location = [\n",
    "    'name',\n",
    "    'bus_closed',\n",
    "    'bus_open',\n",
    "    'branch',\n",
    "    'type_info'\n",
    "]\n",
    "\n",
    "switches_df = simbench_dict['Switch']\n",
    "switches_df = switches_df.rename(columns=switch_rename_dict)\n",
    "switches_df = switches_df[switch_col_location]\n",
    "\n",
    "pd_print(switches_df)\n",
    "\n",
    "sb_ding0_dict['switches_df'] = switches_df"
   ]
  },
  {
   "cell_type": "markdown",
   "metadata": {},
   "source": [
    "## 6) transformer_df"
   ]
  },
  {
   "cell_type": "code",
   "execution_count": 182,
   "metadata": {},
   "outputs": [
    {
     "name": "stdout",
     "output_type": "stream",
     "text": [
      "+----+--------------------+------------+-------------------+---------+-----+-----+-----------------------+-----------------------+\n",
      "|    | name               | bus0       | bus1              |   s_nom | r   | x   | type                  | type_info             |\n",
      "|----+--------------------+------------+-------------------+---------+-----+-----+-----------------------+-----------------------|\n",
      "| 79 | HV1-MV4.101-Trafo1 | HV1 Bus 13 | MV4.101 busbar1.1 |      40 |     |     | 40 MVA 110/20 kV YNd5 | 40 MVA 110/20 kV YNd5 |\n",
      "| 80 | HV1-MV4.101-Trafo2 | HV1 Bus 13 | MV4.101 busbar1.1 |      40 |     |     | 40 MVA 110/20 kV YNd5 | 40 MVA 110/20 kV YNd5 |\n",
      "+----+--------------------+------------+-------------------+---------+-----+-----+-----------------------+-----------------------+\n",
      "+----+-------------------------+----------------+----------------+---------+-----+-----+-------------------------------------+-------------------------------------+\n",
      "|    | name                    | bus0           | bus1           |   s_nom | r   | x   | type                                | type_info                           |\n",
      "|----+-------------------------+----------------+----------------+---------+-----+-----+-------------------------------------+-------------------------------------|\n",
      "|  0 | MV4.101-LV1.401-Trafo 1 | MV4.101 Bus 49 | LV1.401 Bus 4  |    0.16 |     |     | 0.16 MVA 20/0.4 kV DOTE 160/20  SGB | 0.16 MVA 20/0.4 kV DOTE 160/20  SGB |\n",
      "|  1 | MV4.101-LV2.401-Trafo 1 | MV4.101 Bus 8  | LV2.401 Bus 19 |    0.25 |     |     | 0.25 MVA 20/0.4 kV Dyn5 ASEA        | 0.25 MVA 20/0.4 kV Dyn5 ASEA        |\n",
      "|  2 | MV4.101-LV2.402-Trafo 1 | MV4.101 Bus 10 | LV2.402 Bus 19 |    0.25 |     |     | 0.25 MVA 20/0.4 kV Dyn5 ASEA        | 0.25 MVA 20/0.4 kV Dyn5 ASEA        |\n",
      "|  3 | MV4.101-LV2.403-Trafo 1 | MV4.101 Bus 11 | LV2.403 Bus 19 |    0.25 |     |     | 0.25 MVA 20/0.4 kV Dyn5 ASEA        | 0.25 MVA 20/0.4 kV Dyn5 ASEA        |\n",
      "|  4 | MV4.101-LV2.404-Trafo 1 | MV4.101 Bus 17 | LV2.404 Bus 19 |    0.25 |     |     | 0.25 MVA 20/0.4 kV Dyn5 ASEA        | 0.25 MVA 20/0.4 kV Dyn5 ASEA        |\n",
      "+----+-------------------------+----------------+----------------+---------+-----+-----+-------------------------------------+-------------------------------------+\n"
     ]
    }
   ],
   "source": [
    "trans_rename_dict = {\n",
    "    'id':'name',\n",
    "    'nodeHV':'bus0',\n",
    "    'nodeLV':'bus1',\n",
    "}\n",
    "\n",
    "trans_col_location = [\n",
    "    'name',\n",
    "    'bus0',\n",
    "    'bus1',\n",
    "    's_nom',\n",
    "    'r',\n",
    "    'x',\n",
    "    'type',\n",
    "    'type_info'\n",
    "]\n",
    "\n",
    "sb_trans_df = simbench_dict['Transformer']\n",
    "sb_trans_type_df = simbench_dict['TransformerType']\n",
    "sb_trans_df = sb_trans_df.rename(columns=trans_rename_dict)\n",
    "sb_trans_type_df = sb_trans_type_df.set_index('id')\n",
    "sb_trans_df['s_nom'] = sb_trans_df['type'].apply(lambda x: sb_trans_type_df.loc[x,'sR'] )\n",
    "sb_trans_df['r'] = ''\n",
    "sb_trans_df['x'] = ''\n",
    "sb_trans_df['type_info'] = sb_trans_df['type']\n",
    "sb_trans_df = sb_trans_df[trans_col_location]\n",
    "\n",
    "transformers_hvmv_df = sb_trans_df[sb_trans_df['bus0'].str.contains('HV')]\n",
    "transformers_hvmv_df = sb_trans_df[sb_trans_df['bus1'].str.contains('MV')]\n",
    "\n",
    "transformers_df = sb_trans_df[sb_trans_df['bus0'].str.contains('MV')]\n",
    "transformers_df = sb_trans_df[sb_trans_df['bus1'].str.contains('LV')]\n",
    "\n",
    "# transformers_hvmv_df = transformers_hvmv_df.set_index('name')\n",
    "# transformers_df = transformers_df.set_index('name')\n",
    "\n",
    "pd_print(transformers_hvmv_df.head())\n",
    "pd_print(transformers_df.head())\n",
    "\n",
    "sb_ding0_dict['transformers_hvmv_df'] = transformers_hvmv_df\n",
    "sb_ding0_dict['transformers_df'] = transformers_df"
   ]
  },
  {
   "cell_type": "markdown",
   "metadata": {},
   "source": [
    "## Storage Unit"
   ]
  },
  {
   "cell_type": "code",
   "execution_count": 183,
   "metadata": {},
   "outputs": [
    {
     "name": "stdout",
     "output_type": "stream",
     "text": [
      "+--------+-------+-----------+---------+------------+--------------------+-----------------------+\n",
      "| name   | bus   | control   | p_nom   | capacity   | efficiency_store   | efficiency_dispatch   |\n",
      "|--------+-------+-----------+---------+------------+--------------------+-----------------------|\n",
      "+--------+-------+-----------+---------+------------+--------------------+-----------------------+\n"
     ]
    }
   ],
   "source": [
    "storage_col_dict = {\n",
    "    'name': pd.Series([],dtype='str'),\n",
    "    'bus': pd.Series([],dtype='str'),\n",
    "    'control': pd.Series([],dtype='str'),\n",
    "    'p_nom': pd.Series([],dtype='float'),\n",
    "    'capacity': pd.Series([],dtype='float'),\n",
    "    'efficiency_store': pd.Series([],dtype='float'),\n",
    "    'efficiency_dispatch': pd.Series([],dtype='float'),\n",
    "}\n",
    "\n",
    "pd_print(storage_units_df)\n",
    "storage_units_df = pd.DataFrame(storage_col_dict)\n",
    "sb_ding0_dict['storage_units_df'] = storage_units_df"
   ]
  },
  {
   "cell_type": "markdown",
   "metadata": {},
   "source": [
    "## Debugging code"
   ]
  },
  {
   "cell_type": "code",
   "execution_count": 184,
   "metadata": {},
   "outputs": [
    {
     "name": "stdout",
     "output_type": "stream",
     "text": [
      "buses_df\n",
      "generators_df\n",
      "lines_df\n",
      "loads_df\n",
      "switches_df\n",
      "transformers_hvmv_df\n",
      "transformers_df\n",
      "storage_units_df\n"
     ]
    }
   ],
   "source": [
    "for key in sb_ding0_dict:\n",
    "    print (key)"
   ]
  },
  {
   "cell_type": "code",
   "execution_count": 198,
   "metadata": {},
   "outputs": [
    {
     "name": "stdout",
     "output_type": "stream",
     "text": [
      "+------+------------+---------+---------+--------------+--------------+---------+---------------+\n",
      "|      | name       |       x |       y | mv_grid_id   | lv_grid_id   |   v_nom | in_building   |\n",
      "|------+------------+---------+---------+--------------+--------------+---------+---------------|\n",
      "| 6099 | HV1 Bus 13 | 11.4511 | 53.5923 | MV4.101      |              |     110 | False         |\n",
      "+------+------------+---------+---------+--------------+--------------+---------+---------------+\n",
      "+----+----------------+--------+---------+--------------+--------------+---------+---------------+\n",
      "|    | name           |      x |       y | mv_grid_id   |   lv_grid_id |   v_nom | in_building   |\n",
      "|----+----------------+--------+---------+--------------+--------------+---------+---------------|\n",
      "|  9 | LV1.401 Bus 10 | 11.452 | 53.5955 |              |          401 |     0.4 | False         |\n",
      "+----+----------------+--------+---------+--------------+--------------+---------+---------------+\n"
     ]
    },
    {
     "data": {
      "text/html": [
       "<div>\n",
       "<style scoped>\n",
       "    .dataframe tbody tr th:only-of-type {\n",
       "        vertical-align: middle;\n",
       "    }\n",
       "\n",
       "    .dataframe tbody tr th {\n",
       "        vertical-align: top;\n",
       "    }\n",
       "\n",
       "    .dataframe thead th {\n",
       "        text-align: right;\n",
       "    }\n",
       "</style>\n",
       "<table border=\"1\" class=\"dataframe\">\n",
       "  <thead>\n",
       "    <tr style=\"text-align: right;\">\n",
       "      <th></th>\n",
       "      <th>name</th>\n",
       "      <th>x</th>\n",
       "      <th>y</th>\n",
       "      <th>mv_grid_id</th>\n",
       "      <th>lv_grid_id</th>\n",
       "      <th>v_nom</th>\n",
       "      <th>in_building</th>\n",
       "    </tr>\n",
       "  </thead>\n",
       "  <tbody>\n",
       "    <tr>\n",
       "      <th>9</th>\n",
       "      <td>LV1.401 Bus 10</td>\n",
       "      <td>11.452</td>\n",
       "      <td>53.5955</td>\n",
       "      <td></td>\n",
       "      <td>401</td>\n",
       "      <td>0.4</td>\n",
       "      <td>False</td>\n",
       "    </tr>\n",
       "  </tbody>\n",
       "</table>\n",
       "</div>"
      ],
      "text/plain": [
       "             name       x        y mv_grid_id lv_grid_id  v_nom in_building\n",
       "9  LV1.401 Bus 10  11.452  53.5955                   401    0.4       False"
      ]
     },
     "execution_count": 198,
     "metadata": {},
     "output_type": "execute_result"
    }
   ],
   "source": [
    "# for key in sb_ding0_dict:\n",
    "#     print (\"key: \" + key)\n",
    "#     if 'generators' or 'loads' in key:\n",
    "#         search_str(sb_ding0_dict[key],'bus','HV1 Bus 13',invert=False)\n",
    "#     elif 'lines' or 'transformers' in key:\n",
    "#         search_str(sb_ding0_dict[key],'bus0','HV1 Bus 13',invert=False)\n",
    "#         search_str(sb_ding0_dict[key],'bus1','HV1 Bus 13',invert=False)\n",
    "#     elif 'switches' in key:\n",
    "#         search_str(sb_ding0_dict[key],'bus_closed','HV1 Bus 13',invert=False)\n",
    "#         search_str(sb_ding0_dict[key],'bus_open','HV1 Bus 13',invert=False)\n",
    "\n",
    "# search_str(generators_df,'name','MV4.101 MV SGen 1',invert=False)\n",
    "search_str(buses_df,'name','HV',invert=False)\n",
    "search_str(buses_df,'name','LV1.401 Bus 10',invert=False)\n",
    "\n",
    "# sb_node_df = simbench_dict['Node']\n",
    "# pd_print(sb_node_df.head())\n",
    "# search_str(sb_node_df,'id','MV4.101 Bus 28',invert=False)\n",
    "# search_str(sb_node_df,'type','busbar',invert=True)\n",
    "# search_str(sb_node_df,'id','HV1 Bus 13',invert=False)\n",
    "\n",
    "# ding0_grid = parent_dir / 'Data_working' / 'ding0_test_network'\n",
    "# ding0_bus_df_csv = ding0_grid / 'buses.csv'\n",
    "# ding0_bus_df = pd.read_csv(ding0_bus_df_csv)\n",
    "# pd_print (ding0_bus_df.head())\n",
    "# search_str(ding0_bus_df,'name','hv',invert=False)"
   ]
  },
  {
   "cell_type": "markdown",
   "metadata": {},
   "source": [
    "## EDisGo direct import testing"
   ]
  },
  {
   "cell_type": "code",
   "execution_count": 226,
   "metadata": {},
   "outputs": [],
   "source": [
    "edisgo_obj = EDisGo(import_timeseries=False,)\n",
    "# grid = PyPSANetwork()\n",
    "# importing the dataframes into the edisgo_obj\n",
    "# for key in sb_ding0_dict:\n",
    "#     print(key)\n",
    "#     edisgo_obj.topology.key = sb_ding0_dict[key]\n",
    "\n",
    "edisgo_obj.topology.buses_df = buses_df\n",
    "edisgo_obj.topology.buses_df = edisgo_obj.topology.buses_df.set_index('name')\n",
    "edisgo_obj.topology.generators_df = generators_df\n",
    "edisgo_obj.topology.lines_df = lines_df\n",
    "edisgo_obj.topology.loads_df = loads_df\n",
    "edisgo_obj.topology.switches_df = switches_df\n",
    "edisgo_obj.topology.transformers_hvmv_df = transformers_hvmv_df\n",
    "edisgo_obj.topology.transformers_df = transformers_df\n",
    "edisgo_obj.topology.storage_units_df = storage_units_df"
   ]
  },
  {
   "cell_type": "code",
   "execution_count": 227,
   "metadata": {},
   "outputs": [
    {
     "name": "stdout",
     "output_type": "stream",
     "text": [
      "LV1.401 Bus 10\n",
      "Int64Index([], dtype='int64')\n"
     ]
    }
   ],
   "source": [
    "# creating the mv grid\n",
    "edisgo_obj.topology.mv_grid = MVGrid(id=mv_grid_id, edisgo_obj=edisgo_obj)\n",
    "edisgo_obj.topology._grids = {}\n",
    "edisgo_obj.topology._grids[str(edisgo_obj.topology.mv_grid)] = edisgo_obj.topology.mv_grid\n",
    "# print(mv_grid_id)\n",
    "\n",
    "#creating the lv grid\n",
    "lv_grid_df =  search_str_df(buses_df,'name','LV',invert=False)\n",
    "# pd_print (lv_grid_df)\n",
    "lv_grid_ids = lv_grid_df['lv_grid_id'].unique()\n",
    "# print(lv_grid_ids)\n",
    "for lv_grid_id in lv_grid_ids:\n",
    "        lv_grid = LVGrid(id=lv_grid_id, edisgo_obj=edisgo_obj)\n",
    "        edisgo_obj.topology.mv_grid._lv_grids.append(lv_grid)\n",
    "        edisgo_obj.topology._grids[str(lv_grid)] = lv_grid\n",
    "# print(edisgo_obj.topology.mv_grid._lv_grids)\n",
    "\n",
    "df = getattr(edisgo_obj.topology, \"loads\" + \"_df\")\n",
    "print (df.bus[0])\n",
    "missing = df.index[~df.bus.isin(edisgo_obj.topology.buses_df.index)]\n",
    "print (missing)\n",
    "# print (edisgo_obj.topology.buses_df.index)\n",
    "\n",
    "# _validate_ding0_grid_import(edisgo_obj.topology)\n"
   ]
  },
  {
   "cell_type": "code",
   "execution_count": 228,
   "metadata": {},
   "outputs": [
    {
     "ename": "ValueError",
     "evalue": "Location based indexing can only have [labels (MUST BE IN THE INDEX), slices of labels (BOTH endpoints included! Can be slices of integers if the index is integers), listlike of labels, boolean] types",
     "output_type": "error",
     "traceback": [
      "\u001b[0;31m---------------------------------------------------------------------------\u001b[0m",
      "\u001b[0;31mValueError\u001b[0m                                Traceback (most recent call last)",
      "\u001b[0;32m/usr/local/anaconda3/envs/edisgo/lib/python3.6/site-packages/pandas/core/indexing.py\u001b[0m in \u001b[0;36m_has_valid_tuple\u001b[0;34m(self, key)\u001b[0m\n\u001b[1;32m    222\u001b[0m             \u001b[0;32mtry\u001b[0m\u001b[0;34m:\u001b[0m\u001b[0;34m\u001b[0m\u001b[0;34m\u001b[0m\u001b[0m\n\u001b[0;32m--> 223\u001b[0;31m                 \u001b[0mself\u001b[0m\u001b[0;34m.\u001b[0m\u001b[0m_validate_key\u001b[0m\u001b[0;34m(\u001b[0m\u001b[0mk\u001b[0m\u001b[0;34m,\u001b[0m \u001b[0mi\u001b[0m\u001b[0;34m)\u001b[0m\u001b[0;34m\u001b[0m\u001b[0;34m\u001b[0m\u001b[0m\n\u001b[0m\u001b[1;32m    224\u001b[0m             \u001b[0;32mexcept\u001b[0m \u001b[0mValueError\u001b[0m\u001b[0;34m:\u001b[0m\u001b[0;34m\u001b[0m\u001b[0;34m\u001b[0m\u001b[0m\n",
      "\u001b[0;32m/usr/local/anaconda3/envs/edisgo/lib/python3.6/site-packages/pandas/core/indexing.py\u001b[0m in \u001b[0;36m_validate_key\u001b[0;34m(self, key, axis)\u001b[0m\n\u001b[1;32m   1794\u001b[0m \u001b[0;34m\u001b[0m\u001b[0m\n\u001b[0;32m-> 1795\u001b[0;31m         \u001b[0;32mif\u001b[0m \u001b[0mcom\u001b[0m\u001b[0;34m.\u001b[0m\u001b[0mis_bool_indexer\u001b[0m\u001b[0;34m(\u001b[0m\u001b[0mkey\u001b[0m\u001b[0;34m)\u001b[0m\u001b[0;34m:\u001b[0m\u001b[0;34m\u001b[0m\u001b[0;34m\u001b[0m\u001b[0m\n\u001b[0m\u001b[1;32m   1796\u001b[0m             \u001b[0;32mreturn\u001b[0m\u001b[0;34m\u001b[0m\u001b[0;34m\u001b[0m\u001b[0m\n",
      "\u001b[0;32m/usr/local/anaconda3/envs/edisgo/lib/python3.6/site-packages/pandas/core/common.py\u001b[0m in \u001b[0;36mis_bool_indexer\u001b[0;34m(key)\u001b[0m\n\u001b[1;32m    123\u001b[0m                 \u001b[0;32mif\u001b[0m \u001b[0misna\u001b[0m\u001b[0;34m(\u001b[0m\u001b[0mkey\u001b[0m\u001b[0;34m)\u001b[0m\u001b[0;34m.\u001b[0m\u001b[0many\u001b[0m\u001b[0;34m(\u001b[0m\u001b[0;34m)\u001b[0m\u001b[0;34m:\u001b[0m\u001b[0;34m\u001b[0m\u001b[0;34m\u001b[0m\u001b[0m\n\u001b[0;32m--> 124\u001b[0;31m                     \u001b[0;32mraise\u001b[0m \u001b[0mValueError\u001b[0m\u001b[0;34m(\u001b[0m\u001b[0mna_msg\u001b[0m\u001b[0;34m)\u001b[0m\u001b[0;34m\u001b[0m\u001b[0;34m\u001b[0m\u001b[0m\n\u001b[0m\u001b[1;32m    125\u001b[0m                 \u001b[0;32mreturn\u001b[0m \u001b[0;32mFalse\u001b[0m\u001b[0;34m\u001b[0m\u001b[0;34m\u001b[0m\u001b[0m\n",
      "\u001b[0;31mValueError\u001b[0m: cannot index with vector containing NA / NaN values",
      "\nDuring handling of the above exception, another exception occurred:\n",
      "\u001b[0;31mValueError\u001b[0m                                Traceback (most recent call last)",
      "\u001b[0;32m<ipython-input-228-515078b1f31c>\u001b[0m in \u001b[0;36m<module>\u001b[0;34m\u001b[0m\n\u001b[1;32m      3\u001b[0m \u001b[0;31m# edisgo_obj.to_graph()\u001b[0m\u001b[0;34m\u001b[0m\u001b[0;34m\u001b[0m\u001b[0;34m\u001b[0m\u001b[0m\n\u001b[1;32m      4\u001b[0m \u001b[0;31m# edisgo_obj.plot_mv_grid_topology(technologies=True)\u001b[0m\u001b[0;34m\u001b[0m\u001b[0;34m\u001b[0m\u001b[0;34m\u001b[0m\u001b[0m\n\u001b[0;32m----> 5\u001b[0;31m \u001b[0medisgo_obj\u001b[0m\u001b[0;34m.\u001b[0m\u001b[0manalyze\u001b[0m\u001b[0;34m(\u001b[0m\u001b[0;34m)\u001b[0m\u001b[0;34m\u001b[0m\u001b[0;34m\u001b[0m\u001b[0m\n\u001b[0m",
      "\u001b[0;32m~/Documents/localFiles/sa_code/edisgo/eDisGo/edisgo/edisgo.py\u001b[0m in \u001b[0;36manalyze\u001b[0;34m(self, mode, timesteps)\u001b[0m\n\u001b[1;32m    417\u001b[0m             \u001b[0mtimesteps\u001b[0m \u001b[0;34m=\u001b[0m \u001b[0;34m[\u001b[0m\u001b[0mtimesteps\u001b[0m\u001b[0;34m]\u001b[0m\u001b[0;34m\u001b[0m\u001b[0;34m\u001b[0m\u001b[0m\n\u001b[1;32m    418\u001b[0m \u001b[0;34m\u001b[0m\u001b[0m\n\u001b[0;32m--> 419\u001b[0;31m         \u001b[0mpypsa_network\u001b[0m \u001b[0;34m=\u001b[0m \u001b[0mself\u001b[0m\u001b[0;34m.\u001b[0m\u001b[0mto_pypsa\u001b[0m\u001b[0;34m(\u001b[0m\u001b[0mmode\u001b[0m\u001b[0;34m=\u001b[0m\u001b[0mmode\u001b[0m\u001b[0;34m,\u001b[0m \u001b[0mtimesteps\u001b[0m\u001b[0;34m=\u001b[0m\u001b[0mtimesteps\u001b[0m\u001b[0;34m)\u001b[0m\u001b[0;34m\u001b[0m\u001b[0;34m\u001b[0m\u001b[0m\n\u001b[0m\u001b[1;32m    420\u001b[0m \u001b[0;34m\u001b[0m\u001b[0m\n\u001b[1;32m    421\u001b[0m         \u001b[0;31m# run power flow analysis\u001b[0m\u001b[0;34m\u001b[0m\u001b[0;34m\u001b[0m\u001b[0;34m\u001b[0m\u001b[0m\n",
      "\u001b[0;32m~/Documents/localFiles/sa_code/edisgo/eDisGo/edisgo/edisgo.py\u001b[0m in \u001b[0;36mto_pypsa\u001b[0;34m(self, **kwargs)\u001b[0m\n\u001b[1;32m    316\u001b[0m         \u001b[0;31m# export grid\u001b[0m\u001b[0;34m\u001b[0m\u001b[0;34m\u001b[0m\u001b[0;34m\u001b[0m\u001b[0m\n\u001b[1;32m    317\u001b[0m         \u001b[0;32mif\u001b[0m \u001b[0;32mnot\u001b[0m \u001b[0mmode\u001b[0m\u001b[0;34m:\u001b[0m\u001b[0;34m\u001b[0m\u001b[0;34m\u001b[0m\u001b[0m\n\u001b[0;32m--> 318\u001b[0;31m             \u001b[0;32mreturn\u001b[0m \u001b[0mpypsa_io\u001b[0m\u001b[0;34m.\u001b[0m\u001b[0mto_pypsa\u001b[0m\u001b[0;34m(\u001b[0m\u001b[0mself\u001b[0m\u001b[0;34m,\u001b[0m \u001b[0mtimesteps\u001b[0m\u001b[0;34m,\u001b[0m \u001b[0;34m**\u001b[0m\u001b[0mkwargs\u001b[0m\u001b[0;34m)\u001b[0m\u001b[0;34m\u001b[0m\u001b[0;34m\u001b[0m\u001b[0m\n\u001b[0m\u001b[1;32m    319\u001b[0m         \u001b[0;32melif\u001b[0m \u001b[0;34m\"mv\"\u001b[0m \u001b[0;32min\u001b[0m \u001b[0mmode\u001b[0m\u001b[0;34m:\u001b[0m\u001b[0;34m\u001b[0m\u001b[0;34m\u001b[0m\u001b[0m\n\u001b[1;32m    320\u001b[0m             return pypsa_io.to_pypsa(\n",
      "\u001b[0;32m~/Documents/localFiles/sa_code/edisgo/eDisGo/edisgo/tools/pypsa_io.py\u001b[0m in \u001b[0;36mto_pypsa\u001b[0;34m(grid_object, timesteps, **kwargs)\u001b[0m\n\u001b[1;32m    258\u001b[0m         ),\n\u001b[1;32m    259\u001b[0m         \u001b[0;34m\"Bus\"\u001b[0m\u001b[0;34m,\u001b[0m\u001b[0;34m\u001b[0m\u001b[0;34m\u001b[0m\u001b[0m\n\u001b[0;32m--> 260\u001b[0;31m         \u001b[0;34m\"v_mag_pu_set\"\u001b[0m\u001b[0;34m,\u001b[0m\u001b[0;34m\u001b[0m\u001b[0;34m\u001b[0m\u001b[0m\n\u001b[0m\u001b[1;32m    261\u001b[0m     )\n\u001b[1;32m    262\u001b[0m \u001b[0;34m\u001b[0m\u001b[0m\n",
      "\u001b[0;32m/usr/local/anaconda3/envs/edisgo/lib/python3.6/site-packages/pypsa/io.py\u001b[0m in \u001b[0;36mimport_series_from_dataframe\u001b[0;34m(network, dataframe, cls_name, attr)\u001b[0m\n\u001b[1;32m    771\u001b[0m         \u001b[0mpnl\u001b[0m\u001b[0;34m[\u001b[0m\u001b[0mattr\u001b[0m\u001b[0;34m]\u001b[0m \u001b[0;34m=\u001b[0m \u001b[0mpnl\u001b[0m\u001b[0;34m[\u001b[0m\u001b[0mattr\u001b[0m\u001b[0;34m]\u001b[0m\u001b[0;34m.\u001b[0m\u001b[0mreindex\u001b[0m\u001b[0;34m(\u001b[0m\u001b[0mcolumns\u001b[0m\u001b[0;34m=\u001b[0m\u001b[0;34m(\u001b[0m\u001b[0mpnl\u001b[0m\u001b[0;34m[\u001b[0m\u001b[0mattr\u001b[0m\u001b[0;34m]\u001b[0m\u001b[0;34m.\u001b[0m\u001b[0mcolumns\u001b[0m \u001b[0;34m|\u001b[0m \u001b[0mcolumns\u001b[0m\u001b[0;34m)\u001b[0m\u001b[0;34m)\u001b[0m\u001b[0;34m\u001b[0m\u001b[0;34m\u001b[0m\u001b[0m\n\u001b[1;32m    772\u001b[0m \u001b[0;34m\u001b[0m\u001b[0m\n\u001b[0;32m--> 773\u001b[0;31m     \u001b[0mpnl\u001b[0m\u001b[0;34m[\u001b[0m\u001b[0mattr\u001b[0m\u001b[0;34m]\u001b[0m\u001b[0;34m.\u001b[0m\u001b[0mloc\u001b[0m\u001b[0;34m[\u001b[0m\u001b[0mnetwork\u001b[0m\u001b[0;34m.\u001b[0m\u001b[0msnapshots\u001b[0m\u001b[0;34m,\u001b[0m \u001b[0mcolumns\u001b[0m\u001b[0;34m]\u001b[0m \u001b[0;34m=\u001b[0m \u001b[0mdataframe\u001b[0m\u001b[0;34m.\u001b[0m\u001b[0mloc\u001b[0m\u001b[0;34m[\u001b[0m\u001b[0mnetwork\u001b[0m\u001b[0;34m.\u001b[0m\u001b[0msnapshots\u001b[0m\u001b[0;34m,\u001b[0m \u001b[0mcolumns\u001b[0m\u001b[0;34m]\u001b[0m\u001b[0;34m\u001b[0m\u001b[0;34m\u001b[0m\u001b[0m\n\u001b[0m\u001b[1;32m    774\u001b[0m \u001b[0;34m\u001b[0m\u001b[0m\n\u001b[1;32m    775\u001b[0m \u001b[0;34m\u001b[0m\u001b[0m\n",
      "\u001b[0;32m/usr/local/anaconda3/envs/edisgo/lib/python3.6/site-packages/pandas/core/indexing.py\u001b[0m in \u001b[0;36m__getitem__\u001b[0;34m(self, key)\u001b[0m\n\u001b[1;32m   1492\u001b[0m             \u001b[0;32mexcept\u001b[0m \u001b[0;34m(\u001b[0m\u001b[0mKeyError\u001b[0m\u001b[0;34m,\u001b[0m \u001b[0mIndexError\u001b[0m\u001b[0;34m,\u001b[0m \u001b[0mAttributeError\u001b[0m\u001b[0;34m)\u001b[0m\u001b[0;34m:\u001b[0m\u001b[0;34m\u001b[0m\u001b[0;34m\u001b[0m\u001b[0m\n\u001b[1;32m   1493\u001b[0m                 \u001b[0;32mpass\u001b[0m\u001b[0;34m\u001b[0m\u001b[0;34m\u001b[0m\u001b[0m\n\u001b[0;32m-> 1494\u001b[0;31m             \u001b[0;32mreturn\u001b[0m \u001b[0mself\u001b[0m\u001b[0;34m.\u001b[0m\u001b[0m_getitem_tuple\u001b[0m\u001b[0;34m(\u001b[0m\u001b[0mkey\u001b[0m\u001b[0;34m)\u001b[0m\u001b[0;34m\u001b[0m\u001b[0;34m\u001b[0m\u001b[0m\n\u001b[0m\u001b[1;32m   1495\u001b[0m         \u001b[0;32melse\u001b[0m\u001b[0;34m:\u001b[0m\u001b[0;34m\u001b[0m\u001b[0;34m\u001b[0m\u001b[0m\n\u001b[1;32m   1496\u001b[0m             \u001b[0;31m# we by definition only have the 0th axis\u001b[0m\u001b[0;34m\u001b[0m\u001b[0;34m\u001b[0m\u001b[0;34m\u001b[0m\u001b[0m\n",
      "\u001b[0;32m/usr/local/anaconda3/envs/edisgo/lib/python3.6/site-packages/pandas/core/indexing.py\u001b[0m in \u001b[0;36m_getitem_tuple\u001b[0;34m(self, tup)\u001b[0m\n\u001b[1;32m    871\u001b[0m \u001b[0;34m\u001b[0m\u001b[0m\n\u001b[1;32m    872\u001b[0m         \u001b[0;31m# no multi-index, so validate all of the indexers\u001b[0m\u001b[0;34m\u001b[0m\u001b[0;34m\u001b[0m\u001b[0;34m\u001b[0m\u001b[0m\n\u001b[0;32m--> 873\u001b[0;31m         \u001b[0mself\u001b[0m\u001b[0;34m.\u001b[0m\u001b[0m_has_valid_tuple\u001b[0m\u001b[0;34m(\u001b[0m\u001b[0mtup\u001b[0m\u001b[0;34m)\u001b[0m\u001b[0;34m\u001b[0m\u001b[0;34m\u001b[0m\u001b[0m\n\u001b[0m\u001b[1;32m    874\u001b[0m \u001b[0;34m\u001b[0m\u001b[0m\n\u001b[1;32m    875\u001b[0m         \u001b[0;31m# ugly hack for GH #836\u001b[0m\u001b[0;34m\u001b[0m\u001b[0;34m\u001b[0m\u001b[0;34m\u001b[0m\u001b[0m\n",
      "\u001b[0;32m/usr/local/anaconda3/envs/edisgo/lib/python3.6/site-packages/pandas/core/indexing.py\u001b[0m in \u001b[0;36m_has_valid_tuple\u001b[0;34m(self, key)\u001b[0m\n\u001b[1;32m    225\u001b[0m                 raise ValueError(\"Location based indexing can only have \"\n\u001b[1;32m    226\u001b[0m                                  \u001b[0;34m\"[{types}] types\"\u001b[0m\u001b[0;34m\u001b[0m\u001b[0;34m\u001b[0m\u001b[0m\n\u001b[0;32m--> 227\u001b[0;31m                                  .format(types=self._valid_types))\n\u001b[0m\u001b[1;32m    228\u001b[0m \u001b[0;34m\u001b[0m\u001b[0m\n\u001b[1;32m    229\u001b[0m     \u001b[0;32mdef\u001b[0m \u001b[0m_is_nested_tuple_indexer\u001b[0m\u001b[0;34m(\u001b[0m\u001b[0mself\u001b[0m\u001b[0;34m,\u001b[0m \u001b[0mtup\u001b[0m\u001b[0;34m)\u001b[0m\u001b[0;34m:\u001b[0m\u001b[0;34m\u001b[0m\u001b[0;34m\u001b[0m\u001b[0m\n",
      "\u001b[0;31mValueError\u001b[0m: Location based indexing can only have [labels (MUST BE IN THE INDEX), slices of labels (BOTH endpoints included! Can be slices of integers if the index is integers), listlike of labels, boolean] types"
     ]
    }
   ],
   "source": [
    "# print(edisgo_obj.__dict__)\n",
    "# print(edisgo_obj.topology.__dict__)\n",
    "# edisgo_obj.to_graph()\n",
    "# edisgo_obj.plot_mv_grid_topology(technologies=True)\n",
    "edisgo_obj.analyze()"
   ]
  },
  {
   "cell_type": "markdown",
   "metadata": {},
   "source": [
    "## Test Export to csv"
   ]
  },
  {
   "cell_type": "code",
   "execution_count": 146,
   "metadata": {},
   "outputs": [
    {
     "name": "stdout",
     "output_type": "stream",
     "text": [
      "/Users/heikernleong/Documents/localFiles/sa_code/edisgo/hk_edisgo/sb_ding0\n",
      "dict_keys(['buses_df', 'generators_df', 'lines_df', 'loads_df', 'switches_df', 'transformers_hvmv_df', 'transformers_df', 'storage_units_df'])\n"
     ]
    }
   ],
   "source": [
    "sb_ding0_dir = parent_dir / 'sb_ding0'\n",
    "print (sb_ding0_dir)\n",
    "\n",
    "if not sb_ding0_dir.exists():\n",
    "    Path.mkdir(sb_ding0_dir)\n",
    "    \n",
    "print (sb_ding0_dict.keys())    \n",
    "    \n",
    "for key in sb_ding0_dict:\n",
    "    sb_ding0_dict[key] = sb_ding0_dict[key].set_index('name')\n",
    "    sb_ding0_dict[key].to_csv(str(sb_ding0_dir)+'/'+ key[:-3] +'.csv')"
   ]
  },
  {
   "cell_type": "markdown",
   "metadata": {},
   "source": [
    "## Debugging section 2"
   ]
  },
  {
   "cell_type": "code",
   "execution_count": 172,
   "metadata": {},
   "outputs": [
    {
     "name": "stdout",
     "output_type": "stream",
     "text": [
      "+----+---------------------------+------------+-----------+---------+---------+-------------------+------------+\n",
      "|    | name                      | bus        | control   |   p_nom | type    | weather_cell_id   | subtype    |\n",
      "|----+---------------------------+------------+-----------+---------+---------+-------------------+------------|\n",
      "|  0 | HV1 grid at MV4.101_slack | HV1 Bus 13 | Slack     |       0 | station |                   | mv_station |\n",
      "+----+---------------------------+------------+-----------+---------+---------+-------------------+------------+\n",
      "+------+------------+---------+---------+--------------+--------------+---------+---------------+\n",
      "|      | name       |       x |       y | mv_grid_id   | lv_grid_id   |   v_nom | in_building   |\n",
      "|------+------------+---------+---------+--------------+--------------+---------+---------------|\n",
      "| 6099 | HV1 Bus 13 | 11.4511 | 53.5923 | MV4.101      |              |     110 | False         |\n",
      "+------+------------+---------+---------+--------------+--------------+---------+---------------+\n",
      "Hey\n"
     ]
    },
    {
     "name": "stderr",
     "output_type": "stream",
     "text": [
      "WARNING:pypsa.io:\n",
      "Importing PyPSA from older version of PyPSA than current version 0.17.1.\n",
      "Please read the release notes at https://pypsa.org/doc/release_notes.html\n",
      "carefully to prepare your network for import.\n",
      "\n",
      "WARNING:pypsa.io:The following Generator have buses which are not defined:\n",
      "Index(['HV1 grid at MV4.101_slack'], dtype='object', name='name')\n",
      "INFO:pypsa.io:Imported network sb_ding0 has buses, generators, lines, loads, storage_units, transformers\n"
     ]
    },
    {
     "ename": "ValueError",
     "evalue": "cannot convert float NaN to integer",
     "output_type": "error",
     "traceback": [
      "\u001b[0;31m---------------------------------------------------------------------------\u001b[0m",
      "\u001b[0;31mValueError\u001b[0m                                Traceback (most recent call last)",
      "\u001b[0;32m<ipython-input-172-eed6c51a9070>\u001b[0m in \u001b[0;36m<module>\u001b[0;34m\u001b[0m\n\u001b[1;32m     11\u001b[0m \u001b[0medisgo_obj\u001b[0m \u001b[0;34m=\u001b[0m \u001b[0mEDisGo\u001b[0m\u001b[0;34m(\u001b[0m\u001b[0mimport_timeseries\u001b[0m\u001b[0;34m=\u001b[0m\u001b[0;32mFalse\u001b[0m\u001b[0;34m)\u001b[0m\u001b[0;34m\u001b[0m\u001b[0;34m\u001b[0m\u001b[0m\n\u001b[1;32m     12\u001b[0m \u001b[0mprint\u001b[0m \u001b[0;34m(\u001b[0m\u001b[0;34m'Hey'\u001b[0m\u001b[0;34m)\u001b[0m\u001b[0;34m\u001b[0m\u001b[0;34m\u001b[0m\u001b[0m\n\u001b[0;32m---> 13\u001b[0;31m \u001b[0mimport_ding0_grid\u001b[0m\u001b[0;34m(\u001b[0m\u001b[0msb_ding0_dir\u001b[0m\u001b[0;34m,\u001b[0m \u001b[0medisgo_obj\u001b[0m\u001b[0;34m)\u001b[0m\u001b[0;34m\u001b[0m\u001b[0;34m\u001b[0m\u001b[0m\n\u001b[0m\u001b[1;32m     14\u001b[0m \u001b[0mprint\u001b[0m \u001b[0;34m(\u001b[0m\u001b[0;34m'Hey Kern'\u001b[0m\u001b[0;34m)\u001b[0m\u001b[0;34m\u001b[0m\u001b[0;34m\u001b[0m\u001b[0m\n\u001b[1;32m     15\u001b[0m \u001b[0;31m# _validate_ding0_grid_import(edisgo_obj.topology)\u001b[0m\u001b[0;34m\u001b[0m\u001b[0;34m\u001b[0m\u001b[0;34m\u001b[0m\u001b[0m\n",
      "\u001b[0;32m~/Documents/localFiles/sa_code/edisgo/eDisGo/edisgo/io/ding0_import.py\u001b[0m in \u001b[0;36mimport_ding0_grid\u001b[0;34m(path, edisgo_obj)\u001b[0m\n\u001b[1;32m    133\u001b[0m     \u001b[0;31m# set up medium voltage grid\u001b[0m\u001b[0;34m\u001b[0m\u001b[0;34m\u001b[0m\u001b[0;34m\u001b[0m\u001b[0m\n\u001b[1;32m    134\u001b[0m     \u001b[0;31m# mv_grid_id = list(set(grid.buses.mv_grid_id))[0]\u001b[0m\u001b[0;34m\u001b[0m\u001b[0;34m\u001b[0m\u001b[0;34m\u001b[0m\u001b[0m\n\u001b[0;32m--> 135\u001b[0;31m     \u001b[0mmv_grid_id\u001b[0m \u001b[0;34m=\u001b[0m \u001b[0;34m\"MV4.101\"\u001b[0m\u001b[0;34m\u001b[0m\u001b[0;34m\u001b[0m\u001b[0m\n\u001b[0m\u001b[1;32m    136\u001b[0m     \u001b[0medisgo_obj\u001b[0m\u001b[0;34m.\u001b[0m\u001b[0mtopology\u001b[0m\u001b[0;34m.\u001b[0m\u001b[0mmv_grid\u001b[0m \u001b[0;34m=\u001b[0m \u001b[0mMVGrid\u001b[0m\u001b[0;34m(\u001b[0m\u001b[0mid\u001b[0m\u001b[0;34m=\u001b[0m\u001b[0mmv_grid_id\u001b[0m\u001b[0;34m,\u001b[0m \u001b[0medisgo_obj\u001b[0m\u001b[0;34m=\u001b[0m\u001b[0medisgo_obj\u001b[0m\u001b[0;34m)\u001b[0m\u001b[0;34m\u001b[0m\u001b[0;34m\u001b[0m\u001b[0m\n\u001b[1;32m    137\u001b[0m     edisgo_obj.topology._grids[\n",
      "\u001b[0;32m~/Documents/localFiles/sa_code/edisgo/eDisGo/edisgo/network/grids.py\u001b[0m in \u001b[0;36m__init__\u001b[0;34m(self, **kwargs)\u001b[0m\n\u001b[1;32m    349\u001b[0m \u001b[0;34m\u001b[0m\u001b[0m\n\u001b[1;32m    350\u001b[0m     \u001b[0;32mdef\u001b[0m \u001b[0m__init__\u001b[0m\u001b[0;34m(\u001b[0m\u001b[0mself\u001b[0m\u001b[0;34m,\u001b[0m \u001b[0;34m**\u001b[0m\u001b[0mkwargs\u001b[0m\u001b[0;34m)\u001b[0m\u001b[0;34m:\u001b[0m\u001b[0;34m\u001b[0m\u001b[0;34m\u001b[0m\u001b[0m\n\u001b[0;32m--> 351\u001b[0;31m         \u001b[0msuper\u001b[0m\u001b[0;34m(\u001b[0m\u001b[0;34m)\u001b[0m\u001b[0;34m.\u001b[0m\u001b[0m__init__\u001b[0m\u001b[0;34m(\u001b[0m\u001b[0;34m**\u001b[0m\u001b[0mkwargs\u001b[0m\u001b[0;34m)\u001b[0m\u001b[0;34m\u001b[0m\u001b[0;34m\u001b[0m\u001b[0m\n\u001b[0m\u001b[1;32m    352\u001b[0m \u001b[0;34m\u001b[0m\u001b[0m\n\u001b[1;32m    353\u001b[0m         \u001b[0mself\u001b[0m\u001b[0;34m.\u001b[0m\u001b[0m_lv_grids\u001b[0m \u001b[0;34m=\u001b[0m \u001b[0mkwargs\u001b[0m\u001b[0;34m.\u001b[0m\u001b[0mget\u001b[0m\u001b[0;34m(\u001b[0m\u001b[0;34m\"lv_grids\"\u001b[0m\u001b[0;34m,\u001b[0m \u001b[0;34m[\u001b[0m\u001b[0;34m]\u001b[0m\u001b[0;34m)\u001b[0m\u001b[0;34m\u001b[0m\u001b[0;34m\u001b[0m\u001b[0m\n",
      "\u001b[0;32m~/Documents/localFiles/sa_code/edisgo/eDisGo/edisgo/network/grids.py\u001b[0m in \u001b[0;36m__init__\u001b[0;34m(self, **kwargs)\u001b[0m\n\u001b[1;32m     20\u001b[0m         \u001b[0mself\u001b[0m\u001b[0;34m.\u001b[0m\u001b[0m_id\u001b[0m \u001b[0;34m=\u001b[0m \u001b[0mkwargs\u001b[0m\u001b[0;34m.\u001b[0m\u001b[0mget\u001b[0m\u001b[0;34m(\u001b[0m\u001b[0;34m\"id\"\u001b[0m\u001b[0;34m,\u001b[0m \u001b[0;32mNone\u001b[0m\u001b[0;34m)\u001b[0m\u001b[0;34m\u001b[0m\u001b[0;34m\u001b[0m\u001b[0m\n\u001b[1;32m     21\u001b[0m         \u001b[0;32mif\u001b[0m \u001b[0misinstance\u001b[0m\u001b[0;34m(\u001b[0m\u001b[0mself\u001b[0m\u001b[0;34m.\u001b[0m\u001b[0m_id\u001b[0m\u001b[0;34m,\u001b[0m \u001b[0mfloat\u001b[0m\u001b[0;34m)\u001b[0m\u001b[0;34m:\u001b[0m\u001b[0;34m\u001b[0m\u001b[0;34m\u001b[0m\u001b[0m\n\u001b[0;32m---> 22\u001b[0;31m             \u001b[0mself\u001b[0m\u001b[0;34m.\u001b[0m\u001b[0m_id\u001b[0m \u001b[0;34m=\u001b[0m \u001b[0mint\u001b[0m\u001b[0;34m(\u001b[0m\u001b[0mself\u001b[0m\u001b[0;34m.\u001b[0m\u001b[0m_id\u001b[0m\u001b[0;34m)\u001b[0m\u001b[0;34m\u001b[0m\u001b[0;34m\u001b[0m\u001b[0m\n\u001b[0m\u001b[1;32m     23\u001b[0m         \u001b[0mself\u001b[0m\u001b[0;34m.\u001b[0m\u001b[0m_edisgo_obj\u001b[0m \u001b[0;34m=\u001b[0m \u001b[0mkwargs\u001b[0m\u001b[0;34m.\u001b[0m\u001b[0mget\u001b[0m\u001b[0;34m(\u001b[0m\u001b[0;34m\"edisgo_obj\"\u001b[0m\u001b[0;34m,\u001b[0m \u001b[0;32mNone\u001b[0m\u001b[0;34m)\u001b[0m\u001b[0;34m\u001b[0m\u001b[0;34m\u001b[0m\u001b[0m\n\u001b[1;32m     24\u001b[0m \u001b[0;34m\u001b[0m\u001b[0m\n",
      "\u001b[0;31mValueError\u001b[0m: cannot convert float NaN to integer"
     ]
    }
   ],
   "source": [
    "from edisgo.io.ding0_import import import_ding0_grid, _validate_ding0_grid_import\n",
    "\n",
    "curr_path = Path.cwd()\n",
    "parent = curr_path.parents[3]\n",
    "sb_ding0_dir = parent / 'sb_ding0'\n",
    "ding0_dir = parent / 'ding0_test_network'\n",
    "\n",
    "search_str(generators_df,'name','HV1 grid at MV4.101_slack',invert=False)\n",
    "search_str(buses_df,'name','HV1 Bus 13',invert=False)\n",
    "\n",
    "edisgo_obj = EDisGo(import_timeseries=False)\n",
    "print ('Hey')\n",
    "import_ding0_grid(sb_ding0_dir, edisgo_obj)\n",
    "print ('Hey Kern')\n",
    "# _validate_ding0_grid_import(edisgo_obj.topology)\n",
    "\n",
    "\n",
    "\n",
    "# edisgo_obj.analyze()"
   ]
  },
  {
   "cell_type": "code",
   "execution_count": null,
   "metadata": {},
   "outputs": [],
   "source": []
  }
 ],
 "metadata": {
  "kernelspec": {
   "display_name": "Python 3",
   "language": "python",
   "name": "python3"
  },
  "language_info": {
   "codemirror_mode": {
    "name": "ipython",
    "version": 3
   },
   "file_extension": ".py",
   "mimetype": "text/x-python",
   "name": "python",
   "nbconvert_exporter": "python",
   "pygments_lexer": "ipython3",
   "version": "3.6.12"
  }
 },
 "nbformat": 4,
 "nbformat_minor": 4
}
