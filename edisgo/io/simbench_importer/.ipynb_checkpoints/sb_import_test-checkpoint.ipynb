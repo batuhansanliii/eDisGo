{
 "cells": [
  {
   "cell_type": "code",
   "execution_count": 1,
   "metadata": {},
   "outputs": [
    {
     "name": "stderr",
     "output_type": "stream",
     "text": [
      "/usr/local/anaconda3/envs/edisgo/lib/python3.6/site-packages/sqlalchemy/ext/declarative/base.py:338: SAWarning: Ignoring declarative-like tuple value of attribute segment: possibly a copy-and-paste error with a comma left at the end of the line?\n",
      "  \"left at the end of the line?\" % k)\n",
      "/usr/local/anaconda3/envs/edisgo/lib/python3.6/site-packages/sqlalchemy/ext/declarative/base.py:338: SAWarning: Ignoring declarative-like tuple value of attribute cable: possibly a copy-and-paste error with a comma left at the end of the line?\n",
      "  \"left at the end of the line?\" % k)\n"
     ]
    },
    {
     "name": "stdout",
     "output_type": "stream",
     "text": [
      "/Users/heikernleong/Documents/localFiles/sa_code/edisgo/hk_edisgo/sb_ding0\n",
      "/Users/heikernleong/Documents/localFiles/sa_code/edisgo/hk_edisgo/Data_working/ding0_test_network\n"
     ]
    }
   ],
   "source": [
    "import pandas as pd\n",
    "from edisgo import EDisGo\n",
    "from pathlib import Path"
   ]
  },
  {
   "cell_type": "code",
   "execution_count": 3,
   "metadata": {},
   "outputs": [
    {
     "name": "stdout",
     "output_type": "stream",
     "text": [
      "/Users/heikernleong/Documents/localFiles/sa_code/edisgo/hk_edisgo/sb_ding0\n",
      "/Users/heikernleong/Documents/localFiles/sa_code/edisgo/hk_edisgo/ding0_test_network\n"
     ]
    }
   ],
   "source": [
    "curr_path = Path.cwd()\n",
    "parent = curr_path.parents[3]\n",
    "sb_ding0_dir = parent / 'sb_ding0'\n",
    "ding0_dir = parent / 'ding0_test_network'\n",
    "print (sb_ding0_dir)\n",
    "print (ding0_dir)"
   ]
  },
  {
   "cell_type": "code",
   "execution_count": 8,
   "metadata": {},
   "outputs": [],
   "source": [
    "grid = EDisGo(ding0_grid = sb_ding0_dir, worst_case_analysis='worst-case')"
   ]
  },
  {
   "cell_type": "code",
   "execution_count": 4,
   "metadata": {},
   "outputs": [
    {
     "name": "stderr",
     "output_type": "stream",
     "text": [
      "WARNING:pypsa.io:\n",
      "Importing PyPSA from older version of PyPSA than current version 0.17.1.\n",
      "Please read the release notes at https://pypsa.org/doc/release_notes.html\n",
      "carefully to prepare your network for import.\n",
      "\n",
      "INFO:pypsa.io:Imported network ding0_test_network has buses, generators, lines, loads, transformers\n"
     ]
    }
   ],
   "source": [
    "grid1 = EDisGo(ding0_grid = ding0_dir, worst_case_analysis='worst-case')"
   ]
  },
  {
   "cell_type": "code",
   "execution_count": 9,
   "metadata": {},
   "outputs": [],
   "source": [
    "grid = EDisGo(import_timeseries=False)"
   ]
  },
  {
   "cell_type": "code",
   "execution_count": null,
   "metadata": {},
   "outputs": [],
   "source": []
  }
 ],
 "metadata": {
  "kernelspec": {
   "display_name": "Python 3.6.12 64-bit ('edisgo': conda)",
   "language": "python",
   "name": "python361264bitedisgocondab3aff6b1743a4d3e8ead64d65916ecd4"
  },
  "language_info": {
   "codemirror_mode": {
    "name": "ipython",
    "version": 3
   },
   "file_extension": ".py",
   "mimetype": "text/x-python",
   "name": "python",
   "nbconvert_exporter": "python",
   "pygments_lexer": "ipython3",
   "version": "3.6.12"
  }
 },
 "nbformat": 4,
 "nbformat_minor": 4
}
