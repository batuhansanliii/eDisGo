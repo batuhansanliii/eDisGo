{
 "cells": [
  {
   "cell_type": "code",
   "execution_count": 43,
   "metadata": {},
   "outputs": [],
   "source": [
    "import pandas as pd\n",
    "from edisgo import EDisGo\n",
    "from pathlib import Path\n",
    "from pypsa import Network as PyPSANetwork\n",
    "from tabulate import tabulate\n",
    "from edisgo.io.ding0_import import import_ding0_grid, _validate_ding0_grid_import"
   ]
  },
  {
   "cell_type": "code",
   "execution_count": 14,
   "metadata": {},
   "outputs": [
    {
     "name": "stdout",
     "output_type": "stream",
     "text": [
      "/Users/heikernleong/Documents/localFiles/sa_code/edisgo/hk_edisgo/sb_ding0\n",
      "/Users/heikernleong/Documents/localFiles/sa_code/edisgo/hk_edisgo/ding0_test_network\n"
     ]
    }
   ],
   "source": [
    "curr_path = Path.cwd()\n",
    "parent = curr_path.parents[3]\n",
    "sb_ding0_dir = parent / 'sb_ding0'\n",
    "ding0_dir = parent / 'ding0_test_network'\n",
    "print (sb_ding0_dir)\n",
    "print (ding0_dir)"
   ]
  },
  {
   "cell_type": "code",
   "execution_count": 15,
   "metadata": {},
   "outputs": [],
   "source": [
    "def pd_print(df):\n",
    "    print(tabulate(df, headers='keys', tablefmt='psql'))\n",
    "    \n",
    "    \n",
    "COLUMNS = {\n",
    "    \"buses_df\": [\"v_nom\", \"x\", \"y\", \"mv_grid_id\", \"lv_grid_id\", \"in_building\"],\n",
    "    \"generators_df\": [\n",
    "        \"bus\",\n",
    "        \"control\",\n",
    "        \"p_nom\",\n",
    "        \"type\",\n",
    "        \"subtype\",\n",
    "        \"weather_cell_id\",\n",
    "    ],\n",
    "    \"charging_points_df\": [\"bus\"],\n",
    "    \"loads_df\": [\"bus\", \"peak_load\", \"sector\", \"annual_consumption\"],\n",
    "    \"transformers_df\": [\"bus0\", \"bus1\", \"x_pu\", \"r_pu\", \"s_nom\", \"type_info\"],\n",
    "    \"lines_df\": [\n",
    "        \"bus0\",\n",
    "        \"bus1\",\n",
    "        \"length\",\n",
    "        \"x\",\n",
    "        \"r\",\n",
    "        \"s_nom\",\n",
    "        \"type_info\",\n",
    "        \"kind\",\n",
    "        \"num_parallel\",\n",
    "    ],\n",
    "    \"switches_df\": [\"bus_open\", \"bus_closed\", \"branch\", \"type_info\"],\n",
    "    \"storage_units_df\": [],\n",
    "}"
   ]
  },
  {
   "cell_type": "code",
   "execution_count": 17,
   "metadata": {},
   "outputs": [
    {
     "name": "stderr",
     "output_type": "stream",
     "text": [
      "WARNING:pypsa.io:\n",
      "Importing PyPSA from older version of PyPSA than current version 0.17.1.\n",
      "Please read the release notes at https://pypsa.org/doc/release_notes.html\n",
      "carefully to prepare your network for import.\n",
      "\n",
      "INFO:pypsa.io:Imported network ding0_test_network has buses, generators, lines, loads, transformers\n",
      "WARNING:pypsa.io:\n",
      "Importing PyPSA from older version of PyPSA than current version 0.17.1.\n",
      "Please read the release notes at https://pypsa.org/doc/release_notes.html\n",
      "carefully to prepare your network for import.\n",
      "\n",
      "INFO:pypsa.io:Imported network sb_ding0 has buses, generators, lines, loads, storage_units, transformers\n"
     ]
    }
   ],
   "source": [
    "grid = PyPSANetwork()\n",
    "grid.import_from_csv_folder(ding0_dir)\n",
    "edisgo_obj.topology.generators_df = grid.generators[COLUMNS[\"generators_df\"]]\n",
    "\n",
    "\n",
    "grid1 = PyPSANetwork()\n",
    "grid1.import_from_csv_folder(sb_ding0_dir)\n",
    "edisgo_obj.topology.generators_df = grid.generators[COLUMNS[\"generators_df\"]]\n"
   ]
  },
  {
   "cell_type": "code",
   "execution_count": 20,
   "metadata": {},
   "outputs": [
    {
     "name": "stdout",
     "output_type": "stream",
     "text": [
      "+------------------------------------------------------------+---------------------+-----------+---------+---------+--------------------+-------------------+\n",
      "| name                                                       | bus                 | control   |   p_nom | type    | subtype            |   weather_cell_id |\n",
      "|------------------------------------------------------------+---------------------+-----------+---------+---------+--------------------+-------------------|\n",
      "| MV_2761_slack                                              | Busbar_mvgd_2761_MV | Slack     | 0       | station | mv_station         |     nan           |\n",
      "| Generator_mvgd_2761_lvgd_203884_solar_roof_mounted_1593663 | Busbar_mvgd_2761_MV | PQ        | 0.009   | solar   | solar_roof_mounted |       1.13309e+06 |\n",
      "| Generator_mvgd_2761_lvgd_203886_solar_roof_mounted_1564359 | Busbar_mvgd_2761_MV | PQ        | 0.00612 | solar   | solar_roof_mounted |       1.13309e+06 |\n",
      "| Generator_mvgd_2761_lvgd_203893_solar_roof_mounted_1604374 | Busbar_mvgd_2761_MV | PQ        | 0.004   | solar   | solar_roof_mounted |       1.13309e+06 |\n",
      "| Generator_mvgd_2761_lvgd_203897_solar_roof_mounted_1567265 | Busbar_mvgd_2761_MV | PQ        | 0.002   | solar   | solar_roof_mounted |       1.13309e+06 |\n",
      "+------------------------------------------------------------+---------------------+-----------+---------+---------+--------------------+-------------------+\n",
      "+---------------------------+-------------------+-----------+---------+---------+------------+-------------------+\n",
      "| name                      | bus               | control   |   p_nom | type    | subtype    | weather_cell_id   |\n",
      "|---------------------------+-------------------+-----------+---------+---------+------------+-------------------|\n",
      "| HV1 grid at MV2.101_slack | HV1 Bus 19        | Slack     |  0      | station | mv_station | nan               |\n",
      "| MV2.101 SGen 1            | MV2.101 busbar1.1 | PQ        |  1.5    | wind_mv | wind_mv    | WP7               |\n",
      "| MV2.101 SGen 2            | MV2.101 Bus 4     | PQ        |  0.14   | lv_res  | lv_res     | lv_urban6         |\n",
      "| MV2.101 SGen 3            | MV2.101 Bus 5     | PQ        |  0.1818 | lv_res  | lv_res     | lv_semiurb5       |\n",
      "| MV2.101 SGen 4            | MV2.101 Bus 6     | PQ        |  0.1818 | lv_res  | lv_res     | lv_semiurb5       |\n",
      "+---------------------------+-------------------+-----------+---------+---------+------------+-------------------+\n"
     ]
    }
   ],
   "source": [
    "pd_print(grid.generators[COLUMNS[\"generators_df\"]].head())\n",
    "pd_print(grid1.generators[COLUMNS[\"generators_df\"]].head())"
   ]
  },
  {
   "cell_type": "code",
   "execution_count": 49,
   "metadata": {},
   "outputs": [
    {
     "name": "stderr",
     "output_type": "stream",
     "text": [
      "WARNING:pypsa.io:\n",
      "Importing PyPSA from older version of PyPSA than current version 0.17.1.\n",
      "Please read the release notes at https://pypsa.org/doc/release_notes.html\n",
      "carefully to prepare your network for import.\n",
      "\n",
      "WARNING:pypsa.io:The following Generator have buses which are not defined:\n",
      "Index(['HV1 grid at MV4.101_slack'], dtype='object', name='name')\n",
      "INFO:pypsa.io:Imported network sb_ding0 has buses, generators, lines, loads, storage_units, transformers\n"
     ]
    },
    {
     "ename": "ValueError",
     "evalue": "cannot convert float NaN to integer",
     "output_type": "error",
     "traceback": [
      "\u001b[0;31m---------------------------------------------------------------------------\u001b[0m",
      "\u001b[0;31mValueError\u001b[0m                                Traceback (most recent call last)",
      "\u001b[0;32m<ipython-input-49-7f00f830d9d4>\u001b[0m in \u001b[0;36m<module>\u001b[0;34m\u001b[0m\n\u001b[0;32m----> 1\u001b[0;31m \u001b[0medisgo\u001b[0m \u001b[0;34m=\u001b[0m \u001b[0mEDisGo\u001b[0m\u001b[0;34m(\u001b[0m\u001b[0mding0_grid\u001b[0m\u001b[0;34m=\u001b[0m\u001b[0msb_ding0_dir\u001b[0m\u001b[0;34m,\u001b[0m \u001b[0mworst_case_analysis\u001b[0m\u001b[0;34m=\u001b[0m \u001b[0;34m'worst-case'\u001b[0m \u001b[0;34m)\u001b[0m\u001b[0;34m\u001b[0m\u001b[0;34m\u001b[0m\u001b[0m\n\u001b[0m",
      "\u001b[0;32m~/Documents/localFiles/sa_code/edisgo/eDisGo/edisgo/edisgo.py\u001b[0m in \u001b[0;36m__init__\u001b[0;34m(self, **kwargs)\u001b[0m\n\u001b[1;32m    211\u001b[0m         \u001b[0;31m# instantiate topology object and load grid and equipment data\u001b[0m\u001b[0;34m\u001b[0m\u001b[0;34m\u001b[0m\u001b[0;34m\u001b[0m\u001b[0m\n\u001b[1;32m    212\u001b[0m         \u001b[0mself\u001b[0m\u001b[0;34m.\u001b[0m\u001b[0mtopology\u001b[0m \u001b[0;34m=\u001b[0m \u001b[0mTopology\u001b[0m\u001b[0;34m(\u001b[0m\u001b[0mconfig\u001b[0m\u001b[0;34m=\u001b[0m\u001b[0mself\u001b[0m\u001b[0;34m.\u001b[0m\u001b[0mconfig\u001b[0m\u001b[0;34m)\u001b[0m\u001b[0;34m\u001b[0m\u001b[0;34m\u001b[0m\u001b[0m\n\u001b[0;32m--> 213\u001b[0;31m         \u001b[0mself\u001b[0m\u001b[0;34m.\u001b[0m\u001b[0mimport_ding0_grid\u001b[0m\u001b[0;34m(\u001b[0m\u001b[0mpath\u001b[0m\u001b[0;34m=\u001b[0m\u001b[0mkwargs\u001b[0m\u001b[0;34m.\u001b[0m\u001b[0mget\u001b[0m\u001b[0;34m(\u001b[0m\u001b[0;34m\"ding0_grid\"\u001b[0m\u001b[0;34m,\u001b[0m \u001b[0;32mNone\u001b[0m\u001b[0;34m)\u001b[0m\u001b[0;34m)\u001b[0m\u001b[0;34m\u001b[0m\u001b[0;34m\u001b[0m\u001b[0m\n\u001b[0m\u001b[1;32m    214\u001b[0m \u001b[0;34m\u001b[0m\u001b[0m\n\u001b[1;32m    215\u001b[0m         \u001b[0;31m# set up results and time series container\u001b[0m\u001b[0;34m\u001b[0m\u001b[0;34m\u001b[0m\u001b[0;34m\u001b[0m\u001b[0m\n",
      "\u001b[0;32m~/Documents/localFiles/sa_code/edisgo/eDisGo/edisgo/edisgo.py\u001b[0m in \u001b[0;36mimport_ding0_grid\u001b[0;34m(self, path)\u001b[0m\n\u001b[1;32m    283\u001b[0m         \"\"\"\n\u001b[1;32m    284\u001b[0m         \u001b[0;32mif\u001b[0m \u001b[0mpath\u001b[0m \u001b[0;32mis\u001b[0m \u001b[0;32mnot\u001b[0m \u001b[0;32mNone\u001b[0m\u001b[0;34m:\u001b[0m\u001b[0;34m\u001b[0m\u001b[0;34m\u001b[0m\u001b[0m\n\u001b[0;32m--> 285\u001b[0;31m             \u001b[0mimport_ding0_grid\u001b[0m\u001b[0;34m(\u001b[0m\u001b[0mpath\u001b[0m\u001b[0;34m,\u001b[0m \u001b[0mself\u001b[0m\u001b[0;34m)\u001b[0m\u001b[0;34m\u001b[0m\u001b[0;34m\u001b[0m\u001b[0m\n\u001b[0m\u001b[1;32m    286\u001b[0m \u001b[0;34m\u001b[0m\u001b[0m\n\u001b[1;32m    287\u001b[0m     \u001b[0;32mdef\u001b[0m \u001b[0mto_pypsa\u001b[0m\u001b[0;34m(\u001b[0m\u001b[0mself\u001b[0m\u001b[0;34m,\u001b[0m \u001b[0;34m**\u001b[0m\u001b[0mkwargs\u001b[0m\u001b[0;34m)\u001b[0m\u001b[0;34m:\u001b[0m\u001b[0;34m\u001b[0m\u001b[0;34m\u001b[0m\u001b[0m\n",
      "\u001b[0;32m~/Documents/localFiles/sa_code/edisgo/eDisGo/edisgo/io/ding0_import.py\u001b[0m in \u001b[0;36mimport_ding0_grid\u001b[0;34m(path, edisgo_obj)\u001b[0m\n\u001b[1;32m    133\u001b[0m     \u001b[0;31m# set up medium voltage grid\u001b[0m\u001b[0;34m\u001b[0m\u001b[0;34m\u001b[0m\u001b[0;34m\u001b[0m\u001b[0m\n\u001b[1;32m    134\u001b[0m     \u001b[0;31m# mv_grid_id = list(set(grid.buses.mv_grid_id))[0]\u001b[0m\u001b[0;34m\u001b[0m\u001b[0;34m\u001b[0m\u001b[0;34m\u001b[0m\u001b[0m\n\u001b[0;32m--> 135\u001b[0;31m     \u001b[0mmv_grid_id\u001b[0m \u001b[0;34m=\u001b[0m \u001b[0;34m\"MV4.101\"\u001b[0m\u001b[0;34m\u001b[0m\u001b[0;34m\u001b[0m\u001b[0m\n\u001b[0m\u001b[1;32m    136\u001b[0m     \u001b[0medisgo_obj\u001b[0m\u001b[0;34m.\u001b[0m\u001b[0mtopology\u001b[0m\u001b[0;34m.\u001b[0m\u001b[0mmv_grid\u001b[0m \u001b[0;34m=\u001b[0m \u001b[0mMVGrid\u001b[0m\u001b[0;34m(\u001b[0m\u001b[0mid\u001b[0m\u001b[0;34m=\u001b[0m\u001b[0mmv_grid_id\u001b[0m\u001b[0;34m,\u001b[0m \u001b[0medisgo_obj\u001b[0m\u001b[0;34m=\u001b[0m\u001b[0medisgo_obj\u001b[0m\u001b[0;34m)\u001b[0m\u001b[0;34m\u001b[0m\u001b[0;34m\u001b[0m\u001b[0m\n\u001b[1;32m    137\u001b[0m     edisgo_obj.topology._grids[\n",
      "\u001b[0;32m~/Documents/localFiles/sa_code/edisgo/eDisGo/edisgo/network/grids.py\u001b[0m in \u001b[0;36m__init__\u001b[0;34m(self, **kwargs)\u001b[0m\n\u001b[1;32m    349\u001b[0m \u001b[0;34m\u001b[0m\u001b[0m\n\u001b[1;32m    350\u001b[0m     \u001b[0;32mdef\u001b[0m \u001b[0m__init__\u001b[0m\u001b[0;34m(\u001b[0m\u001b[0mself\u001b[0m\u001b[0;34m,\u001b[0m \u001b[0;34m**\u001b[0m\u001b[0mkwargs\u001b[0m\u001b[0;34m)\u001b[0m\u001b[0;34m:\u001b[0m\u001b[0;34m\u001b[0m\u001b[0;34m\u001b[0m\u001b[0m\n\u001b[0;32m--> 351\u001b[0;31m         \u001b[0msuper\u001b[0m\u001b[0;34m(\u001b[0m\u001b[0;34m)\u001b[0m\u001b[0;34m.\u001b[0m\u001b[0m__init__\u001b[0m\u001b[0;34m(\u001b[0m\u001b[0;34m**\u001b[0m\u001b[0mkwargs\u001b[0m\u001b[0;34m)\u001b[0m\u001b[0;34m\u001b[0m\u001b[0;34m\u001b[0m\u001b[0m\n\u001b[0m\u001b[1;32m    352\u001b[0m \u001b[0;34m\u001b[0m\u001b[0m\n\u001b[1;32m    353\u001b[0m         \u001b[0mself\u001b[0m\u001b[0;34m.\u001b[0m\u001b[0m_lv_grids\u001b[0m \u001b[0;34m=\u001b[0m \u001b[0mkwargs\u001b[0m\u001b[0;34m.\u001b[0m\u001b[0mget\u001b[0m\u001b[0;34m(\u001b[0m\u001b[0;34m\"lv_grids\"\u001b[0m\u001b[0;34m,\u001b[0m \u001b[0;34m[\u001b[0m\u001b[0;34m]\u001b[0m\u001b[0;34m)\u001b[0m\u001b[0;34m\u001b[0m\u001b[0;34m\u001b[0m\u001b[0m\n",
      "\u001b[0;32m~/Documents/localFiles/sa_code/edisgo/eDisGo/edisgo/network/grids.py\u001b[0m in \u001b[0;36m__init__\u001b[0;34m(self, **kwargs)\u001b[0m\n\u001b[1;32m     20\u001b[0m         \u001b[0mself\u001b[0m\u001b[0;34m.\u001b[0m\u001b[0m_id\u001b[0m \u001b[0;34m=\u001b[0m \u001b[0mkwargs\u001b[0m\u001b[0;34m.\u001b[0m\u001b[0mget\u001b[0m\u001b[0;34m(\u001b[0m\u001b[0;34m\"id\"\u001b[0m\u001b[0;34m,\u001b[0m \u001b[0;32mNone\u001b[0m\u001b[0;34m)\u001b[0m\u001b[0;34m\u001b[0m\u001b[0;34m\u001b[0m\u001b[0m\n\u001b[1;32m     21\u001b[0m         \u001b[0;32mif\u001b[0m \u001b[0misinstance\u001b[0m\u001b[0;34m(\u001b[0m\u001b[0mself\u001b[0m\u001b[0;34m.\u001b[0m\u001b[0m_id\u001b[0m\u001b[0;34m,\u001b[0m \u001b[0mfloat\u001b[0m\u001b[0;34m)\u001b[0m\u001b[0;34m:\u001b[0m\u001b[0;34m\u001b[0m\u001b[0;34m\u001b[0m\u001b[0m\n\u001b[0;32m---> 22\u001b[0;31m             \u001b[0mself\u001b[0m\u001b[0;34m.\u001b[0m\u001b[0m_id\u001b[0m \u001b[0;34m=\u001b[0m \u001b[0mint\u001b[0m\u001b[0;34m(\u001b[0m\u001b[0mself\u001b[0m\u001b[0;34m.\u001b[0m\u001b[0m_id\u001b[0m\u001b[0;34m)\u001b[0m\u001b[0;34m\u001b[0m\u001b[0;34m\u001b[0m\u001b[0m\n\u001b[0m\u001b[1;32m     23\u001b[0m         \u001b[0mself\u001b[0m\u001b[0;34m.\u001b[0m\u001b[0m_edisgo_obj\u001b[0m \u001b[0;34m=\u001b[0m \u001b[0mkwargs\u001b[0m\u001b[0;34m.\u001b[0m\u001b[0mget\u001b[0m\u001b[0;34m(\u001b[0m\u001b[0;34m\"edisgo_obj\"\u001b[0m\u001b[0;34m,\u001b[0m \u001b[0;32mNone\u001b[0m\u001b[0;34m)\u001b[0m\u001b[0;34m\u001b[0m\u001b[0;34m\u001b[0m\u001b[0m\n\u001b[1;32m     24\u001b[0m \u001b[0;34m\u001b[0m\u001b[0m\n",
      "\u001b[0;31mValueError\u001b[0m: cannot convert float NaN to integer"
     ]
    }
   ],
   "source": [
    "edisgo = EDisGo(ding0_grid=sb_ding0_dir, worst_case_analysis= 'worst-case' )"
   ]
  },
  {
   "cell_type": "code",
   "execution_count": 50,
   "metadata": {},
   "outputs": [
    {
     "name": "stdout",
     "output_type": "stream",
     "text": [
      "MVGrid_2761\n",
      "<class 'list'>\n"
     ]
    }
   ],
   "source": [
    "print(edisgo.topology.mv_grid)\n",
    "print(type(edisgo.topology.mv_grid._lv_grids))"
   ]
  },
  {
   "cell_type": "code",
   "execution_count": 47,
   "metadata": {},
   "outputs": [
    {
     "name": "stderr",
     "output_type": "stream",
     "text": [
      "WARNING:pypsa.io:\n",
      "Importing PyPSA from older version of PyPSA than current version 0.17.1.\n",
      "Please read the release notes at https://pypsa.org/doc/release_notes.html\n",
      "carefully to prepare your network for import.\n",
      "\n",
      "WARNING:pypsa.io:The following Generator have buses which are not defined:\n",
      "Index(['HV1 grid at MV4.101_slack'], dtype='object', name='name')\n",
      "INFO:pypsa.io:Imported network sb_ding0 has buses, generators, lines, loads, storage_units, transformers\n"
     ]
    },
    {
     "ename": "ValueError",
     "evalue": "cannot convert float NaN to integer",
     "output_type": "error",
     "traceback": [
      "\u001b[0;31m---------------------------------------------------------------------------\u001b[0m",
      "\u001b[0;31mValueError\u001b[0m                                Traceback (most recent call last)",
      "\u001b[0;32m<ipython-input-47-3245cacd3daa>\u001b[0m in \u001b[0;36m<module>\u001b[0;34m\u001b[0m\n\u001b[1;32m      1\u001b[0m \u001b[0medisgo_obj\u001b[0m \u001b[0;34m=\u001b[0m \u001b[0mEDisGo\u001b[0m\u001b[0;34m(\u001b[0m\u001b[0mimport_timeseries\u001b[0m\u001b[0;34m=\u001b[0m\u001b[0;32mFalse\u001b[0m\u001b[0;34m)\u001b[0m\u001b[0;34m\u001b[0m\u001b[0;34m\u001b[0m\u001b[0m\n\u001b[0;32m----> 2\u001b[0;31m \u001b[0mimport_ding0_grid\u001b[0m\u001b[0;34m(\u001b[0m\u001b[0msb_ding0_dir\u001b[0m\u001b[0;34m,\u001b[0m \u001b[0medisgo_obj\u001b[0m\u001b[0;34m)\u001b[0m\u001b[0;34m\u001b[0m\u001b[0;34m\u001b[0m\u001b[0m\n\u001b[0m\u001b[1;32m      3\u001b[0m \u001b[0m_validate_ding0_grid_import\u001b[0m\u001b[0;34m(\u001b[0m\u001b[0medisgo_obj\u001b[0m\u001b[0;34m.\u001b[0m\u001b[0mtopology\u001b[0m\u001b[0;34m)\u001b[0m\u001b[0;34m\u001b[0m\u001b[0;34m\u001b[0m\u001b[0m\n\u001b[1;32m      4\u001b[0m \u001b[0;31m# edisgo_obj.analyze()\u001b[0m\u001b[0;34m\u001b[0m\u001b[0;34m\u001b[0m\u001b[0;34m\u001b[0m\u001b[0m\n",
      "\u001b[0;32m~/Documents/localFiles/sa_code/edisgo/eDisGo/edisgo/io/ding0_import.py\u001b[0m in \u001b[0;36mimport_ding0_grid\u001b[0;34m(path, edisgo_obj)\u001b[0m\n\u001b[1;32m    133\u001b[0m     \u001b[0;31m# set up medium voltage grid\u001b[0m\u001b[0;34m\u001b[0m\u001b[0;34m\u001b[0m\u001b[0;34m\u001b[0m\u001b[0m\n\u001b[1;32m    134\u001b[0m     \u001b[0mmv_grid_id\u001b[0m \u001b[0;34m=\u001b[0m \u001b[0mlist\u001b[0m\u001b[0;34m(\u001b[0m\u001b[0mset\u001b[0m\u001b[0;34m(\u001b[0m\u001b[0mgrid\u001b[0m\u001b[0;34m.\u001b[0m\u001b[0mbuses\u001b[0m\u001b[0;34m.\u001b[0m\u001b[0mmv_grid_id\u001b[0m\u001b[0;34m)\u001b[0m\u001b[0;34m)\u001b[0m\u001b[0;34m[\u001b[0m\u001b[0;36m0\u001b[0m\u001b[0;34m]\u001b[0m\u001b[0;34m\u001b[0m\u001b[0;34m\u001b[0m\u001b[0m\n\u001b[0;32m--> 135\u001b[0;31m     \u001b[0mmv_grid_id\u001b[0m \u001b[0;34m=\u001b[0m \u001b[0;34m\"MV4.101\"\u001b[0m\u001b[0;34m\u001b[0m\u001b[0;34m\u001b[0m\u001b[0m\n\u001b[0m\u001b[1;32m    136\u001b[0m     \u001b[0medisgo_obj\u001b[0m\u001b[0;34m.\u001b[0m\u001b[0mtopology\u001b[0m\u001b[0;34m.\u001b[0m\u001b[0mmv_grid\u001b[0m \u001b[0;34m=\u001b[0m \u001b[0mMVGrid\u001b[0m\u001b[0;34m(\u001b[0m\u001b[0mid\u001b[0m\u001b[0;34m=\u001b[0m\u001b[0mmv_grid_id\u001b[0m\u001b[0;34m,\u001b[0m \u001b[0medisgo_obj\u001b[0m\u001b[0;34m=\u001b[0m\u001b[0medisgo_obj\u001b[0m\u001b[0;34m)\u001b[0m\u001b[0;34m\u001b[0m\u001b[0;34m\u001b[0m\u001b[0m\n\u001b[1;32m    137\u001b[0m     edisgo_obj.topology._grids[\n",
      "\u001b[0;32m~/Documents/localFiles/sa_code/edisgo/eDisGo/edisgo/network/grids.py\u001b[0m in \u001b[0;36m__init__\u001b[0;34m(self, **kwargs)\u001b[0m\n\u001b[1;32m    349\u001b[0m \u001b[0;34m\u001b[0m\u001b[0m\n\u001b[1;32m    350\u001b[0m     \u001b[0;32mdef\u001b[0m \u001b[0m__init__\u001b[0m\u001b[0;34m(\u001b[0m\u001b[0mself\u001b[0m\u001b[0;34m,\u001b[0m \u001b[0;34m**\u001b[0m\u001b[0mkwargs\u001b[0m\u001b[0;34m)\u001b[0m\u001b[0;34m:\u001b[0m\u001b[0;34m\u001b[0m\u001b[0;34m\u001b[0m\u001b[0m\n\u001b[0;32m--> 351\u001b[0;31m         \u001b[0msuper\u001b[0m\u001b[0;34m(\u001b[0m\u001b[0;34m)\u001b[0m\u001b[0;34m.\u001b[0m\u001b[0m__init__\u001b[0m\u001b[0;34m(\u001b[0m\u001b[0;34m**\u001b[0m\u001b[0mkwargs\u001b[0m\u001b[0;34m)\u001b[0m\u001b[0;34m\u001b[0m\u001b[0;34m\u001b[0m\u001b[0m\n\u001b[0m\u001b[1;32m    352\u001b[0m \u001b[0;34m\u001b[0m\u001b[0m\n\u001b[1;32m    353\u001b[0m         \u001b[0mself\u001b[0m\u001b[0;34m.\u001b[0m\u001b[0m_lv_grids\u001b[0m \u001b[0;34m=\u001b[0m \u001b[0mkwargs\u001b[0m\u001b[0;34m.\u001b[0m\u001b[0mget\u001b[0m\u001b[0;34m(\u001b[0m\u001b[0;34m\"lv_grids\"\u001b[0m\u001b[0;34m,\u001b[0m \u001b[0;34m[\u001b[0m\u001b[0;34m]\u001b[0m\u001b[0;34m)\u001b[0m\u001b[0;34m\u001b[0m\u001b[0;34m\u001b[0m\u001b[0m\n",
      "\u001b[0;32m~/Documents/localFiles/sa_code/edisgo/eDisGo/edisgo/network/grids.py\u001b[0m in \u001b[0;36m__init__\u001b[0;34m(self, **kwargs)\u001b[0m\n\u001b[1;32m     20\u001b[0m         \u001b[0mself\u001b[0m\u001b[0;34m.\u001b[0m\u001b[0m_id\u001b[0m \u001b[0;34m=\u001b[0m \u001b[0mkwargs\u001b[0m\u001b[0;34m.\u001b[0m\u001b[0mget\u001b[0m\u001b[0;34m(\u001b[0m\u001b[0;34m\"id\"\u001b[0m\u001b[0;34m,\u001b[0m \u001b[0;32mNone\u001b[0m\u001b[0;34m)\u001b[0m\u001b[0;34m\u001b[0m\u001b[0;34m\u001b[0m\u001b[0m\n\u001b[1;32m     21\u001b[0m         \u001b[0;32mif\u001b[0m \u001b[0misinstance\u001b[0m\u001b[0;34m(\u001b[0m\u001b[0mself\u001b[0m\u001b[0;34m.\u001b[0m\u001b[0m_id\u001b[0m\u001b[0;34m,\u001b[0m \u001b[0mfloat\u001b[0m\u001b[0;34m)\u001b[0m\u001b[0;34m:\u001b[0m\u001b[0;34m\u001b[0m\u001b[0;34m\u001b[0m\u001b[0m\n\u001b[0;32m---> 22\u001b[0;31m             \u001b[0mself\u001b[0m\u001b[0;34m.\u001b[0m\u001b[0m_id\u001b[0m \u001b[0;34m=\u001b[0m \u001b[0mint\u001b[0m\u001b[0;34m(\u001b[0m\u001b[0mself\u001b[0m\u001b[0;34m.\u001b[0m\u001b[0m_id\u001b[0m\u001b[0;34m)\u001b[0m\u001b[0;34m\u001b[0m\u001b[0;34m\u001b[0m\u001b[0m\n\u001b[0m\u001b[1;32m     23\u001b[0m         \u001b[0mself\u001b[0m\u001b[0;34m.\u001b[0m\u001b[0m_edisgo_obj\u001b[0m \u001b[0;34m=\u001b[0m \u001b[0mkwargs\u001b[0m\u001b[0;34m.\u001b[0m\u001b[0mget\u001b[0m\u001b[0;34m(\u001b[0m\u001b[0;34m\"edisgo_obj\"\u001b[0m\u001b[0;34m,\u001b[0m \u001b[0;32mNone\u001b[0m\u001b[0;34m)\u001b[0m\u001b[0;34m\u001b[0m\u001b[0;34m\u001b[0m\u001b[0m\n\u001b[1;32m     24\u001b[0m \u001b[0;34m\u001b[0m\u001b[0m\n",
      "\u001b[0;31mValueError\u001b[0m: cannot convert float NaN to integer"
     ]
    }
   ],
   "source": [
    "edisgo_obj = EDisGo(import_timeseries=False)\n",
    "import_ding0_grid(sb_ding0_dir, edisgo_obj)\n",
    "_validate_ding0_grid_import(edisgo_obj.topology)\n",
    "# edisgo_obj.analyze()"
   ]
  },
  {
   "cell_type": "code",
   "execution_count": null,
   "metadata": {},
   "outputs": [],
   "source": []
  }
 ],
 "metadata": {
  "kernelspec": {
   "display_name": "Python 3.6.12 64-bit ('edisgo': conda)",
   "language": "python",
   "name": "python361264bitedisgocondab3aff6b1743a4d3e8ead64d65916ecd4"
  },
  "language_info": {
   "codemirror_mode": {
    "name": "ipython",
    "version": 3
   },
   "file_extension": ".py",
   "mimetype": "text/x-python",
   "name": "python",
   "nbconvert_exporter": "python",
   "pygments_lexer": "ipython3",
   "version": "3.6.12"
  }
 },
 "nbformat": 4,
 "nbformat_minor": 4
}
