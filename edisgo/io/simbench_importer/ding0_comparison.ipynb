{
 "cells": [
  {
   "cell_type": "code",
   "execution_count": 1,
   "metadata": {},
   "outputs": [
    {
     "name": "stderr",
     "output_type": "stream",
     "text": [
      "/usr/local/anaconda3/envs/edisgo/lib/python3.6/site-packages/sqlalchemy/ext/declarative/base.py:338: SAWarning: Ignoring declarative-like tuple value of attribute segment: possibly a copy-and-paste error with a comma left at the end of the line?\n",
      "  \"left at the end of the line?\" % k)\n",
      "/usr/local/anaconda3/envs/edisgo/lib/python3.6/site-packages/sqlalchemy/ext/declarative/base.py:338: SAWarning: Ignoring declarative-like tuple value of attribute cable: possibly a copy-and-paste error with a comma left at the end of the line?\n",
      "  \"left at the end of the line?\" % k)\n"
     ]
    },
    {
     "name": "stdout",
     "output_type": "stream",
     "text": [
      "/Users/heikernleong/Documents/localFiles/sa_code/edisgo/hk_edisgo/ding0_test_network\n"
     ]
    }
   ],
   "source": [
    "import pandas as pd\n",
    "from pathlib import Path\n",
    "from edisgo import flex_opt\n",
    "from edisgo import network\n",
    "from edisgo import tools\n",
    "from edisgo import EDisGo\n",
    "\n",
    "\n",
    "grid_name = 'ding0_test_network'\n",
    "\n",
    "\n",
    "curr_path = Path.cwd()\n",
    "parent_dir = curr_path.parents[3]\n",
    "# simbench_grids_dir = parent_dir / 'simbench'\n",
    "grid_dir = parent_dir / grid_name\n",
    "print (grid_dir)"
   ]
  },
  {
   "cell_type": "code",
   "execution_count": 26,
   "metadata": {},
   "outputs": [
    {
     "name": "stderr",
     "output_type": "stream",
     "text": [
      "WARNING:pypsa.io:\n",
      "Importing PyPSA from older version of PyPSA than current version 0.17.1.\n",
      "Please read the release notes at https://pypsa.org/doc/release_notes.html\n",
      "carefully to prepare your network for import.\n",
      "\n",
      "INFO:pypsa.io:Imported network ding0_test_network has buses, generators, lines, loads, transformers\n"
     ]
    },
    {
     "name": "stdout",
     "output_type": "stream",
     "text": [
      "_equipment_data\n",
      "_buses_df\n",
      "_generators_df\n",
      "_charging_points_df\n",
      "_loads_df\n",
      "_transformers_df\n",
      "_transformers_hvmv_df\n",
      "_lines_df\n",
      "_switches_df\n",
      "_storage_units_df\n",
      "_grid_district\n",
      "_grids\n",
      "_mv_grid\n",
      "done\n"
     ]
    }
   ],
   "source": [
    "# worst_case_analysis = 'worst-case-feedin'\n",
    "worst_case_analysis = 'worst-case'\n",
    "edisgo = EDisGo(ding0_grid=grid_dir, worst_case_analysis=worst_case_analysis)\n",
    "\n",
    "gen_df = edisgo.topology.generators_df\n",
    "buses_df = edisgo.topology.buses_df\n",
    "lines_df = edisgo.topology.lines_df\n",
    "for key in edisgo.topology.__dict__:\n",
    "    print (key)\n",
    "# display(edisgo.topology.generators_df.head())\n",
    "# gen_df = edisgo.topology.generators_df.head()\n",
    "# display(gen_df[gen_df['control'].str.contains('lack')])\n",
    "print('done')"
   ]
  },
  {
   "cell_type": "code",
   "execution_count": 24,
   "metadata": {},
   "outputs": [
    {
     "name": "stdout",
     "output_type": "stream",
     "text": [
      "mv_transformers\n",
      "mv_overhead_lines\n",
      "mv_cables\n",
      "lv_transformers\n",
      "lv_cables\n"
     ]
    }
   ],
   "source": [
    "equip_data = edisgo.topology._equipment_data\n",
    "for key in equip_data:\n",
    "    print (key)\n",
    "mv_transformers = pd.DataFrame.from_dict(equip_data['mv_transformers'])\n",
    "mv_overhead_lines = pd.DataFrame.from_dict(equip_data['mv_overhead_lines'])\n",
    "mv_cables = pd.DataFrame.from_dict(equip_data['mv_cables'])\n",
    "lv_transformers = pd.DataFrame.from_dict(equip_data['lv_transformers'])\n",
    "lv_cables = pd.DataFrame.from_dict(equip_data['lv_cables'])"
   ]
  },
  {
   "cell_type": "code",
   "execution_count": 17,
   "metadata": {},
   "outputs": [
    {
     "name": "stdout",
     "output_type": "stream",
     "text": [
      "_timeindex\n",
      "_generators_active_power\n",
      "_generators_reactive_power\n",
      "_loads_active_power\n",
      "_loads_reactive_power\n",
      "_storage_units_active_power\n",
      "_storage_units_reactive_power\n",
      "_charging_points_active_power\n",
      "_charging_points_reactive_power\n",
      "_curtailment\n",
      "mode\n",
      "False\n"
     ]
    },
    {
     "name": "stderr",
     "output_type": "stream",
     "text": [
      "INFO:pypsa.pf:Performing non-linear load-flow on AC sub-network SubNetwork 0 for snapshots DatetimeIndex(['1970-01-01 00:00:00', '1970-01-01 01:00:00'], dtype='datetime64[ns]', freq='H')\n",
      "INFO:pypsa.pf:Newton-Raphson solved in 3 iterations with error of 0.000000 in 0.050723 seconds\n",
      "INFO:pypsa.pf:Newton-Raphson solved in 3 iterations with error of 0.000000 in 0.059217 seconds\n"
     ]
    },
    {
     "name": "stdout",
     "output_type": "stream",
     "text": [
      "done\n"
     ]
    }
   ],
   "source": [
    "for key in edisgo.timeseries.__dict__:\n",
    "    print (key)\n",
    "#     display(edisgo.timeseries.__dict__[key])\n",
    "    \n",
    "# print('slack' in edisgo.timeseries._generators_active_power.columns)\n",
    "# print(edisgo.timeseries._generators_active_power.columns)\n",
    "# display (edisgo.timeseries._timeindex)\n",
    "# display (edisgo.timeseries._generators_active_power.head())\n",
    "cols = edisgo.timeseries._generators_active_power.columns\n",
    "# print(cols)\n",
    "print('slack' in cols)\n",
    "# display (edisgo.timeseries._storage_units_reactive_power)\n",
    "edisgo.analyze()\n",
    "print('done')"
   ]
  },
  {
   "cell_type": "code",
   "execution_count": 15,
   "metadata": {},
   "outputs": [],
   "source": [
    "# topology = edisgo.topology\n",
    "gen_active_power = edisgo.timeseries._generators_active_power\n",
    "gen_reactive_power = edisgo.timeseries._generators_reactive_power\n",
    "loads_active = edisgo.timeseries._loads_active_power\n",
    "loads_reactive = edisgo.timeseries._loads_reactive_power"
   ]
  },
  {
   "cell_type": "code",
   "execution_count": null,
   "metadata": {},
   "outputs": [],
   "source": []
  }
 ],
 "metadata": {
  "kernelspec": {
   "display_name": "Python [conda env:edisgo]",
   "language": "python",
   "name": "conda-env-edisgo-py"
  },
  "language_info": {
   "codemirror_mode": {
    "name": "ipython",
    "version": 3
   },
   "file_extension": ".py",
   "mimetype": "text/x-python",
   "name": "python",
   "nbconvert_exporter": "python",
   "pygments_lexer": "ipython3",
   "version": "3.6.12"
  }
 },
 "nbformat": 4,
 "nbformat_minor": 4
}
